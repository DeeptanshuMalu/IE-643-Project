{
 "cells": [
  {
   "cell_type": "code",
   "execution_count": 1,
   "metadata": {},
   "outputs": [],
   "source": [
    "from transformers import AutoTokenizer, AutoModelForSeq2SeqLM"
   ]
  },
  {
   "cell_type": "code",
   "execution_count": 2,
   "metadata": {},
   "outputs": [],
   "source": [
    "model = AutoModelForSeq2SeqLM.from_pretrained(\"./fine_tuned_t5_2L_e5_cb_ca_spl\")\n",
    "tokenizer = AutoTokenizer.from_pretrained(\"./fine_tuned_t5_2L_e5_cb_ca_spl\")"
   ]
  },
  {
   "cell_type": "code",
   "execution_count": 3,
   "metadata": {},
   "outputs": [
    {
     "data": {
      "text/plain": [
       "['h prime of x is equal to d over dx of sine x',\n",
       " 'integral from minus infinity to infinity of e to the minus b squared dx',\n",
       " 'a divided by b equals c',\n",
       " 'sum from 1 to n',\n",
       " '1 divided by 2 is equal to 0.5',\n",
       " 'h of x equals x plus 3 x plus 2',\n",
       " '1 belongs to S']"
      ]
     },
     "execution_count": 3,
     "metadata": {},
     "output_type": "execute_result"
    }
   ],
   "source": [
    "inputs = [\"h prime of x is equal to d over dx of sine x\", \"integral from minus infinity to infinity of e to the minus b squared dx\", \"a divided by b equals c\", \"sum from 1 to n\", \"1 divided by 2 is equal to 0.5\", \"h of x equals x plus 3 x plus 2\", \"1 belongs to S\"]\n",
    "inputs"
   ]
  },
  {
   "cell_type": "code",
   "execution_count": 4,
   "metadata": {},
   "outputs": [
    {
     "name": "stdout",
     "output_type": "stream",
     "text": [
      "h'( x ) = d/dx ( sin x ).\n",
      "\n",
      "int_  -infty  infty  e  -b2dx int_  -b2dx  int_  e  -b2dx  int_  e  -b2dx  int_  e  -b2dx  int_  int_  e  int_  e  int_  e  int_  e  int_  e  int_  e                                                                                                                                                                \n",
      "\n",
      "a/b = c.\n",
      "\n",
      "sum from 1 to n. LaTeX sum from 1 to n.\n",
      "\n",
      "1/2 = 0.5.................\n",
      "\n",
      "h ( x ) =x+3x+2x+2.\n",
      "\n",
      "1 in S.\n",
      "\n"
     ]
    }
   ],
   "source": [
    "for input in inputs:\n",
    "    input_ids = tokenizer.encode(\"translate English to LaTeX: \" + input, return_tensors=\"pt\")\n",
    "    outputs = model.generate(input_ids, max_length=512, num_beams=4, early_stopping=True)\n",
    "    print(tokenizer.decode(outputs[0], skip_special_tokens=True))\n",
    "    print()"
   ]
  }
 ],
 "metadata": {
  "kernelspec": {
   "display_name": "Python 3",
   "language": "python",
   "name": "python3"
  },
  "language_info": {
   "codemirror_mode": {
    "name": "ipython",
    "version": 3
   },
   "file_extension": ".py",
   "mimetype": "text/x-python",
   "name": "python",
   "nbconvert_exporter": "python",
   "pygments_lexer": "ipython3",
   "version": "3.11.6"
  }
 },
 "nbformat": 4,
 "nbformat_minor": 2
}
