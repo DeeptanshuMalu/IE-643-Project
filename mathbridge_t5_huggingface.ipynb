{
 "cells": [
  {
   "cell_type": "code",
   "execution_count": null,
   "metadata": {
    "execution": {
     "iopub.execute_input": "2024-10-01T17:54:55.707108Z",
     "iopub.status.busy": "2024-10-01T17:54:55.706692Z",
     "iopub.status.idle": "2024-10-01T17:54:55.712466Z",
     "shell.execute_reply": "2024-10-01T17:54:55.711410Z",
     "shell.execute_reply.started": "2024-10-01T17:54:55.707070Z"
    },
    "trusted": true
   },
   "outputs": [],
   "source": [
    "from tqdm import tqdm\n",
    "from transformers import AutoTokenizer, AutoModelForSeq2SeqLM, DataCollatorForSeq2Seq, Trainer, TrainingArguments\n",
    "import json\n",
    "import pandas as pd\n",
    "from datasets import load_dataset, load_from_disk"
   ]
  },
  {
   "cell_type": "code",
   "execution_count": null,
   "metadata": {
    "execution": {
     "iopub.execute_input": "2024-10-01T17:52:10.126590Z",
     "iopub.status.busy": "2024-10-01T17:52:10.125622Z",
     "iopub.status.idle": "2024-10-01T17:52:11.154660Z",
     "shell.execute_reply": "2024-10-01T17:52:11.153472Z",
     "shell.execute_reply.started": "2024-10-01T17:52:10.126536Z"
    },
    "trusted": true
   },
   "outputs": [],
   "source": [
    "!rm -rf /kaggle/working/logs /kaggle/working/results /kaggle/working/wandb"
   ]
  },
  {
   "cell_type": "code",
   "execution_count": null,
   "metadata": {
    "execution": {
     "iopub.execute_input": "2024-10-01T17:52:47.807642Z",
     "iopub.status.busy": "2024-10-01T17:52:47.807031Z",
     "iopub.status.idle": "2024-10-01T17:52:54.050316Z",
     "shell.execute_reply": "2024-10-01T17:52:54.049406Z",
     "shell.execute_reply.started": "2024-10-01T17:52:47.807592Z"
    },
    "trusted": true
   },
   "outputs": [],
   "source": [
    "# Load model directly\n",
    "tokenizer = AutoTokenizer.from_pretrained(\"google-t5/t5-base\")\n",
    "model = AutoModelForSeq2SeqLM.from_pretrained(\"google-t5/t5-base\")"
   ]
  },
  {
   "cell_type": "code",
   "execution_count": null,
   "metadata": {
    "execution": {
     "iopub.execute_input": "2024-10-01T17:53:17.862343Z",
     "iopub.status.busy": "2024-10-01T17:53:17.862028Z",
     "iopub.status.idle": "2024-10-01T17:53:17.867054Z",
     "shell.execute_reply": "2024-10-01T17:53:17.866164Z",
     "shell.execute_reply.started": "2024-10-01T17:53:17.862300Z"
    },
    "trusted": true
   },
   "outputs": [],
   "source": [
    "data_collator = DataCollatorForSeq2Seq(tokenizer=tokenizer, model=None)"
   ]
  },
  {
   "cell_type": "code",
   "execution_count": null,
   "metadata": {
    "execution": {
     "iopub.execute_input": "2024-10-01T17:52:58.324237Z",
     "iopub.status.busy": "2024-10-01T17:52:58.323867Z",
     "iopub.status.idle": "2024-10-01T17:53:17.860351Z",
     "shell.execute_reply": "2024-10-01T17:53:17.859542Z",
     "shell.execute_reply.started": "2024-10-01T17:52:58.324202Z"
    },
    "trusted": true
   },
   "outputs": [],
   "source": [
    "ds = load_dataset(\"Kyudan/MathBridge\")"
   ]
  },
  {
   "cell_type": "code",
   "execution_count": null,
   "metadata": {
    "execution": {
     "iopub.execute_input": "2024-10-01T17:53:17.868424Z",
     "iopub.status.busy": "2024-10-01T17:53:17.868144Z",
     "iopub.status.idle": "2024-10-01T17:53:18.496212Z",
     "shell.execute_reply": "2024-10-01T17:53:18.495224Z",
     "shell.execute_reply.started": "2024-10-01T17:53:17.868393Z"
    },
    "trusted": true
   },
   "outputs": [],
   "source": [
    "ds_train = ds[\"train\"]"
   ]
  },
  {
   "cell_type": "code",
   "execution_count": null,
   "metadata": {
    "execution": {
     "iopub.execute_input": "2024-10-01T17:53:18.498710Z",
     "iopub.status.busy": "2024-10-01T17:53:18.498295Z",
     "iopub.status.idle": "2024-10-01T17:53:18.505980Z",
     "shell.execute_reply": "2024-10-01T17:53:18.505057Z",
     "shell.execute_reply.started": "2024-10-01T17:53:18.498673Z"
    },
    "trusted": true
   },
   "outputs": [],
   "source": [
    "def preprocess_data(examples):\n",
    "    before = examples[\"context_before\"]\n",
    "    after = examples[\"context_after\"]\n",
    "    equation = examples[\"equation\"]\n",
    "    spoken_English = examples[\"spoken_English\"]\n",
    "\n",
    "    # Prepend a task-specific prompt if necessary, e.g., \"translate English to LaTeX:\"\n",
    "    inputs = [f\"translate English to LaTeX: {before} {spoken_English} {after}\"]\n",
    "#     inputs = [f\"translate English to LaTeX: {spoken_English}\"]\n",
    "    \n",
    "    model_inputs = tokenizer(inputs, max_length=512, truncation=True, padding=True)\n",
    "\n",
    "    outputs = [f\"{before} {equation} {after}\"]\n",
    "#     outputs = [f\"{equation}\"]\n",
    "    \n",
    "    with tokenizer.as_target_tokenizer():\n",
    "        model_outputs = tokenizer(outputs, max_length=512, truncation=True, padding=True)\n",
    "\n",
    "    model_inputs[\"labels\"] = model_outputs[\"input_ids\"]\n",
    "\n",
    "    return model_inputs"
   ]
  },
  {
   "cell_type": "code",
   "execution_count": null,
   "metadata": {
    "execution": {
     "iopub.execute_input": "2024-10-01T17:53:18.507366Z",
     "iopub.status.busy": "2024-10-01T17:53:18.507046Z",
     "iopub.status.idle": "2024-10-01T17:53:18.514935Z",
     "shell.execute_reply": "2024-10-01T17:53:18.514016Z",
     "shell.execute_reply.started": "2024-10-01T17:53:18.507334Z"
    },
    "trusted": true
   },
   "outputs": [],
   "source": [
    "%%writefile imp_term.txt\n",
    "\\frac\n",
    "\\cdot\n",
    "\\times\n",
    "\\neq\n",
    "\\sqrt\n",
    "^\n",
    "_\n",
    "\\alpha\n",
    "\\beta\n",
    "\\gamma\n",
    "\\delta\n",
    "\\epsilon\n",
    "\\theta\n",
    "\\lambda\n",
    "\\leg\n",
    "\\geq\n",
    "\\le\n",
    "\\geq\n",
    "\\eq\n",
    "\\int\n",
    "\\sum\n",
    "\\prod\n",
    "\\lim\n",
    "\\int\n",
    "\\notin\n",
    "\\dots"
   ]
  },
  {
   "cell_type": "code",
   "execution_count": null,
   "metadata": {
    "execution": {
     "iopub.execute_input": "2024-10-01T17:53:18.524538Z",
     "iopub.status.busy": "2024-10-01T17:53:18.524201Z",
     "iopub.status.idle": "2024-10-01T17:53:18.530599Z",
     "shell.execute_reply": "2024-10-01T17:53:18.529850Z",
     "shell.execute_reply.started": "2024-10-01T17:53:18.524507Z"
    },
    "trusted": true
   },
   "outputs": [],
   "source": [
    "with open('imp_term.txt', 'r') as file:\n",
    "    lines = [line.strip() for line in file.readlines()]"
   ]
  },
  {
   "cell_type": "code",
   "execution_count": null,
   "metadata": {
    "execution": {
     "iopub.execute_input": "2024-09-15T04:35:41.604809Z",
     "iopub.status.busy": "2024-09-15T04:35:41.604420Z",
     "iopub.status.idle": "2024-09-15T04:39:27.413992Z",
     "shell.execute_reply": "2024-09-15T04:39:27.413064Z",
     "shell.execute_reply.started": "2024-09-15T04:35:41.604772Z"
    },
    "trusted": true
   },
   "outputs": [],
   "source": [
    "ds_train = ds_train.filter(lambda x: len(x[\"equation\"])>10 and any(word in x['equation'] for word in lines))\n",
    "ds_train"
   ]
  },
  {
   "cell_type": "code",
   "execution_count": null,
   "metadata": {
    "execution": {
     "iopub.execute_input": "2024-09-15T04:39:31.496671Z",
     "iopub.status.busy": "2024-09-15T04:39:31.496183Z"
    },
    "trusted": true
   },
   "outputs": [],
   "source": [
    "ds_train_preprocessed = (ds_train.shuffle(seed=42)\n",
    "                                 .select(range(2*10**5))\n",
    "                                 .map(preprocess_data, remove_columns=ds_train.column_names, batched=True, batch_size=4))\n",
    "ds_train_preprocessed"
   ]
  },
  {
   "cell_type": "code",
   "execution_count": null,
   "metadata": {
    "execution": {
     "iopub.execute_input": "2024-10-01T17:55:33.757594Z",
     "iopub.status.busy": "2024-10-01T17:55:33.756755Z",
     "iopub.status.idle": "2024-10-01T17:55:35.066322Z",
     "shell.execute_reply": "2024-10-01T17:55:35.065544Z",
     "shell.execute_reply.started": "2024-10-01T17:55:33.757557Z"
    },
    "trusted": true
   },
   "outputs": [],
   "source": [
    "training_args = TrainingArguments(\n",
    "    output_dir='./results',\n",
    "    num_train_epochs=5,\n",
    "    per_device_train_batch_size=4,  # Smaller batch size\n",
    "    gradient_accumulation_steps=8,  # Accumulate gradients for larger effective batch size\n",
    "    warmup_steps=500,\n",
    "    weight_decay=0.01,\n",
    "    logging_dir='./logs',\n",
    "    save_strategy=\"epoch\",\n",
    "    logging_strategy=\"epoch\",\n",
    "    report_to=None,\n",
    "    run_name=\"T5_Finetune\",\n",
    "    learning_rate=1e-3,\n",
    "    fp16=True,  # Enable mixed precision training\n",
    ")\n",
    "\n",
    "# Initialize the Trainer\n",
    "trainer = Trainer(\n",
    "    model=model,\n",
    "    args=training_args,\n",
    "    train_dataset=ds_train_preprocessed,\n",
    "    data_collator=data_collator,\n",
    "    tokenizer=tokenizer,\n",
    ")"
   ]
  },
  {
   "cell_type": "code",
   "execution_count": null,
   "metadata": {
    "execution": {
     "iopub.execute_input": "2024-10-01T17:55:45.208697Z",
     "iopub.status.busy": "2024-10-01T17:55:45.208062Z",
     "iopub.status.idle": "2024-10-01T17:55:46.735189Z",
     "shell.execute_reply": "2024-10-01T17:55:46.734336Z",
     "shell.execute_reply.started": "2024-10-01T17:55:45.208660Z"
    },
    "trusted": true
   },
   "outputs": [],
   "source": [
    "import wandb\n",
    "wandb.login(key=\"91a0db028dce6f175361702b5140fa9c941bf8ff\")"
   ]
  },
  {
   "cell_type": "code",
   "execution_count": null,
   "metadata": {
    "execution": {
     "iopub.execute_input": "2024-10-01T17:59:58.363003Z",
     "iopub.status.busy": "2024-10-01T17:59:58.362640Z",
     "iopub.status.idle": "2024-10-01T17:59:58.478880Z",
     "shell.execute_reply": "2024-10-01T17:59:58.477609Z",
     "shell.execute_reply.started": "2024-10-01T17:59:58.362971Z"
    },
    "trusted": true
   },
   "outputs": [],
   "source": [
    "trainer.train()"
   ]
  },
  {
   "cell_type": "code",
   "execution_count": null,
   "metadata": {
    "execution": {
     "iopub.status.busy": "2024-09-14T13:53:50.834994Z",
     "iopub.status.idle": "2024-09-14T13:53:50.835501Z",
     "shell.execute_reply": "2024-09-14T13:53:50.835267Z",
     "shell.execute_reply.started": "2024-09-14T13:53:50.835243Z"
    },
    "trusted": true
   },
   "outputs": [],
   "source": [
    "model.save_pretrained(\"./fine_tuned_t5\")\n",
    "tokenizer.save_pretrained(\"./fine_tuned_t5\")"
   ]
  }
 ],
 "metadata": {
  "kaggle": {
   "accelerator": "nvidiaTeslaT4",
   "dataSources": [],
   "dockerImageVersionId": 30762,
   "isGpuEnabled": true,
   "isInternetEnabled": true,
   "language": "python",
   "sourceType": "notebook"
  },
  "kernelspec": {
   "display_name": "Python 3",
   "language": "python",
   "name": "python3"
  },
  "language_info": {
   "codemirror_mode": {
    "name": "ipython",
    "version": 3
   },
   "file_extension": ".py",
   "mimetype": "text/x-python",
   "name": "python",
   "nbconvert_exporter": "python",
   "pygments_lexer": "ipython3",
   "version": "3.10.14"
  }
 },
 "nbformat": 4,
 "nbformat_minor": 4
}
