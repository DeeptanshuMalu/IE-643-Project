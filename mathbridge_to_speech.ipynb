{
 "cells": [
  {
   "cell_type": "code",
   "execution_count": null,
   "metadata": {
    "execution": {
     "iopub.execute_input": "2024-11-18T03:16:31.437375Z",
     "iopub.status.busy": "2024-11-18T03:16:31.436917Z",
     "iopub.status.idle": "2024-11-18T03:16:31.446269Z",
     "shell.execute_reply": "2024-11-18T03:16:31.444852Z",
     "shell.execute_reply.started": "2024-11-18T03:16:31.437331Z"
    },
    "trusted": true
   },
   "outputs": [],
   "source": [
    "from IPython.display import Audio\n",
    "from datasets import load_dataset, load_from_disk\n",
    "import os\n",
    "import gc\n",
    "import shutil\n",
    "import torch\n",
    "from scipy.io import wavfile\n",
    "import numpy as np\n",
    "from pydub import AudioSegment\n",
    "from scipy import signal\n",
    "import kagglehub"
   ]
  },
  {
   "cell_type": "code",
   "execution_count": 16,
   "metadata": {},
   "outputs": [
    {
     "name": "stdout",
     "output_type": "stream",
     "text": [
      "Path to dataset files: C:\\Users\\deept\\.cache\\kagglehub\\datasets\\deeptanshumalu\\mathbridge-audio-files\\versions\\1\n"
     ]
    }
   ],
   "source": [
    "# Download latest version\n",
    "path = kagglehub.dataset_download(\"deeptanshumalu/mathbridge-audio-files\")\n",
    "\n",
    "print(\"Path to dataset files:\", path)"
   ]
  },
  {
   "cell_type": "code",
   "execution_count": 42,
   "metadata": {},
   "outputs": [
    {
     "data": {
      "application/vnd.jupyter.widget-view+json": {
       "model_id": "32b14fbde030403eb738b539c4caaba1",
       "version_major": 2,
       "version_minor": 0
      },
      "text/plain": [
       "Resolving data files:   0%|          | 0/99986 [00:00<?, ?it/s]"
      ]
     },
     "metadata": {},
     "output_type": "display_data"
    },
    {
     "data": {
      "application/vnd.jupyter.widget-view+json": {
       "model_id": "dde7b60d1f104a5a8ffad448e97dbe69",
       "version_major": 2,
       "version_minor": 0
      },
      "text/plain": [
       "Downloading data:   0%|          | 0/99986 [00:00<?, ?files/s]"
      ]
     },
     "metadata": {},
     "output_type": "display_data"
    },
    {
     "data": {
      "application/vnd.jupyter.widget-view+json": {
       "model_id": "aa120534145b4219aba3f80a1bbc5501",
       "version_major": 2,
       "version_minor": 0
      },
      "text/plain": [
       "Computing checksums:  84%|########4 | 84276/99986 [00:05<00:00, 16851.73it/s]"
      ]
     },
     "metadata": {},
     "output_type": "display_data"
    },
    {
     "data": {
      "application/vnd.jupyter.widget-view+json": {
       "model_id": "d073f5f89f76427a89ac57074b3339f0",
       "version_major": 2,
       "version_minor": 0
      },
      "text/plain": [
       "Generating train split: 0 examples [00:00, ? examples/s]"
      ]
     },
     "metadata": {},
     "output_type": "display_data"
    },
    {
     "data": {
      "text/plain": [
       "DatasetDict({\n",
       "    train: Dataset({\n",
       "        features: ['audio'],\n",
       "        num_rows: 99986\n",
       "    })\n",
       "})"
      ]
     },
     "execution_count": 42,
     "metadata": {},
     "output_type": "execute_result"
    }
   ],
   "source": [
    "ds = load_dataset(\"speech\")\n",
    "ds"
   ]
  },
  {
   "cell_type": "code",
   "execution_count": 44,
   "metadata": {},
   "outputs": [
    {
     "data": {
      "application/vnd.jupyter.widget-view+json": {
       "model_id": "7e72044f19374d3db7121c26aa5cb2b0",
       "version_major": 2,
       "version_minor": 0
      },
      "text/plain": [
       "Saving the dataset (0/33 shards):   0%|          | 0/99986 [00:00<?, ? examples/s]"
      ]
     },
     "metadata": {},
     "output_type": "display_data"
    }
   ],
   "source": [
    "ds[\"train\"].save_to_disk(\"mathbridge_audio_arrays\")"
   ]
  },
  {
   "cell_type": "code",
   "execution_count": 50,
   "metadata": {},
   "outputs": [
    {
     "data": {
      "application/vnd.jupyter.widget-view+json": {
       "model_id": "2ad56bf5a98e4fee9912c3aa961c9071",
       "version_major": 2,
       "version_minor": 0
      },
      "text/plain": [
       "Loading dataset from disk:   0%|          | 0/33 [00:00<?, ?it/s]"
      ]
     },
     "metadata": {},
     "output_type": "display_data"
    },
    {
     "data": {
      "text/plain": [
       "Dataset({\n",
       "    features: ['audio'],\n",
       "    num_rows: 99986\n",
       "})"
      ]
     },
     "execution_count": 50,
     "metadata": {},
     "output_type": "execute_result"
    }
   ],
   "source": [
    "ds_array = load_from_disk(\"mathbridge_audio_arrays\")\n",
    "ds_array"
   ]
  },
  {
   "cell_type": "code",
   "execution_count": 54,
   "metadata": {},
   "outputs": [
    {
     "data": {
      "text/plain": [
       "{'audio': {'path': 'tts_40900.mp3',\n",
       "  'array': array([-0.00271606, -0.00820923, -0.00604248, ...,  0.        ,\n",
       "          0.        ,  0.        ]),\n",
       "  'sampling_rate': 22050}}"
      ]
     },
     "execution_count": 54,
     "metadata": {},
     "output_type": "execute_result"
    }
   ],
   "source": [
    "ds_array[34324]"
   ]
  },
  {
   "cell_type": "code",
   "execution_count": null,
   "metadata": {
    "trusted": true
   },
   "outputs": [],
   "source": [
    "# source_dir = \"/kaggle/input/mathbridge-filtered\"\n",
    "\n",
    "# # Destination directory\n",
    "# destination_dir = \"/kaggle/working/mathbridge-filtered\"\n",
    "\n",
    "# shutil.copytree(source_dir, destination_dir)"
   ]
  },
  {
   "cell_type": "code",
   "execution_count": 2,
   "metadata": {
    "execution": {
     "iopub.execute_input": "2024-11-17T15:52:06.573865Z",
     "iopub.status.busy": "2024-11-17T15:52:06.573250Z",
     "iopub.status.idle": "2024-11-17T15:52:06.680116Z",
     "shell.execute_reply": "2024-11-17T15:52:06.679204Z",
     "shell.execute_reply.started": "2024-11-17T15:52:06.573826Z"
    },
    "trusted": true
   },
   "outputs": [
    {
     "data": {
      "text/plain": [
       "Dataset({\n",
       "    features: ['context_before', 'equation', 'context_after', 'spoken_English'],\n",
       "    num_rows: 4753354\n",
       "})"
      ]
     },
     "execution_count": 2,
     "metadata": {},
     "output_type": "execute_result"
    }
   ],
   "source": [
    "ds_train = load_from_disk(\"mathbridge_filtered\")\n",
    "ds_train"
   ]
  },
  {
   "cell_type": "code",
   "execution_count": 48,
   "metadata": {},
   "outputs": [
    {
     "data": {
      "text/plain": [
       "{'context_before': 'are modeled by a stochastic control process with variance',\n",
       " 'equation': '$ \\\\sigma^2_t $',\n",
       " 'context_after': 'controlled by the agent and with a mean of zero . This models potential effect of actions centered around the null action . To compute various quantities of interest ,',\n",
       " 'spoken_English': 'sigma squared sub t.'}"
      ]
     },
     "execution_count": 48,
     "metadata": {},
     "output_type": "execute_result"
    }
   ],
   "source": [
    "ds_train[0]"
   ]
  },
  {
   "cell_type": "code",
   "execution_count": 74,
   "metadata": {
    "execution": {
     "iopub.execute_input": "2024-11-17T15:52:44.053294Z",
     "iopub.status.busy": "2024-11-17T15:52:44.052564Z",
     "iopub.status.idle": "2024-11-17T15:52:57.869530Z",
     "shell.execute_reply": "2024-11-17T15:52:57.868612Z",
     "shell.execute_reply.started": "2024-11-17T15:52:44.053253Z"
    },
    "trusted": true
   },
   "outputs": [
    {
     "data": {
      "application/vnd.jupyter.widget-view+json": {
       "model_id": "da734074de064b02ba8adcaa8d0d7670",
       "version_major": 2,
       "version_minor": 0
      },
      "text/plain": [
       "Map:   0%|          | 0/100 [00:00<?, ? examples/s]"
      ]
     },
     "metadata": {},
     "output_type": "display_data"
    },
    {
     "name": "stdout",
     "output_type": "stream",
     "text": [
      "0\n"
     ]
    }
   ],
   "source": [
    "# Define a function to map the text to a file path\n",
    "def map_to_speech_file(example, idx):\n",
    "    if idx%100==0:\n",
    "        print(idx)\n",
    "    path = example[\"audio\"][\"path\"]\n",
    "    file_no = int(path.split(\"_\")[-1].split(\".\")[0])\n",
    "    audio_array = example[\"audio\"][\"array\"]\n",
    "    example[\"equation\"] = ds_train[file_no][\"equation\"]\n",
    "    example[\"spoken_English\"] = ds_train[file_no][\"spoken_English\"]\n",
    "    num_samples = int(len(audio_array) * 16000 / 22050)\n",
    "    new_audio_array = signal.resample(audio_array, num_samples)\n",
    "    example[\"audio\"][\"sampling_rate\"] = 16000\n",
    "    example[\"audio\"][\"array\"] = new_audio_array\n",
    "    example[\"audio\"][\"path\"] = path\n",
    "    del audio_array, num_samples, new_audio_array, file_no, path\n",
    "    gc.collect()\n",
    "    return example\n",
    "\n",
    "# Apply the function to the dataset\n",
    "ds_speech = ds_array.select(range(100)).map(map_to_speech_file, with_indices=True)"
   ]
  },
  {
   "cell_type": "code",
   "execution_count": 76,
   "metadata": {
    "execution": {
     "iopub.execute_input": "2024-11-17T15:53:25.455066Z",
     "iopub.status.busy": "2024-11-17T15:53:25.454648Z",
     "iopub.status.idle": "2024-11-17T15:53:25.505765Z",
     "shell.execute_reply": "2024-11-17T15:53:25.504829Z",
     "shell.execute_reply.started": "2024-11-17T15:53:25.455031Z"
    },
    "trusted": true
   },
   "outputs": [
    {
     "data": {
      "text/plain": [
       "{'audio': {'path': None,\n",
       "  'array': array([-0.05181885,  0.0401001 , -0.00469971, ...,  0.01113892,\n",
       "         -0.01516724,  0.02261353]),\n",
       "  'sampling_rate': 16000},\n",
       " 'equation': '$ T_0 > 0 $',\n",
       " 'spoken_English': 'T sub 0 is greater than zero.'}"
      ]
     },
     "execution_count": 76,
     "metadata": {},
     "output_type": "execute_result"
    }
   ],
   "source": [
    "ds_speech[43]"
   ]
  },
  {
   "cell_type": "code",
   "execution_count": null,
   "metadata": {
    "execution": {
     "iopub.status.busy": "2024-11-17T14:13:36.200622Z",
     "iopub.status.idle": "2024-11-17T14:13:36.201092Z",
     "shell.execute_reply": "2024-11-17T14:13:36.200858Z",
     "shell.execute_reply.started": "2024-11-17T14:13:36.200834Z"
    },
    "trusted": true
   },
   "outputs": [],
   "source": [
    "ds_speech.save_to_disk(\"/kaggle/working/mathbridge_speech\")"
   ]
  },
  {
   "cell_type": "code",
   "execution_count": null,
   "metadata": {
    "execution": {
     "iopub.status.busy": "2024-11-17T14:13:36.202215Z",
     "iopub.status.idle": "2024-11-17T14:13:36.202671Z",
     "shell.execute_reply": "2024-11-17T14:13:36.202458Z",
     "shell.execute_reply.started": "2024-11-17T14:13:36.202434Z"
    },
    "trusted": true
   },
   "outputs": [],
   "source": [
    "shutil.rmtree(\"/kaggle/working/mathbridge-filtered\")\n",
    "# os.remove(\"/kaggle/working/state.db\")"
   ]
  }
 ],
 "metadata": {
  "kaggle": {
   "accelerator": "none",
   "dataSources": [
    {
     "datasetId": 6093816,
     "sourceId": 9916305,
     "sourceType": "datasetVersion"
    },
    {
     "datasetId": 6102789,
     "sourceId": 9928706,
     "sourceType": "datasetVersion"
    }
   ],
   "dockerImageVersionId": 30787,
   "isGpuEnabled": false,
   "isInternetEnabled": true,
   "language": "python",
   "sourceType": "notebook"
  },
  "kernelspec": {
   "display_name": "Python 3",
   "language": "python",
   "name": "python3"
  },
  "language_info": {
   "codemirror_mode": {
    "name": "ipython",
    "version": 3
   },
   "file_extension": ".py",
   "mimetype": "text/x-python",
   "name": "python",
   "nbconvert_exporter": "python",
   "pygments_lexer": "ipython3",
   "version": "3.11.6"
  }
 },
 "nbformat": 4,
 "nbformat_minor": 4
}
