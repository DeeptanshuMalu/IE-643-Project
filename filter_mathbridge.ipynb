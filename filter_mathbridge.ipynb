{
 "cells": [
  {
   "cell_type": "code",
   "execution_count": 5,
   "metadata": {
    "execution": {
     "iopub.execute_input": "2024-10-20T05:15:47.241548Z",
     "iopub.status.busy": "2024-10-20T05:15:47.240899Z",
     "iopub.status.idle": "2024-10-20T05:15:47.247052Z",
     "shell.execute_reply": "2024-10-20T05:15:47.246037Z",
     "shell.execute_reply.started": "2024-10-20T05:15:47.241501Z"
    },
    "trusted": true
   },
   "outputs": [],
   "source": [
    "from datasets import load_dataset, load_from_disk"
   ]
  },
  {
   "cell_type": "code",
   "execution_count": 2,
   "metadata": {
    "editable": false,
    "execution": {
     "iopub.execute_input": "2024-10-19T16:32:31.704354Z",
     "iopub.status.busy": "2024-10-19T16:32:31.703405Z",
     "iopub.status.idle": "2024-10-19T16:32:31.710584Z",
     "shell.execute_reply": "2024-10-19T16:32:31.709736Z",
     "shell.execute_reply.started": "2024-10-19T16:32:31.704308Z"
    },
    "trusted": true
   },
   "outputs": [
    {
     "name": "stdout",
     "output_type": "stream",
     "text": [
      "Overwriting imp_term.txt\n"
     ]
    }
   ],
   "source": [
    "%%writefile imp_term.txt\n",
    "\\frac\n",
    "\\cdot\n",
    "\\times\n",
    "\\neq\n",
    "\\sqrt\n",
    "^\n",
    "_\n",
    "\\alpha\n",
    "\\beta\n",
    "\\gamma\n",
    "\\delta\n",
    "\\epsilon\n",
    "\\theta\n",
    "\\lambda\n",
    "\\leq\n",
    "\\geq\n",
    "\\lt\n",
    "\\gt\n",
    "\\eq\n",
    "\\int\n",
    "\\sum\n",
    "\\prod\n",
    "\\lim\n",
    "\\int\n",
    "\\notin\n",
    "\\dots"
   ]
  },
  {
   "cell_type": "code",
   "execution_count": 3,
   "metadata": {
    "editable": false,
    "execution": {
     "iopub.execute_input": "2024-10-19T16:32:32.270639Z",
     "iopub.status.busy": "2024-10-19T16:32:32.270004Z",
     "iopub.status.idle": "2024-10-19T16:32:32.276608Z",
     "shell.execute_reply": "2024-10-19T16:32:32.275296Z",
     "shell.execute_reply.started": "2024-10-19T16:32:32.270366Z"
    },
    "trusted": true
   },
   "outputs": [],
   "source": [
    "with open('imp_term.txt', 'r') as file:\n",
    "    lines = [line.strip() for line in file.readlines()]"
   ]
  },
  {
   "cell_type": "code",
   "execution_count": 5,
   "metadata": {
    "editable": false,
    "execution": {
     "iopub.execute_input": "2024-10-19T16:37:44.310361Z",
     "iopub.status.busy": "2024-10-19T16:37:44.309405Z",
     "iopub.status.idle": "2024-10-19T16:37:55.162581Z",
     "shell.execute_reply": "2024-10-19T16:37:55.161548Z",
     "shell.execute_reply.started": "2024-10-19T16:37:44.310319Z"
    },
    "trusted": true
   },
   "outputs": [],
   "source": [
    "ds = load_dataset(\"Kyudan/MathBridge\")\n",
    "ds_train = ds[\"train\"]"
   ]
  },
  {
   "cell_type": "code",
   "execution_count": 6,
   "metadata": {
    "trusted": true
   },
   "outputs": [
    {
     "data": {
      "application/vnd.jupyter.widget-view+json": {
       "model_id": "5cf610d75ee841ebaa0422ffc13c3e5e",
       "version_major": 2,
       "version_minor": 0
      },
      "text/plain": [
       "Filter:   0%|          | 0/23195831 [00:00<?, ? examples/s]"
      ]
     },
     "metadata": {},
     "output_type": "display_data"
    },
    {
     "data": {
      "text/plain": [
       "Dataset({\n",
       "    features: ['context_before', 'equation', 'context_after', 'spoken_English'],\n",
       "    num_rows: 4753354\n",
       "})"
      ]
     },
     "execution_count": 6,
     "metadata": {},
     "output_type": "execute_result"
    }
   ],
   "source": [
    "ds_train = ds_train.filter(lambda x: len(x[\"equation\"])>10 and any(word in x['equation'] for word in lines) and len(x[\"spoken_English\"])>10)\n",
    "ds_train"
   ]
  },
  {
   "cell_type": "code",
   "execution_count": 7,
   "metadata": {
    "trusted": true
   },
   "outputs": [
    {
     "data": {
      "application/vnd.jupyter.widget-view+json": {
       "model_id": "04c922e419d54d18a4d456b0111169fd",
       "version_major": 2,
       "version_minor": 0
      },
      "text/plain": [
       "Saving the dataset (0/1 shards):   0%|          | 0/4753354 [00:00<?, ? examples/s]"
      ]
     },
     "metadata": {},
     "output_type": "display_data"
    }
   ],
   "source": [
    "ds_train.save_to_disk(\"mathbridge_filtered\")"
   ]
  }
 ],
 "metadata": {
  "kaggle": {
   "accelerator": "nvidiaTeslaT4",
   "dataSources": [],
   "dockerImageVersionId": 30787,
   "isGpuEnabled": true,
   "isInternetEnabled": true,
   "language": "python",
   "sourceType": "notebook"
  },
  "kernelspec": {
   "display_name": "Python 3",
   "language": "python",
   "name": "python3"
  },
  "language_info": {
   "codemirror_mode": {
    "name": "ipython",
    "version": 3
   },
   "file_extension": ".py",
   "mimetype": "text/x-python",
   "name": "python",
   "nbconvert_exporter": "python",
   "pygments_lexer": "ipython3",
   "version": "3.11.6"
  }
 },
 "nbformat": 4,
 "nbformat_minor": 4
}
