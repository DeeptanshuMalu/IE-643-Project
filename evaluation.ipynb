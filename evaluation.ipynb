{
 "cells": [
  {
   "cell_type": "code",
   "execution_count": 1,
   "metadata": {},
   "outputs": [
    {
     "name": "stdout",
     "output_type": "stream",
     "text": [
      "WARNING:tensorflow:From c:\\Users\\deept\\AppData\\Local\\Programs\\Python\\Python311\\Lib\\site-packages\\tf_keras\\src\\losses.py:2976: The name tf.losses.sparse_softmax_cross_entropy is deprecated. Please use tf.compat.v1.losses.sparse_softmax_cross_entropy instead.\n",
      "\n"
     ]
    }
   ],
   "source": [
    "from tqdm import tqdm\n",
    "from transformers import AutoTokenizer, AutoModelForSeq2SeqLM, DataCollatorForSeq2Seq, Trainer, TrainingArguments\n",
    "import json\n",
    "import pandas as pd\n",
    "from datasets import load_dataset, load_from_disk"
   ]
  },
  {
   "cell_type": "code",
   "execution_count": 2,
   "metadata": {},
   "outputs": [],
   "source": [
    "with open('imp_term.txt', 'r') as file:\n",
    "    lines = [line.strip() for line in file.readlines()]"
   ]
  },
  {
   "cell_type": "code",
   "execution_count": 3,
   "metadata": {},
   "outputs": [],
   "source": [
    "ds = load_dataset(\"Kyudan/MathBridge\")"
   ]
  },
  {
   "cell_type": "code",
   "execution_count": 4,
   "metadata": {},
   "outputs": [],
   "source": [
    "ds_train = ds[\"train\"]"
   ]
  },
  {
   "cell_type": "code",
   "execution_count": 5,
   "metadata": {},
   "outputs": [
    {
     "data": {
      "application/vnd.jupyter.widget-view+json": {
       "model_id": "923a9e6048374a24b3ba6e35bf2cbdc3",
       "version_major": 2,
       "version_minor": 0
      },
      "text/plain": [
       "Filter:   0%|          | 0/23195831 [00:00<?, ? examples/s]"
      ]
     },
     "metadata": {},
     "output_type": "display_data"
    },
    {
     "data": {
      "text/plain": [
       "Dataset({\n",
       "    features: ['context_before', 'equation', 'context_after', 'spoken_English'],\n",
       "    num_rows: 5942243\n",
       "})"
      ]
     },
     "execution_count": 5,
     "metadata": {},
     "output_type": "execute_result"
    }
   ],
   "source": [
    "ds_train = ds_train.filter(lambda x: len(x[\"equation\"])>10 and any(word in x['equation'] for word in lines))\n",
    "ds_train"
   ]
  },
  {
   "cell_type": "code",
   "execution_count": 6,
   "metadata": {},
   "outputs": [
    {
     "data": {
      "text/plain": [
       "Dataset({\n",
       "    features: ['context_before', 'equation', 'context_after', 'spoken_English'],\n",
       "    num_rows: 1000\n",
       "})"
      ]
     },
     "execution_count": 6,
     "metadata": {},
     "output_type": "execute_result"
    }
   ],
   "source": [
    "ds_train_1000 = ds_train.shuffle(seed=42).select(range(10**3))\n",
    "ds_train_1000"
   ]
  },
  {
   "cell_type": "code",
   "execution_count": 7,
   "metadata": {},
   "outputs": [],
   "source": [
    "from transformers import pipeline\n",
    "\n",
    "pipe2 = pipeline(\"text2text-generation\", model=\"Hyeonsieun/MathSpeech_T5_base_translator\", max_length=1000)"
   ]
  },
  {
   "cell_type": "code",
   "execution_count": 8,
   "metadata": {},
   "outputs": [],
   "source": [
    "import openai\n",
    "\n",
    "def get_openai_response(prompt, transcription):\n",
    "    response = openai.chat.completions.create(\n",
    "        model=\"gpt-4o-mini\",\n",
    "        messages=[\n",
    "            {\n",
    "                \"role\": \"system\",\n",
    "                \"content\": \"\"\"You are a helpful assistant. Your task is to correct the input LaTeX code to make it valid and compilable.\n",
    "                            The input may contain both mathematical and non-mathematical text. Please ensure the output is corrected for both types\n",
    "                            and that all elements are formatted correctly in LaTeX. Return only the corrected LaTeX code and nothing else.\n",
    "                            Do not include any extra commands such as documentclass, begin, or end document. Exclude all additional comments, \n",
    "                            explanations, and any other text. The original transcription is: \"\"\"\n",
    "                + transcription,\n",
    "            },\n",
    "            {\n",
    "                \"role\": \"user\",\n",
    "                \"content\": prompt,\n",
    "            },\n",
    "        ],\n",
    "    )\n",
    "    return response.choices[0].message.content"
   ]
  },
  {
   "cell_type": "code",
   "execution_count": 9,
   "metadata": {},
   "outputs": [
    {
     "name": "stderr",
     "output_type": "stream",
     "text": [
      "d:\\03 My Study Area\\5th Semester\\IE-643\\Project\\TeXBLEU\\new_metric.py:25: FutureWarning: You are using `torch.load` with `weights_only=False` (the current default value), which uses the default pickle module implicitly. It is possible to construct malicious pickle data which will execute arbitrary code during unpickling (See https://github.com/pytorch/pytorch/blob/main/SECURITY.md#untrusted-models for more details). In a future release, the default value for `weights_only` will be flipped to `True`. This limits the functions that could be executed during unpickling. Arbitrary objects will no longer be allowed to be loaded via this mode unless they are explicitly allowlisted by the user via `torch.serialization.add_safe_globals`. We recommend you start setting `weights_only=True` for any use case where you don't have full control of the loaded file. Please open an issue on GitHub for any issues related to this experimental feature.\n",
      "  new_embeddings_state = torch.load('new_embeddings.pth', map_location=torch.device('cpu'))\n"
     ]
    },
    {
     "name": "stdout",
     "output_type": "stream",
     "text": [
      "Warning: new_embeddings.pth not found. Using default embeddings.\n"
     ]
    },
    {
     "name": "stderr",
     "output_type": "stream",
     "text": [
      "  0%|          | 1/1000 [00:05<1:26:13,  5.18s/it]"
     ]
    },
    {
     "name": "stdout",
     "output_type": "stream",
     "text": [
      "Decoded tokens: [' \\\\', '[', ' \\\\', 'math', 'cal', '{', 'C', '}', '_', 'K', ' =', ' \\\\', '{', '1', ',', ' 2', ',', ' \\\\', 'ld', 'ots', ',', ' K', ' \\\\', '}', ' \\\\', ']']\n",
      "Decoded tokens: ['$', ' C', '_', 'K', ' :', ' =', ' \\\\', ' {', ' 1', ' ,', ' 2', ' ,', ' ...', ' ,', ' K', ' \\\\', ' }', ' $']\n",
      "0.7484\n"
     ]
    },
    {
     "name": "stderr",
     "output_type": "stream",
     "text": [
      "  0%|          | 2/1000 [00:06<47:50,  2.88s/it]  "
     ]
    },
    {
     "name": "stdout",
     "output_type": "stream",
     "text": [
      "Decoded tokens: ['$', 'v', '_', 'x', ' =', ' 0', '.', '3', '$']\n",
      "Decoded tokens: ['$', ' v', '_', 'x', ' =', ' 0', ' $']\n",
      "0.9572\n"
     ]
    },
    {
     "name": "stderr",
     "output_type": "stream",
     "text": [
      "  0%|          | 3/1000 [00:08<43:00,  2.59s/it]"
     ]
    },
    {
     "name": "stdout",
     "output_type": "stream",
     "text": [
      "Decoded tokens: ['$', 'f', ' \\\\', 'in', ' \\\\', 'math', 'cal', '{', 'C', '}', '^', ' \\\\', 'in', 'fty', '(', ' \\\\', 'math', 'bb', '{', 'M', '})', '$']\n",
      "Decoded tokens: ['$', ' f', ' \\\\', 'in', ' C', '^', ' \\\\', 'in', 'fty', ' (', ' M', ' )', ' $']\n",
      "0.7899\n"
     ]
    },
    {
     "name": "stderr",
     "output_type": "stream",
     "text": [
      "  0%|          | 4/1000 [00:10<36:49,  2.22s/it]"
     ]
    },
    {
     "name": "stdout",
     "output_type": "stream",
     "text": [
      "Decoded tokens: ['$', 'x', ',', ' x', \"'\", ' \\\\', 'text', '{', ' in', ' }', ' [', '0', ',', ' L', ']', '$']\n",
      "Decoded tokens: ['$', ' x', ' ,', ' x', '^', ' \\\\', 'prime', ' \\\\', 'in', ' [', ' 0', ' ,', ' L', ' ]', ' $']\n",
      "0.8262\n"
     ]
    },
    {
     "name": "stderr",
     "output_type": "stream",
     "text": [
      "  0%|          | 5/1000 [00:12<35:45,  2.16s/it]"
     ]
    },
    {
     "name": "stdout",
     "output_type": "stream",
     "text": [
      "Decoded tokens: ['$', 'Q', '^', 'x', ' =', ' J', '^', 'x', ' +', ' \\\\', 'mu', ' T', ' t', ' x', '$']\n",
      "Decoded tokens: ['$', ' Q', '^', 'x', ' =', ' J', '^', 'x', ' +', ' \\\\', 'mu', ' T', '^', ' {', ' t', ' x', ' }', ' $']\n",
      "0.947\n"
     ]
    },
    {
     "name": "stderr",
     "output_type": "stream",
     "text": [
      "  1%|          | 6/1000 [00:13<31:36,  1.91s/it]"
     ]
    },
    {
     "name": "stdout",
     "output_type": "stream",
     "text": [
      "Decoded tokens: ['$', ' \\\\', 'math', 'cal', '{', 'E', '}', '^', 'c', '$']\n",
      "Decoded tokens: ['$', ' E', '^', ' {', ' c', ' }', ' $']\n",
      "0.7477\n"
     ]
    },
    {
     "name": "stderr",
     "output_type": "stream",
     "text": [
      "  1%|          | 7/1000 [00:14<27:23,  1.65s/it]"
     ]
    },
    {
     "name": "stdout",
     "output_type": "stream",
     "text": [
      "Decoded tokens: ['$', ' \\\\', 'lambda', ' =', ' 0', '.', '5', '$']\n",
      "Decoded tokens: ['$', ' \\\\', 'lambda', ' =', ' 0', '.', '5', ' $']\n",
      "0.9949\n"
     ]
    },
    {
     "name": "stderr",
     "output_type": "stream",
     "text": [
      "  1%|          | 8/1000 [00:16<26:09,  1.58s/it]"
     ]
    },
    {
     "name": "stdout",
     "output_type": "stream",
     "text": [
      "Decoded tokens: ['$', ' \\\\', 'math', 'bf', '{', 'g', '}', '^{', '-', '1', '}', '$']\n",
      "Decoded tokens: ['$', ' g', '^', ' {', ' -', '1', ' }', ' $']\n",
      "0.7844\n"
     ]
    },
    {
     "name": "stderr",
     "output_type": "stream",
     "text": [
      "  1%|          | 9/1000 [00:18<27:36,  1.67s/it]"
     ]
    },
    {
     "name": "stdout",
     "output_type": "stream",
     "text": [
      "Decoded tokens: [' \\\\', '[', ' \\\\', 'frac', '{', '|', 'V', '_{', ' \\\\', 'text', '{', 's', 'ink', '}}', '|', ' +', ' f', ' +', ' 1', '}{', '2', '}', ' \\\\', ']']\n",
      "Decoded tokens: ['$', ' \\\\', 'ce', 'il', ' {', ' (', ' |', 'V', '_', ' {', ' \\\\', 'math', 'it', ' {', ' sink', ' }', ' }', ' |', '+', 'f', '+', '1', ' )', ' /', '2', ' }', ' $']\n",
      "0.7454\n"
     ]
    },
    {
     "name": "stderr",
     "output_type": "stream",
     "text": [
      "  1%|          | 10/1000 [00:19<26:49,  1.63s/it]"
     ]
    },
    {
     "name": "stdout",
     "output_type": "stream",
     "text": [
      "Decoded tokens: [' \\\\', '[', '\\n', ' \\\\', 'display', 'style', ' z', '_{', 'i', ',', 'j', '}', '\\n', ' \\\\', ']']\n",
      "Decoded tokens: ['$', ' z', '_', ' {', ' i', ' ,', ' j', ' }', ' $']\n",
      "0.7582\n"
     ]
    },
    {
     "name": "stderr",
     "output_type": "stream",
     "text": [
      "  1%|          | 11/1000 [00:21<27:22,  1.66s/it]"
     ]
    },
    {
     "name": "stdout",
     "output_type": "stream",
     "text": [
      "Decoded tokens: ['$', ' \\\\', 'l', 'angle', ' \\\\', 'cd', 'ot', ',', ' \\\\', 'cd', 'ot', ' \\\\', 'r', 'angle', '$']\n",
      "Decoded tokens: ['$', ' \\\\', 'l', 'angle', ' \\\\', 'cd', 'ot', ' ,', ' \\\\', 'cd', 'ot', ' \\\\', 'r', 'angle', ' $']\n",
      "0.9865\n"
     ]
    },
    {
     "name": "stderr",
     "output_type": "stream",
     "text": [
      "  1%|          | 12/1000 [00:22<25:08,  1.53s/it]"
     ]
    },
    {
     "name": "stdout",
     "output_type": "stream",
     "text": [
      "Decoded tokens: ['$', 'i', ' \\\\', 'ge', 'q', ' n', '$']\n",
      "Decoded tokens: ['$', ' i', ' \\\\', 'ge', 'q', ' n', ' $']\n",
      "0.9805\n"
     ]
    },
    {
     "name": "stderr",
     "output_type": "stream",
     "text": [
      "  1%|▏         | 13/1000 [00:24<26:10,  1.59s/it]"
     ]
    },
    {
     "name": "stdout",
     "output_type": "stream",
     "text": [
      "Decoded tokens: ['$', '(', 'I', ',', ' T', '^', '*,', ' E', '^', '*)', '$']\n",
      "Decoded tokens: ['$', ' (', ' I', ' ,', ' T', '^', ' *', ' ,', ' E', '^', ' *', ' )', ' $']\n",
      "0.8704\n"
     ]
    },
    {
     "name": "stderr",
     "output_type": "stream",
     "text": [
      "  1%|▏         | 14/1000 [00:25<25:13,  1.54s/it]"
     ]
    },
    {
     "name": "stdout",
     "output_type": "stream",
     "text": [
      "Decoded tokens: ['$', ' \\\\', 'math', 'cal', '{', 'H', '}', '(', ' \\\\', 'the', 'ta', ')', '$']\n",
      "Decoded tokens: ['$', ' H', ' (', ' \\\\', 'the', 'ta', ' )', ' $']\n",
      "0.7275\n"
     ]
    },
    {
     "name": "stderr",
     "output_type": "stream",
     "text": [
      "  2%|▏         | 15/1000 [00:27<25:20,  1.54s/it]"
     ]
    },
    {
     "name": "stdout",
     "output_type": "stream",
     "text": [
      "Decoded tokens: ['$', 'm', ' \\\\', 'ge', 'q', ' 1', '$']\n",
      "Decoded tokens: ['$', ' m', ' \\\\', 'ge', 'q', ' 1', ' $']\n",
      "0.9834\n"
     ]
    },
    {
     "name": "stderr",
     "output_type": "stream",
     "text": [
      "  2%|▏         | 16/1000 [00:28<25:17,  1.54s/it]"
     ]
    },
    {
     "name": "stdout",
     "output_type": "stream",
     "text": [
      "Decoded tokens: ['$', 'a', '_{', 'ij', '}', ' \\\\', 'equ', 'iv', ' 1', '$']\n",
      "Decoded tokens: ['$', ' a', '_', ' {', ' i', 'j', ' }', ' \\\\', 'equ', 'iv', ' 1', ' $']\n",
      "0.7522\n"
     ]
    },
    {
     "name": "stderr",
     "output_type": "stream",
     "text": [
      "  2%|▏         | 17/1000 [00:30<26:11,  1.60s/it]"
     ]
    },
    {
     "name": "stdout",
     "output_type": "stream",
     "text": [
      "Decoded tokens: ['$', ' \\\\', '|', ' \\\\', 'cd', 'ot', ' \\\\', '|', '_', '2', ' $']\n",
      "Decoded tokens: ['$', ' \\\\', '|', ' \\\\', 'cd', 'ot', ' \\\\', '|', '_', ' {', ' 2', ' }', ' $']\n",
      "0.9631\n"
     ]
    },
    {
     "name": "stderr",
     "output_type": "stream",
     "text": [
      "  2%|▏         | 18/1000 [00:34<36:33,  2.23s/it]"
     ]
    },
    {
     "name": "stdout",
     "output_type": "stream",
     "text": [
      "Decoded tokens: [' \\\\', '[', '\\n', ' \\\\', 'alpha', '^', '2', ' >', ' \\\\', 's', 'igma', '^', '2', ' -', ' a', '^', '2', ' +', ' b', '^', '2', ' -', ' \\\\', 'phi', ' e', ' (', 'a', ' +', ' eb', ')', '\\n', ' \\\\', ']']\n",
      "Decoded tokens: ['$', ' \\\\', 'alpha', '^', '2', ' >', ' \\\\', 's', 'igma', '^', '2', '-', ' (', ' a', '^', '2', '+', 'b', '^', '2', ' )', ' -', ' (', ' \\\\', 'phi', ' e', ' )', ' (', ' a', ' )', ' +', 'e', ' (', ' b', ' )', ' $']\n",
      "0.75\n"
     ]
    },
    {
     "name": "stderr",
     "output_type": "stream",
     "text": [
      "  2%|▏         | 19/1000 [00:38<44:16,  2.71s/it]"
     ]
    },
    {
     "name": "stdout",
     "output_type": "stream",
     "text": [
      "Decoded tokens: ['$', '0', ' <', ' N', '_', '1', ' <', ' N', '_', '2', ' <', ' \\\\', 'cd', 'ots', '$']\n",
      "Decoded tokens: ['$', ' 0', ' <', ' N', '_', '1', ' <', ' N', '_', '2', ' <', ' \\\\', 'cd', 'ots', ' $']\n",
      "0.9935\n"
     ]
    },
    {
     "name": "stderr",
     "output_type": "stream",
     "text": [
      "  2%|▏         | 20/1000 [00:40<41:23,  2.53s/it]"
     ]
    },
    {
     "name": "stdout",
     "output_type": "stream",
     "text": [
      "Decoded tokens: ['$', ' \\\\', 'math', 'bb', '{', 'P', '}', '_', 'm', '$']\n",
      "Decoded tokens: ['$', ' {', ' \\\\', 'math', 'cal', ' P', ' }', ' _', 'm', ' $']\n",
      "0.8736\n"
     ]
    },
    {
     "name": "stderr",
     "output_type": "stream",
     "text": [
      "  2%|▏         | 21/1000 [00:42<39:45,  2.44s/it]"
     ]
    },
    {
     "name": "stdout",
     "output_type": "stream",
     "text": [
      "Decoded tokens: ['$', 'H', ' /', ' \\\\', 'lambda', '_', 'D', ' \\\\', 'gg', ' 1', '$']\n",
      "Decoded tokens: ['$', ' H', '/', ' \\\\', 'lambda', '_', 'D', ' \\\\', 'gg', ' 1', ' $']\n",
      "0.986\n"
     ]
    },
    {
     "name": "stderr",
     "output_type": "stream",
     "text": [
      "  2%|▏         | 22/1000 [00:44<34:56,  2.14s/it]"
     ]
    },
    {
     "name": "stdout",
     "output_type": "stream",
     "text": [
      "Decoded tokens: ['$', ' \\\\', 'alpha', ' >', ' 0', '$']\n",
      "Decoded tokens: ['$', ' \\\\', 'alpha', ' >', ' 0', ' $']\n",
      "0.9931\n"
     ]
    },
    {
     "name": "stderr",
     "output_type": "stream",
     "text": [
      "  2%|▏         | 23/1000 [00:46<34:26,  2.12s/it]"
     ]
    },
    {
     "name": "stdout",
     "output_type": "stream",
     "text": [
      "Decoded tokens: ['$', 'G', '_{', ' \\\\', 'math', 'rm', '{', 'comp', '}}', '$']\n",
      "Decoded tokens: ['$', ' G', '_', ' {', ' \\\\', 'rm', ' {', ' comp', ' }', ' }', ' $']\n",
      "0.8914\n"
     ]
    },
    {
     "name": "stderr",
     "output_type": "stream",
     "text": [
      "  2%|▏         | 24/1000 [00:49<41:39,  2.56s/it]"
     ]
    },
    {
     "name": "stdout",
     "output_type": "stream",
     "text": [
      "Decoded tokens: [' \\\\(', ' V', '_', '1', ' \\\\', 'cap', ' V', '_', '2', ' =', ' \\\\', '{', ' x', ',', ' y', ' \\\\', '}', ' \\\\', ')']\n",
      "Decoded tokens: ['$', ' V', '_', '1', ' \\\\', 'cap', ' V', '_', '2', ' =', ' \\\\', ' {', ' x', ' ,', ' y', ' \\\\', ' }', ' $']\n",
      "0.9678\n"
     ]
    },
    {
     "name": "stderr",
     "output_type": "stream",
     "text": [
      "  2%|▎         | 25/1000 [00:52<43:08,  2.65s/it]"
     ]
    },
    {
     "name": "stdout",
     "output_type": "stream",
     "text": [
      "Decoded tokens: ['$', 'u', '_', 'p', ' \\\\', 'quad', ' (', 'p', ' \\\\', 'ge', 'q', ' 1', ')', '$']\n",
      "Decoded tokens: ['$', ' (', ' u', '_', 'p', ' )', ' _', ' {', ' p', ' \\\\', 'ge', 'q', ' 1', ' }', ' $']\n",
      "0.7447\n"
     ]
    },
    {
     "name": "stderr",
     "output_type": "stream",
     "text": [
      "  3%|▎         | 26/1000 [00:54<41:33,  2.56s/it]"
     ]
    },
    {
     "name": "stdout",
     "output_type": "stream",
     "text": [
      "Decoded tokens: ['$', ' \\\\', 'gam', 'ma', ' \\\\', 'to', ' 0', '$']\n",
      "Decoded tokens: ['$', ' \\\\', 'gam', 'ma', ' \\\\', 'right', 'arrow', ' 0', ' $']\n",
      "0.8948\n"
     ]
    },
    {
     "name": "stderr",
     "output_type": "stream",
     "text": [
      "  3%|▎         | 27/1000 [00:58<46:27,  2.86s/it]"
     ]
    },
    {
     "name": "stdout",
     "output_type": "stream",
     "text": [
      "Decoded tokens: ['$', ' \\\\', 'vec', '{', 't', '}', ' z', '_{', 'i', '}', ' $']\n",
      "Decoded tokens: ['$', ' \\\\', 've', 'ct', ' {', ' z', ' }', ' _', ' {', ' i', ' }', ' $']\n",
      "0.7782\n"
     ]
    },
    {
     "name": "stderr",
     "output_type": "stream",
     "text": [
      "  3%|▎         | 28/1000 [01:01<48:56,  3.02s/it]"
     ]
    },
    {
     "name": "stdout",
     "output_type": "stream",
     "text": [
      "Decoded tokens: [' \\\\(', ' \\\\', 'frac', '{', '(', 'K', ',', ' \\\\', 'gam', 'ma', ')', '}{', 'k', '_', 'B', ' T', '}', ' \\\\', 'app', 'rox', ' 0', ' \\\\', ')']\n",
      "Decoded tokens: ['$', ' (', ' K', ' ,', ' \\\\', 'gam', 'ma', ' )', ' /', 'k', '_', 'BT', ' \\\\', 'app', 'rox', ' 0', ' $']\n",
      "0.7155\n"
     ]
    },
    {
     "name": "stderr",
     "output_type": "stream",
     "text": [
      "  3%|▎         | 29/1000 [01:06<56:07,  3.47s/it]"
     ]
    },
    {
     "name": "stdout",
     "output_type": "stream",
     "text": [
      "Decoded tokens: ['For', ' all', ' \\\\(', ' n', ' \\\\', '),', ' \\\\(', ' P', '_{', ' \\\\', 'text', '{', 'Out', '},', ' \\\\', 'in', 'fty', '}', ' \\\\', ')', ' belongs', ' to', ' the', ' boundary', ' of', ' \\\\(', ' B', '_', 'n', ' \\\\', ').']\n",
      "Decoded tokens: ['$', ' \\\\', 'for', 'all', ' n', ' ,', ' P', '_', ' {', ' Out', ' }', ' ,', ' \\\\', 'in', 'fty', ' \\\\', 'in', ' \\\\', 'partial', ' B', '_', 'n', ' $']\n",
      "0.7324\n"
     ]
    },
    {
     "name": "stderr",
     "output_type": "stream",
     "text": [
      "  3%|▎         | 30/1000 [01:08<49:37,  3.07s/it]"
     ]
    },
    {
     "name": "stdout",
     "output_type": "stream",
     "text": [
      "Decoded tokens: ['$', ' \\\\', 'Delta', ' N', '_{', ' \\\\', 'text', '{', 'eff', '}}', ' $']\n",
      "Decoded tokens: ['$', ' \\\\', 'Delta', ' N', '_', ' {', ' \\\\', 'rm', ' eff', ' }', ' $']\n",
      "0.8934\n"
     ]
    },
    {
     "name": "stderr",
     "output_type": "stream",
     "text": [
      "  3%|▎         | 31/1000 [01:10<43:09,  2.67s/it]"
     ]
    },
    {
     "name": "stdout",
     "output_type": "stream",
     "text": [
      "Decoded tokens: ['$', ' \\\\', 'alpha', ' \\\\', 'Right', 'arrow', ' 1', ' $']\n",
      "Decoded tokens: ['$', ' \\\\', 'alpha', ' \\\\', 'right', 'arrow', ' 1', ' $']\n",
      "0.9939\n"
     ]
    },
    {
     "name": "stderr",
     "output_type": "stream",
     "text": [
      "  3%|▎         | 32/1000 [01:13<44:01,  2.73s/it]"
     ]
    },
    {
     "name": "stdout",
     "output_type": "stream",
     "text": [
      "Decoded tokens: ['$', 'w', '_', '1', ' <', ' \\\\', 'cd', 'ots', ' <', ' w', '_', 'l', '$']\n",
      "Decoded tokens: ['$', ' w', '_', '1', ' <', ' \\\\', 'ld', 'ots', ' <', ' w', '_', ' \\\\', 'ell', ' $']\n",
      "0.935\n"
     ]
    },
    {
     "name": "stderr",
     "output_type": "stream",
     "text": [
      "  3%|▎         | 33/1000 [01:14<38:06,  2.36s/it]"
     ]
    },
    {
     "name": "stdout",
     "output_type": "stream",
     "text": [
      "Decoded tokens: ['$', ' \\\\', 'Gam', 'ma', '_', 'u', ' $']\n",
      "Decoded tokens: ['$', ' \\\\', 'gam', 'ma', '_', 'u', ' $']\n",
      "0.9914\n"
     ]
    },
    {
     "name": "stderr",
     "output_type": "stream",
     "text": [
      "  3%|▎         | 34/1000 [01:19<51:01,  3.17s/it]"
     ]
    },
    {
     "name": "stdout",
     "output_type": "stream",
     "text": [
      "Decoded tokens: ['$', 'g', '_{', 'l', '+', '1', '},', ' \\\\', 'ld', 'ots', ',', ' g', '_{', 'l', '+', 'r', '}', ' \\\\', 'in', ' \\\\', 'math', 'cal', '{', 'G', '}', '^', 'r', '$']\n",
      "Decoded tokens: ['$', ' \\\\', ' {', ' g', '_', ' {', ' l', '+', '1', ' }', ' ,', ' \\\\', 'cd', 'ots', ' ,', ' g', '_', ' {', ' l', '+', 'r', ' }', ' \\\\', ' }', ' \\\\', 'in', ' \\\\', 'math', 'cal', ' {', ' G', ' }', ' ^', 'r', ' $']\n",
      "0.7495\n"
     ]
    },
    {
     "name": "stderr",
     "output_type": "stream",
     "text": [
      "  4%|▎         | 35/1000 [01:21<45:00,  2.80s/it]"
     ]
    },
    {
     "name": "stdout",
     "output_type": "stream",
     "text": [
      "Decoded tokens: ['$', 'R', '_', ' \\\\', 'od', 'ot', '$']\n",
      "Decoded tokens: ['$', ' R', '_', ' \\\\', 'od', 'ot', ' $']\n",
      "0.9889\n"
     ]
    },
    {
     "name": "stderr",
     "output_type": "stream",
     "text": [
      "  4%|▎         | 36/1000 [01:24<43:49,  2.73s/it]"
     ]
    },
    {
     "name": "stdout",
     "output_type": "stream",
     "text": [
      "Decoded tokens: ['$', ' \\\\', 'mu', '_{', ' \\\\', 'v', 'are', 'ps', 'ilon', '}', ' $']\n",
      "Decoded tokens: ['$', ' \\\\', 'mu', '_', ' \\\\', 'ep', 'sil', 'on', ' $']\n",
      "0.8501\n"
     ]
    },
    {
     "name": "stderr",
     "output_type": "stream",
     "text": [
      "  4%|▎         | 37/1000 [01:26<41:51,  2.61s/it]"
     ]
    },
    {
     "name": "stdout",
     "output_type": "stream",
     "text": [
      "Decoded tokens: ['$', 'D', '_', '5', ',', ' v', '_{', 'i', '_', '1', '}', '$']\n",
      "Decoded tokens: ['$', ' D', '_', '5', ' ,', ' \\\\', 'v', 'pi', '_', '1', ' $']\n",
      "0.8755\n"
     ]
    },
    {
     "name": "stderr",
     "output_type": "stream",
     "text": [
      "  4%|▍         | 38/1000 [01:28<39:33,  2.47s/it]"
     ]
    },
    {
     "name": "stdout",
     "output_type": "stream",
     "text": [
      "Decoded tokens: ['$', ' \\\\', 'beta', ' <', ' \\\\', 'beta', '_', 'c', ' $']\n",
      "Decoded tokens: ['$', ' \\\\', 'beta', ' <', ' \\\\', 'beta', '_', 'c', ' $']\n",
      "1.0\n"
     ]
    },
    {
     "name": "stderr",
     "output_type": "stream",
     "text": [
      "  4%|▍         | 39/1000 [01:31<39:10,  2.45s/it]"
     ]
    },
    {
     "name": "stdout",
     "output_type": "stream",
     "text": [
      "Decoded tokens: [' \\\\', '[', '\\n', ' \\\\', 'text', 'style', ' c', '_', '4', '\\n', ' \\\\', ']']\n",
      "Decoded tokens: ['$', ' c', '_', ' {', ' 4', ' }', ' $']\n",
      "0.7594\n"
     ]
    },
    {
     "name": "stderr",
     "output_type": "stream",
     "text": [
      "  4%|▍         | 40/1000 [01:32<36:45,  2.30s/it]"
     ]
    },
    {
     "name": "stdout",
     "output_type": "stream",
     "text": [
      "Decoded tokens: ['$', ' \\\\', 't', 'ilde', '{', 'M', '}', ' h', ' \\\\', 'in', ' X', '$']\n",
      "Decoded tokens: ['$', ' \\\\', 't', 'ilde', ' {', ' \\\\', 'M', ' }', ' ^', ' {', ' \\\\', 'text', ' {', ' h', ' }', ' }', ' \\\\', 'in', ' X', ' $']\n",
      "0.8445\n"
     ]
    },
    {
     "name": "stderr",
     "output_type": "stream",
     "text": [
      "  4%|▍         | 41/1000 [01:35<35:48,  2.24s/it]"
     ]
    },
    {
     "name": "stdout",
     "output_type": "stream",
     "text": [
      "Decoded tokens: ['$', 'f', '(', 'z', ')', ' =', ' \\\\', 'O', 'mega', '_', 'm', ' \\\\', 'gam', 'ma', '(', 'z', ')', '$']\n",
      "Decoded tokens: ['$', ' f', ' (', ' z', ' )', ' =', ' \\\\', 'O', 'mega', '_', ' {', ' m', ' }', ' ^', ' {', ' \\\\', 'gam', 'ma', ' }', ' (', ' z', ' )', ' $']\n",
      "0.8509\n"
     ]
    },
    {
     "name": "stderr",
     "output_type": "stream",
     "text": [
      "  4%|▍         | 42/1000 [01:36<32:04,  2.01s/it]"
     ]
    },
    {
     "name": "stdout",
     "output_type": "stream",
     "text": [
      "Decoded tokens: ['$', 'f', '(', 's', '_', '1', ')', '$']\n",
      "Decoded tokens: ['$', ' f', ' (', ' s', '_', '1', ' )', ' $']\n",
      "0.9469\n"
     ]
    },
    {
     "name": "stderr",
     "output_type": "stream",
     "text": [
      "  4%|▍         | 43/1000 [01:39<35:20,  2.22s/it]"
     ]
    },
    {
     "name": "stdout",
     "output_type": "stream",
     "text": [
      "Decoded tokens: ['$', 'b', '_', 'j', ' \\\\', 'in', ' \\\\', 'math', 'it', '{', 'cap', '}', '(', 'o', ')', ' \\\\', 'cap', ' \\\\', 'math', 'it', '{', 'left', '}', '(', 't', ')', '$']\n",
      "Decoded tokens: ['$', ' \\\\', 'be', '_', 'j', ' \\\\', 'in', ' \\\\', 'led', 'o', ' \\\\', 'cap', ' \\\\', 'led', 't', ' $']\n",
      "0.727\n"
     ]
    },
    {
     "name": "stderr",
     "output_type": "stream",
     "text": [
      "  4%|▍         | 44/1000 [01:41<36:00,  2.26s/it]"
     ]
    },
    {
     "name": "stdout",
     "output_type": "stream",
     "text": [
      "Decoded tokens: [' \\\\', '[', '\\n', ' \\\\', 'text', '{', 'Im', '}', ' \\\\', 'left', '(', 'C', '_{', 'ei', '}', ' \\\\', 'sin', ' \\\\', 'phi', ' \\\\', 'right', ')', '\\n', ' \\\\', ']']\n",
      "Decoded tokens: ['$', ' \\\\', 'text', ' {', ' Im', ' }', ' [', ' C', '_', ' {', ' e', 'i', ' }', ' ]', ' \\\\', 'text', ' {', ' sin', ' }', ' (', ' \\\\', 'phi', ' )', ' $']\n",
      "0.7351\n"
     ]
    },
    {
     "name": "stderr",
     "output_type": "stream",
     "text": [
      "  4%|▍         | 45/1000 [01:43<32:48,  2.06s/it]"
     ]
    },
    {
     "name": "stdout",
     "output_type": "stream",
     "text": [
      "Decoded tokens: ['$', ' \\\\', 'L', 'amb', 'da', '_', '1', ' $']\n",
      "Decoded tokens: ['$', ' \\\\', 'lambda', '_', ' {', ' 1', ' }', ' $']\n",
      "0.8104\n"
     ]
    },
    {
     "name": "stderr",
     "output_type": "stream",
     "text": [
      "  5%|▍         | 46/1000 [01:45<32:42,  2.06s/it]"
     ]
    },
    {
     "name": "stdout",
     "output_type": "stream",
     "text": [
      "Decoded tokens: ['$', 'P', '_{', ' \\\\', 'text', '{', 'G', 'AG', 'G', '}}', '$']\n",
      "Decoded tokens: ['$', ' P', '_', ' {', ' \\\\', 'rm', ' G', 'AG', 'G', ' }', ' $']\n",
      "0.898\n"
     ]
    },
    {
     "name": "stderr",
     "output_type": "stream",
     "text": [
      "  5%|▍         | 47/1000 [01:48<37:30,  2.36s/it]"
     ]
    },
    {
     "name": "stdout",
     "output_type": "stream",
     "text": [
      "Decoded tokens: [' \\\\', '[', '\\n', ' \\\\', 'text', '{', 'GE', 'V', '}', '(', 'z', ';', ' \\\\', 'ep', 'sil', 'on', ')', '\\n', ' \\\\', ']']\n",
      "Decoded tokens: ['$', ' \\\\', 'mb', 'ox', ' {', ' G', 'EV', ' }', ' (', ' z', ' ;', ' \\\\', 'ep', 'sil', 'on', ' )', ' $']\n",
      "0.7085\n"
     ]
    },
    {
     "name": "stderr",
     "output_type": "stream",
     "text": [
      "  5%|▍         | 48/1000 [01:50<36:18,  2.29s/it]"
     ]
    },
    {
     "name": "stdout",
     "output_type": "stream",
     "text": [
      "Decoded tokens: ['$', 'm', '_{', ' \\\\', 'math', 'cal', '{', 'X', '}}', ' =', ' 1', '$']\n",
      "Decoded tokens: ['$', ' m', '_', 'X', ' =', ' 1', ' $']\n",
      "0.7895\n"
     ]
    },
    {
     "name": "stderr",
     "output_type": "stream",
     "text": [
      "  5%|▍         | 49/1000 [01:52<33:19,  2.10s/it]"
     ]
    },
    {
     "name": "stdout",
     "output_type": "stream",
     "text": [
      "Decoded tokens: ['$', '10', '^{', '-', '3', '}', '$']\n",
      "Decoded tokens: ['$', ' 10', '^', ' {', ' -', '3', ' }', ' $']\n",
      "0.8306\n"
     ]
    },
    {
     "name": "stderr",
     "output_type": "stream",
     "text": [
      "  5%|▌         | 50/1000 [01:54<35:06,  2.22s/it]"
     ]
    },
    {
     "name": "stdout",
     "output_type": "stream",
     "text": [
      "Decoded tokens: ['$', ' \\\\', 'math', 'cal', '{', 'C', '}', ' \\\\', 'ne', 'q', ' 0', '$']\n",
      "Decoded tokens: ['$', ' C', ' \\\\', 'ne', 'q', ' 0', ' $']\n",
      "0.7588\n"
     ]
    },
    {
     "name": "stderr",
     "output_type": "stream",
     "text": [
      "  5%|▌         | 51/1000 [01:57<39:21,  2.49s/it]"
     ]
    },
    {
     "name": "stdout",
     "output_type": "stream",
     "text": [
      "Decoded tokens: ['$', 'V', '_{', ' \\\\', 'math', 'rm', '{', 'Q', 'CD', '}}', '(', ' \\\\', 'phi', ')', '$']\n",
      "Decoded tokens: ['$', ' V', '_', ' {', ' \\\\', 'rm', ' Q', 'CD', ' }', ' (', ' \\\\', 'phi', ' )', ' $']\n",
      "0.781\n"
     ]
    },
    {
     "name": "stderr",
     "output_type": "stream",
     "text": [
      "  5%|▌         | 52/1000 [02:01<46:36,  2.95s/it]"
     ]
    },
    {
     "name": "stdout",
     "output_type": "stream",
     "text": [
      "Decoded tokens: ['$', 'X', '_', 'a', ' \\\\', 'gg', ' f', '_', 'a', '(', 'X', '_{', ' \\\\', 'text', '{', 'trans', '}}', ')', '$']\n",
      "Decoded tokens: ['$', ' \\\\', 'math', 'bf', ' {', ' X', ' }', ' _', ' {', ' agg', ' }', ' =', 'f', '_', ' {', ' agg', ' }', ' (', ' \\\\', 'math', 'bf', ' {', ' X', ' }', ' _', ' {', ' trans', ' }', ' )', ' $']\n",
      "0.7688\n"
     ]
    },
    {
     "name": "stderr",
     "output_type": "stream",
     "text": [
      "  5%|▌         | 53/1000 [02:03<42:45,  2.71s/it]"
     ]
    },
    {
     "name": "stdout",
     "output_type": "stream",
     "text": [
      "Decoded tokens: ['$', ' \\\\', 'v', 'are', 'ps', 'ilon', ' \\\\', 'to', ' 0', '$']\n",
      "Decoded tokens: ['$', ' \\\\', 'ep', 'sil', 'on', ' \\\\', 'to', ' 0', ' $']\n",
      "0.7849\n"
     ]
    },
    {
     "name": "stderr",
     "output_type": "stream",
     "text": [
      "  5%|▌         | 54/1000 [02:05<39:35,  2.51s/it]"
     ]
    },
    {
     "name": "stdout",
     "output_type": "stream",
     "text": [
      "Decoded tokens: ['$', ' \\\\', 'math', 'bf', '{', ' \\\\', 'L', 'amb', 'da', '}', '$']\n",
      "Decoded tokens: ['$', ' \\\\', 'lambda', ' $']\n",
      "0.8668\n"
     ]
    },
    {
     "name": "stderr",
     "output_type": "stream",
     "text": [
      "  6%|▌         | 55/1000 [02:09<42:21,  2.69s/it]"
     ]
    },
    {
     "name": "stdout",
     "output_type": "stream",
     "text": [
      "Decoded tokens: ['$', ' \\\\', 'mu', '_{', 't', ' r', '}', '^', '*', ' $']\n",
      "Decoded tokens: ['$', ' \\\\', 'mu', '_', ' {', ' tr', ' }', ' ^', ' *', ' $']\n",
      "0.9205\n"
     ]
    },
    {
     "name": "stderr",
     "output_type": "stream",
     "text": [
      "  6%|▌         | 56/1000 [02:11<40:03,  2.55s/it]"
     ]
    },
    {
     "name": "stdout",
     "output_type": "stream",
     "text": [
      "Decoded tokens: ['$', ' \\\\', 'math', 'cal', '{', 'L', '}', '_', 'c', '$']\n",
      "Decoded tokens: ['$', ' L', '_', ' {', ' c', ' }', ' $']\n",
      "0.7381\n"
     ]
    },
    {
     "name": "stderr",
     "output_type": "stream",
     "text": [
      "  6%|▌         | 57/1000 [02:12<35:46,  2.28s/it]"
     ]
    },
    {
     "name": "stdout",
     "output_type": "stream",
     "text": [
      "Decoded tokens: [' \\\\(', ' \\\\', 'frac', '{', '1', '}{', ' \\\\', 'sq', 'rt', '{', 'D', '}}', ' \\\\', ')']\n",
      "Decoded tokens: ['$', ' 1', '/', ' \\\\', 'sq', 'rt', ' {', ' D', ' }', ' $']\n",
      "0.7219\n"
     ]
    },
    {
     "name": "stderr",
     "output_type": "stream",
     "text": [
      "  6%|▌         | 58/1000 [02:15<35:16,  2.25s/it]"
     ]
    },
    {
     "name": "stdout",
     "output_type": "stream",
     "text": [
      "Decoded tokens: ['$', ' \\\\', 'ome', 'ga', ' \\\\', 'in', ' \\\\', 'O', 'mega', '_', '0', ' $']\n",
      "Decoded tokens: ['$', ' \\\\', 'ome', 'ga', ' \\\\', 'in', ' \\\\', 'O', 'mega', '_', '0', ' $']\n",
      "1.0\n"
     ]
    },
    {
     "name": "stderr",
     "output_type": "stream",
     "text": [
      "  6%|▌         | 59/1000 [02:21<56:30,  3.60s/it]"
     ]
    },
    {
     "name": "stdout",
     "output_type": "stream",
     "text": [
      "Decoded tokens: [' \\\\', '[', '\\n', 'd', 'g', '_', 'y', '(', 'V', ')', ' \\\\', 'in', ' H', '^', '0', '(', ' \\\\', 'math', 'bb', '{', 'CP', '}', '^', '1', ',', ' T', '_{', ' \\\\', 'math', 'bb', '{', 'CP', '}', '^', '1', '})', ' =', ' g', '\\n', ' \\\\', ']']\n",
      "Decoded tokens: ['$', ' d', 'g', '_', 'y', ' (', ' V', ' )', ' \\\\', 'in', ' H', '^', '0', ' (', ' \\\\', 'CP', '^', '1', ' ,', ' T', '_', ' {', ' \\\\', 'CP', '^', '1', ' }', ' )', ' =', ' \\\\', 'math', 'f', 'rak', ' g', ' $']\n",
      "0.738\n"
     ]
    },
    {
     "name": "stderr",
     "output_type": "stream",
     "text": [
      "  6%|▌         | 60/1000 [02:24<50:40,  3.23s/it]"
     ]
    },
    {
     "name": "stdout",
     "output_type": "stream",
     "text": [
      "Decoded tokens: ['The', ' set', ' of', ' the', ' derivative', ' of', ' \\\\(', ' a', ' \\\\', ')', ' with', ' respect', ' to', ' time', ' is', ' given', ' by', ' \\\\(', ' \\\\', 'dot', '{', 'a', '}', ' \\\\', ').']\n",
      "Decoded tokens: ['$', ' \\\\', ' {', ' \\\\', 't', 'ilde', ' a', \"'\", '_', 'i', ' \\\\', ' }', ' $']\n",
      "0.7033\n"
     ]
    },
    {
     "name": "stderr",
     "output_type": "stream",
     "text": [
      "  6%|▌         | 61/1000 [02:25<43:17,  2.77s/it]"
     ]
    },
    {
     "name": "stdout",
     "output_type": "stream",
     "text": [
      "Decoded tokens: ['$', ' \\\\', 'Gam', 'ma', \"'\", '$']\n",
      "Decoded tokens: ['$', ' \\\\', 'gam', 'ma', '^', ' {', ' \\\\', 'prime', ' }', ' $']\n",
      "0.9104\n"
     ]
    },
    {
     "name": "stderr",
     "output_type": "stream",
     "text": [
      "  6%|▌         | 62/1000 [02:27<39:00,  2.50s/it]"
     ]
    },
    {
     "name": "stdout",
     "output_type": "stream",
     "text": [
      "Decoded tokens: [' \\\\', '[', '\\n', ' \\\\', 'display', 'style', ' z', '_{', 'ij', '}', '\\n', ' \\\\', ']']\n",
      "Decoded tokens: ['$', ' z', '_', ' {', ' i', 'j', ' }', ' $']\n",
      "0.7446\n"
     ]
    },
    {
     "name": "stderr",
     "output_type": "stream",
     "text": [
      "  6%|▋         | 63/1000 [02:30<39:40,  2.54s/it]"
     ]
    },
    {
     "name": "stdout",
     "output_type": "stream",
     "text": [
      "Decoded tokens: [' \\\\(', ' \\\\', 'math', 'cal', '{', 'E', '}', '_', '2', ' \\\\', ')']\n",
      "Decoded tokens: ['$', ' \\\\', 'math', 'cal', ' {', ' E', ' }', ' _', '2', ' $']\n",
      "0.9398\n"
     ]
    },
    {
     "name": "stderr",
     "output_type": "stream",
     "text": [
      "  6%|▋         | 64/1000 [02:36<58:04,  3.72s/it]"
     ]
    },
    {
     "name": "stdout",
     "output_type": "stream",
     "text": [
      "Decoded tokens: ['$', ' \\\\', 'text', '{', 'Re', '}', '(', 't', '_', '1', ')', ' \\\\', 'gg', ' \\\\', 'text', '{', 'Re', '}', '(', 't', '_', '2', ')', ' \\\\', 'gg', ' \\\\', 'text', '{', 'Re', '}', '(', 't', '_', '3', '),', ' \\\\', 'text', '{', 'Re', '}', '(', 't', '_', '4', ')', ' $']\n",
      "Decoded tokens: ['$', ' \\\\', 'Re', ' t', '_', ' {', ' 1', ' }', ' ,', ' \\\\', 'Re', ' t', '_', ' {', ' 2', ' }', ' \\\\', 'gg', ' \\\\', 'Re', ' t', '_', ' {', ' 3', ' }', ' ,', ' \\\\', 'Re', ' t', '_', ' {', ' 4', ' }', ' $']\n",
      "0.759\n"
     ]
    },
    {
     "name": "stderr",
     "output_type": "stream",
     "text": [
      "  6%|▋         | 65/1000 [02:40<56:45,  3.64s/it]"
     ]
    },
    {
     "name": "stdout",
     "output_type": "stream",
     "text": [
      "Decoded tokens: ['$', 'B', '^', '0', ' \\\\', 'to', ' \\\\', 'mu', '^', '+', ' +', ' \\\\', 'mu', '^', '-$']\n",
      "Decoded tokens: ['$', ' B', '^', '0', ' \\\\', 'to', ' \\\\', 'mu', '^', '+', ' \\\\', 'mu', '^', '-', ' $']\n",
      "0.915\n"
     ]
    },
    {
     "name": "stderr",
     "output_type": "stream",
     "text": [
      "  7%|▋         | 66/1000 [02:42<48:46,  3.13s/it]"
     ]
    },
    {
     "name": "stdout",
     "output_type": "stream",
     "text": [
      "Decoded tokens: [' \\\\(', '-', ' \\\\', 'frac', '{', '1', '}{', '2', '}', ' \\\\', ')']\n",
      "Decoded tokens: ['$', ' -', ' \\\\', 'frac', ' {', ' 1', ' }', ' {', ' 2', ' }', ' $']\n",
      "0.8602\n"
     ]
    },
    {
     "name": "stderr",
     "output_type": "stream",
     "text": [
      "  7%|▋         | 67/1000 [02:44<42:44,  2.75s/it]"
     ]
    },
    {
     "name": "stdout",
     "output_type": "stream",
     "text": [
      "Decoded tokens: ['$', ' \\\\', 'math', 'sf', '{', 'Sum', ' \\\\', ' S', 'FR', '}', '$']\n",
      "Decoded tokens: ['$', ' \\\\', 'S', 'igma', '_', ' {', ' \\\\', 'rm', ' S', 'FR', ' }', ' $']\n",
      "0.7818\n"
     ]
    },
    {
     "name": "stderr",
     "output_type": "stream",
     "text": [
      "  7%|▋         | 68/1000 [02:45<37:28,  2.41s/it]"
     ]
    },
    {
     "name": "stdout",
     "output_type": "stream",
     "text": [
      "Decoded tokens: ['$', ' \\\\', 'S', 'igma', '_{', '11', '}', '$']\n",
      "Decoded tokens: ['$', ' \\\\', 's', 'igma', '_', ' {', ' 11', ' }', ' $']\n",
      "0.869\n"
     ]
    },
    {
     "name": "stderr",
     "output_type": "stream",
     "text": [
      "  7%|▋         | 69/1000 [02:47<33:28,  2.16s/it]"
     ]
    },
    {
     "name": "stdout",
     "output_type": "stream",
     "text": [
      "Decoded tokens: ['$', ' \\\\', 'var', 'phi', '^', '*', '$']\n",
      "Decoded tokens: ['$', ' \\\\', 'var', 'phi', '_', ' *', ' $']\n",
      "0.9496\n"
     ]
    },
    {
     "name": "stderr",
     "output_type": "stream",
     "text": [
      "  7%|▋         | 70/1000 [02:48<30:55,  1.99s/it]"
     ]
    },
    {
     "name": "stdout",
     "output_type": "stream",
     "text": [
      "Decoded tokens: ['$', ' \\\\', 'math', 'bf', '{', '25', '}', '$']\n",
      "Decoded tokens: ['$', ' ^', ' {', ' 26', ',', '25', ' }', ' $']\n",
      "0.8608\n"
     ]
    },
    {
     "name": "stderr",
     "output_type": "stream",
     "text": [
      "  7%|▋         | 71/1000 [02:53<43:31,  2.81s/it]"
     ]
    },
    {
     "name": "stdout",
     "output_type": "stream",
     "text": [
      "Decoded tokens: ['$', 'w', '_', '0', ' =', ' w', '(', 'v', '_', '0', ')', ' \\\\', 'in', ' H', '^', '1', '(', ' \\\\', 'O', 'mega', ')', '$']\n",
      "Decoded tokens: ['$', ' w', '_', '0', '=', 'w', ' (', ' v', '_', '0', ' )', ' \\\\', 'in', ' H', '^', '1', ' (', ' \\\\', 'O', 'mega', ' )', ' $']\n",
      "0.9707\n"
     ]
    },
    {
     "name": "stderr",
     "output_type": "stream",
     "text": [
      "  7%|▋         | 72/1000 [02:55<40:29,  2.62s/it]"
     ]
    },
    {
     "name": "stdout",
     "output_type": "stream",
     "text": [
      "Decoded tokens: ['$', 'E', ' \\\\', 'sub', 'set', 'eq', ' S', '^', 'n', '$']\n",
      "Decoded tokens: ['$', ' E', ' \\\\', 'sub', 'set', 'eq', ' S', '^', 'n', ' $']\n",
      "0.9913\n"
     ]
    },
    {
     "name": "stderr",
     "output_type": "stream",
     "text": [
      "  7%|▋         | 73/1000 [02:57<36:16,  2.35s/it]"
     ]
    },
    {
     "name": "stdout",
     "output_type": "stream",
     "text": [
      "Decoded tokens: ['$', ' \\\\', 'Ph', 'i', '^{', '-', '1', '}', ' $']\n",
      "Decoded tokens: ['$', ' \\\\', 'Ph', 'i', '^', ' {', ' -', '1', ' }', ' $']\n",
      "0.8752\n"
     ]
    },
    {
     "name": "stderr",
     "output_type": "stream",
     "text": [
      "  7%|▋         | 74/1000 [02:59<35:48,  2.32s/it]"
     ]
    },
    {
     "name": "stdout",
     "output_type": "stream",
     "text": [
      "Decoded tokens: [' \\\\', '[', '\\n', ' \\\\', 'ep', 'sil', 'on', '_', '2', '\\n', ' \\\\', ']']\n",
      "Decoded tokens: ['$', ' \\\\', 'ep', 'sil', 'on', '_', '2', ' $']\n",
      "0.7175\n"
     ]
    },
    {
     "name": "stderr",
     "output_type": "stream",
     "text": [
      "  8%|▊         | 75/1000 [03:02<35:54,  2.33s/it]"
     ]
    },
    {
     "name": "stdout",
     "output_type": "stream",
     "text": [
      "Decoded tokens: ['$', 'Q', '^', '*', '_{', 'i', '}', '$']\n",
      "Decoded tokens: ['$', ' Q', '^', ' *', ' _', 'i', ' $']\n",
      "0.9255\n"
     ]
    },
    {
     "name": "stderr",
     "output_type": "stream",
     "text": [
      "  8%|▊         | 76/1000 [03:04<35:02,  2.28s/it]"
     ]
    },
    {
     "name": "stdout",
     "output_type": "stream",
     "text": [
      "Decoded tokens: ['$', ' \\\\', 'math', 'bf', '{', 'a', '}', '_{', ' \\\\', 'mu', '}', '$']\n",
      "Decoded tokens: ['$', ' \\\\', 'bold', 'sy', 'mbol', ' {', ' a', ' }', ' _', ' \\\\', 'mu', ' $']\n",
      "0.7939\n"
     ]
    },
    {
     "name": "stderr",
     "output_type": "stream",
     "text": [
      "  8%|▊         | 77/1000 [03:05<31:07,  2.02s/it]"
     ]
    },
    {
     "name": "stdout",
     "output_type": "stream",
     "text": [
      "Decoded tokens: ['$', ' \\\\', 'r', 'ho', '_{', 'xx', '}', ' $']\n",
      "Decoded tokens: ['$', ' \\\\', 'r', 'ho', '_', ' {', ' xx', ' }', ' $']\n",
      "0.8681\n"
     ]
    },
    {
     "name": "stderr",
     "output_type": "stream",
     "text": [
      "  8%|▊         | 78/1000 [03:08<32:38,  2.12s/it]"
     ]
    },
    {
     "name": "stdout",
     "output_type": "stream",
     "text": [
      "Decoded tokens: [' \\\\', '[', ' \\\\', 't', 'ilde', '{', ' \\\\', 'Ps', 'i', '}', '_{', '2', '}', '^{', '++', '}', '(', ' \\\\', 'lambda', ')', ' \\\\', ']']\n",
      "Decoded tokens: ['$', ' \\\\', 't', 'ilde', ' {', ' \\\\', 'ps', 'i', ' }', ' _', '2', '^', ' {', ' +', ' ,', ' +', ' }', ' (', ' \\\\', 'lambda', ' )', ' $']\n",
      "0.7227\n"
     ]
    },
    {
     "name": "stderr",
     "output_type": "stream",
     "text": [
      "  8%|▊         | 79/1000 [03:10<31:45,  2.07s/it]"
     ]
    },
    {
     "name": "stdout",
     "output_type": "stream",
     "text": [
      "Decoded tokens: ['$', '-', 'L', '^', 'n', '_', 'z', ' -', ' v', 'k', '$']\n",
      "Decoded tokens: ['$', ' -', 'L', '^', 'n', '_', 'z', ' (', ' -', ' \\\\', 'v', ' k', ' )', ' $']\n",
      "0.902\n"
     ]
    },
    {
     "name": "stderr",
     "output_type": "stream",
     "text": [
      "  8%|▊         | 80/1000 [03:11<29:44,  1.94s/it]"
     ]
    },
    {
     "name": "stdout",
     "output_type": "stream",
     "text": [
      "Decoded tokens: ['$', ' \\\\', 'math', 'f', 'rak', '{', 'g', '}', '_', 'X', '$']\n",
      "Decoded tokens: ['$', ' \\\\', 'math', 'f', 'rak', ' g', '_', 'X', ' $']\n",
      "0.8776\n"
     ]
    },
    {
     "name": "stderr",
     "output_type": "stream",
     "text": [
      "  8%|▊         | 81/1000 [03:13<27:51,  1.82s/it]"
     ]
    },
    {
     "name": "stdout",
     "output_type": "stream",
     "text": [
      "Decoded tokens: ['$', ' \\\\', 'math', 'bf', '{', 'd', '}', '_{', 'gt', '}', '$']\n",
      "Decoded tokens: ['$', ' \\\\', 'math', 'bf', ' {', ' d', ' }', ' _', ' {', ' g', 't', ' }', ' $']\n",
      "0.8838\n"
     ]
    },
    {
     "name": "stderr",
     "output_type": "stream",
     "text": [
      "  8%|▊         | 82/1000 [03:16<36:27,  2.38s/it]"
     ]
    },
    {
     "name": "stdout",
     "output_type": "stream",
     "text": [
      "Decoded tokens: [' \\\\', '[', '\\n', ' \\\\', 'begin', '{', 'pm', 'at', 'rix', '}', '\\n', 'b', '_', '1', ' &', ' b', '_', '2', ' \\\\', ' \\\\', '\\n', 'b', '_', '2', ' &', ' ', '\\n', ' \\\\', 'end', '{', 'pm', 'at', 'rix', '}', '\\n', ' \\\\', ']']\n",
      "Decoded tokens: ['$', ' \\\\', 'begin', ' {', ' b', 'mat', 'rix', ' }', ' b', '_', '1', ' &', ' &', ' \\\\', ' \\\\', ' &', ' b', '_', '2', ' &', ' \\\\', ' \\\\', ' &', ' &', ' b', '_', '2', ' \\\\', 'end', ' {', ' b', 'mat', 'rix', ' }', ' $']\n",
      "0.78\n"
     ]
    },
    {
     "name": "stderr",
     "output_type": "stream",
     "text": [
      "  8%|▊         | 83/1000 [03:19<37:53,  2.48s/it]"
     ]
    },
    {
     "name": "stdout",
     "output_type": "stream",
     "text": [
      "Decoded tokens: ['$', ' \\\\', 't', 'ilde', '{', 'k', '}', '_{', 'cc', '}', '$']\n",
      "Decoded tokens: ['$', ' \\\\', 'wid', 'et', 'ilde', ' {', ' \\\\', 'bold', 'sy', 'mbol', ' {', ' k', ' }', ' }', ' _', ' {', ' \\\\', 'math', 'rm', ' {', ' cc', ' }', ' }', ' $']\n",
      "0.7731\n"
     ]
    },
    {
     "name": "stderr",
     "output_type": "stream",
     "text": [
      "  8%|▊         | 84/1000 [03:21<33:59,  2.23s/it]"
     ]
    },
    {
     "name": "stdout",
     "output_type": "stream",
     "text": [
      "Decoded tokens: ['$', ' \\\\', 'lambda', ' =', ' 0', '.', '001', '$']\n",
      "Decoded tokens: ['$', ' \\\\', 'lambda', '=', '0', '.', '001', ' $']\n",
      "0.9807\n"
     ]
    },
    {
     "name": "stderr",
     "output_type": "stream",
     "text": [
      "  8%|▊         | 85/1000 [03:24<37:35,  2.47s/it]"
     ]
    },
    {
     "name": "stdout",
     "output_type": "stream",
     "text": [
      "Decoded tokens: ['$', 'E', '_{', 'R', '_', '2', '}', ' \\\\', 'cd', 'ot', ' R', ' =', ' 0', '$']\n",
      "Decoded tokens: ['$', ' E', '_', ' {', ' R', '_', '2', ' }', ' \\\\', 'cd', 'ot', ' R', '=', '0', ' $']\n",
      "0.793\n"
     ]
    },
    {
     "name": "stderr",
     "output_type": "stream",
     "text": [
      "  9%|▊         | 86/1000 [03:27<38:43,  2.54s/it]"
     ]
    },
    {
     "name": "stdout",
     "output_type": "stream",
     "text": [
      "Decoded tokens: ['$', ' \\\\', 'math', 'bf', '{', 'L', '}', '^', '2', '(', ' \\\\', 'O', 'mega', ')', '$']\n",
      "Decoded tokens: ['$', ' \\\\', 'bold', 'sy', 'mbol', ' {', ' L', ' }', ' ^', '2', ' (', ' \\\\', 'O', 'mega', ' )', ' $']\n",
      "0.7553\n"
     ]
    },
    {
     "name": "stderr",
     "output_type": "stream",
     "text": [
      "  9%|▊         | 87/1000 [03:30<43:10,  2.84s/it]"
     ]
    },
    {
     "name": "stdout",
     "output_type": "stream",
     "text": [
      "Decoded tokens: [' \\\\(', ' \\\\', 'over', 'line', '{', 'J', '_{', '0', 'j', '}', ' J', '_{', 'k', '0', '}}', ' =', ' 0', ' \\\\', ')']\n",
      "Decoded tokens: ['$', ' \\\\', 'over', 'line', ' {', ' J', '_', ' {', ' 0', ' j', ' }', ' J', '_', ' {', ' k', ' 0', ' }', ' }', ' =', '0', ' $']\n",
      "0.8141\n"
     ]
    },
    {
     "name": "stderr",
     "output_type": "stream",
     "text": [
      "  9%|▉         | 88/1000 [03:33<41:50,  2.75s/it]"
     ]
    },
    {
     "name": "stdout",
     "output_type": "stream",
     "text": [
      "Decoded tokens: ['$', 'V', '_{', ' \\\\', 'bar', '{', ' \\\\', 'math', 'cal', '{', 'I', '}}}', '$']\n",
      "Decoded tokens: ['$', ' V', '_', ' {', ' \\\\', 'bar', ' {', ' I', ' }', ' }', ' $']\n",
      "0.7922\n"
     ]
    },
    {
     "name": "stderr",
     "output_type": "stream",
     "text": [
      "  9%|▉         | 89/1000 [03:34<37:10,  2.45s/it]"
     ]
    },
    {
     "name": "stdout",
     "output_type": "stream",
     "text": [
      "Decoded tokens: ['$', 'b', ' =', ' b', ' m', '_{', '2', 'n', '}', '$']\n",
      "Decoded tokens: ['$', ' b', '=', ' \\\\', 'bm', ' {', ' 0', ' }', ' _', ' {', ' 2', 'n', ' }', ' $']\n",
      "0.811\n"
     ]
    },
    {
     "name": "stderr",
     "output_type": "stream",
     "text": [
      "  9%|▉         | 90/1000 [03:36<31:34,  2.08s/it]"
     ]
    },
    {
     "name": "stdout",
     "output_type": "stream",
     "text": [
      "Decoded tokens: [' \\\\', '($', ' 150', ' \\\\', ')']\n",
      "Decoded tokens: ['$', ' ^', ' \\\\', 'text', 'rm', ' {', ' \\\\', 'script', 'size', ' 150', ' }', ' $']\n",
      "0.7366\n"
     ]
    },
    {
     "name": "stderr",
     "output_type": "stream",
     "text": [
      "  9%|▉         | 91/1000 [03:39<35:35,  2.35s/it]"
     ]
    },
    {
     "name": "stdout",
     "output_type": "stream",
     "text": [
      "Decoded tokens: ['$', ' \\\\', 'pi', ' \\\\', 'bold', 'sy', 'mbol', '{', ' \\\\', 'alpha', '}', '_{', '1', '}', ' $']\n",
      "Decoded tokens: ['$', ' \\\\', 'Pi', '^', ' \\\\', 'bf', 'alpha', '_', '1', ' $']\n",
      "0.8012\n"
     ]
    },
    {
     "name": "stderr",
     "output_type": "stream",
     "text": [
      "  9%|▉         | 92/1000 [03:40<33:04,  2.19s/it]"
     ]
    },
    {
     "name": "stdout",
     "output_type": "stream",
     "text": [
      "Decoded tokens: ['$', 'b', '_', '1', ',', ' d', ' +', ' 1', ' =', ' 0', '$']\n",
      "Decoded tokens: ['$', ' b', '_', ' {', ' 1', ' ,', ' d', '+', '1', ' }', ' =', ' 0', ' $']\n",
      "0.8285\n"
     ]
    },
    {
     "name": "stderr",
     "output_type": "stream",
     "text": [
      "  9%|▉         | 93/1000 [03:42<32:04,  2.12s/it]"
     ]
    },
    {
     "name": "stdout",
     "output_type": "stream",
     "text": [
      "Decoded tokens: ['$', ' \\\\', 'math', 'cal', '{', 'C', '}', ' \\\\', 'alpha', '$']\n",
      "Decoded tokens: ['$', ' C', '_', ' \\\\', 'alpha', ' $']\n",
      "0.7473\n"
     ]
    },
    {
     "name": "stderr",
     "output_type": "stream",
     "text": [
      "  9%|▉         | 94/1000 [03:46<39:40,  2.63s/it]"
     ]
    },
    {
     "name": "stdout",
     "output_type": "stream",
     "text": [
      "Decoded tokens: [' \\\\', '[', '\\n', ' \\\\', 'gam', 'ma', ' \\\\', 'ge', 'q', ' 32', ' \\\\', 'ome', 'ga', ' +', ' 10', ' \\\\', 'd', 'elta', ' +', ' 400', ' \\\\', 'v', 'are', 'ps', 'ilon', '\\n', ' \\\\', ']']\n",
      "Decoded tokens: ['$', ' \\\\', 'gam', 'ma', ' \\\\', 'ge', 'q', ' 32', ' \\\\', 'ome', 'ga', ' +', ' 10', ' \\\\', 'd', 'elta', ' +', '400', ' \\\\', 'v', 'are', 'ps', 'ilon', ' $']\n",
      "0.7022\n"
     ]
    },
    {
     "name": "stderr",
     "output_type": "stream",
     "text": [
      " 10%|▉         | 95/1000 [03:49<40:13,  2.67s/it]"
     ]
    },
    {
     "name": "stdout",
     "output_type": "stream",
     "text": [
      "Decoded tokens: ['$', 'p', ' +', ' (', '1', ' -', ' p', ')', ' w', '_', 'B', ',', ' p', '$']\n",
      "Decoded tokens: ['$', ' p', ' +', ' (', ' 1', '-', 'p', ' )', ' w', '_', ' {', ' B', ' ,', ' p', ' }', ' $']\n",
      "0.9028\n"
     ]
    },
    {
     "name": "stderr",
     "output_type": "stream",
     "text": [
      " 10%|▉         | 96/1000 [03:51<38:08,  2.53s/it]"
     ]
    },
    {
     "name": "stdout",
     "output_type": "stream",
     "text": [
      "Decoded tokens: ['$', ' \\\\', 'alpha', ' s', '^', '3', ' $']\n",
      "Decoded tokens: ['$', ' \\\\', 'alpha', '_', 's', '^', '3', ' $']\n",
      "0.8512\n"
     ]
    },
    {
     "name": "stderr",
     "output_type": "stream",
     "text": [
      " 10%|▉         | 97/1000 [03:53<37:27,  2.49s/it]"
     ]
    },
    {
     "name": "stdout",
     "output_type": "stream",
     "text": [
      "Decoded tokens: ['$', ' \\\\', 'math', 'cal', '{', 'T', '}', '_{', 'm', '-', '1', '}', '$']\n",
      "Decoded tokens: ['$', ' T', '_', ' {', ' m', '-', '1', ' }', ' $']\n",
      "0.7462\n"
     ]
    },
    {
     "name": "stderr",
     "output_type": "stream",
     "text": [
      " 10%|▉         | 98/1000 [03:55<32:39,  2.17s/it]"
     ]
    },
    {
     "name": "stdout",
     "output_type": "stream",
     "text": [
      "Decoded tokens: ['$', ' \\\\', 'math', 'cal', '{', 'T', '}', '_', 'S', '$']\n",
      "Decoded tokens: ['$', ' T', '_', ' {', ' S', ' }', ' $']\n",
      "0.7348\n"
     ]
    },
    {
     "name": "stderr",
     "output_type": "stream",
     "text": [
      " 10%|▉         | 99/1000 [03:56<28:49,  1.92s/it]"
     ]
    },
    {
     "name": "stdout",
     "output_type": "stream",
     "text": [
      "Decoded tokens: ['$', ' \\\\', 'math', 'bb', '{', 'P', '}', '_', 'g', '$']\n",
      "Decoded tokens: ['$', ' P', '_', ' {', ' g', ' }', ' $']\n",
      "0.7355\n"
     ]
    },
    {
     "name": "stderr",
     "output_type": "stream",
     "text": [
      " 10%|█         | 100/1000 [03:58<26:36,  1.77s/it]"
     ]
    },
    {
     "name": "stdout",
     "output_type": "stream",
     "text": [
      "Decoded tokens: ['$', 'C', '_{', ' \\\\', 'math', 'rm', '{', 'in', '}}', '$']\n",
      "Decoded tokens: ['$', ' C', '_', ' {', ' in', ' }', ' $']\n",
      "0.8065\n"
     ]
    },
    {
     "name": "stderr",
     "output_type": "stream",
     "text": [
      " 10%|█         | 101/1000 [03:59<23:40,  1.58s/it]"
     ]
    },
    {
     "name": "stdout",
     "output_type": "stream",
     "text": [
      "Decoded tokens: ['$', ' \\\\', 'ome', 'ga', '_', 'r', '$']\n",
      "Decoded tokens: ['$', ' \\\\', 'ome', 'ga', '_', 'r', ' $']\n",
      "0.9941\n"
     ]
    },
    {
     "name": "stderr",
     "output_type": "stream",
     "text": [
      " 10%|█         | 102/1000 [04:00<23:54,  1.60s/it]"
     ]
    },
    {
     "name": "stdout",
     "output_type": "stream",
     "text": [
      "Decoded tokens: ['$', ' \\\\', 'hat', '{', 'V', '}', '_', 'i', '$']\n",
      "Decoded tokens: ['$', ' \\\\', 'hat', ' V', '_', 'i', ' $']\n",
      "0.8442\n"
     ]
    },
    {
     "name": "stderr",
     "output_type": "stream",
     "text": [
      " 10%|█         | 103/1000 [04:02<23:08,  1.55s/it]"
     ]
    },
    {
     "name": "stdout",
     "output_type": "stream",
     "text": [
      "Decoded tokens: [' \\\\', '[', '\\n', 'r', '^{', '-', '1', '}', '\\n', ' \\\\', ']']\n",
      "Decoded tokens: ['$', ' r', '^', ' {', ' -', '1', ' }', ' $']\n",
      "0.7243\n"
     ]
    },
    {
     "name": "stderr",
     "output_type": "stream",
     "text": [
      " 10%|█         | 104/1000 [04:03<21:42,  1.45s/it]"
     ]
    },
    {
     "name": "stdout",
     "output_type": "stream",
     "text": [
      "Decoded tokens: ['$', ' \\\\', 'r', 'ho', ',', ' \\\\', 'd', 'elta', '$']\n",
      "Decoded tokens: ['$', ' \\\\', 'bold', 'sy', 'mbol', ' {', ' \\\\', 'd', 'elta', ' }', ' $']\n",
      "0.7453\n"
     ]
    },
    {
     "name": "stderr",
     "output_type": "stream",
     "text": [
      " 10%|█         | 105/1000 [04:04<21:06,  1.42s/it]"
     ]
    },
    {
     "name": "stdout",
     "output_type": "stream",
     "text": [
      "Decoded tokens: ['$', '1', ' \\\\', 'le', 'q', ' 2', ' |', 'n', '|', ' <', ' 2', '$']\n",
      "Decoded tokens: ['$', ' 1', ' \\\\', 'le', 'q', '2', '|', 'n', '|', ' <', ' 2', ' $']\n",
      "0.9821\n"
     ]
    },
    {
     "name": "stderr",
     "output_type": "stream",
     "text": [
      " 11%|█         | 106/1000 [04:06<23:28,  1.58s/it]"
     ]
    },
    {
     "name": "stdout",
     "output_type": "stream",
     "text": [
      "Decoded tokens: ['$', 'C', '_{', ' \\\\', 'bul', 'let', '}', ' (-', 'x', ' -', ' 2', 'd', ',', ' 1', '^', 'd', ')', '$']\n",
      "Decoded tokens: ['$', ' C', '_', ' {', ' \\\\', 'bul', 'let', ' }', ' (', ' -', 'x', '-', '2', 'd', ',', '1', '^', 'd', ' )', ' $']\n",
      "0.7919\n"
     ]
    },
    {
     "name": "stderr",
     "output_type": "stream",
     "text": [
      " 11%|█         | 107/1000 [04:08<24:39,  1.66s/it]"
     ]
    },
    {
     "name": "stdout",
     "output_type": "stream",
     "text": [
      "Decoded tokens: ['$', 'Q', '_{', ' \\\\', 'text', '{', 'ext', '}}', '(', ' \\\\', 'gam', 'ma', ',', ' t', ')', '$']\n",
      "Decoded tokens: ['$', ' Q', '_', ' {', ' \\\\', 'rm', ' ext', ' }', ' (', ' \\\\', 'gam', 'ma', ' ,', ' t', ' )', ' $']\n",
      "0.9053\n"
     ]
    },
    {
     "name": "stderr",
     "output_type": "stream",
     "text": [
      " 11%|█         | 108/1000 [04:10<23:36,  1.59s/it]"
     ]
    },
    {
     "name": "stdout",
     "output_type": "stream",
     "text": [
      "Decoded tokens: [' \\\\', '[', ' \\\\', 'h', 'skip', ' 11', '.', '0', 'pt', ' \\\\', ']']\n",
      "Decoded tokens: ['$', ' ^', ' \\\\', 'text', 'rm', ' {', ' \\\\', 'script', 'size', ' 111', ' }', ' $']\n",
      "0.7597\n"
     ]
    },
    {
     "name": "stderr",
     "output_type": "stream",
     "text": [
      " 11%|█         | 109/1000 [04:11<23:20,  1.57s/it]"
     ]
    },
    {
     "name": "stdout",
     "output_type": "stream",
     "text": [
      "Decoded tokens: ['$', ' \\\\', 'math', 'cal', '{', 'K', '}', '_', '1', ' >', ' 1', '$']\n",
      "Decoded tokens: ['$', ' K', '_', '1', ' >', ' 1', ' $']\n",
      "0.7396\n"
     ]
    },
    {
     "name": "stderr",
     "output_type": "stream",
     "text": [
      " 11%|█         | 110/1000 [04:13<24:32,  1.65s/it]"
     ]
    },
    {
     "name": "stdout",
     "output_type": "stream",
     "text": [
      "Decoded tokens: [' \\\\', '[', ' \\\\', 'beta', ' =', ' 1', ' \\\\', ']']\n",
      "Decoded tokens: ['$', ' \\\\', 'beta', ' =', ' 1', ' $']\n",
      "0.7557\n"
     ]
    },
    {
     "name": "stderr",
     "output_type": "stream",
     "text": [
      " 11%|█         | 111/1000 [04:15<23:59,  1.62s/it]"
     ]
    },
    {
     "name": "stdout",
     "output_type": "stream",
     "text": [
      "Decoded tokens: ['$', 'K', '(', ' \\\\', 'pi', '_', '1', '(', 'E', '),', ' 1', ')', '$']\n",
      "Decoded tokens: ['$', ' K', ' (', ' \\\\', 'pi', '_', '1', ' (', ' E', ' )', ' ,', '1', ' )', ' $']\n",
      "0.9255\n"
     ]
    },
    {
     "name": "stderr",
     "output_type": "stream",
     "text": [
      " 11%|█         | 112/1000 [04:16<21:45,  1.47s/it]"
     ]
    },
    {
     "name": "stdout",
     "output_type": "stream",
     "text": [
      "Decoded tokens: ['$', 'x', ' \\\\', 'le', 'q', ' y', '$']\n",
      "Decoded tokens: ['$', ' x', ' \\\\', 'le', 'q', ' y', ' $']\n",
      "0.9847\n"
     ]
    },
    {
     "name": "stderr",
     "output_type": "stream",
     "text": [
      " 11%|█▏        | 113/1000 [04:18<24:45,  1.67s/it]"
     ]
    },
    {
     "name": "stdout",
     "output_type": "stream",
     "text": [
      "Decoded tokens: ['$', 'n', ' \\\\', 'in', ' \\\\', 'Delta', '^', ' \\\\', 've', 'e', '_{', ' \\\\', 'math', 'f', 'rak', '{', 'h', '}}', '$']\n",
      "Decoded tokens: ['$', ' n', ' \\\\', 'in', ' \\\\', 'Delta', '^', ' \\\\', 've', 'e', '_', 'h', ' $']\n",
      "0.932\n"
     ]
    },
    {
     "name": "stderr",
     "output_type": "stream",
     "text": [
      " 11%|█▏        | 114/1000 [04:19<24:06,  1.63s/it]"
     ]
    },
    {
     "name": "stdout",
     "output_type": "stream",
     "text": [
      "Decoded tokens: ['$', ' \\\\', 'math', 'bf', '{', 'y', '}', '^', 'j', '$']\n",
      "Decoded tokens: ['$', ' \\\\', 'bm', ' {', ' y', ' }', ' ^', 'j', ' $']\n",
      "0.7747\n"
     ]
    },
    {
     "name": "stderr",
     "output_type": "stream",
     "text": [
      " 12%|█▏        | 115/1000 [04:22<28:10,  1.91s/it]"
     ]
    },
    {
     "name": "stdout",
     "output_type": "stream",
     "text": [
      "Decoded tokens: ['$', ' \\\\', 'math', 'cal', '{', 'A', '}', '_', '1', ',', ' \\\\', 'math', 'cal', '{', 'A', '}', '_', '2', '$']\n",
      "Decoded tokens: ['$', ' A', '_', '1', ' ,', ' A', '_', '2', ' $']\n",
      "0.7909\n"
     ]
    },
    {
     "name": "stderr",
     "output_type": "stream",
     "text": [
      " 12%|█▏        | 116/1000 [04:23<25:08,  1.71s/it]"
     ]
    },
    {
     "name": "stdout",
     "output_type": "stream",
     "text": [
      "Decoded tokens: [' \\\\(', ' \\\\', 'display', 'style', ' \\\\', 'ep', 'sil', 'on', ' \\\\', ')']\n",
      "Decoded tokens: ['$', ' \\\\', 'ep', 'sil', 'on', ' $']\n",
      "0.7611\n"
     ]
    },
    {
     "name": "stderr",
     "output_type": "stream",
     "text": [
      " 12%|█▏        | 117/1000 [04:25<24:49,  1.69s/it]"
     ]
    },
    {
     "name": "stdout",
     "output_type": "stream",
     "text": [
      "Decoded tokens: ['$', 'j', ' \\\\', 'ne', 'q', ' i', '^', '*,', ' k', '^', '*', '$']\n",
      "Decoded tokens: ['$', ' j', ' \\\\', 'ne', 'q', ' i', '^', ' {', ' \\\\', 'star', ' }', ' ,', ' k', '^', ' {', ' \\\\', 'star', ' }', ' $']\n",
      "0.8783\n"
     ]
    },
    {
     "name": "stderr",
     "output_type": "stream",
     "text": [
      " 12%|█▏        | 118/1000 [04:28<30:27,  2.07s/it]"
     ]
    },
    {
     "name": "stdout",
     "output_type": "stream",
     "text": [
      "Decoded tokens: ['$', ' \\\\', 'math', 'rm', '{', 'Circ', '}', '(', 'x', '_', '1', ',', ' x', '_', '2', ',', ' \\\\', 'ld', 'ots', ',', ' x', '_', 'n', ')', '$']\n",
      "Decoded tokens: ['$', ' Circ', ' (', ' x', '_', '1', ' ,', ' x', '_', '2', ' ,', ' \\\\', 'ld', 'ots', ' ,', ' x', '_', ' {', ' n', ' }', ' )', ' $']\n",
      "0.7306\n"
     ]
    },
    {
     "name": "stderr",
     "output_type": "stream",
     "text": [
      " 12%|█▏        | 119/1000 [04:30<33:01,  2.25s/it]"
     ]
    },
    {
     "name": "stdout",
     "output_type": "stream",
     "text": [
      "Decoded tokens: [' \\\\', '[', '\\n', 'a', ' t', '_{', 'Z', \"'\", '}', '(', 'e', '_{', '0', '}', ')(', 'i', '_{', '2', '})', '\\n', ' \\\\', ']']\n",
      "Decoded tokens: ['$', ' att', '_', ' {', ' Z', '^', ' \\\\', 'prime', ' }', ' (', ' e', '_', '0', ' )', ' (', ' i', '_', '2', ' )', ' $']\n",
      "0.815\n"
     ]
    },
    {
     "name": "stderr",
     "output_type": "stream",
     "text": [
      " 12%|█▏        | 120/1000 [04:32<28:55,  1.97s/it]"
     ]
    },
    {
     "name": "stdout",
     "output_type": "stream",
     "text": [
      "Decoded tokens: ['$', ' \\\\', 'k', 'appa', '_{', '1', '},', ' $']\n",
      "Decoded tokens: ['$', ' \\\\', 'k', 'appa', '_', '1', ' $']\n",
      "0.9354\n"
     ]
    },
    {
     "name": "stderr",
     "output_type": "stream",
     "text": [
      " 12%|█▏        | 121/1000 [04:33<26:04,  1.78s/it]"
     ]
    },
    {
     "name": "stdout",
     "output_type": "stream",
     "text": [
      "Decoded tokens: ['$', 'a', '_', 'n', ' =', ' K', ' n', '$']\n",
      "Decoded tokens: ['$', ' a', '_', 'n', ' =', ' Kn', ' $']\n",
      "0.9181\n"
     ]
    },
    {
     "name": "stderr",
     "output_type": "stream",
     "text": [
      " 12%|█▏        | 122/1000 [04:34<23:37,  1.61s/it]"
     ]
    },
    {
     "name": "stdout",
     "output_type": "stream",
     "text": [
      "Decoded tokens: ['$', 'b', '(', ' \\\\', 'gam', 'ma', ')', '$']\n",
      "Decoded tokens: ['$', ' b', ' (', ' \\\\', 'gam', 'ma', ' )', ' $']\n",
      "0.9659\n"
     ]
    },
    {
     "name": "stderr",
     "output_type": "stream",
     "text": [
      " 12%|█▏        | 123/1000 [04:36<21:54,  1.50s/it]"
     ]
    },
    {
     "name": "stdout",
     "output_type": "stream",
     "text": [
      "Decoded tokens: ['$', ' \\\\', 'math', 'sf', '{', 'A', '}', '$']\n",
      "Decoded tokens: ['$', ' \\\\', 'math', 'bb', ' {', ' A', ' }', ' ^', '1', ' $']\n",
      "0.9334\n"
     ]
    },
    {
     "name": "stderr",
     "output_type": "stream",
     "text": [
      " 12%|█▏        | 124/1000 [04:37<22:05,  1.51s/it]"
     ]
    },
    {
     "name": "stdout",
     "output_type": "stream",
     "text": [
      "Decoded tokens: ['$', ' \\\\', 'math', 'cal', '{', 'L', '}', ' H', '_{', ' \\\\', 'alpha', '}', '$']\n",
      "Decoded tokens: ['$', ' L', ' (', ' H', ' \\\\', 'alpha', ' )', ' $']\n",
      "0.7283\n"
     ]
    },
    {
     "name": "stderr",
     "output_type": "stream",
     "text": [
      " 12%|█▎        | 125/1000 [04:40<26:09,  1.79s/it]"
     ]
    },
    {
     "name": "stdout",
     "output_type": "stream",
     "text": [
      "Decoded tokens: ['$', 'q', '(', ' \\\\', 'cd', 'ot', ',', ' t', ')', ' :', ' \\\\', 'math', 'bb', '{', 'R', '}', ' \\\\', 'right', 'arrow', ' \\\\', 'math', 'bb', '{', 'R', '}', '$']\n",
      "Decoded tokens: ['$', ' q', ' (', ' \\\\', 'cd', 'ot', ' ,', ' t', ' )', ' :', ' \\\\', 'R', ' \\\\', 'right', 'arrow', ' \\\\', 'R', ' $']\n",
      "0.8708\n"
     ]
    },
    {
     "name": "stderr",
     "output_type": "stream",
     "text": [
      " 13%|█▎        | 126/1000 [04:41<26:04,  1.79s/it]"
     ]
    },
    {
     "name": "stdout",
     "output_type": "stream",
     "text": [
      "Decoded tokens: ['$', 'f', '_', '1', ',', ' \\\\', 'ld', 'ots', ',', ' f', '_', 'r', '$']\n",
      "Decoded tokens: ['$', ' f', '_', '1', ' ,', ' \\\\', 'ld', 'ots', ' ,', ' f', '_', 'r', ' $']\n",
      "0.9661\n"
     ]
    },
    {
     "name": "stderr",
     "output_type": "stream",
     "text": [
      " 13%|█▎        | 127/1000 [04:43<23:40,  1.63s/it]"
     ]
    },
    {
     "name": "stdout",
     "output_type": "stream",
     "text": [
      "Decoded tokens: ['$', ' \\\\', 'frac', '{', '4', '}{', '3', '}', '$']\n",
      "Decoded tokens: ['$', ' \\\\', 'frac', ' {', ' 4', ' }', ' {', ' 3', ' }', ' $']\n",
      "0.8852\n"
     ]
    },
    {
     "name": "stderr",
     "output_type": "stream",
     "text": [
      " 13%|█▎        | 128/1000 [04:44<22:59,  1.58s/it]"
     ]
    },
    {
     "name": "stdout",
     "output_type": "stream",
     "text": [
      "Decoded tokens: ['$', 'V', '(', ' \\\\', 'pi', '_', 'e', ')', '$']\n",
      "Decoded tokens: ['$', ' V', ' (', ' \\\\', 'pi', '_', 'e', ' )', ' $']\n",
      "0.9746\n"
     ]
    },
    {
     "name": "stderr",
     "output_type": "stream",
     "text": [
      " 13%|█▎        | 129/1000 [04:45<22:19,  1.54s/it]"
     ]
    },
    {
     "name": "stdout",
     "output_type": "stream",
     "text": [
      "Decoded tokens: [' \\\\', '[', ' \\\\', 'display', 'style', ' s', ' \\\\', 'ge', 'q', ' 0', ' \\\\', ']']\n",
      "Decoded tokens: ['$', ' s', ' \\\\', 'ge', 'q', ' 0', ' $']\n",
      "0.7815\n"
     ]
    },
    {
     "name": "stderr",
     "output_type": "stream",
     "text": [
      " 13%|█▎        | 130/1000 [04:47<24:04,  1.66s/it]"
     ]
    },
    {
     "name": "stdout",
     "output_type": "stream",
     "text": [
      "Decoded tokens: ['$', 'i', ' \\\\', 'in', ' \\\\', 'math', 'bb', '{', 'Z', '}', '_', '4', '$']\n",
      "Decoded tokens: ['$', ' i', ' \\\\', 'in', ' \\\\', 'ZZ', '_', '4', ' $']\n",
      "0.867\n"
     ]
    },
    {
     "name": "stderr",
     "output_type": "stream",
     "text": [
      " 13%|█▎        | 131/1000 [04:49<23:24,  1.62s/it]"
     ]
    },
    {
     "name": "stdout",
     "output_type": "stream",
     "text": [
      "Decoded tokens: ['$', ' \\\\', 'Delta', '_{', 'i', '-', '1', '}', ' \\\\', 'empt', 'ys', 'et', ' $']\n",
      "Decoded tokens: ['$', ' \\\\', 'Delta', '_', ' {', ' i', ' -', ' 1', ' }', ' ^', ' {', ' \\\\', 'empt', 'ys', 'et', ' }', ' $']\n",
      "0.7909\n"
     ]
    },
    {
     "name": "stderr",
     "output_type": "stream",
     "text": [
      " 13%|█▎        | 132/1000 [04:51<23:55,  1.65s/it]"
     ]
    },
    {
     "name": "stdout",
     "output_type": "stream",
     "text": [
      "Decoded tokens: ['$', '1000', ' \\\\', 't', 'au', '_', '0', '$']\n",
      "Decoded tokens: ['$', ' 1000', ' \\\\', ' ,', ' \\\\', 't', 'au', '_', '0', ' $']\n",
      "0.8296\n"
     ]
    },
    {
     "name": "stderr",
     "output_type": "stream",
     "text": [
      " 13%|█▎        | 133/1000 [04:52<22:35,  1.56s/it]"
     ]
    },
    {
     "name": "stdout",
     "output_type": "stream",
     "text": [
      "Decoded tokens: ['$', ' \\\\', 'display', 'style', ' \\\\', 'alpha', '^', '2', '$']\n",
      "Decoded tokens: ['$', ' \\\\', 'alpha', '^', '2', ' $']\n",
      "0.7962\n"
     ]
    },
    {
     "name": "stderr",
     "output_type": "stream",
     "text": [
      " 13%|█▎        | 134/1000 [04:54<22:26,  1.56s/it]"
     ]
    },
    {
     "name": "stdout",
     "output_type": "stream",
     "text": [
      "Decoded tokens: ['$', ' \\\\', 'v', 'are', 'ps', 'ilon', ' \\\\', 'll', ' 1', '$']\n",
      "Decoded tokens: ['$', ' \\\\', 'ep', 'sil', 'on', ' \\\\', 'll', '1', ' $']\n",
      "0.7837\n"
     ]
    },
    {
     "name": "stderr",
     "output_type": "stream",
     "text": [
      " 14%|█▎        | 135/1000 [04:55<22:54,  1.59s/it]"
     ]
    },
    {
     "name": "stdout",
     "output_type": "stream",
     "text": [
      "Decoded tokens: ['$', ' \\\\', 'alpha', ' \\\\', 'in', ' \\\\', 'math', 'bb', '{', 'N', '}', '^', 'd', ' $']\n",
      "Decoded tokens: ['$', ' \\\\', 'alpha', ' \\\\', 'in', ' \\\\', 'N', '^', 'd', ' $']\n",
      "0.8841\n"
     ]
    },
    {
     "name": "stderr",
     "output_type": "stream",
     "text": [
      " 14%|█▎        | 136/1000 [04:57<21:38,  1.50s/it]"
     ]
    },
    {
     "name": "stdout",
     "output_type": "stream",
     "text": [
      "Decoded tokens: ['$', ' \\\\', 'S', 'igma', '_', 'u', ' $']\n",
      "Decoded tokens: ['$', ' \\\\', 'S', 'igma', '_', 'u', ' $']\n",
      "1.0\n"
     ]
    },
    {
     "name": "stderr",
     "output_type": "stream",
     "text": [
      " 14%|█▎        | 137/1000 [04:59<23:49,  1.66s/it]"
     ]
    },
    {
     "name": "stdout",
     "output_type": "stream",
     "text": [
      "Decoded tokens: [' \\\\(', ' \\\\', 'math', 'cal', '{', 'H', '}', '_{', ' \\\\', 'text', '{', 'non', '-', 'int', '}}', ' \\\\', ')']\n",
      "Decoded tokens: ['$', ' H', '_', ' \\\\', 'text', ' {', ' non', '-', 'int', ' }', ' $']\n",
      "0.7073\n"
     ]
    },
    {
     "name": "stderr",
     "output_type": "stream",
     "text": [
      " 14%|█▍        | 138/1000 [05:00<23:24,  1.63s/it]"
     ]
    },
    {
     "name": "stdout",
     "output_type": "stream",
     "text": [
      "Decoded tokens: ['$', ' \\\\', 'math', 'cal', '{', 'P', '}', '_{', 'n', ',', 'm', '}', '$']\n",
      "Decoded tokens: ['$', ' P', '_', ' {', ' nm', ' }', ' $']\n",
      "0.7398\n"
     ]
    },
    {
     "name": "stderr",
     "output_type": "stream",
     "text": [
      " 14%|█▍        | 139/1000 [05:02<24:32,  1.71s/it]"
     ]
    },
    {
     "name": "stdout",
     "output_type": "stream",
     "text": [
      "Decoded tokens: ['$', ' \\\\', 'math', 'cal', '{', 'L', '}', '_', 'a', '$']\n",
      "Decoded tokens: ['$', ' A', ' ,', ' B', ' ,', ' \\\\', 'math', 'cal', ' {', ' L', ' }', ' _', 'a', ' $']\n",
      "0.7311\n"
     ]
    },
    {
     "name": "stderr",
     "output_type": "stream",
     "text": [
      " 14%|█▍        | 140/1000 [05:04<24:31,  1.71s/it]"
     ]
    },
    {
     "name": "stdout",
     "output_type": "stream",
     "text": [
      "Decoded tokens: ['$', ' \\\\', 'math', 'cal', '{', 'A', '}', '_{', 't', '}', '$']\n",
      "Decoded tokens: ['$', ' {', ' \\\\', 'cal', ' A', ' }', ' _', 't', ' $']\n",
      "0.7904\n"
     ]
    },
    {
     "name": "stderr",
     "output_type": "stream",
     "text": [
      " 14%|█▍        | 141/1000 [05:05<22:55,  1.60s/it]"
     ]
    },
    {
     "name": "stdout",
     "output_type": "stream",
     "text": [
      "Decoded tokens: ['$', ' \\\\', 'beta', '_{', '2', 'j', '}', '$']\n",
      "Decoded tokens: ['$', ' \\\\', 'beta', '_', ' {', ' 2', 'j', ' }', ' $']\n",
      "0.847\n"
     ]
    },
    {
     "name": "stderr",
     "output_type": "stream",
     "text": [
      " 14%|█▍        | 142/1000 [05:06<20:45,  1.45s/it]"
     ]
    },
    {
     "name": "stdout",
     "output_type": "stream",
     "text": [
      "Decoded tokens: ['$', ' \\\\', 'S', 'igma', ' \\\\', 'mu', '$']\n",
      "Decoded tokens: ['$', ' \\\\', 'S', 'igma', '_', ' {', ' \\\\', 'mu', ' }', ' $']\n",
      "0.8871\n"
     ]
    },
    {
     "name": "stderr",
     "output_type": "stream",
     "text": [
      " 14%|█▍        | 143/1000 [05:09<24:35,  1.72s/it]"
     ]
    },
    {
     "name": "stdout",
     "output_type": "stream",
     "text": [
      "Decoded tokens: ['$', 't', ' \\\\', 'ge', 'q', ' 1', '$']\n",
      "Decoded tokens: ['$', ' t', ' \\\\', 'ge', 'q', ' 1', ' $']\n",
      "0.976\n"
     ]
    },
    {
     "name": "stderr",
     "output_type": "stream",
     "text": [
      " 14%|█▍        | 144/1000 [05:13<34:41,  2.43s/it]"
     ]
    },
    {
     "name": "stdout",
     "output_type": "stream",
     "text": [
      "Decoded tokens: ['$', ' \\\\', 't', 'au', '_', 'l', '(', 'x', '_', '0', ')', '$']\n",
      "Decoded tokens: ['$', ' \\\\', 't', 'au', '_', 'l', ' (', ' x', '_', '0', ' )', ' $']\n",
      "0.9788\n"
     ]
    },
    {
     "name": "stderr",
     "output_type": "stream",
     "text": [
      " 14%|█▍        | 145/1000 [05:17<40:55,  2.87s/it]"
     ]
    },
    {
     "name": "stdout",
     "output_type": "stream",
     "text": [
      "Decoded tokens: ['$', ' \\\\', 'Ph', 'i', '^', ' \\\\', 'd', 'agger', ' (', 'u', '^', '*,', ' s', '^', '*)', '$']\n",
      "Decoded tokens: ['$', ' \\\\', 'phi', '_', ' \\\\', 'd', 'agger', ' (', ' u', '_', ' *', ' ,', ' s', '_', ' *', ' )', ' $']\n",
      "0.7985\n"
     ]
    },
    {
     "name": "stderr",
     "output_type": "stream",
     "text": [
      " 15%|█▍        | 146/1000 [05:20<42:35,  2.99s/it]"
     ]
    },
    {
     "name": "stdout",
     "output_type": "stream",
     "text": [
      "Decoded tokens: ['$', ' \\\\', 'd', 'elta', ' <', ' 1', '.', '25', '^{', ' \\\\', 'up', 'arrow', '}', '$']\n",
      "Decoded tokens: ['$', ' \\\\', 'd', 'elta', ' <', ' 1', '.', '25', ' \\\\', 'up', 'arrow', ' $']\n",
      "0.9072\n"
     ]
    },
    {
     "name": "stderr",
     "output_type": "stream",
     "text": [
      " 15%|█▍        | 147/1000 [05:24<45:55,  3.23s/it]"
     ]
    },
    {
     "name": "stdout",
     "output_type": "stream",
     "text": [
      "Decoded tokens: ['$', ' \\\\', 'math', 'cal', '{', 'O', '}', '_{', 'K', '}', '$']\n",
      "Decoded tokens: ['$', ' \\\\', 'math', 'cal', ' {', ' O', ' }', ' _', 'K', ' $']\n",
      "0.9441\n"
     ]
    },
    {
     "name": "stderr",
     "output_type": "stream",
     "text": [
      " 15%|█▍        | 148/1000 [05:26<42:10,  2.97s/it]"
     ]
    },
    {
     "name": "stdout",
     "output_type": "stream",
     "text": [
      "Decoded tokens: ['$', ' \\\\', 'math', 'cal', '{', 'T', '}', '_{', '0', ',', '0', '}', '$']\n",
      "Decoded tokens: ['$', ' T', '^', ' {', ' 00', ' }', ' $']\n",
      "0.7422\n"
     ]
    },
    {
     "name": "stderr",
     "output_type": "stream",
     "text": [
      " 15%|█▍        | 149/1000 [05:29<40:44,  2.87s/it]"
     ]
    },
    {
     "name": "stdout",
     "output_type": "stream",
     "text": [
      "Decoded tokens: ['$', 'p', ' :=', ' p', '_', '0', '$']\n",
      "Decoded tokens: ['$', ' \\\\', 'p', ' \\\\', 'col', 'one', 'qq', ' \\\\', 'p', '_', '0', ' $']\n",
      "0.7405\n"
     ]
    },
    {
     "name": "stderr",
     "output_type": "stream",
     "text": [
      " 15%|█▌        | 150/1000 [05:31<38:57,  2.75s/it]"
     ]
    },
    {
     "name": "stdout",
     "output_type": "stream",
     "text": [
      "Decoded tokens: ['$', ' \\\\', 's', 'igma', ' \\\\', 'in', ' \\\\', 'S', 'igma', '_', 'i', '$']\n",
      "Decoded tokens: ['$', ' \\\\', 's', 'igma', ' \\\\', 'in', ' \\\\', 'S', 'igma', '_', 'i', ' $']\n",
      "0.9967\n"
     ]
    },
    {
     "name": "stderr",
     "output_type": "stream",
     "text": [
      " 15%|█▌        | 151/1000 [05:33<35:29,  2.51s/it]"
     ]
    },
    {
     "name": "stdout",
     "output_type": "stream",
     "text": [
      "Decoded tokens: ['$', ' \\\\', 'neg', ' K', '_', '1', ' \\\\', 'cup', ' \\\\', 'neg', ' K', '_', '2', ' $']\n",
      "Decoded tokens: ['$', ' !', ' K', '_', '1', ' \\\\', 'cup', ' !', ' K', '_', '2', ' $']\n",
      "0.7515\n"
     ]
    },
    {
     "name": "stderr",
     "output_type": "stream",
     "text": [
      " 15%|█▌        | 152/1000 [05:34<30:53,  2.19s/it]"
     ]
    },
    {
     "name": "stdout",
     "output_type": "stream",
     "text": [
      "Decoded tokens: ['$', ' \\\\', 'math', 'cal', '{', 'U', '}', '_{', ' \\\\', 'phi', '}', '$']\n",
      "Decoded tokens: ['$', ' \\\\', 'sc', 'U', '_', ' \\\\', 'var', 'phi', ' $']\n",
      "0.8005\n"
     ]
    },
    {
     "name": "stderr",
     "output_type": "stream",
     "text": [
      " 15%|█▌        | 153/1000 [05:40<44:11,  3.13s/it]"
     ]
    },
    {
     "name": "stdout",
     "output_type": "stream",
     "text": [
      "Decoded tokens: ['$', ' \\\\', 'math', 'bf', '{', 'e', '}', '_{', '01', '}', '(', ' \\\\', 'bold', 'sy', 'mbol', '{', 'x', '}', '_{', '0', '},', ' t', '_{', '0', '})', '$']\n",
      "Decoded tokens: ['$', ' \\\\', 'math', 'bf', ' {', ' e', ' }', ' _', ' {', ' 01', ' }', ' (', ' \\\\', 'bold', 'sy', 'mbol', ' {', ' x', ' }', ' _', '0', ' ,', ' t', '_', '0', ' )', ' $']\n",
      "0.7971\n"
     ]
    },
    {
     "name": "stderr",
     "output_type": "stream",
     "text": [
      " 15%|█▌        | 154/1000 [05:41<37:47,  2.68s/it]"
     ]
    },
    {
     "name": "stdout",
     "output_type": "stream",
     "text": [
      "Decoded tokens: ['$', 'i', ' \\\\', 'text', '{', ' to', ' the', ' power', ' of', ' th', '}', '$']\n",
      "Decoded tokens: ['$', ' i', '^', ' {', ' th', ' }', ' $']\n",
      "0.7996\n"
     ]
    },
    {
     "name": "stderr",
     "output_type": "stream",
     "text": [
      " 16%|█▌        | 155/1000 [05:43<32:01,  2.27s/it]"
     ]
    },
    {
     "name": "stdout",
     "output_type": "stream",
     "text": [
      "Decoded tokens: [' \\\\(', ' \\\\', 'display', 'style', ' \\\\', 'ep', 'sil', 'on', ' \\\\', ')']\n",
      "Decoded tokens: ['$', ' \\\\', 'ep', 'sil', 'on', ' $']\n",
      "0.7611\n"
     ]
    },
    {
     "name": "stderr",
     "output_type": "stream",
     "text": [
      " 16%|█▌        | 156/1000 [05:45<33:11,  2.36s/it]"
     ]
    },
    {
     "name": "stdout",
     "output_type": "stream",
     "text": [
      "Decoded tokens: ['$', ' \\\\', 'gam', 'ma', '_', 'd', ' -', ' d', ' (', '2', ' \\\\', ',', ' \\\\', 'math', 'rm', '{', 'mm', '})', ' =', ' 0', '.', '2', ' $']\n",
      "Decoded tokens: ['$', ' \\\\', 'Gam', 'ma', '_', ' {', ' \\\\', 'text', ' {', ' d', '-', 'd', ' }', ' }', ' (', ' \\\\', 'text', ' {', ' 2', ' ppm', ' Er', ' }', ' )', ' =', ' 0', '.', '2', ' $']\n",
      "0.7907\n"
     ]
    },
    {
     "name": "stderr",
     "output_type": "stream",
     "text": [
      " 16%|█▌        | 157/1000 [05:47<29:41,  2.11s/it]"
     ]
    },
    {
     "name": "stdout",
     "output_type": "stream",
     "text": [
      "Decoded tokens: ['$', ' \\\\', 'math', 'bf', '{', 'C', '}', '_{', 'i', ',', 'j', '}', '$']\n",
      "Decoded tokens: ['$', ' C', '_', ' {', ' i', ' ,', ' j', ' }', ' $']\n",
      "0.7479\n"
     ]
    },
    {
     "name": "stderr",
     "output_type": "stream",
     "text": [
      " 16%|█▌        | 158/1000 [05:49<28:57,  2.06s/it]"
     ]
    },
    {
     "name": "stdout",
     "output_type": "stream",
     "text": [
      "Decoded tokens: ['$', 'W', ' \\\\', 'cap', ' e', '_', 'i', \"'\", ' =', ' \\\\', 'empt', 'ys', 'et', '$']\n",
      "Decoded tokens: ['$', ' W', ' \\\\', 'cap', ' \\\\', 'wide', 'hat', ' {', ' e', '_', 'i', ' }', \" '\", ' =', ' \\\\', 'empt', 'ys', 'et', ' $']\n",
      "0.7887\n"
     ]
    },
    {
     "name": "stderr",
     "output_type": "stream",
     "text": [
      " 16%|█▌        | 159/1000 [05:50<26:40,  1.90s/it]"
     ]
    },
    {
     "name": "stdout",
     "output_type": "stream",
     "text": [
      "Decoded tokens: ['$', ' \\\\', 'ep', 'sil', 'on', ' >', ' 0', ' $']\n",
      "Decoded tokens: ['$', ' \\\\', 'ep', 'sil', 'on', ' >', ' 0', ' $']\n",
      "1.0\n"
     ]
    },
    {
     "name": "stderr",
     "output_type": "stream",
     "text": [
      " 16%|█▌        | 160/1000 [05:52<24:41,  1.76s/it]"
     ]
    },
    {
     "name": "stdout",
     "output_type": "stream",
     "text": [
      "Decoded tokens: [' \\\\', '[', '\\n', ' \\\\', 'display', 'style', ' o', '_{', 'i', '+', '1', '}', '\\n', ' \\\\', ']']\n",
      "Decoded tokens: ['$', ' o', '_', ' {', ' i', '+', '1', ' }', ' $']\n",
      "0.7456\n"
     ]
    },
    {
     "name": "stderr",
     "output_type": "stream",
     "text": [
      " 16%|█▌        | 161/1000 [05:53<22:38,  1.62s/it]"
     ]
    },
    {
     "name": "stdout",
     "output_type": "stream",
     "text": [
      "Decoded tokens: ['$', 'A', '_{', 'ij', '}', '^', ' \\\\', 'top', '$']\n",
      "Decoded tokens: ['$', ' A', '_', ' {', ' i', 'j', ' }', ' ^', ' {', ' \\\\', 'math', 'rm', ' {', ' T', ' }', ' }', ' ,', ' A', '_', ' {', ' i', 'j', ' }', ' ^', ' {', ' \\\\', 'math', 'rm', ' {', ' TL', ' }', ' }', ' $']\n",
      "0.7946\n"
     ]
    },
    {
     "name": "stderr",
     "output_type": "stream",
     "text": [
      " 16%|█▌        | 162/1000 [05:54<21:10,  1.52s/it]"
     ]
    },
    {
     "name": "stdout",
     "output_type": "stream",
     "text": [
      "Decoded tokens: ['$', 'i', ' +', ' j', ' \\\\', 'le', 'q', ' 0', '$']\n",
      "Decoded tokens: ['$', ' i', '+', 'j', ' \\\\', 'le', 'q', ' 0', ' $']\n",
      "0.9718\n"
     ]
    },
    {
     "name": "stderr",
     "output_type": "stream",
     "text": [
      " 16%|█▋        | 163/1000 [05:56<21:14,  1.52s/it]"
     ]
    },
    {
     "name": "stdout",
     "output_type": "stream",
     "text": [
      "Decoded tokens: ['$', ' \\\\', 'r', 'ho', '_', 'w', ' =', ' 9', '98', '$']\n",
      "Decoded tokens: ['$', ' \\\\', 'r', 'ho', '_', 'w', ' =', ' 9', '98', ' $']\n",
      "0.996\n"
     ]
    },
    {
     "name": "stderr",
     "output_type": "stream",
     "text": [
      " 16%|█▋        | 164/1000 [05:58<22:01,  1.58s/it]"
     ]
    },
    {
     "name": "stdout",
     "output_type": "stream",
     "text": [
      "Decoded tokens: ['$', ' \\\\', 'd', 'elta', ' \\\\', 'in', ' \\\\', 'left', '(', '0', ',', ' \\\\', 'frac', '{', '1', '}{', '3', 'K', '}', ' \\\\', 'right', ')', '$']\n",
      "Decoded tokens: ['$', ' \\\\', 'd', 'elta', ' \\\\', 'in', ' \\\\', 'Big', ' (', ' 0', ' ,', ' \\\\', 'frac', ' {', ' 1', ' }', ' {', ' 3', 'K', ' }', ' \\\\', 'Big', ' ]', ' $']\n",
      "0.8901\n"
     ]
    },
    {
     "name": "stderr",
     "output_type": "stream",
     "text": [
      " 16%|█▋        | 165/1000 [06:01<27:56,  2.01s/it]"
     ]
    },
    {
     "name": "stdout",
     "output_type": "stream",
     "text": [
      "Decoded tokens: [' \\\\', '[', '\\n', ' \\\\', 'wid', 'et', 'ilde', '{', ' \\\\', 'math', 'bf', '{', 'u', '}}', ' =', ' \\\\', 'math', 'cal', '{', 'D', '}', '(', ' \\\\', 'math', 'bf', '{', 'c', '};', ' \\\\', 'phi', '_', 'D', ')', '\\n', ' \\\\', ']']\n",
      "Decoded tokens: ['$', ' \\\\', 'wid', 'et', 'ilde', ' {', ' \\\\', 'bm', ' {', ' u', ' }', ' }', ' =', ' \\\\', 'math', 'cal', ' {', ' D', ' }', ' (', ' \\\\', 'bm', ' {', ' c', ' }', ' ;', ' \\\\', 'bm', ' {', ' \\\\', 'phi', ' }', ' _', 'D', ' )', ' $']\n",
      "0.7355\n"
     ]
    },
    {
     "name": "stderr",
     "output_type": "stream",
     "text": [
      " 17%|█▋        | 166/1000 [06:04<34:43,  2.50s/it]"
     ]
    },
    {
     "name": "stdout",
     "output_type": "stream",
     "text": [
      "Decoded tokens: [' \\\\', '[', '\\n', ' \\\\', 'text', '{', 'av', 'g', '}', ' \\\\', ' |', ' \\\\', 'phi', '_', 'n', '(', '2', ')|', '^', '2', ' <', ' 1', ' -', ' \\\\', 'frac', '{', 'n', '}{', 'L', '}', '\\n', ' \\\\', ']']\n",
      "Decoded tokens: ['$', ' \\\\', 'av', 'g', ' {', ' \\\\', 'abs', ' {', ' \\\\', 'phi', '_', 'n', ' (', ' it', ' )', ' }', ' ^', '2', ' }', ' <', ' 1', '-', 'n', '/', 'L', ' $']\n",
      "0.7287\n"
     ]
    },
    {
     "name": "stderr",
     "output_type": "stream",
     "text": [
      " 17%|█▋        | 167/1000 [06:06<30:07,  2.17s/it]"
     ]
    },
    {
     "name": "stdout",
     "output_type": "stream",
     "text": [
      "Decoded tokens: ['$', ' \\\\', 'phi', '_', '0', '$']\n",
      "Decoded tokens: ['$', ' \\\\', 'var', 'phi', '_', '0', ' $']\n",
      "0.8231\n"
     ]
    },
    {
     "name": "stderr",
     "output_type": "stream",
     "text": [
      " 17%|█▋        | 168/1000 [06:10<40:32,  2.92s/it]"
     ]
    },
    {
     "name": "stdout",
     "output_type": "stream",
     "text": [
      "Decoded tokens: [' \\\\', '[', '\\n', ' \\\\', 'text', '{', 'Sp', 'oken', ' English', ':', '}', ' \\\\', 'quad', ' \\\\', 'Gam', 'ma', '_{', 'k', ',', 'k', '}', ' =', ' e', ' \\\\', 'cd', 'ot', ' k', '\\n', ' \\\\', ']']\n",
      "Decoded tokens: ['$', ' \\\\', 'gam', 'ma', '_', ' {', ' k', ' ,', ' k', ' }', ' =', 'ek', ' $']\n",
      "0.7102\n"
     ]
    },
    {
     "name": "stderr",
     "output_type": "stream",
     "text": [
      " 17%|█▋        | 169/1000 [06:12<37:07,  2.68s/it]"
     ]
    },
    {
     "name": "stdout",
     "output_type": "stream",
     "text": [
      "Decoded tokens: ['$', ' \\\\', 'math', 'cal', '{', 'M', '}', '_{', 'Ni', '}', '$']\n",
      "Decoded tokens: ['$', ' M', '_', ' \\\\', 'math', 'rm', ' {', ' Ni', ' }', ' $']\n",
      "0.7486\n"
     ]
    },
    {
     "name": "stderr",
     "output_type": "stream",
     "text": [
      " 17%|█▋        | 170/1000 [06:14<33:21,  2.41s/it]"
     ]
    },
    {
     "name": "stdout",
     "output_type": "stream",
     "text": [
      "Decoded tokens: ['$', ' \\\\', 'd', 'elta', '_', 'l', ' =', ' \\\\', 'frac', '{', 'L', '}{', '2', '}', ' $']\n",
      "Decoded tokens: ['$', ' \\\\', 'd', 'elta', '_', 'l', '=', 'L', '/', '2', ' $']\n",
      "0.8895\n"
     ]
    },
    {
     "name": "stderr",
     "output_type": "stream",
     "text": [
      " 17%|█▋        | 171/1000 [06:17<36:59,  2.68s/it]"
     ]
    },
    {
     "name": "stdout",
     "output_type": "stream",
     "text": [
      "Decoded tokens: ['$', 'r', '_', 'd', ' =', ' (', '142', '.', '6', ' \\\\', 'pm', ' 5', '.', '3', ')', '$']\n",
      "Decoded tokens: ['$', ' r', '_', 'd', '=', ' (', ' 142', '.', '6', ' \\\\', 'pm', '5', '.', '3', ' )', ' $']\n",
      "0.9766\n"
     ]
    },
    {
     "name": "stderr",
     "output_type": "stream",
     "text": [
      " 17%|█▋        | 172/1000 [06:22<45:04,  3.27s/it]"
     ]
    },
    {
     "name": "stdout",
     "output_type": "stream",
     "text": [
      "Decoded tokens: ['$', ' \\\\', 'ps', 'i', ':', ' \\\\', 'math', 'bb', '{', 'R', '}', '^', 'd', ' \\\\', 'to', ' \\\\', 'over', 'line', '{', ' \\\\', 'math', 'bb', '{', 'R', '}}', '$']\n",
      "Decoded tokens: ['$', ' \\\\', 'Ps', 'i', ' :', ' \\\\', 'R', '^', 'd', ' \\\\', 'to', ' \\\\', 'over', 'line', ' {', ' \\\\', 'R', ' }', ' $']\n",
      "0.8029\n"
     ]
    },
    {
     "name": "stderr",
     "output_type": "stream",
     "text": [
      " 17%|█▋        | 173/1000 [06:25<43:21,  3.15s/it]"
     ]
    },
    {
     "name": "stdout",
     "output_type": "stream",
     "text": [
      "Decoded tokens: ['$', ' \\\\', 'math', 'cal', '{', 'F', '}', '_{', ' \\\\', 'alpha', '}', '$']\n",
      "Decoded tokens: ['$', ' F', '_', ' \\\\', 'alpha', ' $']\n",
      "0.74\n"
     ]
    },
    {
     "name": "stderr",
     "output_type": "stream",
     "text": [
      " 17%|█▋        | 174/1000 [06:27<39:46,  2.89s/it]"
     ]
    },
    {
     "name": "stdout",
     "output_type": "stream",
     "text": [
      "Decoded tokens: ['$', ' \\\\', 'math', 'bb', '{', 'Z', '}', '_{', '2', '}', '$']\n",
      "Decoded tokens: ['$', ' \\\\', 'math', 'bb', ' {', ' Z', ' }', ' _', '2', ' $']\n",
      "0.9465\n"
     ]
    },
    {
     "name": "stderr",
     "output_type": "stream",
     "text": [
      " 18%|█▊        | 175/1000 [06:31<41:40,  3.03s/it]"
     ]
    },
    {
     "name": "stdout",
     "output_type": "stream",
     "text": [
      "Decoded tokens: ['$', 'y', '_', 'i', ' \\\\', 'in', ' \\\\', '{', '0', ',', ' 1', ' \\\\', '}', '$']\n",
      "Decoded tokens: ['$', ' y', '_', ' {', ' ii', ' }', ' \\\\', 'in', ' \\\\', ' {', ' 0', ',', '1', ' \\\\', ' }', ' $']\n",
      "0.8015\n"
     ]
    },
    {
     "name": "stderr",
     "output_type": "stream",
     "text": [
      " 18%|█▊        | 176/1000 [06:35<46:24,  3.38s/it]"
     ]
    },
    {
     "name": "stdout",
     "output_type": "stream",
     "text": [
      "Decoded tokens: ['$', '0', '.', '689', ' \\\\', 'pm', ' 0', '.', '06', '$']\n",
      "Decoded tokens: ['$', ' 0', '.', '684', ' \\\\', 'pm', '0', '.', '06', '^', ' *', ' $']\n",
      "0.9692\n"
     ]
    },
    {
     "name": "stderr",
     "output_type": "stream",
     "text": [
      " 18%|█▊        | 177/1000 [06:40<53:32,  3.90s/it]"
     ]
    },
    {
     "name": "stdout",
     "output_type": "stream",
     "text": [
      "Decoded tokens: ['$', 'T', '_', '1', \"'\", '$', ' and', ' $', 'T', '_', '2', \"'\", '$']\n",
      "Decoded tokens: ['$', ' T', '_', '1', \" '\", ' ,', ' T', '_', '2', \" '\", ' $']\n",
      "0.8583\n"
     ]
    },
    {
     "name": "stderr",
     "output_type": "stream",
     "text": [
      " 18%|█▊        | 178/1000 [06:42<43:54,  3.20s/it]"
     ]
    },
    {
     "name": "stdout",
     "output_type": "stream",
     "text": [
      "Decoded tokens: ['$', '-', '1', '$']\n",
      "Decoded tokens: ['$', ' ^', ' {', ' -', '1', ' }', ' $']\n",
      "0.7651\n"
     ]
    },
    {
     "name": "stderr",
     "output_type": "stream",
     "text": [
      " 18%|█▊        | 179/1000 [06:43<36:34,  2.67s/it]"
     ]
    },
    {
     "name": "stdout",
     "output_type": "stream",
     "text": [
      "Decoded tokens: ['$', 'f', '_', '1', ' =', ' 0', '.$']\n",
      "Decoded tokens: ['$', ' f', '_', '1', '=', '0', '.', '2', ' $']\n",
      "0.9417\n"
     ]
    },
    {
     "name": "stderr",
     "output_type": "stream",
     "text": [
      " 18%|█▊        | 180/1000 [06:45<32:12,  2.36s/it]"
     ]
    },
    {
     "name": "stdout",
     "output_type": "stream",
     "text": [
      "Decoded tokens: ['$', '1', ' \\\\', 'le', 'q', ' p', ' <', ' \\\\', 'in', 'fty', '$']\n",
      "Decoded tokens: ['$', ' 1', ' \\\\', 'le', 'q', ' p', ' <', ' \\\\', 'in', 'fty', ' $']\n",
      "0.9916\n"
     ]
    },
    {
     "name": "stderr",
     "output_type": "stream",
     "text": [
      " 18%|█▊        | 181/1000 [06:46<30:04,  2.20s/it]"
     ]
    },
    {
     "name": "stdout",
     "output_type": "stream",
     "text": [
      "Decoded tokens: ['$', ' \\\\', 'the', 'ta', ' =', ' \\\\', 'frac', '{', '1', '}{', '2', '}', '$']\n",
      "Decoded tokens: ['$', ' \\\\', 'the', 'ta', ' =', ' 1', '/', '2', ' $']\n",
      "0.8755\n"
     ]
    },
    {
     "name": "stderr",
     "output_type": "stream",
     "text": [
      " 18%|█▊        | 182/1000 [06:48<29:13,  2.14s/it]"
     ]
    },
    {
     "name": "stdout",
     "output_type": "stream",
     "text": [
      "Decoded tokens: ['$', '|', ' +', '_', 'd', ' \\\\', 'r', 'angle', '_', 'c', '$']\n",
      "Decoded tokens: ['$', ' \\\\', 'ket', ' {', ' +', '_', ' {', ' d', ' }', ' }', ' _', ' {', ' \\\\', 'rm', ' c', ' }', ' $']\n",
      "0.7481\n"
     ]
    },
    {
     "name": "stderr",
     "output_type": "stream",
     "text": [
      " 18%|█▊        | 183/1000 [06:50<26:46,  1.97s/it]"
     ]
    },
    {
     "name": "stdout",
     "output_type": "stream",
     "text": [
      "Decoded tokens: ['$', 'K', '^', ' \\\\', 'circ', '$']\n",
      "Decoded tokens: ['$', ' K', '^', ' {', ' \\\\', 'circ', ' }', ' $']\n",
      "0.8671\n"
     ]
    },
    {
     "name": "stderr",
     "output_type": "stream",
     "text": [
      " 18%|█▊        | 184/1000 [06:52<27:31,  2.02s/it]"
     ]
    },
    {
     "name": "stdout",
     "output_type": "stream",
     "text": [
      "Decoded tokens: ['$', ' \\\\', 'd', 'elta', ' \\\\', 'in', ' (', '0', ',', ' \\\\', 'd', 'elta', '_', '0', ']', ' $']\n",
      "Decoded tokens: ['$', ' \\\\', 'd', 'elta', ' \\\\', 'in', ' (', ' 0', ' ,', ' \\\\', 'd', 'elta', '_', ' {', ' 0', ' }', ' ]', ' $']\n",
      "0.9424\n"
     ]
    },
    {
     "name": "stderr",
     "output_type": "stream",
     "text": [
      " 18%|█▊        | 185/1000 [06:53<24:39,  1.82s/it]"
     ]
    },
    {
     "name": "stdout",
     "output_type": "stream",
     "text": [
      "Decoded tokens: ['$', 'h', '_', '1', '(', 'x', ')', '$']\n",
      "Decoded tokens: ['$', ' h', '_', '1', ' (', ' x', ' )', ' $']\n",
      "0.9548\n"
     ]
    },
    {
     "name": "stderr",
     "output_type": "stream",
     "text": [
      " 19%|█▊        | 186/1000 [06:55<24:00,  1.77s/it]"
     ]
    },
    {
     "name": "stdout",
     "output_type": "stream",
     "text": [
      "Decoded tokens: ['$', '1', '^', '{{', '-', '27', '}}', '$']\n",
      "Decoded tokens: ['$', ' 10', '^', ' {', ' -', '27', ' }', ' $']\n",
      "0.9169\n"
     ]
    },
    {
     "name": "stderr",
     "output_type": "stream",
     "text": [
      " 19%|█▊        | 187/1000 [06:57<25:08,  1.86s/it]"
     ]
    },
    {
     "name": "stdout",
     "output_type": "stream",
     "text": [
      "Decoded tokens: ['$', 'r', ' \\\\', 'ge', 'q', ' 100', ' \\\\', ',', ' \\\\', 'math', 'rm', '{', 'km', '}', '$']\n",
      "Decoded tokens: ['$', ' r', ' \\\\', 'g', 'tr', 'sim', ' 100', ' \\\\', 'math', 'rm', ' {', ' km', ' }', ' $']\n",
      "0.772\n"
     ]
    },
    {
     "name": "stderr",
     "output_type": "stream",
     "text": [
      " 19%|█▉        | 188/1000 [07:00<27:55,  2.06s/it]"
     ]
    },
    {
     "name": "stdout",
     "output_type": "stream",
     "text": [
      "Decoded tokens: [' \\\\(', ' \\\\', 'math', 'cal', '{', 'S', '}', '_{', 'k', '}', ' =', ' \\\\', 'math', 'cal', '{', 'O', '}', '_{', 'k', '}', ' \\\\', ')']\n",
      "Decoded tokens: ['$', ' \\\\', 'math', 'cal', ' {', ' S', ' }', ' _', 'k', ' =', ' \\\\', 'math', 'cal', ' {', ' O', ' }', ' _', 'k', ' $']\n",
      "0.8302\n"
     ]
    },
    {
     "name": "stderr",
     "output_type": "stream",
     "text": [
      " 19%|█▉        | 189/1000 [07:01<26:05,  1.93s/it]"
     ]
    },
    {
     "name": "stdout",
     "output_type": "stream",
     "text": [
      "Decoded tokens: ['$', 't', '^{', '+', '}', ' <', ' t', ' \\\\', 'le', 'q', ' 1', '$']\n",
      "Decoded tokens: ['$', ' t', '^', '+', ' <', ' t', ' \\\\', 'le', 'q', ' 1', ' $']\n",
      "0.8045\n"
     ]
    },
    {
     "name": "stderr",
     "output_type": "stream",
     "text": [
      " 19%|█▉        | 190/1000 [07:02<22:08,  1.64s/it]"
     ]
    },
    {
     "name": "stdout",
     "output_type": "stream",
     "text": [
      "Decoded tokens: ['$', ' \\\\', 'd', 'elta', ' i', '$']\n",
      "Decoded tokens: ['$', ' \\\\', 'd', 'elta', '_', 'i', ' $']\n",
      "0.9155\n"
     ]
    },
    {
     "name": "stderr",
     "output_type": "stream",
     "text": [
      " 19%|█▉        | 191/1000 [07:05<25:48,  1.91s/it]"
     ]
    },
    {
     "name": "stdout",
     "output_type": "stream",
     "text": [
      "Decoded tokens: ['$', ' \\\\', 'text', '{', 'ab', 'st', '},', ' \\\\', 'math', 'cal', '{', 'S', '}', '_', 'k', ' =', ' 1', '$']\n",
      "Decoded tokens: ['$', ' \\\\', 'ab', 'st', ' {', ' \\\\', 'cal', 'S', '_', 'k', ' }', ' =', '1', ' $']\n",
      "0.7538\n"
     ]
    },
    {
     "name": "stderr",
     "output_type": "stream",
     "text": [
      " 19%|█▉        | 192/1000 [07:10<38:49,  2.88s/it]"
     ]
    },
    {
     "name": "stdout",
     "output_type": "stream",
     "text": [
      "Decoded tokens: ['$', ' \\\\', 'eta', '_{', 'kl', '},', ' p', '_{', 'kl', '}', ' (', 'k', ',', 'l', ')', ' \\\\', 'in', ' \\\\', 'math', 'cal', '{', 'E', '}', '$']\n",
      "Decoded tokens: ['$', ' \\\\', 'eta', '_', ' {', ' k', 'l', ' }', ' ,', ' p', '_', ' {', ' k', 'l', ' }', ' ,', ' (', ' k', ' ,', ' l', ' )', ' \\\\', 'in', ' \\\\', 'math', 'cal', ' {', ' E', ' }', ' $']\n",
      "0.7725\n"
     ]
    },
    {
     "name": "stderr",
     "output_type": "stream",
     "text": [
      " 19%|█▉        | 193/1000 [07:12<34:48,  2.59s/it]"
     ]
    },
    {
     "name": "stdout",
     "output_type": "stream",
     "text": [
      "Decoded tokens: ['$', ' \\\\', 'Ph', 'i', '^', 'N', ' $']\n",
      "Decoded tokens: ['$', ' \\\\', 'Ph', 'i', '^', ' {', ' (', ' N', ' )', ' }', ' $']\n",
      "0.9283\n"
     ]
    },
    {
     "name": "stderr",
     "output_type": "stream",
     "text": [
      " 19%|█▉        | 194/1000 [07:14<32:41,  2.43s/it]"
     ]
    },
    {
     "name": "stdout",
     "output_type": "stream",
     "text": [
      "Decoded tokens: ['$', ' \\\\', 'r', 'ho', ' \\\\', 'ps', 'i', ' $']\n",
      "Decoded tokens: ['$', ' \\\\', 'r', 'ho', '_', ' \\\\', 'ps', 'i', ' $']\n",
      "0.8631\n"
     ]
    },
    {
     "name": "stderr",
     "output_type": "stream",
     "text": [
      " 20%|█▉        | 195/1000 [07:16<30:22,  2.26s/it]"
     ]
    },
    {
     "name": "stdout",
     "output_type": "stream",
     "text": [
      "Decoded tokens: ['$', 'u', '_{', 'l', ',', 'r', ',', 't', '}', '$']\n",
      "Decoded tokens: ['$', ' \\\\', 'text', 'bf', ' {', ' u', ' }', ' _', ' {', ' l', ' ,', ' \\\\', 'text', 'bf', ' {', ' r', ' }', ' ,', ' t', ' }', ' $']\n",
      "0.7433\n"
     ]
    },
    {
     "name": "stderr",
     "output_type": "stream",
     "text": [
      " 20%|█▉        | 196/1000 [07:17<27:36,  2.06s/it]"
     ]
    },
    {
     "name": "stdout",
     "output_type": "stream",
     "text": [
      "Decoded tokens: ['$', ' \\\\', 't', 'ilde', '{', ' \\\\', 'lambda', '}', '$']\n",
      "Decoded tokens: ['$', ' \\\\', 't', 'ilde', ' \\\\', 'lambda', ' $']\n",
      "0.8834\n"
     ]
    },
    {
     "name": "stderr",
     "output_type": "stream",
     "text": [
      " 20%|█▉        | 197/1000 [07:19<26:31,  1.98s/it]"
     ]
    },
    {
     "name": "stdout",
     "output_type": "stream",
     "text": [
      "Decoded tokens: ['$', 'v', '_{', ' \\\\', 'math', 'cal', '{', 'A', '}}', '$']\n",
      "Decoded tokens: ['$', ' v', '_', ' {', ' \\\\', 'rm', ' A', ' }', ' $']\n",
      "0.7957\n"
     ]
    },
    {
     "name": "stderr",
     "output_type": "stream",
     "text": [
      " 20%|█▉        | 198/1000 [07:22<30:20,  2.27s/it]"
     ]
    },
    {
     "name": "stdout",
     "output_type": "stream",
     "text": [
      "Decoded tokens: ['$', ' \\\\', 'lambda', ' \\\\', 'gg', ' \\\\', 'chi', '^{', ' \\\\', 'frac', '{', '1', '}{', '4', '}}', ' \\\\', 'app', 'rox', ' 0', '.', '1', ' \\\\', ',', ' \\\\', 'math', 'rm', '{', 'Ge', 'V', '}', '$']\n",
      "Decoded tokens: ['$', ' \\\\', 'L', 'amb', 'da', ' \\\\', 'gg', ' \\\\', 'chi', '^', ' {', ' 1', '/', '4', ' }', ' \\\\', 'sim', ' 0', '.', '1', ' \\\\', 'GE', 'V', ' $']\n",
      "0.8163\n"
     ]
    },
    {
     "name": "stderr",
     "output_type": "stream",
     "text": [
      " 20%|█▉        | 199/1000 [07:24<27:24,  2.05s/it]"
     ]
    },
    {
     "name": "stdout",
     "output_type": "stream",
     "text": [
      "Decoded tokens: ['$', ' \\\\', 'Delta', ' \\\\', 'math', 'bf', '{', 'y', '}', '$']\n",
      "Decoded tokens: ['$', ' \\\\', 'Delta', '_', 'y', ' $']\n",
      "0.8598\n"
     ]
    },
    {
     "name": "stderr",
     "output_type": "stream",
     "text": [
      " 20%|██        | 200/1000 [07:26<28:36,  2.15s/it]"
     ]
    },
    {
     "name": "stdout",
     "output_type": "stream",
     "text": [
      "Decoded tokens: [' \\\\', '[', ' I', '_', '0', ' =', ' 10', '^{', '23', '}', ' \\\\', ',', ' \\\\', 'math', 'rm', '{', 'W', ' \\\\', ',', ' m', '^{', '-', '2', '}}', ' \\\\', ']']\n",
      "Decoded tokens: ['$', ' I', '_', '0', '=', '10', '^', ' {', ' 23', ' }', ' {', ' \\\\', ' }', ' \\\\', 'rm', ' {', ' W', ' }', ' /', 'cm', '^', ' {', ' 2', ' }', ' $']\n",
      "0.8329\n"
     ]
    },
    {
     "name": "stderr",
     "output_type": "stream",
     "text": [
      " 20%|██        | 201/1000 [07:29<29:42,  2.23s/it]"
     ]
    },
    {
     "name": "stdout",
     "output_type": "stream",
     "text": [
      "Decoded tokens: ['$', ' \\\\', 'math', 'rm', '{', 'Cu', '}', '_{', '50', '}', ' \\\\', 'math', 'rm', '{', 'Z', 'r', '}', '_{', '50', '}', '$']\n",
      "Decoded tokens: ['$', ' \\\\', 'rm', ' Cu', '_', ' {', ' 50', ' }', ' Z', 'r', '_', ' {', ' 50', ' }', ' $']\n",
      "0.7579\n"
     ]
    },
    {
     "name": "stderr",
     "output_type": "stream",
     "text": [
      " 20%|██        | 202/1000 [07:30<26:28,  1.99s/it]"
     ]
    },
    {
     "name": "stdout",
     "output_type": "stream",
     "text": [
      "Decoded tokens: ['$', '-', '1', '$']\n",
      "Decoded tokens: ['$', ' ^', ' {', ' -', '1', ' }', ' $']\n",
      "0.7651\n"
     ]
    },
    {
     "name": "stderr",
     "output_type": "stream",
     "text": [
      " 20%|██        | 203/1000 [07:32<26:44,  2.01s/it]"
     ]
    },
    {
     "name": "stdout",
     "output_type": "stream",
     "text": [
      "Decoded tokens: ['$', ' \\\\', 'phi', '_', 'j', '^', 'r', ' $']\n",
      "Decoded tokens: ['$', ' \\\\', 'phi', '_', 'j', '^', ' {', ' (', ' r', ' )', ' }', ' $']\n",
      "0.9364\n"
     ]
    },
    {
     "name": "stderr",
     "output_type": "stream",
     "text": [
      " 20%|██        | 204/1000 [07:34<28:18,  2.13s/it]"
     ]
    },
    {
     "name": "stdout",
     "output_type": "stream",
     "text": [
      "Decoded tokens: ['$', 'T', '_', 's', '^{', ' \\\\', 'mu', ' \\\\', 'nu', '}', '$']\n",
      "Decoded tokens: ['$', ' (', ' T', '_', 's', ' )', ' ^', ' \\\\', 'mu', '_', ' {', ' ~', ' \\\\', 'nu', ' }', ' $']\n",
      "0.8001\n"
     ]
    },
    {
     "name": "stderr",
     "output_type": "stream",
     "text": [
      " 20%|██        | 205/1000 [07:37<30:28,  2.30s/it]"
     ]
    },
    {
     "name": "stdout",
     "output_type": "stream",
     "text": [
      "Decoded tokens: ['$', ' \\\\', 't', 'ilde', '{', ' \\\\', 'v', 'are', 'ps', 'ilon', '}', ' =', ' \\\\', 'v', 'are', 'ps', 'ilon', '$']\n",
      "Decoded tokens: ['$', ' \\\\', 'T', 'ilde', ' {', ' \\\\', 'ep', 'sil', 'on', ' }', ' =', ' \\\\', 'ep', 'sil', 'on', ' $']\n",
      "0.8151\n"
     ]
    },
    {
     "name": "stderr",
     "output_type": "stream",
     "text": [
      " 21%|██        | 206/1000 [07:38<26:40,  2.02s/it]"
     ]
    },
    {
     "name": "stdout",
     "output_type": "stream",
     "text": [
      "Decoded tokens: [' \\\\', '[', ' 10', '^{', '10', '}', ' \\\\', ']']\n",
      "Decoded tokens: ['$', ' 10', '^', ' {', ' 10', ' }', ' $']\n",
      "0.8209\n"
     ]
    },
    {
     "name": "stderr",
     "output_type": "stream",
     "text": [
      " 21%|██        | 207/1000 [07:41<28:31,  2.16s/it]"
     ]
    },
    {
     "name": "stdout",
     "output_type": "stream",
     "text": [
      "Decoded tokens: ['$', 'V', '^{', 'S', '_', 'E', ',', 'q', '}', ' \\\\', 'ge', 'q', ' \\\\', 'log', '(', ' \\\\', 'Ph', 'i', '^{', 'S', '_', 'E', ',', 'q', '})', '$']\n",
      "Decoded tokens: ['$', ' V', '^', 'S', '_', ' {', ' E', ' ,', ' q', ' }', ' \\\\', 'ge', 'q', ' \\\\', 'log', ' \\\\', 'Ph', 'i', '^', 'S', '_', ' {', ' E', ' ,', ' q', ' }', ' $']\n",
      "0.8382\n"
     ]
    },
    {
     "name": "stderr",
     "output_type": "stream",
     "text": [
      " 21%|██        | 208/1000 [07:42<23:33,  1.79s/it]"
     ]
    },
    {
     "name": "stdout",
     "output_type": "stream",
     "text": [
      "Decoded tokens: ['$', ' \\\\', 'S', 'igma', ' 0', '$']\n",
      "Decoded tokens: ['$', ' \\\\', 'S', 'igma', '_', '0', ' $']\n",
      "0.9328\n"
     ]
    },
    {
     "name": "stderr",
     "output_type": "stream",
     "text": [
      " 21%|██        | 209/1000 [07:43<21:47,  1.65s/it]"
     ]
    },
    {
     "name": "stdout",
     "output_type": "stream",
     "text": [
      "Decoded tokens: ['$', '1', ' \\\\', 'le', 'q', ' i', ' \\\\', 'le', 'q', ' h', '$']\n",
      "Decoded tokens: ['$', ' 1', ' \\\\', 'le', 'q', ' i', ' \\\\', 'le', 'q', ' h', ' $']\n",
      "0.9916\n"
     ]
    },
    {
     "name": "stderr",
     "output_type": "stream",
     "text": [
      " 21%|██        | 210/1000 [07:47<28:15,  2.15s/it]"
     ]
    },
    {
     "name": "stdout",
     "output_type": "stream",
     "text": [
      "Decoded tokens: ['$', 'U', ' =', ' \\\\', 'sum', '_{', 'i', '=', '1', '}', '^{', 'r', '}', ' \\\\', 'ket', '{', 'i', '}', ' \\\\', 'l', 'angle', ' u', '_{', 'i', '}', '|', '$']\n",
      "Decoded tokens: ['$', ' U', '=', ' \\\\', 'sum', '_', ' {', ' i', '=', '1', ' }', ' ^', 'r', ' \\\\', 'ket', ' {', ' i', ' }', ' \\\\', 'bra', ' {', ' u', '_', 'i', ' }', ' $']\n",
      "0.8678\n"
     ]
    },
    {
     "name": "stderr",
     "output_type": "stream",
     "text": [
      " 21%|██        | 211/1000 [07:48<25:44,  1.96s/it]"
     ]
    },
    {
     "name": "stdout",
     "output_type": "stream",
     "text": [
      "Decoded tokens: ['$', ' \\\\', 'S', 'igma', '_{', ' \\\\', 'math', 'rm', '{', 'f', '}}', ' f', ' $']\n",
      "Decoded tokens: ['$', ' \\\\', 'S', 'igma', '_', ' {', ' \\\\', 'text', ' {', ' \\\\', 'bf', ' ff', ' }', ' }', ' $']\n",
      "0.856\n"
     ]
    },
    {
     "name": "stderr",
     "output_type": "stream",
     "text": [
      " 21%|██        | 212/1000 [07:49<23:38,  1.80s/it]"
     ]
    },
    {
     "name": "stdout",
     "output_type": "stream",
     "text": [
      "Decoded tokens: [' \\\\(', ' \\\\', 'frac', '{', '1', '}{', 'p', '}', ' \\\\', 'in', ' O', '_', 'S', ' \\\\', ')']\n",
      "Decoded tokens: ['$', ' \\\\', 'frac', ' {', ' 1', ' }', ' {', ' p', ' }', ' %', ' \\\\', 'in', ' \\\\', 'math', 'cal', ' {', ' O', ' }', ' _', ' {', ' S', ' }', ' $']\n",
      "0.806\n"
     ]
    },
    {
     "name": "stderr",
     "output_type": "stream",
     "text": [
      " 21%|██▏       | 213/1000 [07:51<22:25,  1.71s/it]"
     ]
    },
    {
     "name": "stdout",
     "output_type": "stream",
     "text": [
      "Decoded tokens: ['$', ' \\\\', 'math', 'cal', '{', 'H', '}', '_{', ' \\\\', 'beta', '}', '$']\n",
      "Decoded tokens: ['$', ' H', '_', ' {', ' \\\\', 'beta', ' }', ' $']\n",
      "0.7805\n"
     ]
    },
    {
     "name": "stderr",
     "output_type": "stream",
     "text": [
      " 21%|██▏       | 214/1000 [07:52<21:11,  1.62s/it]"
     ]
    },
    {
     "name": "stdout",
     "output_type": "stream",
     "text": [
      "Decoded tokens: ['$', 'r', '_{', 'a', '_', 't', ' -', ' 1', '}', '$']\n",
      "Decoded tokens: ['$', ' \\\\', 'ra', '_', ' {', ' t', '-', '1', ' }', ' $']\n",
      "0.8469\n"
     ]
    },
    {
     "name": "stderr",
     "output_type": "stream",
     "text": [
      " 22%|██▏       | 215/1000 [07:53<18:53,  1.44s/it]"
     ]
    },
    {
     "name": "stdout",
     "output_type": "stream",
     "text": [
      "Decoded tokens: ['$', ' \\\\', 'Gam', 'ma', ' 3', ' $']\n",
      "Decoded tokens: ['$', ' \\\\', 'Gam', 'ma', '_', '3', ' $']\n",
      "0.9253\n"
     ]
    },
    {
     "name": "stderr",
     "output_type": "stream",
     "text": [
      " 22%|██▏       | 216/1000 [07:56<24:25,  1.87s/it]"
     ]
    },
    {
     "name": "stdout",
     "output_type": "stream",
     "text": [
      "Decoded tokens: [' \\\\', '[', '\\n', ' \\\\', 'text', '{', 'The', ' set', ' of', ' }', ' \\\\', 'text', '{', 'LOC', '}', '_{', 'k', '}', ' \\\\', 'text', '{', ',', ' where', ' }', ' 1', ' \\\\', 'le', 'q', ' k', ' \\\\', 'le', 'q', ' n', '.', '\\n', ' \\\\', ']']\n",
      "Decoded tokens: ['$', ' \\\\', ' {', ' LOC', '_', 'k', '|', '1', ' {', ' \\\\', 'le', 'q', ' }', ' k', ' {', ' \\\\', 'le', 'q', ' }', ' n', ' \\\\', ' }', ' $']\n",
      "0.7496\n"
     ]
    },
    {
     "name": "stderr",
     "output_type": "stream",
     "text": [
      " 22%|██▏       | 217/1000 [07:58<22:29,  1.72s/it]"
     ]
    },
    {
     "name": "stdout",
     "output_type": "stream",
     "text": [
      "Decoded tokens: ['$', '1', ' \\\\', 'le', 'q', ' i', ' \\\\', 'le', 'q', ' k', '$']\n",
      "Decoded tokens: ['$', ' 1', ' \\\\', 'le', 'q', ' i', ' \\\\', 'le', 'q', ' k', ' $']\n",
      "0.9916\n"
     ]
    },
    {
     "name": "stderr",
     "output_type": "stream",
     "text": [
      " 22%|██▏       | 218/1000 [07:59<21:59,  1.69s/it]"
     ]
    },
    {
     "name": "stdout",
     "output_type": "stream",
     "text": [
      "Decoded tokens: ['$', 'd', '_', 'x', '^', '2', ' -', ' y', '^', '2', '$']\n",
      "Decoded tokens: ['$', ' d', '_', ' {', ' x', '^', '2', '-', 'y', '^', '2', ' }', ' $']\n",
      "0.8058\n"
     ]
    },
    {
     "name": "stderr",
     "output_type": "stream",
     "text": [
      " 22%|██▏       | 219/1000 [08:01<20:18,  1.56s/it]"
     ]
    },
    {
     "name": "stdout",
     "output_type": "stream",
     "text": [
      "Decoded tokens: ['$', ' \\\\', 'gam', 'ma', '_', 'j', '$']\n",
      "Decoded tokens: ['$', ' \\\\', 'bold', 'sy', 'mbol', ' {', ' \\\\', 'gam', 'ma', ' }', ' _', 'j', ' $']\n",
      "0.8047\n"
     ]
    },
    {
     "name": "stderr",
     "output_type": "stream",
     "text": [
      " 22%|██▏       | 220/1000 [08:02<19:18,  1.48s/it]"
     ]
    },
    {
     "name": "stdout",
     "output_type": "stream",
     "text": [
      "Decoded tokens: [' \\\\(', ' \\\\', 'display', 'style', ' \\\\', 'ep', 'sil', 'on', ' \\\\', ')']\n",
      "Decoded tokens: ['$', ' \\\\', 'ep', 'sil', 'on', ' $']\n",
      "0.7611\n"
     ]
    },
    {
     "name": "stderr",
     "output_type": "stream",
     "text": [
      " 22%|██▏       | 221/1000 [08:03<19:07,  1.47s/it]"
     ]
    },
    {
     "name": "stdout",
     "output_type": "stream",
     "text": [
      "Decoded tokens: ['$', ' \\\\', 'math', 'bf', '{', 'P', '}', '^{', '-', '1', '}', '$']\n",
      "Decoded tokens: ['$', ' P', '^', ' {', ' -', '1', ' }', ' $']\n",
      "0.7897\n"
     ]
    },
    {
     "name": "stderr",
     "output_type": "stream",
     "text": [
      " 22%|██▏       | 222/1000 [08:05<18:24,  1.42s/it]"
     ]
    },
    {
     "name": "stdout",
     "output_type": "stream",
     "text": [
      "Decoded tokens: [' \\\\', '[', '\\n', ' \\\\', 'display', 'style', ' x', '_', '0', '\\n', ' \\\\', ']']\n",
      "Decoded tokens: ['$', ' \\\\', 'bold', 'sy', 'mbol', ' {', ' x', ' }', ' _', '0', ' $']\n",
      "0.7647\n"
     ]
    },
    {
     "name": "stderr",
     "output_type": "stream",
     "text": [
      " 22%|██▏       | 223/1000 [08:06<18:49,  1.45s/it]"
     ]
    },
    {
     "name": "stdout",
     "output_type": "stream",
     "text": [
      "Decoded tokens: ['$', 'i', '=', '1', ',', '2', ',', ' \\\\', 'ld', 'ots', ',', 'N', '$']\n",
      "Decoded tokens: ['$', ' i', ' =', ' 1', ' ,', ' 2', ' ,', ' \\\\', 'cd', 'ots', ' ,', ' N', ' $']\n",
      "0.9207\n"
     ]
    },
    {
     "name": "stderr",
     "output_type": "stream",
     "text": [
      " 22%|██▏       | 224/1000 [08:08<18:48,  1.45s/it]"
     ]
    },
    {
     "name": "stdout",
     "output_type": "stream",
     "text": [
      "Decoded tokens: ['$', ' \\\\', 'hat', '{', 'x', '}', '_', '0', '$']\n",
      "Decoded tokens: ['$', ' \\\\', 'hat', ' {', ' \\\\', 'math', 'bf', ' {', ' x', ' }', ' }', ' _', '0', ' $']\n",
      "0.8469\n"
     ]
    },
    {
     "name": "stderr",
     "output_type": "stream",
     "text": [
      " 22%|██▎       | 225/1000 [08:09<18:10,  1.41s/it]"
     ]
    },
    {
     "name": "stdout",
     "output_type": "stream",
     "text": [
      "Decoded tokens: ['$', ' \\\\', 'ep', 'sil', 'on', ' =', ' 50', '$']\n",
      "Decoded tokens: ['$', ' \\\\', 'ep', 'sil', 'on', ' =', ' 50', ' $']\n",
      "0.9949\n"
     ]
    },
    {
     "name": "stderr",
     "output_type": "stream",
     "text": [
      " 23%|██▎       | 226/1000 [08:10<18:04,  1.40s/it]"
     ]
    },
    {
     "name": "stdout",
     "output_type": "stream",
     "text": [
      "Decoded tokens: ['$', 'T', '_', 'v', ' \\\\', 'in', ' A', '$']\n",
      "Decoded tokens: ['$', ' \\\\', 'math', 'cal', ' {', ' T', ' }', ' _', 'v', ' \\\\', 'in', ' \\\\', 'math', 'cal', ' {', ' A', ' }', ' $']\n",
      "0.7611\n"
     ]
    },
    {
     "name": "stderr",
     "output_type": "stream",
     "text": [
      " 23%|██▎       | 227/1000 [08:13<22:02,  1.71s/it]"
     ]
    },
    {
     "name": "stdout",
     "output_type": "stream",
     "text": [
      "Decoded tokens: ['$$', 'P', '(', 'h', '^', '*)', ' \\\\', 'ge', 'q', ' \\\\', 'frac', '{', ' \\\\', 'd', 'elta', '}{', '2000', ' \\\\', 'cd', 'ot', ' |', 'E', '|', '}', '$$']\n",
      "Decoded tokens: ['$', ' P', ' (', ' h', '^', ' *', ' )', ' \\\\', 'ge', ' \\\\', 'frac', ' {', ' \\\\', 'd', 'elta', ' }', ' {', ' 2000', ' }', ' \\\\', 'card', ' {', ' E', ' }', ' $']\n",
      "0.8489\n"
     ]
    },
    {
     "name": "stderr",
     "output_type": "stream",
     "text": [
      " 23%|██▎       | 228/1000 [08:15<22:49,  1.77s/it]"
     ]
    },
    {
     "name": "stdout",
     "output_type": "stream",
     "text": [
      "Decoded tokens: ['$', ' \\\\', 'math', 'cal', '{', 'R', '}', '_', 'e', '$']\n",
      "Decoded tokens: ['$', ' R', '_', ' {', ' \\\\', 'rm', ' e', ' }', ' $']\n",
      "0.7481\n"
     ]
    },
    {
     "name": "stderr",
     "output_type": "stream",
     "text": [
      " 23%|██▎       | 229/1000 [08:18<27:12,  2.12s/it]"
     ]
    },
    {
     "name": "stdout",
     "output_type": "stream",
     "text": [
      "Decoded tokens: ['$', ' \\\\', 'k', 'appa', ',', ' \\\\', 'Gam', 'ma', ' \\\\', 'll', ' \\\\', 't', 'ilde', '{', 'g', '}', ' \\\\', 'll', ' \\\\', 'ome', 'ga', ',', ' \\\\', 'O', 'mega', '_', '0', ' $']\n",
      "Decoded tokens: ['$', ' \\\\', 'k', 'appa', ' ,', ' \\\\', 'Gam', 'ma', ' \\\\', 'll', ' \\\\', 't', 'ilde', ' g', ' \\\\', 'll', ' \\\\', 'ome', 'ga', ' ,', ' \\\\', 'O', 'mega', '_', ' {', ' 0', ' }', ' $']\n",
      "0.8561\n"
     ]
    },
    {
     "name": "stderr",
     "output_type": "stream",
     "text": [
      " 23%|██▎       | 230/1000 [08:19<25:24,  1.98s/it]"
     ]
    },
    {
     "name": "stdout",
     "output_type": "stream",
     "text": [
      "Decoded tokens: ['$', ' \\\\', 'gam', 'ma', '_{', 's', '_{', '1', '}}', ' $']\n",
      "Decoded tokens: ['$', ' \\\\', 'gam', 'ma', '_', ' {', ' s', '_', '1', ' }', ' $']\n",
      "0.8429\n"
     ]
    },
    {
     "name": "stderr",
     "output_type": "stream",
     "text": [
      " 23%|██▎       | 231/1000 [08:20<21:49,  1.70s/it]"
     ]
    },
    {
     "name": "stdout",
     "output_type": "stream",
     "text": [
      "Decoded tokens: ['$', ' \\\\', 'Gam', 'ma', ' 1', '$']\n",
      "Decoded tokens: ['$', ' \\\\', 'Gam', 'ma', '_', '1', ' $']\n",
      "0.9317\n"
     ]
    },
    {
     "name": "stderr",
     "output_type": "stream",
     "text": [
      " 23%|██▎       | 232/1000 [08:22<20:48,  1.63s/it]"
     ]
    },
    {
     "name": "stdout",
     "output_type": "stream",
     "text": [
      "Decoded tokens: ['$', ' \\\\', 'frac', '{', '1', '}{', '16', '}', '$']\n",
      "Decoded tokens: ['$', ' \\\\', 'frac', ' {', ' 1', ' }', ' {', ' 16', ' }', ' $']\n",
      "0.8877\n"
     ]
    },
    {
     "name": "stderr",
     "output_type": "stream",
     "text": [
      " 23%|██▎       | 233/1000 [08:23<19:46,  1.55s/it]"
     ]
    },
    {
     "name": "stdout",
     "output_type": "stream",
     "text": [
      "Decoded tokens: ['$', 'D', '_', 'N', '(', 'X', ')', '$']\n",
      "Decoded tokens: ['$', ' D', '_', ' {', ' N', ' }', ' [', ' X', ' ]', ' $']\n",
      "0.8268\n"
     ]
    },
    {
     "name": "stderr",
     "output_type": "stream",
     "text": [
      " 23%|██▎       | 234/1000 [08:24<18:36,  1.46s/it]"
     ]
    },
    {
     "name": "stdout",
     "output_type": "stream",
     "text": [
      "Decoded tokens: ['$', 'P', '_', '5', '(-', '6', ')', '$']\n",
      "Decoded tokens: ['$', ' P', '_', ' {', ' 5', ' \\\\', 'text', ' {', ' -', ' }', ' 6', ' }', ' $']\n",
      "0.8184\n"
     ]
    },
    {
     "name": "stderr",
     "output_type": "stream",
     "text": [
      " 24%|██▎       | 235/1000 [08:26<18:15,  1.43s/it]"
     ]
    },
    {
     "name": "stdout",
     "output_type": "stream",
     "text": [
      "Decoded tokens: ['$', ' \\\\', 'tan', ' \\\\', 'beta', ' $']\n",
      "Decoded tokens: ['$', ' \\\\', 'tan', ' \\\\', 'beta', ' $']\n",
      "1.0\n"
     ]
    },
    {
     "name": "stderr",
     "output_type": "stream",
     "text": [
      " 24%|██▎       | 236/1000 [08:27<17:48,  1.40s/it]"
     ]
    },
    {
     "name": "stdout",
     "output_type": "stream",
     "text": [
      "Decoded tokens: [' \\\\(', ' \\\\', 'display', 'style', ' \\\\', 'ep', 'sil', 'on', ' \\\\', ')']\n",
      "Decoded tokens: ['$', ' \\\\', 'ep', 'sil', 'on', ' $']\n",
      "0.7611\n"
     ]
    },
    {
     "name": "stderr",
     "output_type": "stream",
     "text": [
      " 24%|██▎       | 237/1000 [08:28<16:52,  1.33s/it]"
     ]
    },
    {
     "name": "stdout",
     "output_type": "stream",
     "text": [
      "Decoded tokens: ['$', ' \\\\', 'S', 'igma', '_', '2', ' $']\n",
      "Decoded tokens: ['$', ' \\\\', 's', 'igma', '_', '2', ' $']\n",
      "0.9863\n"
     ]
    },
    {
     "name": "stderr",
     "output_type": "stream",
     "text": [
      " 24%|██▍       | 238/1000 [08:29<16:27,  1.30s/it]"
     ]
    },
    {
     "name": "stdout",
     "output_type": "stream",
     "text": [
      "Decoded tokens: ['$', ' \\\\', 'd', 'elta', ' <', ' 1', '.', '25', ' $']\n",
      "Decoded tokens: ['$', ' \\\\', 'd', 'elta', ' <', ' 1', '.', '25', ' $']\n",
      "1.0\n"
     ]
    },
    {
     "name": "stderr",
     "output_type": "stream",
     "text": [
      " 24%|██▍       | 239/1000 [08:31<18:30,  1.46s/it]"
     ]
    },
    {
     "name": "stdout",
     "output_type": "stream",
     "text": [
      "Decoded tokens: ['$', ' \\\\', 'k', 'appa', '_{', ' \\\\', 'math', 'rm', '{', 'L', '}}', ' $']\n",
      "Decoded tokens: ['$', ' \\\\', 'k', 'appa', '_', 'L', ' $']\n",
      "0.8911\n"
     ]
    },
    {
     "name": "stderr",
     "output_type": "stream",
     "text": [
      " 24%|██▍       | 240/1000 [08:34<22:38,  1.79s/it]"
     ]
    },
    {
     "name": "stdout",
     "output_type": "stream",
     "text": [
      "Decoded tokens: ['$', '(', 'x', '_', '4', ',', ' y', '_', '4', ')', ' =', ' (', '0', '.', '3', ',', ' -', '0', '.', '1', ')', ' \\\\', 's', 'igma', '$']\n",
      "Decoded tokens: ['$', ' (', ' x', '_', '4', ' ,', ' y', '_', '4', ' )', ' =', ' (', ' 0', '.', '3', ' ,', ' -', '0', '.', '1', ' )', ' \\\\', 's', 'igma', ' $']\n",
      "0.9718\n"
     ]
    },
    {
     "name": "stderr",
     "output_type": "stream",
     "text": [
      " 24%|██▍       | 241/1000 [08:35<21:11,  1.68s/it]"
     ]
    },
    {
     "name": "stdout",
     "output_type": "stream",
     "text": [
      "Decoded tokens: ['$', 'h', '_{', ' \\\\', 'alpha', ' \\\\', 'beta', '}', '$']\n",
      "Decoded tokens: ['$', ' h', '_', ' {', ' \\\\', 'alpha', ' \\\\', 'beta', ' }', ' $']\n",
      "0.7972\n"
     ]
    },
    {
     "name": "stderr",
     "output_type": "stream",
     "text": [
      " 24%|██▍       | 242/1000 [08:36<18:26,  1.46s/it]"
     ]
    },
    {
     "name": "stdout",
     "output_type": "stream",
     "text": [
      "Decoded tokens: ['$', ' \\\\', 'alpha', ' =', ' 1', '$']\n",
      "Decoded tokens: ['$', ' \\\\', 'alpha', '=', '1', ' $']\n",
      "0.9747\n"
     ]
    },
    {
     "name": "stderr",
     "output_type": "stream",
     "text": [
      " 24%|██▍       | 243/1000 [08:38<18:20,  1.45s/it]"
     ]
    },
    {
     "name": "stdout",
     "output_type": "stream",
     "text": [
      "Decoded tokens: ['$', 'I', '_{', ' \\\\', 'partial', ' B', '}', '(', 'Z', ')', ' =', ' 0', '$']\n",
      "Decoded tokens: ['$', ' I', '_', ' {', ' \\\\', 'partial', ' B', ' }', ' (', ' Z', ' )', ' =', '0', ' $']\n",
      "0.7882\n"
     ]
    },
    {
     "name": "stderr",
     "output_type": "stream",
     "text": [
      " 24%|██▍       | 244/1000 [08:40<23:33,  1.87s/it]"
     ]
    },
    {
     "name": "stdout",
     "output_type": "stream",
     "text": [
      "Decoded tokens: ['$', 'd', '_', 'i', ' :', ' C', '^', 'i', '(', 'K', ')', ' \\\\', 'to', ' C', '^{', 'i', '+', '1', '}', '(', 'K', ')', '$']\n",
      "Decoded tokens: ['$', ' \\\\', 'd', '_', 'i', ' :', ' C', '^', 'i', ' (', ' K', ' )', ' \\\\', 'to', ' C', '^', ' {', ' i', '+', '1', ' }', ' (', ' K', ' )', ' $']\n",
      "0.75\n"
     ]
    },
    {
     "name": "stderr",
     "output_type": "stream",
     "text": [
      " 24%|██▍       | 245/1000 [08:42<22:45,  1.81s/it]"
     ]
    },
    {
     "name": "stdout",
     "output_type": "stream",
     "text": [
      "Decoded tokens: ['$', ' \\\\', 'mu', '_{', ' \\\\', 'math', 'cal', '{', 'J', '}}', '$']\n",
      "Decoded tokens: ['$', ' \\\\', 'mu', '_', ' {', ' J', ' }', ' $']\n",
      "0.8483\n"
     ]
    },
    {
     "name": "stderr",
     "output_type": "stream",
     "text": [
      " 25%|██▍       | 246/1000 [08:44<24:16,  1.93s/it]"
     ]
    },
    {
     "name": "stdout",
     "output_type": "stream",
     "text": [
      "Decoded tokens: [' \\\\', 'text', 'bf', '{', '7', '.', '05', '}', '^{', '0', '.', '81', '}', ' \\\\', 'text', '{', ' with', ' a', ' lower', ' bound', ' of', ' }', ' -', '0', '.', '92', '.']\n",
      "Decoded tokens: ['$', ' 7', '.', '05', '^', ' {', ' +', '0', '.', '81', ' }', ' _', ' {', ' -', '0', '.', '92', ' }', ' $']\n",
      "0.7221\n"
     ]
    },
    {
     "name": "stderr",
     "output_type": "stream",
     "text": [
      " 25%|██▍       | 247/1000 [08:47<26:27,  2.11s/it]"
     ]
    },
    {
     "name": "stdout",
     "output_type": "stream",
     "text": [
      "Decoded tokens: ['$', ' \\\\', 'math', 'cal', '{', 'U', '}', '_', '1', '^{', 'L', '_', ' \\\\', 'mu', '}', ' -', ' L', '_', ' \\\\', 't', 'au', '$']\n",
      "Decoded tokens: ['$', ' U', ' (', ' 1', ' )', ' _', ' {', ' L', '_', ' \\\\', 'mu', '-', 'L', '_', ' \\\\', 't', 'au', ' }', ' $']\n",
      "0.7582\n"
     ]
    },
    {
     "name": "stderr",
     "output_type": "stream",
     "text": [
      " 25%|██▍       | 248/1000 [08:48<22:40,  1.81s/it]"
     ]
    },
    {
     "name": "stdout",
     "output_type": "stream",
     "text": [
      "Decoded tokens: ['$', ' \\\\', 'Gam', 'ma', ' =', ' 0', '.', '5', '$']\n",
      "Decoded tokens: ['$', ' \\\\', 'gam', 'ma', '=', '0', '.', '5', ' $']\n",
      "0.9764\n"
     ]
    },
    {
     "name": "stderr",
     "output_type": "stream",
     "text": [
      " 25%|██▍       | 249/1000 [08:54<39:39,  3.17s/it]"
     ]
    },
    {
     "name": "stdout",
     "output_type": "stream",
     "text": [
      "Decoded tokens: [' \\\\', '[', '\\n', 'E', '_{', ' \\\\', 'pi', '}', '(', 'p', '_{', 'q', '})', ' =', ' \\\\', 'sq', 'rt', '{', '|', 'p', '_{', 'q', '}', '|', '^', '2', ' +', ' m', '_{', ' \\\\', 'pi', '}', '^{', '0', ',', '2', '}}', '\\n', ' \\\\', ']']\n",
      "Decoded tokens: ['$', ' E', '_', ' \\\\', 'pi', ' (', ' \\\\', 've', 'cp', ' {', ' q', ' }', ' )', ' =', ' \\\\', 'sq', 'rt', ' {', ' |', ' \\\\', 've', 'cp', ' {', ' q', ' }', ' |', '^', '2', '+', 'm', '_', ' \\\\', 'pi', '^', ' {', ' 0', ' \\\\', ',', '2', ' }', ' }', ' $']\n",
      "0.7845\n"
     ]
    },
    {
     "name": "stderr",
     "output_type": "stream",
     "text": [
      " 25%|██▌       | 250/1000 [08:56<35:57,  2.88s/it]"
     ]
    },
    {
     "name": "stdout",
     "output_type": "stream",
     "text": [
      "Decoded tokens: ['$', ' \\\\', 'math', 'cal', '{', 'T', '}', '_', '2', '$']\n",
      "Decoded tokens: ['$', ' T', '_', ' {', ' 2', ' }', ' $']\n",
      "0.7387\n"
     ]
    },
    {
     "name": "stderr",
     "output_type": "stream",
     "text": [
      " 25%|██▌       | 251/1000 [08:59<33:26,  2.68s/it]"
     ]
    },
    {
     "name": "stdout",
     "output_type": "stream",
     "text": [
      "Decoded tokens: ['$', ' \\\\', 'math', 'rm', '{', 'GE', 'V', '}', '_{', 't', '}', '$']\n",
      "Decoded tokens: ['$', ' G', ' [', ' V', '_', 't', ' ]', ' $']\n",
      "0.7206\n"
     ]
    },
    {
     "name": "stderr",
     "output_type": "stream",
     "text": [
      " 25%|██▌       | 252/1000 [09:02<35:49,  2.87s/it]"
     ]
    },
    {
     "name": "stdout",
     "output_type": "stream",
     "text": [
      "Decoded tokens: ['$', 'r', '_', '0', ' <', ' \\\\', 'frac', '{', '1', '}{', ' \\\\', 'sq', 'rt', '{', '2', '}}', '$']\n",
      "Decoded tokens: ['$', ' r', '_', '0', ' <', ' 1', '/', ' \\\\', 'sq', 'rt', ' {', ' 2', ' }', ' $']\n",
      "0.8163\n"
     ]
    },
    {
     "name": "stderr",
     "output_type": "stream",
     "text": [
      " 25%|██▌       | 253/1000 [09:06<38:15,  3.07s/it]"
     ]
    },
    {
     "name": "stdout",
     "output_type": "stream",
     "text": [
      "Decoded tokens: ['$', ' \\\\', 'oper', 'at', 'orn', 'ame', '{', 'Im', '}', ' \\\\', 'left', '(', ' \\\\', 'frac', '{', 'a', '_', '1', '(', 'x', ')', '}{', '2', '}', ' \\\\', 'right', ')', '$']\n",
      "Decoded tokens: ['$', ' \\\\', 'oper', 'at', 'orn', 'ame', ' {', ' Im', ' }', ' [', ' a', '_', '1', ' (', ' x', ' )', ' /', '2', ' ]', ' $']\n",
      "0.8492\n"
     ]
    },
    {
     "name": "stderr",
     "output_type": "stream",
     "text": [
      " 25%|██▌       | 254/1000 [09:07<33:08,  2.67s/it]"
     ]
    },
    {
     "name": "stdout",
     "output_type": "stream",
     "text": [
      "Decoded tokens: ['$', ' \\\\', 'Delta', ' 1', ' $']\n",
      "Decoded tokens: ['$', ' \\\\', 'Delta', '_', '1', ' $']\n",
      "0.913\n"
     ]
    },
    {
     "name": "stderr",
     "output_type": "stream",
     "text": [
      " 26%|██▌       | 255/1000 [09:11<37:42,  3.04s/it]"
     ]
    },
    {
     "name": "stdout",
     "output_type": "stream",
     "text": [
      "Decoded tokens: ['$', 'Q', '_', '1', ',', ' Q', '_', '2', '$']\n",
      "Decoded tokens: ['$', ' Q', '_', ' {', ' 1', ' }', ' ,', ' Q', '_', ' {', ' 2', ' }', ' $']\n",
      "0.831\n"
     ]
    },
    {
     "name": "stderr",
     "output_type": "stream",
     "text": [
      " 26%|██▌       | 256/1000 [09:14<37:24,  3.02s/it]"
     ]
    },
    {
     "name": "stdout",
     "output_type": "stream",
     "text": [
      "Decoded tokens: ['$', ' \\\\', 'ell', ' \\\\', 'in', ' \\\\', 'math', 'bb', '{', 'N', '}', ' \\\\', 'set', 'minus', ' \\\\', '{', '0', ' \\\\', '}', ' $']\n",
      "Decoded tokens: ['$', ' \\\\', 'ell', ' \\\\', 'in', ' \\\\', 'N', '_', '0', ' $']\n",
      "0.8857\n"
     ]
    },
    {
     "name": "stderr",
     "output_type": "stream",
     "text": [
      " 26%|██▌       | 257/1000 [09:17<36:49,  2.97s/it]"
     ]
    },
    {
     "name": "stdout",
     "output_type": "stream",
     "text": [
      "Decoded tokens: ['$', 'q', '_', '0', ' =', ' \\\\', 'd', 'elta', '(', 'q', '_', '0', ',', ' \\\\', 'v', 'are', 'ps', 'ilon', ')', '$']\n",
      "Decoded tokens: ['$', ' q', '_', '0', ' =', ' \\\\', 'd', 'elta', ' (', ' q', '_', '0', ' ,', ' \\\\', 'v', 'are', 'ps', 'ilon', ' )', ' $']\n",
      "0.9758\n"
     ]
    },
    {
     "name": "stderr",
     "output_type": "stream",
     "text": [
      " 26%|██▌       | 258/1000 [09:19<31:44,  2.57s/it]"
     ]
    },
    {
     "name": "stdout",
     "output_type": "stream",
     "text": [
      "Decoded tokens: ['$', ' \\\\', 'math', 'cal', '{', 'D', '}', '_', 'i', '$']\n",
      "Decoded tokens: ['$', ' \\\\', 'math', 'cal', ' {', ' D', ' }', ' _', 'i', ' $']\n",
      "0.9716\n"
     ]
    },
    {
     "name": "stderr",
     "output_type": "stream",
     "text": [
      " 26%|██▌       | 259/1000 [09:20<28:58,  2.35s/it]"
     ]
    },
    {
     "name": "stdout",
     "output_type": "stream",
     "text": [
      "Decoded tokens: ['$', 'u', '_', '1', ' \\\\', 'equ', 'iv', ' u', '_', '2', '$']\n",
      "Decoded tokens: ['$', ' u', '_', '1', ' \\\\', 'equ', 'iv', ' u', '_', '2', ' $']\n",
      "0.982\n"
     ]
    },
    {
     "name": "stderr",
     "output_type": "stream",
     "text": [
      " 26%|██▌       | 260/1000 [09:22<27:14,  2.21s/it]"
     ]
    },
    {
     "name": "stdout",
     "output_type": "stream",
     "text": [
      "Decoded tokens: ['$', 'r', ' \\\\', 'in', ' \\\\', 'math', 'bb', '{', 'Q', '}', ' \\\\', 'set', 'minus', ' \\\\', '{', '0', ' \\\\', '}', '$']\n",
      "Decoded tokens: ['$', ' r', ' \\\\', 'in', ' \\\\', 'math', 'bb', ' {', ' Q', ' }', ' _', '-', ' $']\n",
      "0.9232\n"
     ]
    },
    {
     "name": "stderr",
     "output_type": "stream",
     "text": [
      " 26%|██▌       | 261/1000 [09:23<23:08,  1.88s/it]"
     ]
    },
    {
     "name": "stdout",
     "output_type": "stream",
     "text": [
      "Decoded tokens: ['$', ' \\\\', 'L', 'amb', 'da', ' =', ' 0', '$']\n",
      "Decoded tokens: ['$', ' \\\\', 'lambda', '=', '0', ' $']\n",
      "0.8035\n"
     ]
    },
    {
     "name": "stderr",
     "output_type": "stream",
     "text": [
      " 26%|██▌       | 262/1000 [09:25<21:13,  1.73s/it]"
     ]
    },
    {
     "name": "stdout",
     "output_type": "stream",
     "text": [
      "Decoded tokens: ['$', ' \\\\', 't', 'au', ' \\\\', 'ge', 'q', ' 0', ' $']\n",
      "Decoded tokens: ['$', ' \\\\', 't', 'au', ' \\\\', 'ge', 'q', '0', ' $']\n",
      "0.9934\n"
     ]
    },
    {
     "name": "stderr",
     "output_type": "stream",
     "text": [
      " 26%|██▋       | 263/1000 [09:26<18:49,  1.53s/it]"
     ]
    },
    {
     "name": "stdout",
     "output_type": "stream",
     "text": [
      "Decoded tokens: [' \\\\(', ' \\\\', 'display', 'style', ' \\\\', 'alpha', ' 1', ' \\\\', ')']\n",
      "Decoded tokens: ['$', ' \\\\', 'alpha', '_', '1', ' $']\n",
      "0.7756\n"
     ]
    },
    {
     "name": "stderr",
     "output_type": "stream",
     "text": [
      " 26%|██▋       | 264/1000 [09:28<20:16,  1.65s/it]"
     ]
    },
    {
     "name": "stdout",
     "output_type": "stream",
     "text": [
      "Decoded tokens: ['$', 'p', ' =', ' \\\\', 'sup', ' U', '^{', 'H', '_', 'p', '}', '$']\n",
      "Decoded tokens: ['$', ' p', '=', ' \\\\', 'sup', ' U', '^', 'H', '_', 'p', ' $']\n",
      "0.9599\n"
     ]
    },
    {
     "name": "stderr",
     "output_type": "stream",
     "text": [
      " 26%|██▋       | 265/1000 [09:29<18:40,  1.52s/it]"
     ]
    },
    {
     "name": "stdout",
     "output_type": "stream",
     "text": [
      "Decoded tokens: ['$', ' \\\\', 'ome', 'ga', '_', '0', ' >', ' 0', ' $']\n",
      "Decoded tokens: ['$', ' \\\\', 'ome', 'ga', '_', '0', ' >', ' 0', ' $']\n",
      "1.0\n"
     ]
    },
    {
     "name": "stderr",
     "output_type": "stream",
     "text": [
      " 27%|██▋       | 266/1000 [09:30<17:47,  1.45s/it]"
     ]
    },
    {
     "name": "stdout",
     "output_type": "stream",
     "text": [
      "Decoded tokens: [' \\\\', '($', ' \\\\', 'display', 'style', ' x', '_', 'j', ' \\\\', ')']\n",
      "Decoded tokens: ['$', ' x', '_', ' {', ' j', ' }', ' $']\n",
      "0.7358\n"
     ]
    },
    {
     "name": "stderr",
     "output_type": "stream",
     "text": [
      " 27%|██▋       | 267/1000 [09:33<20:19,  1.66s/it]"
     ]
    },
    {
     "name": "stdout",
     "output_type": "stream",
     "text": [
      "Decoded tokens: ['$', ' \\\\', 'over', 'line', '{', 'm', '}', '_{', 'tt', '}', '$']\n",
      "Decoded tokens: ['$', ' m', '_', ' \\\\', 'tt', 'bar', ' $']\n",
      "0.7425\n"
     ]
    },
    {
     "name": "stderr",
     "output_type": "stream",
     "text": [
      " 27%|██▋       | 268/1000 [09:34<20:18,  1.66s/it]"
     ]
    },
    {
     "name": "stdout",
     "output_type": "stream",
     "text": [
      "Decoded tokens: ['$', ' \\\\', 'text', '{', 'Re', 'LU', '}', ' \\\\', 'left', '(', ' \\\\', 'cd', 'ot', ' \\\\', 'right', ')', '$']\n",
      "Decoded tokens: ['$', ' Re', 'LU', ' (', ' \\\\', 'cd', 'ot', ' )', ' $']\n",
      "0.7395\n"
     ]
    },
    {
     "name": "stderr",
     "output_type": "stream",
     "text": [
      " 27%|██▋       | 269/1000 [09:36<19:32,  1.60s/it]"
     ]
    },
    {
     "name": "stdout",
     "output_type": "stream",
     "text": [
      "Decoded tokens: ['$', 'w', '_{', ' \\\\', 'math', 'rm', '{', 'i', '}}', '$']\n",
      "Decoded tokens: ['$', ' w', '_', ' {', ' i', ' }', ' $']\n",
      "0.8078\n"
     ]
    },
    {
     "name": "stderr",
     "output_type": "stream",
     "text": [
      " 27%|██▋       | 270/1000 [09:37<19:39,  1.62s/it]"
     ]
    },
    {
     "name": "stdout",
     "output_type": "stream",
     "text": [
      "Decoded tokens: ['$', 'P', '_', 'H', '(', ' \\\\', 'O', 'mega', ')', ' \\\\', 'cap', ' H', '$']\n",
      "Decoded tokens: ['$', ' P', '_', 'H', ' (', ' \\\\', 'O', 'mega', ' )', ' \\\\', 'cap', ' H', ' $']\n",
      "0.9828\n"
     ]
    },
    {
     "name": "stderr",
     "output_type": "stream",
     "text": [
      " 27%|██▋       | 271/1000 [09:40<23:54,  1.97s/it]"
     ]
    },
    {
     "name": "stdout",
     "output_type": "stream",
     "text": [
      "Decoded tokens: ['$', 'Y', '(', 'X', '_', 'm', ')', ' =', ' \\\\', 'd', 'elta', ' N', '(', 'X', '_', 'm', ')', ' +', ' \\\\', 'd', 'elta', ' C', '(', 'X', '_', 'm', ')', '$']\n",
      "Decoded tokens: ['$', ' Y', ' (', ' X', '_', ' {', ' (', ' m', ' )', ' }', ' )', ' =', ' \\\\', 'Delta', ' N', ' (', ' X', '_', ' {', ' (', ' m', ' )', ' }', ' )', ' +', ' \\\\', 'Delta', ' C', ' (', ' X', '_', ' {', ' (', ' m', ' )', ' }', ' )', ' ,', ' $']\n",
      "0.7752\n"
     ]
    },
    {
     "name": "stderr",
     "output_type": "stream",
     "text": [
      " 27%|██▋       | 272/1000 [09:41<21:47,  1.80s/it]"
     ]
    },
    {
     "name": "stdout",
     "output_type": "stream",
     "text": [
      "Decoded tokens: ['$', ' \\\\', 'math', 'sf', '{', 'F', '}', '_', '1', '$']\n",
      "Decoded tokens: ['$', ' F', '_', ' {', ' 1', ' }', ' $']\n",
      "0.7396\n"
     ]
    },
    {
     "name": "stderr",
     "output_type": "stream",
     "text": [
      " 27%|██▋       | 273/1000 [09:43<21:09,  1.75s/it]"
     ]
    },
    {
     "name": "stdout",
     "output_type": "stream",
     "text": [
      "Decoded tokens: ['$', 'C', '_', '0', ' \\\\', 'ge', 'q', ' 1', '$']\n",
      "Decoded tokens: ['$', ' C', '_', '0', ' \\\\', 'ge', 'q', ' 1', ' $']\n",
      "0.9917\n"
     ]
    },
    {
     "name": "stderr",
     "output_type": "stream",
     "text": [
      " 27%|██▋       | 274/1000 [09:46<24:06,  1.99s/it]"
     ]
    },
    {
     "name": "stdout",
     "output_type": "stream",
     "text": [
      "Decoded tokens: [' \\\\', '[', '\\n', '(-', ' \\\\', 'Delta', ' q', ',', ' \\\\', 'text', '{', 'pa', '}', '_', 't', ' q', ')', '_{', 'L', '^', '2', '}', '\\n', ' \\\\', ']']\n",
      "Decoded tokens: ['$', ' (', ' -', ' \\\\', 'Delta', ' q', ' ,', ' \\\\', 'pa', '_', 't', ' q', ' )', ' _', ' {', ' L', '^', '2', ' }', ' $']\n",
      "0.7369\n"
     ]
    },
    {
     "name": "stderr",
     "output_type": "stream",
     "text": [
      " 28%|██▊       | 275/1000 [09:47<22:57,  1.90s/it]"
     ]
    },
    {
     "name": "stdout",
     "output_type": "stream",
     "text": [
      "Decoded tokens: ['$', ' \\\\', 'math', 'bf', '{', ' \\\\', 'L', 'amb', 'da', '}', '$']\n",
      "Decoded tokens: ['$', ' \\\\', 'lambda', ' $']\n",
      "0.8668\n"
     ]
    },
    {
     "name": "stderr",
     "output_type": "stream",
     "text": [
      " 28%|██▊       | 276/1000 [09:49<22:29,  1.86s/it]"
     ]
    },
    {
     "name": "stdout",
     "output_type": "stream",
     "text": [
      "Decoded tokens: ['$', ' \\\\', 'Ph', 'i', '(', ' \\\\', 'the', 'ta', ' b', ')', ' $']\n",
      "Decoded tokens: ['$', ' \\\\', 'Ph', 'i', ' (', ' \\\\', 'the', 'tab', ' )', ' $']\n",
      "0.9228\n"
     ]
    },
    {
     "name": "stderr",
     "output_type": "stream",
     "text": [
      " 28%|██▊       | 277/1000 [09:54<32:58,  2.74s/it]"
     ]
    },
    {
     "name": "stdout",
     "output_type": "stream",
     "text": [
      "Decoded tokens: ['$', 'T', '(', 'n', ')', ' =', ' T', ' \\\\', 'cap', ' \\\\', 'pro', 'd', '_{', 'm', ' \\\\', 'in', ' [', 'n', ']}', ' S', '_', 'm', '^', 'm', '$']\n",
      "Decoded tokens: ['$', ' T', ' [', ' n', ' ]', ' =', 'T', ' \\\\', 'cap', ' \\\\', 'pro', 'd', '_', ' {', ' m', ' \\\\', 'in', ' n', ' }', ' (', ' S', '_', 'm', ' )', ' ^', 'm', ' $']\n",
      "0.8545\n"
     ]
    },
    {
     "name": "stderr",
     "output_type": "stream",
     "text": [
      " 28%|██▊       | 278/1000 [09:57<33:18,  2.77s/it]"
     ]
    },
    {
     "name": "stdout",
     "output_type": "stream",
     "text": [
      "Decoded tokens: ['$', ' \\\\', 'Gam', 'ma', '(', 't', ')', ' $']\n",
      "Decoded tokens: ['$', ' \\\\', 'gam', 'ma', ' (', ' t', ' )', ' $']\n",
      "0.9575\n"
     ]
    },
    {
     "name": "stderr",
     "output_type": "stream",
     "text": [
      " 28%|██▊       | 279/1000 [10:00<34:43,  2.89s/it]"
     ]
    },
    {
     "name": "stdout",
     "output_type": "stream",
     "text": [
      "Decoded tokens: ['$', 'u', '^{', ' \\\\', 'nu', '(', 't', ')}', '$']\n",
      "Decoded tokens: ['$', ' u', '^', ' \\\\', 'nu', ' (', ' t', ' )', ' $']\n",
      "0.9222\n"
     ]
    },
    {
     "name": "stderr",
     "output_type": "stream",
     "text": [
      " 28%|██▊       | 280/1000 [10:03<33:35,  2.80s/it]"
     ]
    },
    {
     "name": "stdout",
     "output_type": "stream",
     "text": [
      "Decoded tokens: ['$', 'x', '_', '1', '^{', '(', '1', ')}', '$']\n",
      "Decoded tokens: ['$', ' x', '_', '1', '^', ' {', ' (', ' 1', ' )', ' }', ' $']\n",
      "0.8641\n"
     ]
    },
    {
     "name": "stderr",
     "output_type": "stream",
     "text": [
      " 28%|██▊       | 281/1000 [10:04<29:23,  2.45s/it]"
     ]
    },
    {
     "name": "stdout",
     "output_type": "stream",
     "text": [
      "Decoded tokens: ['$', ' \\\\', 'ep', 'sil', 'on', ' >', ' 0', ' $']\n",
      "Decoded tokens: ['$', ' \\\\', 'ep', 'sil', 'on', ' >', ' 0', ' $']\n",
      "1.0\n"
     ]
    },
    {
     "name": "stderr",
     "output_type": "stream",
     "text": [
      " 28%|██▊       | 282/1000 [10:07<29:54,  2.50s/it]"
     ]
    },
    {
     "name": "stdout",
     "output_type": "stream",
     "text": [
      "Decoded tokens: ['$', ' \\\\', 'gam', 'ma', '_', 'r', ' =', ' \\\\', 'frac', '{', 'G', '_', 'r', '}{', ' \\\\', 's', 'igma', '_', 'N', '}', ' $']\n",
      "Decoded tokens: ['$', ' \\\\', 'gam', 'ma', '_', ' {', ' r', ' }', ' =', ' \\\\', 'frac', ' {', ' G', '_', ' {', ' r', ' }', ' }', ' {', ' \\\\', 's', 'igma', '_', ' {', ' N', ' }', ' }', ' $']\n",
      "0.8085\n"
     ]
    },
    {
     "name": "stderr",
     "output_type": "stream",
     "text": [
      " 28%|██▊       | 283/1000 [10:08<25:43,  2.15s/it]"
     ]
    },
    {
     "name": "stdout",
     "output_type": "stream",
     "text": [
      "Decoded tokens: ['$', ' \\\\', 'math', 'bb', '{', 'R', '}', '^', '2', '$']\n",
      "Decoded tokens: ['$', ' \\\\', 'math', 'cal', ' {', ' R', ' }', ' ^', ' {', ' 2', ' }', ' $']\n",
      "0.9086\n"
     ]
    },
    {
     "name": "stderr",
     "output_type": "stream",
     "text": [
      " 28%|██▊       | 284/1000 [10:10<23:36,  1.98s/it]"
     ]
    },
    {
     "name": "stdout",
     "output_type": "stream",
     "text": [
      "Decoded tokens: ['$', ' \\\\', 'math', 'cal', '{', 'V', '}', '_', '0', '$']\n",
      "Decoded tokens: ['$', ' V', '_', ' {', ' 0', ' }', ' $']\n",
      "0.7483\n"
     ]
    },
    {
     "name": "stderr",
     "output_type": "stream",
     "text": [
      " 28%|██▊       | 285/1000 [10:12<23:02,  1.93s/it]"
     ]
    },
    {
     "name": "stdout",
     "output_type": "stream",
     "text": [
      "Decoded tokens: ['$', ' \\\\', 'l', 'angle', ' \\\\', 'cd', 'ot', ',', ' \\\\', 'cd', 'ot', ' \\\\', 'r', 'angle', '$']\n",
      "Decoded tokens: ['$', ' \\\\', 'l', 'angle', ' \\\\', 'cd', 'ot', ' ,', ' \\\\', 'cd', 'ot', ' \\\\', 'r', 'angle', ' $']\n",
      "0.9865\n"
     ]
    },
    {
     "name": "stderr",
     "output_type": "stream",
     "text": [
      " 29%|██▊       | 286/1000 [10:13<20:40,  1.74s/it]"
     ]
    },
    {
     "name": "stdout",
     "output_type": "stream",
     "text": [
      "Decoded tokens: ['$', 'P', '_{', ' \\\\', 'text', '{', 'nat', '}}', '$']\n",
      "Decoded tokens: ['$', ' P', '_', ' {', ' nat', ' }', ' $']\n",
      "0.8193\n"
     ]
    },
    {
     "name": "stderr",
     "output_type": "stream",
     "text": [
      " 29%|██▊       | 287/1000 [10:14<19:14,  1.62s/it]"
     ]
    },
    {
     "name": "stdout",
     "output_type": "stream",
     "text": [
      "Decoded tokens: ['$', ' \\\\', 'math', 'cal', '{', 'V', '}', '_{', ' \\\\', 't', 'au', '}', '$']\n",
      "Decoded tokens: ['$', ' V', '_', ' {', ' \\\\', 't', 'au', ' }', ' $']\n",
      "0.768\n"
     ]
    },
    {
     "name": "stderr",
     "output_type": "stream",
     "text": [
      " 29%|██▉       | 288/1000 [10:18<26:47,  2.26s/it]"
     ]
    },
    {
     "name": "stdout",
     "output_type": "stream",
     "text": [
      "Decoded tokens: [' \\\\', '[', '\\n', ' \\\\', 'bold', 'sy', 'mbol', '{', 'f', '}', '_{', 'ij', '}', '^', 's', ' \\\\', 'cd', 'ot', ' \\\\', 'bold', 'sy', 'mbol', '{', 'c', '}', ' \\\\', 'le', 'q', ' 2', '\\n', ' \\\\', ']']\n",
      "Decoded tokens: ['$', ' \\\\', 'bm', ' f', '_', ' {', ' i', 'j', ' }', ' ^', 's', ' \\\\', 'cd', 'ot', ' \\\\', 'bm', ' c', ' \\\\', 'le', 'q', ' 2', ' $']\n",
      "0.6937\n"
     ]
    },
    {
     "name": "stderr",
     "output_type": "stream",
     "text": [
      " 29%|██▉       | 289/1000 [10:21<28:46,  2.43s/it]"
     ]
    },
    {
     "name": "stdout",
     "output_type": "stream",
     "text": [
      "Decoded tokens: [' \\\\(', ' \\\\', '{', ' \\\\', 'bold', 'sy', 'mbol', '{', ' \\\\', 'phi', '}', '^{', 's', ',', 't', '+', '1', '}', ' \\\\', '}', '^{', 'K', '}', '_{', 'k', '=', '1', '}', ' \\\\', ')']\n",
      "Decoded tokens: ['$', ' \\\\', ' {', ' \\\\', 'bold', 'sy', 'mbol', ' {', ' \\\\', 'phi', ' }', ' ^', ' {', ' \\\\', 'math', 'rm', ' {', ' s', ' }', ' ,', ' t', '+', '1', ' }', ' \\\\', ' }', ' ^', 'K', '_', ' {', ' k', '=', '1', ' }', ' $']\n",
      "0.8187\n"
     ]
    },
    {
     "name": "stderr",
     "output_type": "stream",
     "text": [
      " 29%|██▉       | 290/1000 [10:23<28:44,  2.43s/it]"
     ]
    },
    {
     "name": "stdout",
     "output_type": "stream",
     "text": [
      "Decoded tokens: [' \\\\', '[', '\\n', ' \\\\', 'text', '{', 'Sign', ' }', ' B', '_', ' \\\\', 'phi', ' (', 't', ',', ' r', ',', ' \\\\', 'the', 'ta', ')', '\\n', ' \\\\', ']']\n",
      "Decoded tokens: ['$', ' \\\\', 'mean', 'B', '_', ' \\\\', 'var', 'phi', ' (', ' t', ' ,', ' r', ' ,', ' \\\\', 'the', 'ta', ' )', ' $']\n",
      "0.7322\n"
     ]
    },
    {
     "name": "stderr",
     "output_type": "stream",
     "text": [
      " 29%|██▉       | 291/1000 [10:25<26:59,  2.28s/it]"
     ]
    },
    {
     "name": "stdout",
     "output_type": "stream",
     "text": [
      "Decoded tokens: ['$', 'C', ' \\\\', 'in', ' \\\\', 'math', 'bb', '{', 'S', '}', '_', 'n', '^', '+', '$']\n",
      "Decoded tokens: ['$', ' C', ' \\\\', 'in', ' \\\\', 'math', 'bb', ' {', ' S', ' }', ' _', ' {', ' +', ' }', ' ^', ' {', ' n', ' }', ' $']\n",
      "0.9125\n"
     ]
    },
    {
     "name": "stderr",
     "output_type": "stream",
     "text": [
      " 29%|██▉       | 292/1000 [10:26<23:15,  1.97s/it]"
     ]
    },
    {
     "name": "stdout",
     "output_type": "stream",
     "text": [
      "Decoded tokens: ['$', ' \\\\', 's', 'igma', '_{', ' \\\\', 'text', '{', 'count', '}}', '$']\n",
      "Decoded tokens: ['$', ' \\\\', 's', 'igma', '_', ' {', ' count', ' }', ' $']\n",
      "0.8697\n"
     ]
    },
    {
     "name": "stderr",
     "output_type": "stream",
     "text": [
      " 29%|██▉       | 293/1000 [10:29<25:10,  2.14s/it]"
     ]
    },
    {
     "name": "stdout",
     "output_type": "stream",
     "text": [
      "Decoded tokens: [' \\\\', 'text', '{', 'Sp', 'oken', ' English', ':', ' }', ' k', '_{', 'n', ',', 'T', '}', ' \\\\', 'pro', 'pt', 'o', ' n']\n",
      "Decoded tokens: ['$', ' k', '_', ' {', ' n', ' ,', ' T', ' }', ' \\\\', 'pro', 'pt', 'o', ' n', ' $']\n",
      "0.748\n"
     ]
    },
    {
     "name": "stderr",
     "output_type": "stream",
     "text": [
      " 29%|██▉       | 294/1000 [10:31<25:33,  2.17s/it]"
     ]
    },
    {
     "name": "stdout",
     "output_type": "stream",
     "text": [
      "Decoded tokens: ['$', 'P', '_', 'I', ' \\\\', 's', 'igma', ' \\\\', 'exp', '_', 'S', '$']\n",
      "Decoded tokens: ['$', ' P', '_', 'I', ' \\\\', 's', 'igma', '^', ' {', ' \\\\', 'rm', ' exp', ' }', ' _', ' {', ' \\\\', 'rm', ' S', ' }', ' $']\n",
      "0.8915\n"
     ]
    },
    {
     "name": "stderr",
     "output_type": "stream",
     "text": [
      " 30%|██▉       | 295/1000 [10:33<23:38,  2.01s/it]"
     ]
    },
    {
     "name": "stdout",
     "output_type": "stream",
     "text": [
      "Decoded tokens: ['$', 't', '^{', 'z', '}', '_{', ' \\\\', 'per', 'p', '}', '$']\n",
      "Decoded tokens: ['$', ' t', '^', ' {', ' z', ' }', ' _', ' {', ' \\\\', 'per', 'p', ' }', ' $']\n",
      "0.7743\n"
     ]
    },
    {
     "name": "stderr",
     "output_type": "stream",
     "text": [
      " 30%|██▉       | 296/1000 [10:34<21:54,  1.87s/it]"
     ]
    },
    {
     "name": "stdout",
     "output_type": "stream",
     "text": [
      "Decoded tokens: ['$', ' \\\\', 'math', 'bf', '{', 'c', '}', '_', 's', '$']\n",
      "Decoded tokens: ['$', ' c', '_', ' \\\\', 'math', 'rm', ' {', ' s', ' }', ' $']\n",
      "0.7795\n"
     ]
    },
    {
     "name": "stderr",
     "output_type": "stream",
     "text": [
      " 30%|██▉       | 297/1000 [10:36<22:09,  1.89s/it]"
     ]
    },
    {
     "name": "stdout",
     "output_type": "stream",
     "text": [
      "Decoded tokens: [' \\\\', '[', '\\n', ' \\\\', 'text', '{', ' \\\\', 'text', 'bf', '{', 'x', '}}', '\\n', ' \\\\', ']']\n",
      "Decoded tokens: ['$', ' w', '_', ' {', ' p', ' ,', ' \\\\', 'O', 'mega', ' }', ' \\\\', 'in', ' C', '^', ' {', ' 1', ' ,', ' \\\\', 'alpha', ' }', ' (', ' \\\\', 'O', 'mega', ' )', ' $']\n",
      "0.7708\n"
     ]
    },
    {
     "name": "stderr",
     "output_type": "stream",
     "text": [
      " 30%|██▉       | 298/1000 [10:39<26:40,  2.28s/it]"
     ]
    },
    {
     "name": "stdout",
     "output_type": "stream",
     "text": [
      "Decoded tokens: ['$', 'q', ' \\\\', 'gets', ' \\\\', 'max', '_{', ' \\\\', 'hat', '{', 'B', '}', ' \\\\', 'in', ' \\\\', 'math', 'cal', '{', 'P', '}', '_', 'k', '}', ' (', 'B', ',', ' \\\\', 'hat', '{', 'B', '})', '$']\n",
      "Decoded tokens: ['$', ' q', ' \\\\', 'gets', ' \\\\', 'max', '_', ' {', ' \\\\', 'hat', ' {', ' B', ' }', ' \\\\', 'in', ' \\\\', 'math', 'cal', ' {', ' P', ' }', ' _', 'k', ' }', ' sim', ' (', ' B', ' ,', ' \\\\', 'hat', ' {', ' B', ' }', ' )', ' $']\n",
      "0.7805\n"
     ]
    },
    {
     "name": "stderr",
     "output_type": "stream",
     "text": [
      " 30%|██▉       | 299/1000 [10:42<26:09,  2.24s/it]"
     ]
    },
    {
     "name": "stdout",
     "output_type": "stream",
     "text": [
      "Decoded tokens: ['$', 'R', '(', 'D', '_', '1', ',', ' D', '_', '2', ' \\\\', 'mid', ' P', '_', 'X', ')', '$']\n",
      "Decoded tokens: ['$', ' \\\\', 'cal', 'R', ' (', ' D', '_', '1', ' ,', ' D', '_', '2', '|', 'P', '_', 'X', ' )', ' $']\n",
      "0.7874\n"
     ]
    },
    {
     "name": "stderr",
     "output_type": "stream",
     "text": [
      " 30%|███       | 300/1000 [10:44<26:02,  2.23s/it]"
     ]
    },
    {
     "name": "stdout",
     "output_type": "stream",
     "text": [
      "Decoded tokens: ['$', 'p', \"'\", ' \\\\', 'left', 'arrow', ' N', '_', 'D', ' \\\\', 'cd', 'ot', ' V', '[', 'pos', ']', '$']\n",
      "Decoded tokens: ['$', ' p', \" '\", ' \\\\', 'gets', ' \\\\', 'math', 'sf', ' {', ' N', '_', 'D', ' }', ' .', ' \\\\', 'bold', 'sy', 'mbol', ' {', ' V', ' }', ' [', ' pos', ' ]', ' $']\n",
      "0.7577\n"
     ]
    },
    {
     "name": "stderr",
     "output_type": "stream",
     "text": [
      " 30%|███       | 301/1000 [10:47<28:06,  2.41s/it]"
     ]
    },
    {
     "name": "stdout",
     "output_type": "stream",
     "text": [
      "Decoded tokens: [' \\\\(', '+', '0', '.', '12', ' \\\\', ',', ' \\\\', 'text', '{', 'mb', 'ox', '}', ' +', ' (-', '0', '.', '12', ' \\\\', ',', ' \\\\', 'text', '{', 'mb', 'ox', '})', ' -', ' \\\\', ')']\n",
      "Decoded tokens: ['$', ' ^', ' {', ' +', '0', '.', '12', ' }', ' _', ' {', ' -', '0', '.', '12', ' }', ' $']\n",
      "0.7581\n"
     ]
    },
    {
     "name": "stderr",
     "output_type": "stream",
     "text": [
      " 30%|███       | 302/1000 [10:48<25:14,  2.17s/it]"
     ]
    },
    {
     "name": "stdout",
     "output_type": "stream",
     "text": [
      "Decoded tokens: ['$', ' \\\\', 'sq', 'rt', '{', ' \\\\', 'text', '{', 'Hz', '}}', '$']\n",
      "Decoded tokens: ['$', ' \\\\', 'sq', 'rt', ' {', ' \\\\', 'text', 'rm', ' {', ' Hz', ' }', ' }', ' $']\n",
      "0.8976\n"
     ]
    },
    {
     "name": "stderr",
     "output_type": "stream",
     "text": [
      " 30%|███       | 303/1000 [10:52<31:34,  2.72s/it]"
     ]
    },
    {
     "name": "stdout",
     "output_type": "stream",
     "text": [
      "Decoded tokens: [' \\\\', '[', '\\n', 'F', ' \\\\', 'in', ' \\\\', 'math', 'cal', '{', 'C', '}', '^', ' \\\\', 'in', 'fty', ' (', ' \\\\', 'math', 'bb', '{', 'R', '}', '^', 'd', ',', ' \\\\', 'math', 'bb', '{', 'R', '}', '^', 'd', ')', '\\n', ' \\\\', ']']\n",
      "Decoded tokens: ['$', ' F', ' \\\\', 'in', ' \\\\', 'math', 'cal', ' \\\\', ' {', ' C', '^', ' {', ' \\\\', 'in', 'fty', ' }', ' (', ' \\\\', 'math', 'bb', ' \\\\', ' {', ' R', '^', 'd', ' ,', ' \\\\', 'math', 'bb', ' \\\\', ' {', ' R', '^', 'd', ' )', ' $']\n",
      "0.8319\n"
     ]
    },
    {
     "name": "stderr",
     "output_type": "stream",
     "text": [
      " 30%|███       | 304/1000 [10:53<26:19,  2.27s/it]"
     ]
    },
    {
     "name": "stdout",
     "output_type": "stream",
     "text": [
      "Decoded tokens: ['$', 'j', ' \\\\', 'le', 'q', ' 0', '$']\n",
      "Decoded tokens: ['$', ' j', ' \\\\', 'le', 'q', ' 0', ' $']\n",
      "0.9852\n"
     ]
    },
    {
     "name": "stderr",
     "output_type": "stream",
     "text": [
      " 30%|███       | 305/1000 [10:55<23:22,  2.02s/it]"
     ]
    },
    {
     "name": "stdout",
     "output_type": "stream",
     "text": [
      "Decoded tokens: ['$', 'e', '_{', 'F', '}', \"'\", ' \\\\', 'times', ' X', '$']\n",
      "Decoded tokens: ['$', ' e', '_', ' {', ' F', \" '\", ' }', ' X', ' $']\n",
      "0.7945\n"
     ]
    },
    {
     "name": "stderr",
     "output_type": "stream",
     "text": [
      " 31%|███       | 306/1000 [10:59<30:16,  2.62s/it]"
     ]
    },
    {
     "name": "stdout",
     "output_type": "stream",
     "text": [
      "Decoded tokens: [' \\\\(', ' \\\\', 'text', '{', 'Sum', 'Size', '}', '_', 'i', ' \\\\', 'l', 'hd', ' \\\\', 'text', '{', 'Sum', 'Size', '}', '_', 'j', ' \\\\', 'l', 'hd', ' \\\\', 'text', '{', 'Sum', 'Size', '}', '_', 'i', ' \\\\', 'text', '{', ' and', ' }', ' \\\\', 'text', '{', 'Sum', 'Size', '}', '_', 'i', ' =', ' \\\\', 'text', '{', 'Sum', 'Size', '}', '_', 'j', ' \\\\', ')']\n",
      "Decoded tokens: ['$', ' (', ' \\\\', 'S', 'obs', 'i', ' \\\\', 'lt', 'p', ' \\\\', 'S', 'obs', 'j', ' \\\\', 'lor', ' \\\\', 'S', 'obs', 'j', ' \\\\', 'lt', 'p', ' \\\\', 'S', 'obs', 'i', ' )', ' \\\\', 'land', ' \\\\', 'S', 'dec', 'i', ' =', ' \\\\', 'S', 'dec', 'j', ' $']\n",
      "0.7264\n"
     ]
    },
    {
     "name": "stderr",
     "output_type": "stream",
     "text": [
      " 31%|███       | 307/1000 [11:00<25:44,  2.23s/it]"
     ]
    },
    {
     "name": "stdout",
     "output_type": "stream",
     "text": [
      "Decoded tokens: ['$', '64', ' \\\\', 'div', ' \\\\', 'text', '{', 'channel', ' size', '}', '$']\n",
      "Decoded tokens: ['$', ' \\\\', 'frac', ' {', ' 64', ' }', ' {', ' \\\\', 'text', ' {', ' channel', ' size', ' }', ' }', ' $']\n",
      "0.7723\n"
     ]
    },
    {
     "name": "stderr",
     "output_type": "stream",
     "text": [
      " 31%|███       | 308/1000 [11:03<26:07,  2.27s/it]"
     ]
    },
    {
     "name": "stdout",
     "output_type": "stream",
     "text": [
      "Decoded tokens: ['$', ' \\\\', 'math', 'cal', '{', 'C', '}', '_{', ' \\\\', 'text', '{', 'Paul', 'i', '}}', '(', ' \\\\', 'r', 'ho', ')', '$']\n",
      "Decoded tokens: ['$', ' C', '_', ' {', ' \\\\', 'rm', ' Paul', 'i', ' }', ' (', ' \\\\', 'r', 'ho', ' )', ' $']\n",
      "0.7329\n"
     ]
    },
    {
     "name": "stderr",
     "output_type": "stream",
     "text": [
      " 31%|███       | 309/1000 [11:04<23:48,  2.07s/it]"
     ]
    },
    {
     "name": "stdout",
     "output_type": "stream",
     "text": [
      "Decoded tokens: [' \\\\', '[', '\\n', 'm', ' \\\\', 'ge', 'q', ' 0', '\\n', ' \\\\', ']']\n",
      "Decoded tokens: ['$', ' m', ' \\\\', 'ge', 'q', ' 0', ' $']\n",
      "0.723\n"
     ]
    },
    {
     "name": "stderr",
     "output_type": "stream",
     "text": [
      " 31%|███       | 310/1000 [11:08<28:46,  2.50s/it]"
     ]
    },
    {
     "name": "stdout",
     "output_type": "stream",
     "text": [
      "Decoded tokens: [' \\\\', '[', '\\n', ' \\\\', 'k', 'appa', '_', 'c', ' =', ' -', '200', '{', ',', '}', '000', ' \\\\', ',', ' \\\\', 'math', 'rm', '{', 'm', '}', '^{', '-', '1', '}', '\\n', ' \\\\', ']']\n",
      "Decoded tokens: ['$', ' \\\\', 'k', 'appa', '_', 'c', ' =', ' -', '2500', ' \\\\', ' ,', ' \\\\', 'math', 'rm', ' {', ' m', '^', ' {', ' -', '1', ' }', ' }', ' $']\n",
      "0.7335\n"
     ]
    },
    {
     "name": "stderr",
     "output_type": "stream",
     "text": [
      " 31%|███       | 311/1000 [11:10<28:12,  2.46s/it]"
     ]
    },
    {
     "name": "stdout",
     "output_type": "stream",
     "text": [
      "Decoded tokens: ['$', 'w', '_', 't', ' =', ' 0', ' \\\\', 'quad', ' w', '_', 't', ' =', ' \\\\', 'math', 'cal', '{', 'T', '}', ' =', ' 0', '$']\n",
      "Decoded tokens: ['$', ' w', '_', ' {', ' t', '=', '0', ' }', ' =', 'w', '_', ' {', ' t', '=', 'T', ' }', ' =', '0', ' $']\n",
      "0.7842\n"
     ]
    },
    {
     "name": "stderr",
     "output_type": "stream",
     "text": [
      " 31%|███       | 312/1000 [11:12<25:42,  2.24s/it]"
     ]
    },
    {
     "name": "stdout",
     "output_type": "stream",
     "text": [
      "Decoded tokens: ['$', ' \\\\', 'hat', '{', ' \\\\', 't', 'au', '},', ' W', '^', 'T', '$']\n",
      "Decoded tokens: ['$', ' \\\\', 'hat', ' {', ' \\\\', 't', 'au', ' }', ' W', '^', 'T', ' $']\n",
      "0.986\n"
     ]
    },
    {
     "name": "stderr",
     "output_type": "stream",
     "text": [
      " 31%|███▏      | 313/1000 [11:13<22:11,  1.94s/it]"
     ]
    },
    {
     "name": "stdout",
     "output_type": "stream",
     "text": [
      "Decoded tokens: ['$', '1', ',', ' \\\\', 'ld', 'ots', ',', ' n', '$']\n",
      "Decoded tokens: ['$', ' \\\\', ' {', ' 1', ' ,', ' \\\\', 'd', 'ots', ' ,', ' n', ' \\\\', ' }', ' $']\n",
      "0.7364\n"
     ]
    },
    {
     "name": "stderr",
     "output_type": "stream",
     "text": [
      " 31%|███▏      | 314/1000 [11:34<1:27:11,  7.63s/it]"
     ]
    },
    {
     "name": "stdout",
     "output_type": "stream",
     "text": [
      "Decoded tokens: [' \\\\', '[', '\\n', ' \\\\', 'text', '{', '0', ' is', ' less', ' than', ' }', ' \\\\', 'the', 'ta', ' \\\\', 'text', '{', ' which', ' is', ' less', ' than', ' 1', '.}', '\\n', ' \\\\', ']']\n",
      "Decoded tokens: ['$', ' 0', ' <', ' \\\\', 'the', 'ta', ' <', ' 1', ' $']\n",
      "0.7929\n"
     ]
    },
    {
     "name": "stderr",
     "output_type": "stream",
     "text": [
      " 32%|███▏      | 315/1000 [11:37<1:12:29,  6.35s/it]"
     ]
    },
    {
     "name": "stdout",
     "output_type": "stream",
     "text": [
      "Decoded tokens: ['$', 'g', '_{', 'x', '_', '1', '}', ' (', ' \\\\', 'cd', 'ot', ')', '$']\n",
      "Decoded tokens: ['$', ' g', '_', ' {', ' x', '_', '1', ' }', ' (', ' \\\\', 'cd', 'ot', ' )', ' $']\n",
      "0.7728\n"
     ]
    },
    {
     "name": "stderr",
     "output_type": "stream",
     "text": [
      " 32%|███▏      | 316/1000 [11:41<1:04:36,  5.67s/it]"
     ]
    },
    {
     "name": "stdout",
     "output_type": "stream",
     "text": [
      "Decoded tokens: ['$', '(', 'f', '^', 'i', ')', '_{', 'i', ' \\\\', 'in', ' I', '}', '$']\n",
      "Decoded tokens: ['$', ' \\\\', ' {', ' f', '^', 'i', ' \\\\', ' }', ' _', ' {', ' i', ' \\\\', 'in', ' I', ' }', ' $']\n",
      "0.7801\n"
     ]
    },
    {
     "name": "stderr",
     "output_type": "stream",
     "text": [
      " 32%|███▏      | 317/1000 [11:44<53:59,  4.74s/it]  "
     ]
    },
    {
     "name": "stdout",
     "output_type": "stream",
     "text": [
      "Decoded tokens: ['$', 't', '_{', 'k', ' s', ' +', ' 1', '}', ' \\\\', 'ge', 'q', ' n', ' s', ' +', ' 1', '$']\n",
      "Decoded tokens: ['$', ' t', '_', ' {', ' k', 's', '+', '1', ' }', ' \\\\', 'ge', 'q', ' ns', '+', '1', ' $']\n",
      "0.812\n"
     ]
    },
    {
     "name": "stderr",
     "output_type": "stream",
     "text": [
      " 32%|███▏      | 318/1000 [11:46<44:00,  3.87s/it]"
     ]
    },
    {
     "name": "stdout",
     "output_type": "stream",
     "text": [
      "Decoded tokens: ['$', ' \\\\', 'The', 'ta', '_', 'j', '$']\n",
      "Decoded tokens: ['$', ' \\\\', 'the', 'ta', '_', 'j', ' $']\n",
      "0.9863\n"
     ]
    },
    {
     "name": "stderr",
     "output_type": "stream",
     "text": [
      " 32%|███▏      | 319/1000 [11:49<41:24,  3.65s/it]"
     ]
    },
    {
     "name": "stdout",
     "output_type": "stream",
     "text": [
      "Decoded tokens: ['$', ' \\\\', 'math', 'cal', '{', 'H', '}', '_', 'T', '$']\n",
      "Decoded tokens: ['$', ' H', '_', ' {', ' T', ' }', ' $']\n",
      "0.7353\n"
     ]
    },
    {
     "name": "stderr",
     "output_type": "stream",
     "text": [
      " 32%|███▏      | 320/1000 [11:52<39:54,  3.52s/it]"
     ]
    },
    {
     "name": "stdout",
     "output_type": "stream",
     "text": [
      "Decoded tokens: ['$', ' \\\\', 'math', 'cal', '{', 'H', '}', '_', 'T', '$']\n",
      "Decoded tokens: ['$', ' \\\\', 'c', 'H', '_', ' {', ' \\\\', 't', 'T', ' }', ' $']\n",
      "0.82\n"
     ]
    },
    {
     "name": "stderr",
     "output_type": "stream",
     "text": [
      " 32%|███▏      | 321/1000 [11:57<44:16,  3.91s/it]"
     ]
    },
    {
     "name": "stdout",
     "output_type": "stream",
     "text": [
      "Decoded tokens: ['$', 'z', '_', '1', ',', ' z', '_', '2', ' \\\\', 'ge', 'q', ' 0', '$']\n",
      "Decoded tokens: ['$', ' z', '_', '1', ' z', '_', '2', ' \\\\', 'ge', 'q', ' 0', ' $']\n",
      "0.8199\n"
     ]
    },
    {
     "name": "stderr",
     "output_type": "stream",
     "text": [
      " 32%|███▏      | 322/1000 [12:04<56:36,  5.01s/it]"
     ]
    },
    {
     "name": "stdout",
     "output_type": "stream",
     "text": [
      "Decoded tokens: ['$', ' \\\\', 'wide', 'hat', '{', 'E', '}', \"'\", '_{', ' \\\\', 'ell', '}', ' \\\\', 'ne', 'q', ' i', '$']\n",
      "Decoded tokens: ['$', ' \\\\', 'wide', 'hat', ' {', ' E', \" '\", ' }', ' _', ' {', ' \\\\', 'ell', ' \\\\', 'ne', 'q', ' i', ' }', ' $']\n",
      "0.8843\n"
     ]
    },
    {
     "name": "stderr",
     "output_type": "stream",
     "text": [
      " 32%|███▏      | 323/1000 [12:08<49:56,  4.43s/it]"
     ]
    },
    {
     "name": "stdout",
     "output_type": "stream",
     "text": [
      "Decoded tokens: ['$', 'y', ' \\\\', 'in', ' \\\\', '{', ' y', ' \\\\', 'mid', ' y', ' \\\\', 'in', ' \\\\', 'text', '{', 'em', 'ph', '}', ' F', '(', 'X', ')', ' \\\\', '}', '$']\n",
      "Decoded tokens: ['$', ' y', ' \\\\', 'in', ' e', '_', 'F', ' X', ' $']\n",
      "0.8294\n"
     ]
    },
    {
     "name": "stderr",
     "output_type": "stream",
     "text": [
      " 32%|███▏      | 324/1000 [12:09<40:27,  3.59s/it]"
     ]
    },
    {
     "name": "stdout",
     "output_type": "stream",
     "text": [
      "Decoded tokens: ['$', 't', '_', '0', ' <', ' \\\\', 'frac', '{', '1', '}{', '2', '}', '$']\n",
      "Decoded tokens: ['$', ' t', '_', '0', ' <', ' 1', '/', '2', ' $']\n",
      "0.8616\n"
     ]
    },
    {
     "name": "stderr",
     "output_type": "stream",
     "text": [
      " 32%|███▎      | 325/1000 [12:11<33:50,  3.01s/it]"
     ]
    },
    {
     "name": "stdout",
     "output_type": "stream",
     "text": [
      "Decoded tokens: ['$', 'V', '_', '0', ',', ' L', ',', ' T', '^{', '-', '1', '}', '$']\n",
      "Decoded tokens: ['$', ' V', '_', ' {', ' 0', ' ,', ' L', ' ,', ' T', '-', '1', ' }', ' $']\n",
      "0.8656\n"
     ]
    },
    {
     "name": "stderr",
     "output_type": "stream",
     "text": [
      " 33%|███▎      | 326/1000 [12:12<28:46,  2.56s/it]"
     ]
    },
    {
     "name": "stdout",
     "output_type": "stream",
     "text": [
      "Decoded tokens: ['$', ' \\\\', 'pi', '_', ' \\\\', 't', 'au', ' $']\n",
      "Decoded tokens: ['$', ' \\\\', 'pi', '_', ' \\\\', 't', 'au', ' $']\n",
      "1.0\n"
     ]
    },
    {
     "name": "stderr",
     "output_type": "stream",
     "text": [
      " 33%|███▎      | 327/1000 [12:14<26:18,  2.35s/it]"
     ]
    },
    {
     "name": "stdout",
     "output_type": "stream",
     "text": [
      "Decoded tokens: ['$', ' \\\\', 'hat', '{', 'Y', '}', '^', 'm', '$']\n",
      "Decoded tokens: ['$', ' \\\\', 'hat', ' {', ' Y', ' }', ' ^', 'm', ' $']\n",
      "0.9752\n"
     ]
    },
    {
     "name": "stderr",
     "output_type": "stream",
     "text": [
      " 33%|███▎      | 328/1000 [12:16<24:14,  2.16s/it]"
     ]
    },
    {
     "name": "stdout",
     "output_type": "stream",
     "text": [
      "Decoded tokens: ['$', ' \\\\', 'math', 'cal', '{', 'A', '}', '_', 's', '$']\n",
      "Decoded tokens: ['$', ' \\\\', 'math', 'bf', ' {', ' A', ' }', ' _', 's', ' $']\n",
      "0.9461\n"
     ]
    },
    {
     "name": "stderr",
     "output_type": "stream",
     "text": [
      " 33%|███▎      | 329/1000 [12:18<22:48,  2.04s/it]"
     ]
    },
    {
     "name": "stdout",
     "output_type": "stream",
     "text": [
      "Decoded tokens: ['$', 'T', '_{', ' \\\\', 'text', '{', 'cc', '}}', '$']\n",
      "Decoded tokens: ['$', ' T', '_', ' {', ' cc', ' }', ' $']\n",
      "0.8299\n"
     ]
    },
    {
     "name": "stderr",
     "output_type": "stream",
     "text": [
      " 33%|███▎      | 330/1000 [12:19<21:46,  1.95s/it]"
     ]
    },
    {
     "name": "stdout",
     "output_type": "stream",
     "text": [
      "Decoded tokens: ['$', ' \\\\', 's', 'igma', '_{', ' \\\\', 'text', '{', 'max', '}}', '$']\n",
      "Decoded tokens: ['$', ' \\\\', 's', 'igma', '_', ' {', ' \\\\', 'text', ' {', ' max', ' }', ' }', ' $']\n",
      "0.8413\n"
     ]
    },
    {
     "name": "stderr",
     "output_type": "stream",
     "text": [
      " 33%|███▎      | 331/1000 [12:21<21:02,  1.89s/it]"
     ]
    },
    {
     "name": "stdout",
     "output_type": "stream",
     "text": [
      "Decoded tokens: ['$', 'L', ' \\\\', 'in', ' M', ',', ' \\\\', 't', 'au', ' D', ',', ' D', '$']\n",
      "Decoded tokens: ['$', ' \\\\', 'mb', ' {', ' L', ' }', ' \\\\', 'in', ' (', ' \\\\', 'mc', ' {', ' M', ' }', ' ,', ' \\\\', 't', 'au', '_', ' \\\\', 'mc', ' {', ' D', ' }', ' ,', ' \\\\', 'mc', ' {', ' D', ' }', ' )', ' $']\n",
      "0.753\n"
     ]
    },
    {
     "name": "stderr",
     "output_type": "stream",
     "text": [
      " 33%|███▎      | 332/1000 [12:22<18:47,  1.69s/it]"
     ]
    },
    {
     "name": "stdout",
     "output_type": "stream",
     "text": [
      "Decoded tokens: ['$', 's', '_{', 'b', '-', '1', '}', '$']\n",
      "Decoded tokens: ['$', ' \\\\', 'bold', 'sy', 'mbol', ' {', ' s', ' }', ' _', ' {', ' b', '-', '1', ' }', ' $']\n",
      "0.7305\n"
     ]
    },
    {
     "name": "stderr",
     "output_type": "stream",
     "text": [
      " 33%|███▎      | 333/1000 [12:25<21:41,  1.95s/it]"
     ]
    },
    {
     "name": "stdout",
     "output_type": "stream",
     "text": [
      "Decoded tokens: ['$', 'b', '^', '2', ' =', ' \\\\', 'frac', '{', '1', '}{', ' \\\\', 'lambda', '}', ' a', '^', '2', '$']\n",
      "Decoded tokens: ['$', ' b', '^', '2', ' =', ' {', ' 1', ' \\\\', 'over', ' \\\\', 'lambda', ' }', ' a', '^', '2', ' $']\n",
      "0.8123\n"
     ]
    },
    {
     "name": "stderr",
     "output_type": "stream",
     "text": [
      " 33%|███▎      | 334/1000 [12:27<20:56,  1.89s/it]"
     ]
    },
    {
     "name": "stdout",
     "output_type": "stream",
     "text": [
      "Decoded tokens: ['$', '1', ' \\\\', 'le', 'q', ' i', ' <', ' j', ' \\\\', 'le', 'q', ' k', '$']\n",
      "Decoded tokens: ['$', ' 1', ' \\\\', 'le', 'q', ' i', ' <', ' j', ' \\\\', 'le', 'q', ' k', ' $']\n",
      "0.993\n"
     ]
    },
    {
     "name": "stderr",
     "output_type": "stream",
     "text": [
      " 34%|███▎      | 335/1000 [12:28<19:05,  1.72s/it]"
     ]
    },
    {
     "name": "stdout",
     "output_type": "stream",
     "text": [
      "Decoded tokens: ['$', ' \\\\', 'Ph', 'i', '^', '*', '$']\n",
      "Decoded tokens: ['$', ' \\\\', 'Ph', 'i', '^', ' *', ' $']\n",
      "0.987\n"
     ]
    },
    {
     "name": "stderr",
     "output_type": "stream",
     "text": [
      " 34%|███▎      | 336/1000 [12:30<20:27,  1.85s/it]"
     ]
    },
    {
     "name": "stdout",
     "output_type": "stream",
     "text": [
      "Decoded tokens: ['$', ' \\\\', 's', 'igma', '_', '0', ' \\\\', 'ne', 'q', ' 0', '$']\n",
      "Decoded tokens: ['$', ' \\\\', 's', 'igma', '_', '0', ' \\\\', 'ne', 'q', ' 0', ' $']\n",
      "0.9964\n"
     ]
    },
    {
     "name": "stderr",
     "output_type": "stream",
     "text": [
      " 34%|███▎      | 337/1000 [12:32<19:02,  1.72s/it]"
     ]
    },
    {
     "name": "stdout",
     "output_type": "stream",
     "text": [
      "Decoded tokens: ['$', ' -', '1', ' $']\n",
      "Decoded tokens: ['$', ' ^', ' {', ' -', '1', ' }', ' $']\n",
      "0.802\n"
     ]
    },
    {
     "name": "stderr",
     "output_type": "stream",
     "text": [
      " 34%|███▍      | 338/1000 [12:37<31:23,  2.85s/it]"
     ]
    },
    {
     "name": "stdout",
     "output_type": "stream",
     "text": [
      "Decoded tokens: ['$', 'R', '_{', 'd', '}', '^', '*', ' =', ' \\\\', 'max', '(', '8', 'L', '_{', 'd', '},', ' 2', 'B', ' +', ' 4', 'L', '_{', 'd', '})', '$']\n",
      "Decoded tokens: ['$', ' R', '_', 'd', '^', ' *', ' \\\\', 'def', 'eq', ' \\\\', 'max', ' \\\\', ' {', ' 8', 'L', '_', 'd', ' ,', ' 2', 'B', '+', '4', 'L', '_', 'd', ' \\\\', ' }', ' $']\n",
      "0.7741\n"
     ]
    },
    {
     "name": "stderr",
     "output_type": "stream",
     "text": [
      " 34%|███▍      | 339/1000 [12:40<31:37,  2.87s/it]"
     ]
    },
    {
     "name": "stdout",
     "output_type": "stream",
     "text": [
      "Decoded tokens: ['$', '1', ' -', ' \\\\', 'lambda', '_', 'i', '$']\n",
      "Decoded tokens: ['$', ' {', ' 1', ' -', ' \\\\', 'lambda', '_', 'i', ' }', ' $']\n",
      "0.7738\n"
     ]
    },
    {
     "name": "stderr",
     "output_type": "stream",
     "text": [
      " 34%|███▍      | 340/1000 [12:43<30:55,  2.81s/it]"
     ]
    },
    {
     "name": "stdout",
     "output_type": "stream",
     "text": [
      "Decoded tokens: ['$', ' \\\\', 'O', 'mega', ' i', ' $']\n",
      "Decoded tokens: ['$', ' \\\\', 'O', 'mega', '_', 'i', ' $']\n",
      "0.9161\n"
     ]
    },
    {
     "name": "stderr",
     "output_type": "stream",
     "text": [
      " 34%|███▍      | 341/1000 [12:46<32:10,  2.93s/it]"
     ]
    },
    {
     "name": "stdout",
     "output_type": "stream",
     "text": [
      "Decoded tokens: ['$', ' \\\\', 'ep', 'sil', 'on', ' >', ' 0', '$']\n",
      "Decoded tokens: ['$', ' \\\\', 'ep', 'sil', 'on', ' >', ' 0', ' $']\n",
      "0.9949\n"
     ]
    },
    {
     "name": "stderr",
     "output_type": "stream",
     "text": [
      " 34%|███▍      | 342/1000 [12:50<35:03,  3.20s/it]"
     ]
    },
    {
     "name": "stdout",
     "output_type": "stream",
     "text": [
      "Decoded tokens: [' \\\\(', ' \\\\', 'display', 'style', ' u', '_', 'i', ' \\\\', ')']\n",
      "Decoded tokens: ['$', ' \\\\', ' {', ' u', '_', 'i', ' \\\\', ' }', ' $']\n",
      "0.7695\n"
     ]
    },
    {
     "name": "stderr",
     "output_type": "stream",
     "text": [
      " 34%|███▍      | 343/1000 [12:54<37:05,  3.39s/it]"
     ]
    },
    {
     "name": "stdout",
     "output_type": "stream",
     "text": [
      "Decoded tokens: ['$', ' \\\\', 'oper', 'at', 'orn', 'ame', '{', 'Is', 'R', '}', '(', 'B', ')', ' =', ' [-', 'y', '_', '3', ',', ' -', 'y', ']', ' $']\n",
      "Decoded tokens: ['$', ' \\\\', 'text', ' {', ' Is', ' }', ' _', 'R', ' (', ' B', ' )', ' =', ' [', ' -', 'y', '_', '3', '^', ' *', ' ,', ' -', 'y', ' ]', ' $']\n",
      "0.7593\n"
     ]
    },
    {
     "name": "stderr",
     "output_type": "stream",
     "text": [
      " 34%|███▍      | 344/1000 [12:55<30:15,  2.77s/it]"
     ]
    },
    {
     "name": "stdout",
     "output_type": "stream",
     "text": [
      "Decoded tokens: ['$', 'P', '_', '0', ' =', ' 200', '$']\n",
      "Decoded tokens: ['$', ' P', '_', '0', '=', '200', ' $']\n",
      "0.9745\n"
     ]
    },
    {
     "name": "stderr",
     "output_type": "stream",
     "text": [
      " 34%|███▍      | 345/1000 [12:56<25:30,  2.34s/it]"
     ]
    },
    {
     "name": "stdout",
     "output_type": "stream",
     "text": [
      "Decoded tokens: ['$', ' \\\\', 'lambda', ' +', ' \\\\', 's', 'igma', '$']\n",
      "Decoded tokens: ['$', ' \\\\', 'lambda', '+', ' \\\\', 's', 'igma', ' $']\n",
      "0.9875\n"
     ]
    },
    {
     "name": "stderr",
     "output_type": "stream",
     "text": [
      " 35%|███▍      | 346/1000 [12:58<23:11,  2.13s/it]"
     ]
    },
    {
     "name": "stdout",
     "output_type": "stream",
     "text": [
      "Decoded tokens: ['$', ' \\\\', 'math', 'bb', '{', 'P', '}', '_', 'i', '$']\n",
      "Decoded tokens: ['$', ' P', '_', ' {', ' i', ' }', ' $']\n",
      "0.7386\n"
     ]
    },
    {
     "name": "stderr",
     "output_type": "stream",
     "text": [
      " 35%|███▍      | 347/1000 [12:59<19:52,  1.83s/it]"
     ]
    },
    {
     "name": "stdout",
     "output_type": "stream",
     "text": [
      "Decoded tokens: ['$', ' \\\\', 'S', 'igma', ' i', '$']\n",
      "Decoded tokens: ['$', ' \\\\', 's', 'igma', '_', 'i', ' $']\n",
      "0.8992\n"
     ]
    },
    {
     "name": "stderr",
     "output_type": "stream",
     "text": [
      " 35%|███▍      | 348/1000 [13:02<24:16,  2.23s/it]"
     ]
    },
    {
     "name": "stdout",
     "output_type": "stream",
     "text": [
      "Decoded tokens: ['$', ' \\\\', 'l', 'angle', ' X', '_', 'n', ',', ' f', '_', 'n', ' \\\\', 'r', 'angle', '_{', 'n', ' \\\\', 'ge', 'q', ' 1', '}', ' $']\n",
      "Decoded tokens: ['$', ' \\\\', 'left', ' \\\\', 'l', 'angle', ' X', '_', 'n', ' ,', ' f', '_', 'n', ' \\\\', 'right', ' \\\\', 'r', 'angle', '_', ' {', ' n', ' \\\\', 'ge', 'q', ' 1', ' }', ' $']\n",
      "0.767\n"
     ]
    },
    {
     "name": "stderr",
     "output_type": "stream",
     "text": [
      " 35%|███▍      | 349/1000 [13:05<25:54,  2.39s/it]"
     ]
    },
    {
     "name": "stdout",
     "output_type": "stream",
     "text": [
      "Decoded tokens: [' \\\\', '[', ' y', ' =', ' \\\\', '{', ' y', '_{', 't', '}', ' \\\\', 'mid', ' t', ' =', ' 1', ',', ' \\\\', 'ld', 'ots', ',', ' T', ' \\\\', '}', ' \\\\', ']']\n",
      "Decoded tokens: ['$', ' y', '=', ' \\\\', ' {', ' y', '_', 't', ' \\\\', ' }', ' _', ' {', ' t', '=', '1', ' }', ' ^', 'T', ' $']\n",
      "0.7807\n"
     ]
    },
    {
     "name": "stderr",
     "output_type": "stream",
     "text": [
      " 35%|███▌      | 350/1000 [13:06<22:48,  2.10s/it]"
     ]
    },
    {
     "name": "stdout",
     "output_type": "stream",
     "text": [
      "Decoded tokens: ['$', 'p', '_{', ' \\\\', 'math', 'rm', '{', 'T', '}}', '$']\n",
      "Decoded tokens: ['$', ' p', '_', ' {', ' T', ' }', ' $']\n",
      "0.8058\n"
     ]
    },
    {
     "name": "stderr",
     "output_type": "stream",
     "text": [
      " 35%|███▌      | 351/1000 [13:11<29:38,  2.74s/it]"
     ]
    },
    {
     "name": "stdout",
     "output_type": "stream",
     "text": [
      "Decoded tokens: ['$', 'x', '_', 'B', ' <', ' x', '_', 't', ' \\\\', 'le', 'q', ' x', '_', 'B', ' +', ' 1', '$']\n",
      "Decoded tokens: ['$', ' x', '_', 'B', ' <', ' x', '_', 't', ' \\\\', 'le', 'q', ' x', '_', ' {', ' B', '+', '1', ' }', ' $']\n",
      "0.9405\n"
     ]
    },
    {
     "name": "stderr",
     "output_type": "stream",
     "text": [
      " 35%|███▌      | 352/1000 [13:12<25:37,  2.37s/it]"
     ]
    },
    {
     "name": "stdout",
     "output_type": "stream",
     "text": [
      "Decoded tokens: ['$', ' \\\\', 'math', 'cal', '{', 'U', '}', '_{', ' \\\\', 'text', '{', 'loc', '}}', '$']\n",
      "Decoded tokens: ['$', ' \\\\', 'math', 'f', 'rak', ' {', ' U', ' }', ' _', ' {', ' loc', ' }', ' $']\n",
      "0.7865\n"
     ]
    },
    {
     "name": "stderr",
     "output_type": "stream",
     "text": [
      " 35%|███▌      | 353/1000 [13:13<22:12,  2.06s/it]"
     ]
    },
    {
     "name": "stdout",
     "output_type": "stream",
     "text": [
      "Decoded tokens: ['$', ' \\\\', 'for', 'all', ' t', ' \\\\', 'ge', 'q', ' 1', '$']\n",
      "Decoded tokens: ['$', ' \\\\', 'for', 'all', ' t', ' \\\\', 'ge', 'q', ' 1', ' $']\n",
      "0.996\n"
     ]
    },
    {
     "name": "stderr",
     "output_type": "stream",
     "text": [
      " 35%|███▌      | 354/1000 [13:15<20:08,  1.87s/it]"
     ]
    },
    {
     "name": "stdout",
     "output_type": "stream",
     "text": [
      "Decoded tokens: [' \\\\(', ' \\\\', 'display', 'style', ' \\\\', 'ep', 'sil', 'on', ' \\\\', ')']\n",
      "Decoded tokens: ['$', ' \\\\', 'ep', 'sil', 'on', ' $']\n",
      "0.7611\n"
     ]
    },
    {
     "name": "stderr",
     "output_type": "stream",
     "text": [
      " 36%|███▌      | 355/1000 [13:16<18:23,  1.71s/it]"
     ]
    },
    {
     "name": "stdout",
     "output_type": "stream",
     "text": [
      "Decoded tokens: ['$', '200', '^{', '150', '}', ' -', ' 60', '$']\n",
      "Decoded tokens: ['$', ' 200', '^', ' {', ' +', '150', ' }', ' _', ' {', ' -', '60', ' }', ' $']\n",
      "0.8015\n"
     ]
    },
    {
     "name": "stderr",
     "output_type": "stream",
     "text": [
      " 36%|███▌      | 356/1000 [13:18<18:10,  1.69s/it]"
     ]
    },
    {
     "name": "stdout",
     "output_type": "stream",
     "text": [
      "Decoded tokens: ['$', ' \\\\', 'vec', '{', 'x', '}', '_{', ' \\\\', 'text', '{', 'R', 'IS', '}}', '$']\n",
      "Decoded tokens: ['$', ' {', ' {', ' {', ' x', ' }', ' }', ' _', ' \\\\', 'text', ' {', ' {', ' RIS', ' }', ' }', ' }', ' $']\n",
      "0.8008\n"
     ]
    },
    {
     "name": "stderr",
     "output_type": "stream",
     "text": [
      " 36%|███▌      | 357/1000 [13:21<24:12,  2.26s/it]"
     ]
    },
    {
     "name": "stdout",
     "output_type": "stream",
     "text": [
      "Decoded tokens: ['$', ' \\\\', 'math', 'bf', '{', 'r', '}', '_', 'i', ' =', ' (', 'x', '_', 'i', ',', ' y', '_', 'i', ',', ' z', '_', 'i', ')', '$']\n",
      "Decoded tokens: ['$', ' \\\\', 'math', 'bf', ' {', ' r', ' }', ' _', 'i', ' =', ' (', ' x', '_', 'i', ' ,', ' y', '_', 'i', ' ,', ' z', '_', 'i', ' )', ' $']\n",
      "0.9663\n"
     ]
    },
    {
     "name": "stderr",
     "output_type": "stream",
     "text": [
      " 36%|███▌      | 358/1000 [13:24<24:58,  2.33s/it]"
     ]
    },
    {
     "name": "stdout",
     "output_type": "stream",
     "text": [
      "Decoded tokens: ['$', '|', 'L', '_', '3', ' \\\\', 'r', 'angle', ' >', ' |', 'L', '_', '2', ' \\\\', 'r', 'angle', ' >', ' |', 'L', '_', '1', ' \\\\', 'r', 'angle', '$']\n",
      "Decoded tokens: ['$', ' |', 'L', '_', '3', '|', ' >', ' |', 'L', '_', '2', '|', ' >', ' |', 'L', '_', '1', '|', ' $']\n",
      "0.8256\n"
     ]
    },
    {
     "name": "stderr",
     "output_type": "stream",
     "text": [
      " 36%|███▌      | 359/1000 [13:26<23:12,  2.17s/it]"
     ]
    },
    {
     "name": "stdout",
     "output_type": "stream",
     "text": [
      "Decoded tokens: ['$', '2', ' \\\\', 'le', 'q', ' N', '_', 'f', ' \\\\', 'le', 'q', ' 6', '$']\n",
      "Decoded tokens: ['$', ' 2', ' \\\\', 'le', 'q', ' N', '_', 'f', ' \\\\', 'le', 'q', ' 6', ' $']\n",
      "0.9931\n"
     ]
    },
    {
     "name": "stderr",
     "output_type": "stream",
     "text": [
      " 36%|███▌      | 360/1000 [13:28<23:33,  2.21s/it]"
     ]
    },
    {
     "name": "stdout",
     "output_type": "stream",
     "text": [
      "Decoded tokens: ['$', ' \\\\', 'The', 'ta', ' B', ' $']\n",
      "Decoded tokens: ['$', ' \\\\', 'the', 'ta', '_', 'B', ' $']\n",
      "0.9152\n"
     ]
    },
    {
     "name": "stderr",
     "output_type": "stream",
     "text": [
      " 36%|███▌      | 361/1000 [13:30<24:22,  2.29s/it]"
     ]
    },
    {
     "name": "stdout",
     "output_type": "stream",
     "text": [
      "Decoded tokens: ['$', ' \\\\', 'math', 'cal', '{', 'C', '}', '^', ' \\\\', 'in', 'fty', '$']\n",
      "Decoded tokens: ['$', ' C', '^', ' \\\\', 'in', 'fty', ' $']\n",
      "0.7421\n"
     ]
    },
    {
     "name": "stderr",
     "output_type": "stream",
     "text": [
      " 36%|███▌      | 362/1000 [13:33<23:46,  2.24s/it]"
     ]
    },
    {
     "name": "stdout",
     "output_type": "stream",
     "text": [
      "Decoded tokens: ['$', 'z', ' \\\\', 'in', ' H', '^', '2', '(', ' \\\\', 'O', 'mega', ')', '$']\n",
      "Decoded tokens: ['$', ' z', ' \\\\', 'in', ' H', '^', '2', ' (', ' \\\\', 'O', 'mega', ' )', ' $']\n",
      "0.977\n"
     ]
    },
    {
     "name": "stderr",
     "output_type": "stream",
     "text": [
      " 36%|███▋      | 363/1000 [13:36<28:29,  2.68s/it]"
     ]
    },
    {
     "name": "stdout",
     "output_type": "stream",
     "text": [
      "Decoded tokens: ['$', ' \\\\', 'over', 'line', '{', 'B', '}', '(', 'x', ',', ' r', '^', 'j', ')', '$']\n",
      "Decoded tokens: ['$', ' \\\\', 'over', 'line', ' {', ' B', ' }', ' (', ' x', ' ,', ' r', '^', 'j', ' )', ' $']\n",
      "0.9653\n"
     ]
    },
    {
     "name": "stderr",
     "output_type": "stream",
     "text": [
      " 36%|███▋      | 364/1000 [13:41<33:40,  3.18s/it]"
     ]
    },
    {
     "name": "stdout",
     "output_type": "stream",
     "text": [
      "Decoded tokens: ['$', ' e', '_', '1', ',', ' \\\\', 'ld', 'ots', ',', ' e', '_', 'n', ' $']\n",
      "Decoded tokens: ['$', ' \\\\', 'math', 'bf', ' e', '_', ' {', ' 1', ' }', ' ,', ' \\\\', 'd', 'ots', ' ,', ' \\\\', 'math', 'bf', ' e', '_', ' {', ' n', ' }', ' $']\n",
      "0.7421\n"
     ]
    },
    {
     "name": "stderr",
     "output_type": "stream",
     "text": [
      " 36%|███▋      | 365/1000 [13:42<28:43,  2.71s/it]"
     ]
    },
    {
     "name": "stdout",
     "output_type": "stream",
     "text": [
      "Decoded tokens: [' \\\\(', ' \\\\', 'display', 'style', ' \\\\', '{', ' \\\\', 'alpha', ',', ' \\\\', 'beta', ' \\\\', '}', ' \\\\', ')']\n",
      "Decoded tokens: ['$', ' \\\\', 'alpha', ' ,', ' \\\\', ' ,', ' \\\\', 'beta', ' $']\n",
      "0.854\n"
     ]
    },
    {
     "name": "stderr",
     "output_type": "stream",
     "text": [
      " 37%|███▋      | 366/1000 [13:43<23:56,  2.27s/it]"
     ]
    },
    {
     "name": "stdout",
     "output_type": "stream",
     "text": [
      "Decoded tokens: [' \\\\(', ' \\\\', 'frac', '{', 'n', '-', '1', '}{', '2', '}', ' \\\\', ')']\n",
      "Decoded tokens: ['$', ' \\\\', 'frac', ' {', ' n', '-', '1', ' }', ' {', ' 2', ' }', ' $']\n",
      "0.8795\n"
     ]
    },
    {
     "name": "stderr",
     "output_type": "stream",
     "text": [
      " 37%|███▋      | 367/1000 [13:45<21:20,  2.02s/it]"
     ]
    },
    {
     "name": "stdout",
     "output_type": "stream",
     "text": [
      "Decoded tokens: ['$', ' \\\\', 'Ph', 'i', '_{', ' \\\\', 'text', '{', 'vote', '}}', ' $']\n",
      "Decoded tokens: ['$', ' \\\\', 'phi', '_', ' {', ' vote', ' }', ' $']\n",
      "0.8186\n"
     ]
    },
    {
     "name": "stderr",
     "output_type": "stream",
     "text": [
      " 37%|███▋      | 368/1000 [13:47<22:00,  2.09s/it]"
     ]
    },
    {
     "name": "stdout",
     "output_type": "stream",
     "text": [
      "Decoded tokens: ['$', ' \\\\', 'math', 'bb', '{', 'S', '}', '^', 'm', '(', ' \\\\', 'r', 'ho', ',', ' z', ')', '$']\n",
      "Decoded tokens: ['$', ' \\\\', 'math', 'bb', ' {', ' S', ' }', ' ^', ' {', ' (', ' m', ' )', ' }', ' (', ' \\\\', 'r', 'ho', ' ,', ' z', ' )', ' $']\n",
      "0.8633\n"
     ]
    },
    {
     "name": "stderr",
     "output_type": "stream",
     "text": [
      " 37%|███▋      | 369/1000 [13:48<19:14,  1.83s/it]"
     ]
    },
    {
     "name": "stdout",
     "output_type": "stream",
     "text": [
      "Decoded tokens: ['$', 't', ' \\\\', 'to', ' \\\\', 'ome', 'ga', ' t', '$']\n",
      "Decoded tokens: ['$', ' t', ' \\\\', 'right', 'arrow', ' \\\\', 'ome', 'ga', '_', 't', ' $']\n",
      "0.792\n"
     ]
    },
    {
     "name": "stderr",
     "output_type": "stream",
     "text": [
      " 37%|███▋      | 370/1000 [13:51<20:33,  1.96s/it]"
     ]
    },
    {
     "name": "stdout",
     "output_type": "stream",
     "text": [
      "Decoded tokens: ['$', 'M', '_', 'i', ' \\\\', 'in', ' \\\\', 'math', 'bb', '{', 'R', '}', '^', 'p', '$']\n",
      "Decoded tokens: ['$', ' \\\\', 'M', '_', 'i', ' \\\\', 'in', ' \\\\', 'math', 'bb', ' {', ' R', ' }', ' ^', 'p', ' $']\n",
      "0.7371\n"
     ]
    },
    {
     "name": "stderr",
     "output_type": "stream",
     "text": [
      " 37%|███▋      | 371/1000 [13:53<20:49,  1.99s/it]"
     ]
    },
    {
     "name": "stdout",
     "output_type": "stream",
     "text": [
      "Decoded tokens: ['$', 't', '_{', ' \\\\', 'math', 'rm', '{', 'C', '}', '_{', 'C', '}}', ' =', ' \\\\', 'math', 'rm', '{', 'None', '}', '$']\n",
      "Decoded tokens: ['$', ' t', '_', ' {', ' \\\\', 'rm', ' CC', ' }', ' =', ' $']\n",
      "0.8128\n"
     ]
    },
    {
     "name": "stderr",
     "output_type": "stream",
     "text": [
      " 37%|███▋      | 372/1000 [13:54<18:42,  1.79s/it]"
     ]
    },
    {
     "name": "stdout",
     "output_type": "stream",
     "text": [
      "Decoded tokens: ['$', ' -', '1', ' $']\n",
      "Decoded tokens: ['$', ' ^', ' {', ' -', '1', ' }', ' $']\n",
      "0.802\n"
     ]
    },
    {
     "name": "stderr",
     "output_type": "stream",
     "text": [
      " 37%|███▋      | 373/1000 [13:56<18:14,  1.75s/it]"
     ]
    },
    {
     "name": "stdout",
     "output_type": "stream",
     "text": [
      "Decoded tokens: ['$', 'H', '^', 'm', ' (', 'v', ' \\\\', 'r', 'ho', ')', '$']\n",
      "Decoded tokens: ['$', ' H', '^', 'm', ' (', ' \\\\', 'vr', 'ho', ' )', ' $']\n",
      "0.8494\n"
     ]
    },
    {
     "name": "stderr",
     "output_type": "stream",
     "text": [
      " 37%|███▋      | 374/1000 [13:57<17:50,  1.71s/it]"
     ]
    },
    {
     "name": "stdout",
     "output_type": "stream",
     "text": [
      "Decoded tokens: ['$', ' \\\\', 'math', 'bf', '{', 'X', '}', '_{', 'ij', '}', '$']\n",
      "Decoded tokens: ['$', ' X', '_', ' {', ' i', 'j', ' }', ' $']\n",
      "0.7819\n"
     ]
    },
    {
     "name": "stderr",
     "output_type": "stream",
     "text": [
      " 38%|███▊      | 375/1000 [13:59<18:54,  1.82s/it]"
     ]
    },
    {
     "name": "stdout",
     "output_type": "stream",
     "text": [
      "Decoded tokens: ['$', ' \\\\', 'chi', '^', '2', '_{', ' \\\\', 'math', 'rm', '{', 'c', 'ov', '}}', ' $']\n",
      "Decoded tokens: ['$', ' \\\\', 'chi', '^', '2', '_', ' {', ' \\\\', 'rm', ' cov', 'ar', ' }', ' $']\n",
      "0.8666\n"
     ]
    },
    {
     "name": "stderr",
     "output_type": "stream",
     "text": [
      " 38%|███▊      | 376/1000 [14:02<20:12,  1.94s/it]"
     ]
    },
    {
     "name": "stdout",
     "output_type": "stream",
     "text": [
      "Decoded tokens: ['$', ' \\\\', 'the', 'ta', '_', '1', ',', ' \\\\', 'ld', 'ots', ',', ' \\\\', 'the', 'ta', '_', 'k', '$']\n",
      "Decoded tokens: ['$', ' \\\\', 'the', 'ta', '_', '1', ' ,', ' \\\\', 'ld', 'ots', ' ,', ' \\\\', 'the', 'ta', '_', 'k', ' $']\n",
      "0.9787\n"
     ]
    },
    {
     "name": "stderr",
     "output_type": "stream",
     "text": [
      " 38%|███▊      | 377/1000 [14:03<18:16,  1.76s/it]"
     ]
    },
    {
     "name": "stdout",
     "output_type": "stream",
     "text": [
      "Decoded tokens: ['$', ' \\\\', 'S', 'igma', '_{', ' \\\\', 'text', '{', 'ind', '}}', ' $']\n",
      "Decoded tokens: ['$', ' \\\\', 'S', 'igma', '_', ' {', ' ind', ' }', ' $']\n",
      "0.8699\n"
     ]
    },
    {
     "name": "stderr",
     "output_type": "stream",
     "text": [
      " 38%|███▊      | 378/1000 [14:05<17:32,  1.69s/it]"
     ]
    },
    {
     "name": "stdout",
     "output_type": "stream",
     "text": [
      "Decoded tokens: ['$', ' \\\\', 'math', 'bf', '{', 'd', '}', '_', 'C', ' =', ' 3', '$']\n",
      "Decoded tokens: ['$', ' \\\\', 'math', 'bf', ' {', ' d', ' }', ' _', ' {', ' \\\\', 'math', 'cal', ' {', ' C', ' }', ' }', ' =', '3', ' $']\n",
      "0.8827\n"
     ]
    },
    {
     "name": "stderr",
     "output_type": "stream",
     "text": [
      " 38%|███▊      | 379/1000 [14:07<18:56,  1.83s/it]"
     ]
    },
    {
     "name": "stdout",
     "output_type": "stream",
     "text": [
      "Decoded tokens: ['$', 'C', '_', '4', ' =', ' C', '_', '4', '(', 'n', ',', ' \\\\', 'lambda', ',', ' \\\\', 'L', 'amb', 'da', ')', ' >', ' 0', '$']\n",
      "Decoded tokens: ['$', ' C', '_', '4', '=', 'C', '_', '4', ' (', ' n', ' ,', ' \\\\', 'lambda', ' ,', ' \\\\', 'L', 'amb', 'da', ' )', ' >', ' 0', ' $']\n",
      "0.9664\n"
     ]
    },
    {
     "name": "stderr",
     "output_type": "stream",
     "text": [
      " 38%|███▊      | 380/1000 [14:08<17:20,  1.68s/it]"
     ]
    },
    {
     "name": "stdout",
     "output_type": "stream",
     "text": [
      "Decoded tokens: ['$', ' \\\\', 'k', 'appa', '_', 'n', ' $']\n",
      "Decoded tokens: ['$', ' \\\\', 'k', 'appa', '_', 'n', ' $']\n",
      "1.0\n"
     ]
    },
    {
     "name": "stderr",
     "output_type": "stream",
     "text": [
      " 38%|███▊      | 381/1000 [14:09<15:57,  1.55s/it]"
     ]
    },
    {
     "name": "stdout",
     "output_type": "stream",
     "text": [
      "Decoded tokens: ['$', 'A', '_{', '11', '}', ' =', ' 1', '$']\n",
      "Decoded tokens: ['$', ' A', '_', ' {', ' 11', ' }', ' =', '1', ' $']\n",
      "0.8284\n"
     ]
    },
    {
     "name": "stderr",
     "output_type": "stream",
     "text": [
      " 38%|███▊      | 382/1000 [14:11<15:14,  1.48s/it]"
     ]
    },
    {
     "name": "stdout",
     "output_type": "stream",
     "text": [
      "Decoded tokens: ['$', 'K', '_', 'F', ' +', ' A', ' +', ' B', '$']\n",
      "Decoded tokens: ['$', ' K', '_', ' {', ' \\\\', 'math', 'cal', ' {', ' F', ' }', ' }', ' +', 'A', '+', 'B', ' $']\n",
      "0.7959\n"
     ]
    },
    {
     "name": "stderr",
     "output_type": "stream",
     "text": [
      " 38%|███▊      | 383/1000 [14:13<17:55,  1.74s/it]"
     ]
    },
    {
     "name": "stdout",
     "output_type": "stream",
     "text": [
      "Decoded tokens: ['$', ' \\\\', 'left', '(', ' \\\\', 'hat', '{', 'B', '}', '_', 'N', '^', 'k', ' \\\\', 'right', ')', '_{', '0', 'y', '}', '$']\n",
      "Decoded tokens: ['$', ' (', ' \\\\', 'hat', ' {', ' B', ' }', ' _', 'N', '^', 'k', ' )', ' _', ' {', ' 0', 'y', ' }', ' $']\n",
      "0.7486\n"
     ]
    },
    {
     "name": "stderr",
     "output_type": "stream",
     "text": [
      " 38%|███▊      | 384/1000 [14:15<20:07,  1.96s/it]"
     ]
    },
    {
     "name": "stdout",
     "output_type": "stream",
     "text": [
      "Decoded tokens: ['$', ' \\\\', 's', 'igma', '_{', '-', '}', ' <', ' \\\\', 's', 'igma', '_{', '0', '}', ' <', ' \\\\', 's', 'igma', '_{', '+', '}', ' $']\n",
      "Decoded tokens: ['$', ' \\\\', 's', 'igma', '^', '-', ' <', ' \\\\', 's', 'igma', '_', '0', ' <', ' \\\\', 's', 'igma', '^', '+', ' $']\n",
      "0.7982\n"
     ]
    },
    {
     "name": "stderr",
     "output_type": "stream",
     "text": [
      " 38%|███▊      | 385/1000 [14:18<22:33,  2.20s/it]"
     ]
    },
    {
     "name": "stdout",
     "output_type": "stream",
     "text": [
      "Decoded tokens: ['$', ' \\\\', 'gam', 'ma', '_', '1', ' \\\\', 'ge', 'q', ' \\\\', 'ld', 'ots', ' \\\\', 'ge', 'q', ' \\\\', 'gam', 'ma', '_', 'n', ' $']\n",
      "Decoded tokens: ['$', ' \\\\', 'gam', 'ma', '_', '1', ' \\\\', 'ge', 'q', ' ...', ' \\\\', 'ge', 'q', ' \\\\', 'gam', 'ma', '_', 'n', ' $']\n",
      "0.8399\n"
     ]
    },
    {
     "name": "stderr",
     "output_type": "stream",
     "text": [
      " 39%|███▊      | 386/1000 [14:20<20:08,  1.97s/it]"
     ]
    },
    {
     "name": "stdout",
     "output_type": "stream",
     "text": [
      "Decoded tokens: [' \\\\', '[', '\\n', ' \\\\', 'display', 'style', ' q', '_', '0', '\\n', ' \\\\', ']']\n",
      "Decoded tokens: ['$', ' q', '_', ' {', ' 0', ' }', ' $']\n",
      "0.7469\n"
     ]
    },
    {
     "name": "stderr",
     "output_type": "stream",
     "text": [
      " 39%|███▊      | 387/1000 [14:21<18:46,  1.84s/it]"
     ]
    },
    {
     "name": "stdout",
     "output_type": "stream",
     "text": [
      "Decoded tokens: ['$', ' \\\\', 'the', 'ta', ' =', ' 45', '^', ' \\\\', 'circ', '$']\n",
      "Decoded tokens: ['$', ' \\\\', 'the', 'ta', '=', '45', '^', ' \\\\', 'circ', ' $']\n",
      "0.9844\n"
     ]
    },
    {
     "name": "stderr",
     "output_type": "stream",
     "text": [
      " 39%|███▉      | 388/1000 [14:23<19:43,  1.93s/it]"
     ]
    },
    {
     "name": "stdout",
     "output_type": "stream",
     "text": [
      "Decoded tokens: ['$', ' \\\\', 'k', 'appa', \"'\", ' (', 'G', ')', ' \\\\', 'le', 'q', ' \\\\', 'k', 'appa', '(', 'G', ')', ' $']\n",
      "Decoded tokens: ['$', ' \\\\', 'k', 'appa', '^', ' {', ' \\\\', 'prime', ' }', ' (', ' G', ' )', ' \\\\', 'le', 'q', ' \\\\', 'k', 'appa', ' (', ' G', ' )', ' $']\n",
      "0.7848\n"
     ]
    },
    {
     "name": "stderr",
     "output_type": "stream",
     "text": [
      " 39%|███▉      | 389/1000 [14:25<17:56,  1.76s/it]"
     ]
    },
    {
     "name": "stdout",
     "output_type": "stream",
     "text": [
      "Decoded tokens: ['$', ' \\\\', 'math', 'cal', '{', 'A', '}', '^', '*', '$']\n",
      "Decoded tokens: ['$', ' \\\\', 'm', ' {', ' A', ' }', ' ^', ' *', ' $']\n",
      "0.7974\n"
     ]
    },
    {
     "name": "stderr",
     "output_type": "stream",
     "text": [
      " 39%|███▉      | 390/1000 [14:28<21:31,  2.12s/it]"
     ]
    },
    {
     "name": "stdout",
     "output_type": "stream",
     "text": [
      "Decoded tokens: [' \\\\', '[', '\\n', ' \\\\', 'over', 'line', '{', ' \\\\', 'n', 'ab', 'la', '}', ' =', ' \\\\', 'frac', '{', '1', '}{', '2', '}', ' \\\\', 'left', '(', ' \\\\', 'n', 'ab', 'la', ' +', ' \\\\', 'n', 'ab', 'la', '^', '*', ' \\\\', 'right', ')', '\\n', ' \\\\', ']']\n",
      "Decoded tokens: ['$', ' \\\\', 'over', 'line', ' {', ' \\\\', 'n', 'ab', 'la', ' }', ' =', ' \\\\', 'frac', ' {', ' 1', ' }', ' {', ' 2', ' }', ' (', ' \\\\', 'n', 'ab', 'la', ' +', ' \\\\', 'n', 'ab', 'la', '^', ' *', ' )', ' $']\n",
      "0.7172\n"
     ]
    },
    {
     "name": "stderr",
     "output_type": "stream",
     "text": [
      " 39%|███▉      | 391/1000 [14:29<18:44,  1.85s/it]"
     ]
    },
    {
     "name": "stdout",
     "output_type": "stream",
     "text": [
      "Decoded tokens: ['$', '-', '1', '$']\n",
      "Decoded tokens: ['$', ' ^', ' {', ' -', '1', ' }', ' $']\n",
      "0.7651\n"
     ]
    },
    {
     "name": "stderr",
     "output_type": "stream",
     "text": [
      " 39%|███▉      | 392/1000 [14:32<22:28,  2.22s/it]"
     ]
    },
    {
     "name": "stdout",
     "output_type": "stream",
     "text": [
      "Decoded tokens: ['$', 'g', '(', ' \\\\', 'nu', '_', '0', ',', ' \\\\', 'nu', '_', '1', ')', ' \\\\', 'le', 'q', ' \\\\', 'the', 'ta', '_', 'L', '$']\n",
      "Decoded tokens: ['$', ' g', ' (', ' \\\\', 'nu', '_', '0', ' ,', ' \\\\', 'nu', '_', '1', ' )', ' \\\\', 'le', ' \\\\', 'the', 'ta', '_', 'L', ' $']\n",
      "0.9095\n"
     ]
    },
    {
     "name": "stderr",
     "output_type": "stream",
     "text": [
      " 39%|███▉      | 393/1000 [14:34<20:52,  2.06s/it]"
     ]
    },
    {
     "name": "stdout",
     "output_type": "stream",
     "text": [
      "Decoded tokens: ['$', ' \\\\', 'math', 'bf', '{', 's', '}', ' \\\\', 'ne', 'q', ' 0', '$']\n",
      "Decoded tokens: ['$', ' s', ' \\\\', 'ne', 'q', ' 0', ' $']\n",
      "0.766\n"
     ]
    },
    {
     "name": "stderr",
     "output_type": "stream",
     "text": [
      " 39%|███▉      | 394/1000 [14:35<19:18,  1.91s/it]"
     ]
    },
    {
     "name": "stdout",
     "output_type": "stream",
     "text": [
      "Decoded tokens: ['$', ' \\\\', 'math', 'cal', '{', 'Q', '}', '_{', 'q', '+', '1', '}', '$']\n",
      "Decoded tokens: ['$', ' Q', '_', ' {', ' q', '+', '1', ' }', ' $']\n",
      "0.7469\n"
     ]
    },
    {
     "name": "stderr",
     "output_type": "stream",
     "text": [
      " 40%|███▉      | 395/1000 [14:37<18:49,  1.87s/it]"
     ]
    },
    {
     "name": "stdout",
     "output_type": "stream",
     "text": [
      "Decoded tokens: ['$', ' \\\\', 'math', 'cal', '{', 'H', '}', '_{', ' \\\\', 'text', '{', 'gr', 'p', '}}', '^{', 'j', '}', '$']\n",
      "Decoded tokens: ['$', ' \\\\', 'math', 'cal', ' {', ' H', ' }', ' _', ' {', ' gr', 'p', ' }', ' ^', 'j', ' $']\n",
      "0.8444\n"
     ]
    },
    {
     "name": "stderr",
     "output_type": "stream",
     "text": [
      " 40%|███▉      | 396/1000 [14:39<18:40,  1.86s/it]"
     ]
    },
    {
     "name": "stdout",
     "output_type": "stream",
     "text": [
      "Decoded tokens: ['$', 'p', '^{', 't', '_', 'i', '},', ' \\\\', 'text', '{', 'trans', '}', '$']\n",
      "Decoded tokens: ['$', ' p', '^', ' {', ' t', ' }', ' _', ' {', ' i', ' ,', ' trans', ' }', ' $']\n",
      "0.8271\n"
     ]
    },
    {
     "name": "stderr",
     "output_type": "stream",
     "text": [
      " 40%|███▉      | 397/1000 [14:41<19:13,  1.91s/it]"
     ]
    },
    {
     "name": "stdout",
     "output_type": "stream",
     "text": [
      "Decoded tokens: ['$', ' \\\\', 'gam', 'ma', '_', ' \\\\', 'd', 'elta', ',', ' \\\\', 'beta', '_', ' \\\\', 'd', 'elta', ' (', 't', '_', ' \\\\', 'd', 'elta', ')', '$']\n",
      "Decoded tokens: ['$', ' \\\\', 'gam', 'ma', '_', ' {', ' \\\\', 'de', ' ,', ' \\\\', 'beta', '_', ' \\\\', 'de', ' }', ' (', ' t', '_', ' \\\\', 'de', ' )', ' $']\n",
      "0.9013\n"
     ]
    },
    {
     "name": "stderr",
     "output_type": "stream",
     "text": [
      " 40%|███▉      | 398/1000 [14:42<17:07,  1.71s/it]"
     ]
    },
    {
     "name": "stdout",
     "output_type": "stream",
     "text": [
      "Decoded tokens: [' \\\\', '[', ' \\\\', 'beta', \"'\", ' \\\\', ']']\n",
      "Decoded tokens: ['$', ' \\\\', 'beta', '^', ' \\\\', 'prime', ' $']\n",
      "0.7274\n"
     ]
    },
    {
     "name": "stderr",
     "output_type": "stream",
     "text": [
      " 40%|███▉      | 399/1000 [14:43<15:21,  1.53s/it]"
     ]
    },
    {
     "name": "stdout",
     "output_type": "stream",
     "text": [
      "Decoded tokens: ['$', ' \\\\', 'd', 'elta', '^{', '1', '}', '$']\n",
      "Decoded tokens: ['$', ' \\\\', 'd', 'elta', '^', '1', ' $']\n",
      "0.9526\n"
     ]
    },
    {
     "name": "stderr",
     "output_type": "stream",
     "text": [
      " 40%|████      | 400/1000 [14:44<14:25,  1.44s/it]"
     ]
    },
    {
     "name": "stdout",
     "output_type": "stream",
     "text": [
      "Decoded tokens: ['$', ' \\\\', 'math', 'bf', '{', ' \\\\', 'L', 'amb', 'da', '}', '$']\n",
      "Decoded tokens: ['$', ' \\\\', 'lambda', ' $']\n",
      "0.8668\n"
     ]
    },
    {
     "name": "stderr",
     "output_type": "stream",
     "text": [
      " 40%|████      | 401/1000 [14:45<13:28,  1.35s/it]"
     ]
    },
    {
     "name": "stdout",
     "output_type": "stream",
     "text": [
      "Decoded tokens: ['$', 'f', '_{', 'sub', '}', '$']\n",
      "Decoded tokens: ['$', ' _', ' {', ' \\\\', 'rm', ' eff', ' }', ' $']\n",
      "0.7607\n"
     ]
    },
    {
     "name": "stderr",
     "output_type": "stream",
     "text": [
      " 40%|████      | 402/1000 [14:47<13:59,  1.40s/it]"
     ]
    },
    {
     "name": "stdout",
     "output_type": "stream",
     "text": [
      "Decoded tokens: ['$', ' \\\\', 'r', 'ho', ' \\\\', 'pro', 'pt', 'o', ' a', '^{', '-', '3', '}', '$']\n",
      "Decoded tokens: ['$', ' \\\\', 'r', 'ho', ' \\\\', 'pro', 'pt', 'o', ' a', '^', ' {', ' -', '3', ' }', ' $']\n",
      "0.9219\n"
     ]
    },
    {
     "name": "stderr",
     "output_type": "stream",
     "text": [
      " 40%|████      | 403/1000 [14:49<14:39,  1.47s/it]"
     ]
    },
    {
     "name": "stdout",
     "output_type": "stream",
     "text": [
      "Decoded tokens: ['$', ' \\\\', 'beta', ',', ' c', '_', '0', ' >', ' 0', ' $']\n",
      "Decoded tokens: ['$', ' \\\\', 'beta', ' ,', ' c', '_', '0', ' >', ' 0', ' $']\n",
      "0.9835\n"
     ]
    },
    {
     "name": "stderr",
     "output_type": "stream",
     "text": [
      " 40%|████      | 404/1000 [14:50<15:06,  1.52s/it]"
     ]
    },
    {
     "name": "stdout",
     "output_type": "stream",
     "text": [
      "Decoded tokens: [' \\\\', '[', '\\n', ' \\\\', 'text', '{{', 'J', '}}', '_', 'n', '(', 'x', ')', '\\n', ' \\\\', ']']\n",
      "Decoded tokens: ['$', ' J', '_', 'n', ' (', ' x', ' )', ' $']\n",
      "0.7211\n"
     ]
    },
    {
     "name": "stderr",
     "output_type": "stream",
     "text": [
      " 40%|████      | 405/1000 [14:53<17:37,  1.78s/it]"
     ]
    },
    {
     "name": "stdout",
     "output_type": "stream",
     "text": [
      "Decoded tokens: [' \\\\(', ' \\\\', 'oper', 'at', 'orn', 'ame', '{', 'math', 'cal', '{', 'MF', '}}', ' \\\\', 'oper', 'at', 'orn', 'ame', '{', 'gr', '}', '(', 'M', ',', ' f', ')', ' \\\\', ')']\n",
      "Decoded tokens: ['$', ' \\\\', 'math', 'rm', ' {', ' MF', ' }', ' ^', ' {', ' \\\\', 'rm', ' {', ' gr', ' }', ' }', ' (', ' \\\\', 'math', 'bb', ' {', ' M', ' }', ' ,', ' f', ' )', ' $']\n",
      "0.759\n"
     ]
    },
    {
     "name": "stderr",
     "output_type": "stream",
     "text": [
      " 41%|████      | 406/1000 [14:55<18:58,  1.92s/it]"
     ]
    },
    {
     "name": "stdout",
     "output_type": "stream",
     "text": [
      "Decoded tokens: [' \\\\', '[', '\\n', ' \\\\', 'text', '{', 'Sp', 'oken', ' English', ':', ' }', ' n', '^{', '-', ' \\\\', 'frac', '{', '1', '}{', '4', '}}', '\\n', ' \\\\', ']']\n",
      "Decoded tokens: ['$', ' n', '^', ' {', ' -', '1', '/', '4', ' }', ' $']\n",
      "0.7236\n"
     ]
    },
    {
     "name": "stderr",
     "output_type": "stream",
     "text": [
      " 41%|████      | 407/1000 [14:57<18:24,  1.86s/it]"
     ]
    },
    {
     "name": "stdout",
     "output_type": "stream",
     "text": [
      "Decoded tokens: ['$', ' \\\\', 'math', 'cal', '{', 'T', '}', '_', 'c', '$']\n",
      "Decoded tokens: ['$', ' T', '_', ' {', ' c', ' }', ' $']\n",
      "0.737\n"
     ]
    },
    {
     "name": "stderr",
     "output_type": "stream",
     "text": [
      " 41%|████      | 408/1000 [14:58<17:26,  1.77s/it]"
     ]
    },
    {
     "name": "stdout",
     "output_type": "stream",
     "text": [
      "Decoded tokens: ['$', 'P', '_', 'd', ' \\\\', 'le', 'q', ' 10', '$']\n",
      "Decoded tokens: ['$', ' P', '_', ' {', ' d', ' }', ' \\\\', 'le', 'q', ' 10', ' $']\n",
      "0.8052\n"
     ]
    },
    {
     "name": "stderr",
     "output_type": "stream",
     "text": [
      " 41%|████      | 409/1000 [15:00<17:00,  1.73s/it]"
     ]
    },
    {
     "name": "stdout",
     "output_type": "stream",
     "text": [
      "Decoded tokens: ['$', ' \\\\', 't', 'au', '_{', ' \\\\', 'math', 'rm', '{', 's', '}}', ' $']\n",
      "Decoded tokens: ['$', ' \\\\', 't', 'au', '_', ' {', ' s', ' }', ' $']\n",
      "0.8634\n"
     ]
    },
    {
     "name": "stderr",
     "output_type": "stream",
     "text": [
      " 41%|████      | 410/1000 [15:01<16:25,  1.67s/it]"
     ]
    },
    {
     "name": "stdout",
     "output_type": "stream",
     "text": [
      "Decoded tokens: [' \\\\', '[', '\\n', ' \\\\', 'ell', '_', 'i', ' =', '\\n', ' \\\\', ']']\n",
      "Decoded tokens: ['$', ' \\\\', 'ell', '_', 'i', '=', ' $']\n",
      "0.7457\n"
     ]
    },
    {
     "name": "stderr",
     "output_type": "stream",
     "text": [
      " 41%|████      | 411/1000 [15:03<15:04,  1.54s/it]"
     ]
    },
    {
     "name": "stdout",
     "output_type": "stream",
     "text": [
      "Decoded tokens: ['$', 'L', '^', '2', '(', ' \\\\', 'O', 'mega', ')', '$']\n",
      "Decoded tokens: ['$', ' L', '^', '2', ' (', ' \\\\', 'O', 'mega', ' )', ' $']\n",
      "0.9773\n"
     ]
    },
    {
     "name": "stderr",
     "output_type": "stream",
     "text": [
      " 41%|████      | 412/1000 [15:05<17:57,  1.83s/it]"
     ]
    },
    {
     "name": "stdout",
     "output_type": "stream",
     "text": [
      "Decoded tokens: [' \\\\', '[', '\\n', ' \\\\', 'phi', '(', 'x', ')', ' =', ' \\\\', 's', 'igma', '^', 'M', ' \\\\', 'phi', '(', 'c', '(', 'x', '))', '\\n', ' \\\\', ']']\n",
      "Decoded tokens: ['$', ' \\\\', 'phi', ' (', ' {', ' \\\\', 'bf', ' x', ' }', ' )', ' =', ' \\\\', 's', 'igma', '^', 'M', ' \\\\', 'phi', ' (', ' {', ' \\\\', 'bf', ' c', ' }', ' (', ' {', ' \\\\', 'bf', ' x', ' }', ' )', ' )', ' $']\n",
      "0.7301\n"
     ]
    },
    {
     "name": "stderr",
     "output_type": "stream",
     "text": [
      " 41%|████▏     | 413/1000 [15:07<18:24,  1.88s/it]"
     ]
    },
    {
     "name": "stdout",
     "output_type": "stream",
     "text": [
      "Decoded tokens: ['$', 'K', '_', 'm', ' \\\\', 'text', '{', ',', ' for', ' all', ' }', ' m', ' \\\\', 'in', ' [', '1', ',', ' M', ']', '$']\n",
      "Decoded tokens: ['$', ' \\\\', 'c', 'K', '_', ' {', ' m', ' }', ' ,', ' \\\\', 'for', 'all', ' m', ' \\\\', 'in', ' [', ' M', ' ]', ' $']\n",
      "0.745\n"
     ]
    },
    {
     "name": "stderr",
     "output_type": "stream",
     "text": [
      " 41%|████▏     | 414/1000 [15:08<16:25,  1.68s/it]"
     ]
    },
    {
     "name": "stdout",
     "output_type": "stream",
     "text": [
      "Decoded tokens: ['$', ' \\\\', 'math', 'rm', '{', 'C', '}', '_', '2', '$']\n",
      "Decoded tokens: ['$', ' \\\\', 'math', 'cal', ' {', ' C', ' }', ' _', '2', ' $']\n",
      "0.9436\n"
     ]
    },
    {
     "name": "stderr",
     "output_type": "stream",
     "text": [
      " 42%|████▏     | 415/1000 [15:10<16:17,  1.67s/it]"
     ]
    },
    {
     "name": "stdout",
     "output_type": "stream",
     "text": [
      "Decoded tokens: ['$', 'g', '_{', 'rr', '}', ' \\\\', 'right', 'arrow', ' \\\\', 'in', 'fty', '$']\n",
      "Decoded tokens: ['$', ' g', '_', ' {', ' r', 'r', ' }', ' \\\\', 'to', ' \\\\', 'in', 'fty', ' $']\n",
      "0.7518\n"
     ]
    },
    {
     "name": "stderr",
     "output_type": "stream",
     "text": [
      " 42%|████▏     | 416/1000 [15:12<18:17,  1.88s/it]"
     ]
    },
    {
     "name": "stdout",
     "output_type": "stream",
     "text": [
      "Decoded tokens: ['$', 'M', '_{', 'W', '_', '2', '}', ' \\\\', 'ge', 'q', ' 4', '.', '8', ' \\\\', ',', ' \\\\', 'math', 'rm', '{', 'Te', 'V', '}', '$']\n",
      "Decoded tokens: ['$', ' M', '_', ' {', ' W', '_', '2', ' }', ' \\\\', 'g', 'tr', 'sim', '4', '.', '8', ' \\\\', ' ;', ' {', ' \\\\', 'rm', ' Te', 'V', ' }', ' $']\n",
      "0.7767\n"
     ]
    },
    {
     "name": "stderr",
     "output_type": "stream",
     "text": [
      " 42%|████▏     | 417/1000 [15:14<17:12,  1.77s/it]"
     ]
    },
    {
     "name": "stdout",
     "output_type": "stream",
     "text": [
      "Decoded tokens: ['$', 'a', ' \\\\', 'math', 'rm', '{', 'a', '}', '$']\n",
      "Decoded tokens: ['$', ' ^', ' {', ' a', ' }', ' $']\n",
      "0.7506\n"
     ]
    },
    {
     "name": "stderr",
     "output_type": "stream",
     "text": [
      " 42%|████▏     | 418/1000 [15:15<16:13,  1.67s/it]"
     ]
    },
    {
     "name": "stdout",
     "output_type": "stream",
     "text": [
      "Decoded tokens: ['$', 'v', '_', 'n', '^{', ' \\\\', 'pm', '}', '$']\n",
      "Decoded tokens: ['$', ' v', '_', ' {', ' n', ' }', ' ^', ' {', ' \\\\', 'pm', ' }', ' $']\n",
      "0.8195\n"
     ]
    },
    {
     "name": "stderr",
     "output_type": "stream",
     "text": [
      " 42%|████▏     | 419/1000 [15:17<15:47,  1.63s/it]"
     ]
    },
    {
     "name": "stdout",
     "output_type": "stream",
     "text": [
      "Decoded tokens: ['$', 'S', '_{', 'D', '_', 'i', '}', ' =', ' S', '_', 'D', '$']\n",
      "Decoded tokens: ['$', ' \\\\', 'math', 'cal', ' {', ' S', ' }', ' _', ' {', ' \\\\', 'math', 'cal', ' {', ' D', ' }', ' _', 'i', ' }', ' =', ' \\\\', 'math', 'cal', ' {', ' S', ' }', ' _', ' {', ' \\\\', 'math', 'cal', ' {', ' D', ' }', ' }', ' $']\n",
      "0.7742\n"
     ]
    },
    {
     "name": "stderr",
     "output_type": "stream",
     "text": [
      " 42%|████▏     | 420/1000 [15:19<17:16,  1.79s/it]"
     ]
    },
    {
     "name": "stdout",
     "output_type": "stream",
     "text": [
      "Decoded tokens: [' \\\\(', ' \\\\', 'frac', '{', 'n', '_{', ' \\\\', 'text', '{', 'th', '}}', '}{', 'n', '_{', ' \\\\', 'text', '{', 'p', '}}}', ' <', ' 0', '.', '02', ' \\\\', ')']\n",
      "Decoded tokens: ['$', ' n', '_', ' {', ' n', 'th', ' }', ' /', 'n', '_', 'p', ' <', ' 0', '.', '02', ' $']\n",
      "0.7356\n"
     ]
    },
    {
     "name": "stderr",
     "output_type": "stream",
     "text": [
      " 42%|████▏     | 421/1000 [15:20<15:58,  1.66s/it]"
     ]
    },
    {
     "name": "stdout",
     "output_type": "stream",
     "text": [
      "Decoded tokens: [' \\\\(', ' \\\\', 'display', 'style', ' \\\\', 'alpha', '_{', '2', '}', ' \\\\', ')']\n",
      "Decoded tokens: ['$', ' \\\\', 'alpha', '_', '2', ' $']\n",
      "0.7769\n"
     ]
    },
    {
     "name": "stderr",
     "output_type": "stream",
     "text": [
      " 42%|████▏     | 422/1000 [15:22<15:36,  1.62s/it]"
     ]
    },
    {
     "name": "stdout",
     "output_type": "stream",
     "text": [
      "Decoded tokens: ['$', ' \\\\', 'Delta', '_', '0', ' >', ' 0', ' $']\n",
      "Decoded tokens: ['$', ' \\\\', 'd', 'elta', '_', '0', ' >', ' 0', ' $']\n",
      "0.8116\n"
     ]
    },
    {
     "name": "stderr",
     "output_type": "stream",
     "text": [
      " 42%|████▏     | 423/1000 [15:23<15:33,  1.62s/it]"
     ]
    },
    {
     "name": "stdout",
     "output_type": "stream",
     "text": [
      "Decoded tokens: ['$', ' \\\\', 'math', 'cal', '{', 'K', '}', '_{', 'n', '-', '1', '}', '$']\n",
      "Decoded tokens: ['$', ' K', '_', ' {', ' n', '-', '1', ' }', ' $']\n",
      "0.7449\n"
     ]
    },
    {
     "name": "stderr",
     "output_type": "stream",
     "text": [
      " 42%|████▏     | 424/1000 [15:26<17:29,  1.82s/it]"
     ]
    },
    {
     "name": "stdout",
     "output_type": "stream",
     "text": [
      "Decoded tokens: ['$', 'y', '_', 'B', ' \\\\', 'up', 'arrow', ' =', ' y', '_', 'A', ' +', ' a', '_', 'c', '$']\n",
      "Decoded tokens: ['$', ' y', '_', ' {', ' \\\\', 'rm', ' B', ' ,', ' \\\\', 'up', 'arrow', ' }', ' =', 'y', '_', ' {', ' \\\\', 'rm', ' A', ' }', ' +', 'a', '_', ' {', ' \\\\', 'rm', ' c', ' }', ' $']\n",
      "0.7888\n"
     ]
    },
    {
     "name": "stderr",
     "output_type": "stream",
     "text": [
      " 42%|████▎     | 425/1000 [15:27<15:17,  1.60s/it]"
     ]
    },
    {
     "name": "stdout",
     "output_type": "stream",
     "text": [
      "Decoded tokens: ['$', '72', '$']\n",
      "Decoded tokens: ['$', ' ^', ' {', ' 72', ' }', ' $']\n",
      "0.8093\n"
     ]
    },
    {
     "name": "stderr",
     "output_type": "stream",
     "text": [
      " 43%|████▎     | 426/1000 [15:28<14:15,  1.49s/it]"
     ]
    },
    {
     "name": "stdout",
     "output_type": "stream",
     "text": [
      "Decoded tokens: ['$', ' \\\\', 'ome', 'ga', '_{', '0', '}', '$']\n",
      "Decoded tokens: ['$', ' \\\\', 'ome', 'ga', '_', '0', ' $']\n",
      "0.9411\n"
     ]
    },
    {
     "name": "stderr",
     "output_type": "stream",
     "text": [
      " 43%|████▎     | 427/1000 [15:30<14:24,  1.51s/it]"
     ]
    },
    {
     "name": "stdout",
     "output_type": "stream",
     "text": [
      "Decoded tokens: ['$', '14', ' \\\\', ',', ' \\\\', 'math', 'rm', '{', 'c', '}', '$']\n",
      "Decoded tokens: ['$', ' ^', ' \\\\', 'text', 'rm', ' {', ' \\\\', 'script', 'size', ' 14', 'c', ' }', ' $']\n",
      "0.7621\n"
     ]
    },
    {
     "name": "stderr",
     "output_type": "stream",
     "text": [
      " 43%|████▎     | 428/1000 [15:31<13:16,  1.39s/it]"
     ]
    },
    {
     "name": "stdout",
     "output_type": "stream",
     "text": [
      "Decoded tokens: [' \\\\', '[', '\\n', ' \\\\', 'display', 'style', ' 1', ' -', ' x', '\\n', ' \\\\', ']']\n",
      "Decoded tokens: ['$', ' _', ' {', ' 1', '-', 'x', ' }', ' $']\n",
      "0.7163\n"
     ]
    },
    {
     "name": "stderr",
     "output_type": "stream",
     "text": [
      " 43%|████▎     | 429/1000 [15:34<18:19,  1.93s/it]"
     ]
    },
    {
     "name": "stdout",
     "output_type": "stream",
     "text": [
      "Decoded tokens: ['$', 's', ' \\\\', 'cd', 'ot', ' \\\\', 'math', 'bf', '{', '1', '}', '_{', ' \\\\', 'hat', '{', 'G', '}}', ' =', ' \\\\', 'math', 'bf', '{', '1', '}', '_{', 'G', '}', '$']\n",
      "Decoded tokens: ['$', ' s', ' (', ' 1', '_', ' {', ' \\\\', 'h', 'GG', ' }', ' )', ' =', ' 1', '_', ' {', ' \\\\', 'GG', ' }', ' $']\n",
      "0.7632\n"
     ]
    },
    {
     "name": "stderr",
     "output_type": "stream",
     "text": [
      " 43%|████▎     | 430/1000 [15:35<17:07,  1.80s/it]"
     ]
    },
    {
     "name": "stdout",
     "output_type": "stream",
     "text": [
      "Decoded tokens: ['$', ' \\\\', 'the', 'ta', ' =', ' \\\\', 'the', 'ta', '_', '0', '$']\n",
      "Decoded tokens: ['$', ' \\\\', 'the', 'ta', '=', ' \\\\', 'the', 'ta', '_', '0', ' $']\n",
      "0.9915\n"
     ]
    },
    {
     "name": "stderr",
     "output_type": "stream",
     "text": [
      " 43%|████▎     | 431/1000 [15:37<17:33,  1.85s/it]"
     ]
    },
    {
     "name": "stdout",
     "output_type": "stream",
     "text": [
      "Decoded tokens: ['$', ' \\\\', 'log', ' \\\\', 'left', '(', ' \\\\', 'frac', '{', 'M', '}{', 'M', '_{', ' \\\\', 'circ', '}}', ' \\\\', 'right', ')', ' =', ' 6', ' $']\n",
      "Decoded tokens: ['$', ' \\\\', 'log', ' (', ' M', '_', ' *', ' /', 'M', '_', ' \\\\', 'od', 'ot', ' )', ' =', ' 6', ' $']\n",
      "0.7831\n"
     ]
    },
    {
     "name": "stderr",
     "output_type": "stream",
     "text": [
      " 43%|████▎     | 432/1000 [15:39<16:19,  1.72s/it]"
     ]
    },
    {
     "name": "stdout",
     "output_type": "stream",
     "text": [
      "Decoded tokens: [' \\\\', '[', ' \\\\', 'ep', 'sil', 'on', ' \\\\', ']']\n",
      "Decoded tokens: ['$', ' \\\\', 'ep', 'sil', 'on', ' $']\n",
      "0.7158\n"
     ]
    },
    {
     "name": "stderr",
     "output_type": "stream",
     "text": [
      " 43%|████▎     | 433/1000 [15:40<14:36,  1.54s/it]"
     ]
    },
    {
     "name": "stdout",
     "output_type": "stream",
     "text": [
      "Decoded tokens: ['$', 'f', '_', ' \\\\', 'ome', 'ga', '$']\n",
      "Decoded tokens: ['$', ' f', '_', ' \\\\', 'ome', 'ga', ' $']\n",
      "0.983\n"
     ]
    },
    {
     "name": "stderr",
     "output_type": "stream",
     "text": [
      " 43%|████▎     | 434/1000 [15:41<13:57,  1.48s/it]"
     ]
    },
    {
     "name": "stdout",
     "output_type": "stream",
     "text": [
      "Decoded tokens: [' \\\\', '[', '\\n', ' \\\\', 'display', 'style', ' r', ' +', ' e', '\\n', ' \\\\', ']']\n",
      "Decoded tokens: ['$', ' {', ' r', '^', '+', ' }', ' \\\\', 'left', ' (', ' e', ' \\\\', 'right', ' )', ' $']\n",
      "0.7801\n"
     ]
    },
    {
     "name": "stderr",
     "output_type": "stream",
     "text": [
      " 44%|████▎     | 435/1000 [15:43<13:49,  1.47s/it]"
     ]
    },
    {
     "name": "stdout",
     "output_type": "stream",
     "text": [
      "Decoded tokens: ['$', 'G', '_{', 'N', '_{', 'v', 'k', '}}', '$']\n",
      "Decoded tokens: ['$', ' \\\\', 'math', 'cal', ' {', ' G', ' }', ' _', ' {', ' N', '_', ' \\\\', 'v', 'k', ' }', ' $']\n",
      "0.7586\n"
     ]
    },
    {
     "name": "stderr",
     "output_type": "stream",
     "text": [
      " 44%|████▎     | 436/1000 [15:45<15:26,  1.64s/it]"
     ]
    },
    {
     "name": "stdout",
     "output_type": "stream",
     "text": [
      "Decoded tokens: ['$', ' \\\\', 'log', '^', '*', ' (', 'n', ' +', ' 3', ')', '^', ' \\\\', 'd', 'elta', ' -', ' \\\\', 'd', 'elta', ' +', ' 11', ' $']\n",
      "Decoded tokens: ['$', ' \\\\', 'log', '^', ' *', ' (', ' n', ' )', ' +', ' 3', '^', ' \\\\', 'Delta', ' -', ' \\\\', 'Delta', ' +', ' 11', ' $']\n",
      "0.8521\n"
     ]
    },
    {
     "name": "stderr",
     "output_type": "stream",
     "text": [
      " 44%|████▎     | 437/1000 [15:47<16:33,  1.77s/it]"
     ]
    },
    {
     "name": "stdout",
     "output_type": "stream",
     "text": [
      "Decoded tokens: ['$', 'c', 'L', '_{', 'c', 'K', '}', '^', ' \\\\', 'text', '{', 'd', 'iary', '}', ' \\\\', 'su', 'ps', 'ete', 'q', ' c', 'L', '$']\n",
      "Decoded tokens: ['$', ' \\\\', 'c', 'L', '_', ' \\\\', 'c', 'K', '^', ' {', ' \\\\', 'rm', ' {', ' diary', ' }', ' }', ' \\\\', 'su', 'ps', 'ete', 'q', ' \\\\', 'c', 'L', ' $']\n",
      "0.7473\n"
     ]
    },
    {
     "name": "stderr",
     "output_type": "stream",
     "text": [
      " 44%|████▍     | 438/1000 [15:48<15:17,  1.63s/it]"
     ]
    },
    {
     "name": "stdout",
     "output_type": "stream",
     "text": [
      "Decoded tokens: ['$', 'm', '_', '1', ',', ' m', '_', '2', '$']\n",
      "Decoded tokens: ['$', ' m', '_', '1', ' ,', ' m', '_', '2', ' $']\n",
      "0.9688\n"
     ]
    },
    {
     "name": "stderr",
     "output_type": "stream",
     "text": [
      " 44%|████▍     | 439/1000 [15:50<15:33,  1.66s/it]"
     ]
    },
    {
     "name": "stdout",
     "output_type": "stream",
     "text": [
      "Decoded tokens: ['$', ' \\\\', 'math', 'cal', '{', 'C', '}', '_{', '3', 'v', '}', '$']\n",
      "Decoded tokens: ['$', ' C', '_', ' {', ' 3', 'v', ' }', ' $']\n",
      "0.7807\n"
     ]
    },
    {
     "name": "stderr",
     "output_type": "stream",
     "text": [
      " 44%|████▍     | 440/1000 [15:51<14:35,  1.56s/it]"
     ]
    },
    {
     "name": "stdout",
     "output_type": "stream",
     "text": [
      "Decoded tokens: ['$', 'd', ' \\\\', 'ge', 'q', ' 1', '$']\n",
      "Decoded tokens: ['$', ' d', ' \\\\', 'ge', 'q', ' 1', ' $']\n",
      "0.9794\n"
     ]
    },
    {
     "name": "stderr",
     "output_type": "stream",
     "text": [
      " 44%|████▍     | 441/1000 [15:54<18:48,  2.02s/it]"
     ]
    },
    {
     "name": "stdout",
     "output_type": "stream",
     "text": [
      "Decoded tokens: ['$', 'x', ' \\\\', 'in', ' \\\\', 'math', 'cal', '{', 'B', '}', '_', 'r', '(', 'x', '_', '0', ',', ' d', '_', ' \\\\', 'var', 'O', 'mega', ')', '$']\n",
      "Decoded tokens: ['$', ' x', ' \\\\', 'in', ' B', '_', 'r', ' (', ' x', '_', '0', ' ,', ' d', '_', ' \\\\', 'O', 'm', ' )', ' $']\n",
      "0.7968\n"
     ]
    },
    {
     "name": "stderr",
     "output_type": "stream",
     "text": [
      " 44%|████▍     | 442/1000 [15:56<16:50,  1.81s/it]"
     ]
    },
    {
     "name": "stdout",
     "output_type": "stream",
     "text": [
      "Decoded tokens: ['$', ' \\\\', 'Delta', ' =', ' -', '8', ' \\\\', 'gam', 'ma', '$']\n",
      "Decoded tokens: ['$', ' \\\\', 'd', 'elta', ' =', ' -', '8', ' \\\\', 'gam', 'ma', ' $']\n",
      "0.7839\n"
     ]
    },
    {
     "name": "stderr",
     "output_type": "stream",
     "text": [
      " 44%|████▍     | 443/1000 [15:57<14:54,  1.61s/it]"
     ]
    },
    {
     "name": "stdout",
     "output_type": "stream",
     "text": [
      "Decoded tokens: [' \\\\(', '-', '2', ' \\\\', ')']\n",
      "Decoded tokens: ['$', ' ^', ' {', ' -', '2', ' }', ' $']\n",
      "0.7432\n"
     ]
    },
    {
     "name": "stderr",
     "output_type": "stream",
     "text": [
      " 44%|████▍     | 444/1000 [15:59<16:40,  1.80s/it]"
     ]
    },
    {
     "name": "stdout",
     "output_type": "stream",
     "text": [
      "Decoded tokens: ['$', 'E', '_', 'd', ' =', ' \\\\', 'r', 'ho', '_', 'd', ' V', '$']\n",
      "Decoded tokens: ['$', ' E', '_', ' {', ' d', ' }', ' =', ' \\\\', 'r', 'ho', '_', ' {', ' d', ' }', ' V', ' $']\n",
      "0.8024\n"
     ]
    },
    {
     "name": "stderr",
     "output_type": "stream",
     "text": [
      " 44%|████▍     | 445/1000 [16:01<16:26,  1.78s/it]"
     ]
    },
    {
     "name": "stdout",
     "output_type": "stream",
     "text": [
      "Decoded tokens: ['$', ' \\\\', 'alpha', '_{', ' \\\\', 'math', 'rm', '{', 'e', '}}', '$']\n",
      "Decoded tokens: ['$', ' \\\\', 'alpha', '_', ' {', ' e', ' }', ' $']\n",
      "0.8415\n"
     ]
    },
    {
     "name": "stderr",
     "output_type": "stream",
     "text": [
      " 45%|████▍     | 446/1000 [16:05<22:47,  2.47s/it]"
     ]
    },
    {
     "name": "stdout",
     "output_type": "stream",
     "text": [
      "Decoded tokens: ['$', 'H', '_{', ' \\\\', 'math', 'rm', '{', 'B', 'or', '}}', '^', '*', ' (', ' \\\\', 'bul', 'let', ';', ' \\\\', 'math', 'bb', '{', 'F', '}', '_', '2', ')', ' =', ' \\\\', 'math', 'bb', '{', 'F', '}', '_', '2', '[', 'z', ']', '$']\n",
      "Decoded tokens: ['$', ' H', '_', ' {', ' Bor', ' }', ' ^', ' *', ' (', ' \\\\', 'bul', 'let', ' ;', ' \\\\', 'F', '_', '2', ' )', ' =', ' \\\\', 'F', '_', '2', ' [', ' z', ' ]', ' $']\n",
      "0.7719\n"
     ]
    },
    {
     "name": "stderr",
     "output_type": "stream",
     "text": [
      " 45%|████▍     | 447/1000 [16:07<22:11,  2.41s/it]"
     ]
    },
    {
     "name": "stdout",
     "output_type": "stream",
     "text": [
      "Decoded tokens: ['$', ' P', '_{', ' \\\\', 'the', 'ta', '}', ' \\\\', 'in', ' \\\\', 'The', 'ta', ' $']\n",
      "Decoded tokens: ['$', ' \\\\', ' {', ' P', '_', ' {', ' \\\\', 'the', 'ta', ' }', ' \\\\', ' }', ' _', ' {', ' \\\\', 'the', 'ta', ' \\\\', 'in', ' \\\\', 'The', 'ta', ' }', ' $']\n",
      "0.7622\n"
     ]
    },
    {
     "name": "stderr",
     "output_type": "stream",
     "text": [
      " 45%|████▍     | 448/1000 [16:08<19:18,  2.10s/it]"
     ]
    },
    {
     "name": "stdout",
     "output_type": "stream",
     "text": [
      "Decoded tokens: ['$', ' \\\\', 'math', 'bf', '{', ' \\\\', 'L', 'amb', 'da', '}', '$']\n",
      "Decoded tokens: ['$', ' \\\\', 'lambda', ' $']\n",
      "0.8668\n"
     ]
    },
    {
     "name": "stderr",
     "output_type": "stream",
     "text": [
      " 45%|████▍     | 449/1000 [16:10<17:07,  1.86s/it]"
     ]
    },
    {
     "name": "stdout",
     "output_type": "stream",
     "text": [
      "Decoded tokens: [' \\\\', '[', '\\n', 'x', '^{', '1', '}', '\\n', ' \\\\', ']']\n",
      "Decoded tokens: ['$', ' x', '^', ' {', ' (', ' 1', ' )', ' }', ' $']\n",
      "0.743\n"
     ]
    },
    {
     "name": "stderr",
     "output_type": "stream",
     "text": [
      " 45%|████▌     | 450/1000 [16:11<16:08,  1.76s/it]"
     ]
    },
    {
     "name": "stdout",
     "output_type": "stream",
     "text": [
      "Decoded tokens: ['$', ' \\\\', 'L', 'amb', 'da', '^', '2', '$']\n",
      "Decoded tokens: ['$', ' \\\\', 'lambda', '^', '2', ' $']\n",
      "0.8094\n"
     ]
    },
    {
     "name": "stderr",
     "output_type": "stream",
     "text": [
      " 45%|████▌     | 451/1000 [16:14<17:45,  1.94s/it]"
     ]
    },
    {
     "name": "stdout",
     "output_type": "stream",
     "text": [
      "Decoded tokens: ['$', ' \\\\', 'math', 'bf', '{', 'X', '}', '_', '0', '$']\n",
      "Decoded tokens: ['$', ' X', '_', ' {', ' 0', ' }', ' $']\n",
      "0.753\n"
     ]
    },
    {
     "name": "stderr",
     "output_type": "stream",
     "text": [
      " 45%|████▌     | 452/1000 [16:15<15:56,  1.74s/it]"
     ]
    },
    {
     "name": "stdout",
     "output_type": "stream",
     "text": [
      "Decoded tokens: ['$', ' \\\\', 'math', 'bf', '{', ' \\\\', 'L', 'amb', 'da', '}', '$']\n",
      "Decoded tokens: ['$', ' \\\\', 'lambda', ' $']\n",
      "0.8668\n"
     ]
    },
    {
     "name": "stderr",
     "output_type": "stream",
     "text": [
      " 45%|████▌     | 453/1000 [16:17<15:36,  1.71s/it]"
     ]
    },
    {
     "name": "stdout",
     "output_type": "stream",
     "text": [
      "Decoded tokens: ['$', '(', ' \\\\', 'lambda', ',', ' \\\\', 'gam', 'ma', ')', '$']\n",
      "Decoded tokens: ['$', ' (', ' \\\\', 'lambda', ' ,', ' \\\\', 'gam', 'ma', ' )', ' $']\n",
      "0.9642\n"
     ]
    },
    {
     "name": "stderr",
     "output_type": "stream",
     "text": [
      " 45%|████▌     | 454/1000 [16:19<16:15,  1.79s/it]"
     ]
    },
    {
     "name": "stdout",
     "output_type": "stream",
     "text": [
      "Decoded tokens: ['$', ' \\\\', 'alpha', '^', '*', ' :', ' \\\\', 'math', 'sf', '{', 'cat', '}', ' $']\n",
      "Decoded tokens: ['$', ' \\\\', 'alpha', '^', ' *', ' \\\\', 'col', 'on', ' \\\\', 'cat', ' {', ' $']\n",
      "0.8303\n"
     ]
    },
    {
     "name": "stderr",
     "output_type": "stream",
     "text": [
      " 46%|████▌     | 455/1000 [16:20<14:30,  1.60s/it]"
     ]
    },
    {
     "name": "stdout",
     "output_type": "stream",
     "text": [
      "Decoded tokens: [' \\\\(', '-', '3', ' \\\\', ')']\n",
      "Decoded tokens: ['$', ' ^', ' {', ' -', '3', ' }', ' $']\n",
      "0.7388\n"
     ]
    },
    {
     "name": "stderr",
     "output_type": "stream",
     "text": [
      " 46%|████▌     | 456/1000 [16:21<13:09,  1.45s/it]"
     ]
    },
    {
     "name": "stdout",
     "output_type": "stream",
     "text": [
      "Decoded tokens: ['$', 'L', ' \\\\', 'ne', 'q', ' 0', '$']\n",
      "Decoded tokens: ['$', ' L', ' \\\\', 'ne', 'q', ' 0', ' $']\n",
      "0.9892\n"
     ]
    },
    {
     "name": "stderr",
     "output_type": "stream",
     "text": [
      " 46%|████▌     | 457/1000 [16:22<13:07,  1.45s/it]"
     ]
    },
    {
     "name": "stdout",
     "output_type": "stream",
     "text": [
      "Decoded tokens: ['$', ' \\\\', 'math', 'cal', '{', 'M', '}', '_{', '1', ',', '2', '}', '$']\n",
      "Decoded tokens: ['$', ' M', '_', ' {', ' 1', ',', '2', ' }', ' $']\n",
      "0.7557\n"
     ]
    },
    {
     "name": "stderr",
     "output_type": "stream",
     "text": [
      " 46%|████▌     | 458/1000 [16:24<12:47,  1.42s/it]"
     ]
    },
    {
     "name": "stdout",
     "output_type": "stream",
     "text": [
      "Decoded tokens: ['$', 'e', \"'\", '_{', '1', '}', '$']\n",
      "Decoded tokens: ['$', ' e', \" '\", ' _', ' {', ' 1', ' }', ' $']\n",
      "0.814\n"
     ]
    },
    {
     "name": "stderr",
     "output_type": "stream",
     "text": [
      " 46%|████▌     | 459/1000 [16:26<16:41,  1.85s/it]"
     ]
    },
    {
     "name": "stdout",
     "output_type": "stream",
     "text": [
      "Decoded tokens: ['$', 'B', '^{', '*', '0', '}', ' \\\\', 'right', 'arrow', ' K', '^{', '*', '0', '}', ' (', 'l', '^{', '+', '}', ' +', ' l', '^{', '-', '})', '$']\n",
      "Decoded tokens: ['$', ' B', '^', ' {', ' *', ' 0', ' }', ' \\\\', 'to', ' K', '^', ' {', ' *', ' 0', ' }', ' l', '^', '+', ' l', '^', '-', ' $']\n",
      "0.8086\n"
     ]
    },
    {
     "name": "stderr",
     "output_type": "stream",
     "text": [
      " 46%|████▌     | 460/1000 [16:28<15:31,  1.73s/it]"
     ]
    },
    {
     "name": "stdout",
     "output_type": "stream",
     "text": [
      "Decoded tokens: ['$', ' \\\\', 'hat', '{', 'H', '_', '1', '}', '$']\n",
      "Decoded tokens: ['$', ' \\\\', 'hat', ' {', ' H', ' }', ' _', '1', ' $']\n",
      "0.8925\n"
     ]
    },
    {
     "name": "stderr",
     "output_type": "stream",
     "text": [
      " 46%|████▌     | 461/1000 [16:30<17:12,  1.92s/it]"
     ]
    },
    {
     "name": "stdout",
     "output_type": "stream",
     "text": [
      "Decoded tokens: ['$', 'c', '_', 'i', ' \\\\', 'app', 'rox', ' \\\\', 'frac', '{', '3', '.', '5', ' \\\\', ',', ' \\\\', 'text', '{', 'me', 'V', '}}', '{', 'V', '/', 'm', '}', '$']\n",
      "Decoded tokens: ['$', ' c', '_', ' {', ' i', ' }', ' \\\\', 'sim', ' 3', '.', '5', ' \\\\', 'text', ' {', ' me', 'V', '/', ' (', ' V', '/', 'm', ' )', ' }', ' $']\n",
      "0.7555\n"
     ]
    },
    {
     "name": "stderr",
     "output_type": "stream",
     "text": [
      " 46%|████▌     | 462/1000 [16:31<15:18,  1.71s/it]"
     ]
    },
    {
     "name": "stdout",
     "output_type": "stream",
     "text": [
      "Decoded tokens: ['$', ' \\\\', 'd', 'elta', ' \\\\', 'ge', 'q', ' 0', '$']\n",
      "Decoded tokens: ['$', ' \\\\', 'd', 'elta', ' \\\\', 'ge', '0', ' $']\n",
      "0.9524\n"
     ]
    },
    {
     "name": "stderr",
     "output_type": "stream",
     "text": [
      " 46%|████▋     | 463/1000 [16:33<15:56,  1.78s/it]"
     ]
    },
    {
     "name": "stdout",
     "output_type": "stream",
     "text": [
      "Decoded tokens: ['$', 'W', ' \\\\', 'to', ' W', '[', '2', ']', ' \\\\', 'sub', 'set', 'eq', ' W', ' \\\\', 'to', ' W', \"'\", '$']\n",
      "Decoded tokens: ['$', ' \\\\', 'W', ' \\\\', 'ext', 'ends', ' \\\\', 'W', '_', '2', ' \\\\', 'sub', 'set', 'eq', ' \\\\', 'W', ' \\\\', 'ext', 'ends', ' W', \" '\", ' $']\n",
      "0.7381\n"
     ]
    },
    {
     "name": "stderr",
     "output_type": "stream",
     "text": [
      " 46%|████▋     | 464/1000 [16:35<14:38,  1.64s/it]"
     ]
    },
    {
     "name": "stdout",
     "output_type": "stream",
     "text": [
      "Decoded tokens: ['$', 'n', ',', ' m', ' \\\\', 'ge', 'q', ' 2', '$']\n",
      "Decoded tokens: ['$', ' n', ' ,', ' m', ' \\\\', 'ge', 'q', ' 2', ' $']\n",
      "0.9638\n"
     ]
    },
    {
     "name": "stderr",
     "output_type": "stream",
     "text": [
      " 46%|████▋     | 465/1000 [16:37<15:29,  1.74s/it]"
     ]
    },
    {
     "name": "stdout",
     "output_type": "stream",
     "text": [
      "Decoded tokens: ['$', ' \\\\', 'math', 'bb', '{', 'Z', '}', '_', '2', '^', 's', '$']\n",
      "Decoded tokens: ['$', ' \\\\', 'Z', '_', ' {', ' 2', '^', 's', ' }', ' $']\n",
      "0.8103\n"
     ]
    },
    {
     "name": "stderr",
     "output_type": "stream",
     "text": [
      " 47%|████▋     | 466/1000 [16:38<14:22,  1.61s/it]"
     ]
    },
    {
     "name": "stdout",
     "output_type": "stream",
     "text": [
      "Decoded tokens: ['$', ' \\\\', 's', 'igma', '_', 'i', ' $']\n",
      "Decoded tokens: ['$', ' \\\\', 'bold', 'sy', 'mbol', ' {', ' \\\\', 's', 'igma', ' }', ' _', 'i', ' $']\n",
      "0.7739\n"
     ]
    },
    {
     "name": "stderr",
     "output_type": "stream",
     "text": [
      " 47%|████▋     | 467/1000 [16:40<15:13,  1.71s/it]"
     ]
    },
    {
     "name": "stdout",
     "output_type": "stream",
     "text": [
      "Decoded tokens: ['$', ' \\\\', 'math', 'bf', '{', 'f', '}', '^', 'l', ' $']\n",
      "Decoded tokens: ['$', ' f', '^', ' {', ' (', ' l', ' )', ' }', ' $']\n",
      "0.7546\n"
     ]
    },
    {
     "name": "stderr",
     "output_type": "stream",
     "text": [
      " 47%|████▋     | 468/1000 [16:41<14:10,  1.60s/it]"
     ]
    },
    {
     "name": "stdout",
     "output_type": "stream",
     "text": [
      "Decoded tokens: ['$', 't', ' \\\\', 'le', 'q', ' T', '$']\n",
      "Decoded tokens: ['$', ' t', ' \\\\', 'le', 'q', ' T', ' $']\n",
      "0.976\n"
     ]
    },
    {
     "name": "stderr",
     "output_type": "stream",
     "text": [
      " 47%|████▋     | 469/1000 [16:43<14:01,  1.58s/it]"
     ]
    },
    {
     "name": "stdout",
     "output_type": "stream",
     "text": [
      "Decoded tokens: ['$', ' \\\\', 'math', 'sf', '{', 'f', 'F', '}', '(', 'j', ')', '$']\n",
      "Decoded tokens: ['$', ' \\\\', 'f', ' {', ' F', ' }', ' ^', ' {', ' (', ' j', ' )', ' }', ' $']\n",
      "0.8198\n"
     ]
    },
    {
     "name": "stderr",
     "output_type": "stream",
     "text": [
      " 47%|████▋     | 470/1000 [16:44<13:32,  1.53s/it]"
     ]
    },
    {
     "name": "stdout",
     "output_type": "stream",
     "text": [
      "Decoded tokens: ['$', 'B', '_', 'k', '(', ' \\\\', 'the', 'ta', ')', '$']\n",
      "Decoded tokens: ['$', ' B', '_', 'k', ' (', ' \\\\', 'v', 'art', 'het', 'a', ' )', ' $']\n",
      "0.8786\n"
     ]
    },
    {
     "name": "stderr",
     "output_type": "stream",
     "text": [
      " 47%|████▋     | 471/1000 [16:45<12:45,  1.45s/it]"
     ]
    },
    {
     "name": "stdout",
     "output_type": "stream",
     "text": [
      "Decoded tokens: ['$', ' \\\\', 't', 'ilde', '{', ' \\\\', 'd', 'elta', '}', '$']\n",
      "Decoded tokens: ['$', ' \\\\', 't', 'ilde', ' {', ' \\\\', 'd', 'elta', ' }', ' $']\n",
      "0.9884\n"
     ]
    },
    {
     "name": "stderr",
     "output_type": "stream",
     "text": [
      " 47%|████▋     | 472/1000 [16:47<13:15,  1.51s/it]"
     ]
    },
    {
     "name": "stdout",
     "output_type": "stream",
     "text": [
      "Decoded tokens: ['$', ' \\\\', 'r', 'ho', '_{', ' \\\\', 'text', '{', 'max', '},', ' t', '}', ' >', ' 1', '.', '0', ' $']\n",
      "Decoded tokens: ['$', ' \\\\', 'r', 'ho', '_', ' {', ' max', ' ,', ' t', ' }', ' >', ' 1', '.', '0', ' $']\n",
      "0.8227\n"
     ]
    },
    {
     "name": "stderr",
     "output_type": "stream",
     "text": [
      " 47%|████▋     | 473/1000 [16:49<13:25,  1.53s/it]"
     ]
    },
    {
     "name": "stdout",
     "output_type": "stream",
     "text": [
      "Decoded tokens: ['$', 'm', '_{', ' \\\\', 'text', '{', 'g', 'rav', '}}', '$']\n",
      "Decoded tokens: ['$', ' m', '_', ' {', ' grav', ' }', ' $']\n",
      "0.8311\n"
     ]
    },
    {
     "name": "stderr",
     "output_type": "stream",
     "text": [
      " 47%|████▋     | 474/1000 [16:52<18:11,  2.08s/it]"
     ]
    },
    {
     "name": "stdout",
     "output_type": "stream",
     "text": [
      "Decoded tokens: ['$', 'x', '(', 't', ';', ' n', '_', '2', '(', ' \\\\', 'cd', 'ot', '),', ' n', \"'\", '_{', '2', '}', '(', ' \\\\', 'cd', 'ot', '))', '$']\n",
      "Decoded tokens: ['$', ' x', ' (', ' t', ' ;', ' n', '_', '2', ' (', ' \\\\', 'cd', 'ot', ' )', ' ,', ' n', \"'\", '_', '2', ' (', ' \\\\', 'cd', 'ot', ' )', ' )', ' $']\n",
      "0.9085\n"
     ]
    },
    {
     "name": "stderr",
     "output_type": "stream",
     "text": [
      " 48%|████▊     | 475/1000 [16:56<24:20,  2.78s/it]"
     ]
    },
    {
     "name": "stdout",
     "output_type": "stream",
     "text": [
      "Decoded tokens: [' \\\\(', '(', '0', ',', ' \\\\', 'hat', '{', 'y', '}', '_', '1', ',', ' \\\\', 'ld', 'ots', ',', ' \\\\', 'hat', '{', 'y', '}', '_', 'a', ')', ' \\\\', 'in', ' \\\\', 'math', 'cal', '{', 'D', '}', ' \\\\', ')']\n",
      "Decoded tokens: ['$', ' (', ' 0', ' ,', ' \\\\', 'hat', ' {', ' y', ' }', ' _', '1', ' ,', ' \\\\', 'ld', 'ots', ' ,', ' \\\\', 'hat', ' {', ' y', ' }', ' _', 'a', ' )', ' \\\\', 'in', ' \\\\', 'sc', 'r', ' {', ' D', ' }', ' $']\n",
      "0.9268\n"
     ]
    },
    {
     "name": "stderr",
     "output_type": "stream",
     "text": [
      " 48%|████▊     | 476/1000 [16:59<23:12,  2.66s/it]"
     ]
    },
    {
     "name": "stdout",
     "output_type": "stream",
     "text": [
      "Decoded tokens: ['$', 'J', '_{', ' \\\\', 'text', '{', 'asy', 'mp', '},', ' 0', '}', '[', 'h', '](', ' \\\\', 't', 'au', ',', ' x', ')', ' =', ' 0', '$']\n",
      "Decoded tokens: ['$', ' J', '^', ' {', ' \\\\', 'math', 'rm', ' {', ' as', 'y', 'mp', ' }', ' }', ' _', '0', ' [', ' h', ' ]', ' (', ' \\\\', 't', 'au', ' ,', ' x', ' )', ' =', '0', ' $']\n",
      "0.7392\n"
     ]
    },
    {
     "name": "stderr",
     "output_type": "stream",
     "text": [
      " 48%|████▊     | 477/1000 [17:01<20:55,  2.40s/it]"
     ]
    },
    {
     "name": "stdout",
     "output_type": "stream",
     "text": [
      "Decoded tokens: [' \\\\(', '(', 'x', '_', '1', ',', ' y', '_', '1', ')', ' \\\\', ')']\n",
      "Decoded tokens: ['$', ' [', ' x', '_', '1', ' ,', ' y', '_', '1', ' ]', ' $']\n",
      "0.9023\n"
     ]
    },
    {
     "name": "stderr",
     "output_type": "stream",
     "text": [
      " 48%|████▊     | 478/1000 [17:03<21:04,  2.42s/it]"
     ]
    },
    {
     "name": "stdout",
     "output_type": "stream",
     "text": [
      "Decoded tokens: ['$', ' \\\\', 'math', 'bf', '{', 'z', '}', '^{', 'u', '_', 'k', '}', '$']\n",
      "Decoded tokens: ['$', ' \\\\', 'bold', 'sy', 'mbol', ' {', ' z', ' }', ' ^', 'u', '_', 'k', ' $']\n",
      "0.7835\n"
     ]
    },
    {
     "name": "stderr",
     "output_type": "stream",
     "text": [
      " 48%|████▊     | 479/1000 [17:04<17:30,  2.02s/it]"
     ]
    },
    {
     "name": "stdout",
     "output_type": "stream",
     "text": [
      "Decoded tokens: ['$', ' \\\\', 'The', 'ta', ' P', '$']\n",
      "Decoded tokens: ['$', ' \\\\', 'the', 'ta', '_', 'P', ' $']\n",
      "0.9149\n"
     ]
    },
    {
     "name": "stderr",
     "output_type": "stream",
     "text": [
      " 48%|████▊     | 480/1000 [17:06<17:52,  2.06s/it]"
     ]
    },
    {
     "name": "stdout",
     "output_type": "stream",
     "text": [
      "Decoded tokens: ['$', '(', 'a', '_{', '13', '},', ' b', '_{', '23', '})', '$']\n",
      "Decoded tokens: ['$', ' (', ' a', '_', ' {', ' 13', ' }', ' ,', ' b', '_', ' {', ' 23', ' }', ' )', ' $']\n",
      "0.7745\n"
     ]
    },
    {
     "name": "stderr",
     "output_type": "stream",
     "text": [
      " 48%|████▊     | 481/1000 [17:08<17:19,  2.00s/it]"
     ]
    },
    {
     "name": "stdout",
     "output_type": "stream",
     "text": [
      "Decoded tokens: ['$', 'f', '^', 'i', '_', 'b', '$']\n",
      "Decoded tokens: ['$', ' \\\\', 'bold', 'sy', 'mbol', ' {', ' f', ' }', ' ^', ' {', ' i', ' }', ' _', ' {', ' \\\\', 'rm', ' b', ' }', ' $']\n",
      "0.732\n"
     ]
    },
    {
     "name": "stderr",
     "output_type": "stream",
     "text": [
      " 48%|████▊     | 482/1000 [17:11<18:28,  2.14s/it]"
     ]
    },
    {
     "name": "stdout",
     "output_type": "stream",
     "text": [
      "Decoded tokens: ['$$', 'N', '^', 't', ' =', ' |', ' \\\\', 'math', 'cal', '{', 'N', '}', '^', 't', '|', '$$']\n",
      "Decoded tokens: ['$', ' {', ' N', ' }', ' ^', 't', '=', '|', ' \\\\', 'math', 'cal', ' {', ' N', ' }', ' ^', 't', '|', ' $']\n",
      "0.7278\n"
     ]
    },
    {
     "name": "stderr",
     "output_type": "stream",
     "text": [
      " 48%|████▊     | 483/1000 [17:12<16:18,  1.89s/it]"
     ]
    },
    {
     "name": "stdout",
     "output_type": "stream",
     "text": [
      "Decoded tokens: ['$', 't', '_{', ' \\\\', 'text', '{', 'exp', '}}', '$']\n",
      "Decoded tokens: ['$', ' t', '_', ' {', ' exp', ' }', ' $']\n",
      "0.8155\n"
     ]
    },
    {
     "name": "stderr",
     "output_type": "stream",
     "text": [
      " 48%|████▊     | 484/1000 [17:16<22:49,  2.65s/it]"
     ]
    },
    {
     "name": "stdout",
     "output_type": "stream",
     "text": [
      "Decoded tokens: ['$', 'H', '^', '2', ' \\\\', 'math', 'cal', '{', 'O', '}', '_{', ' \\\\', 'wide', 'hat', '{', 'X', '}}', '$']\n",
      "Decoded tokens: ['$', ' H', '^', '2', ' (', ' \\\\', 'c', 'O', '_', ' {', ' \\\\', 'hat', ' {', ' X', ' }', ' }', ' )', ' .', ' %', ' TOD', 'O', ' :', ' �', '�', 'の', '�', '�', '�', '�', 'の', '�', '�', '�', '�', '�', 'ま', 'た', 'は', '�', '�', '�', '�', '�', '�', '�', '�', '�', 'が', 'あ', 'っ', 'た', '�', '�', 'う', 'が', '�', '�', '�', 'い', '。', ' $']\n",
      "0.7928\n"
     ]
    },
    {
     "name": "stderr",
     "output_type": "stream",
     "text": [
      " 48%|████▊     | 485/1000 [17:18<20:15,  2.36s/it]"
     ]
    },
    {
     "name": "stdout",
     "output_type": "stream",
     "text": [
      "Decoded tokens: ['$', 'u', '_{', ' \\\\', 'text', '{', 'fb', '}}', '(', 'k', ')', '$']\n",
      "Decoded tokens: ['$', ' u', '_', ' {', ' \\\\', 'text', 'up', ' {', ' f', 'b', ' }', ' }', ' (', ' k', ' )', ' $']\n",
      "0.7881\n"
     ]
    },
    {
     "name": "stderr",
     "output_type": "stream",
     "text": [
      " 49%|████▊     | 486/1000 [17:20<18:13,  2.13s/it]"
     ]
    },
    {
     "name": "stdout",
     "output_type": "stream",
     "text": [
      "Decoded tokens: ['$', 'f', '_{', ' \\\\', 'math', 'rm', '{', 'R', '0', '}}', '$']\n",
      "Decoded tokens: ['$', ' f', '_', ' {', ' R', '0', ' }', ' $']\n",
      "0.8071\n"
     ]
    },
    {
     "name": "stderr",
     "output_type": "stream",
     "text": [
      " 49%|████▊     | 487/1000 [17:21<17:16,  2.02s/it]"
     ]
    },
    {
     "name": "stdout",
     "output_type": "stream",
     "text": [
      "Decoded tokens: ['$', 'A', '_{', ' \\\\', 'math', 'rm', '{', 'sd', '}}', ' <', ' 0', '$']\n",
      "Decoded tokens: ['$', ' A', '_', ' {', ' sd', ' }', ' <', ' 0', ' $']\n",
      "0.7958\n"
     ]
    },
    {
     "name": "stderr",
     "output_type": "stream",
     "text": [
      " 49%|████▉     | 488/1000 [17:24<17:40,  2.07s/it]"
     ]
    },
    {
     "name": "stdout",
     "output_type": "stream",
     "text": [
      "Decoded tokens: ['$', ' \\\\', 'phi', '_', 't', ' =', ' \\\\', 'frac', '{', '1', '}{', ' \\\\', 'gam', 'ma', '}', ' $']\n",
      "Decoded tokens: ['$', ' \\\\', 'var', 'phi', '_', 't', '=', '1', '/', ' \\\\', 'gam', 'ma', ' $']\n",
      "0.7495\n"
     ]
    },
    {
     "name": "stderr",
     "output_type": "stream",
     "text": [
      " 49%|████▉     | 489/1000 [17:26<17:59,  2.11s/it]"
     ]
    },
    {
     "name": "stdout",
     "output_type": "stream",
     "text": [
      "Decoded tokens: [' \\\\(', ' \\\\', 'math', 'cal', '{', 'R', '}', '_', '2', ' \\\\', ')']\n",
      "Decoded tokens: ['$', ' \\\\', 'math', 'cal', ' {', ' R', ' }', ' _', ' {', ' 2', ' }', ' $']\n",
      "0.8946\n"
     ]
    },
    {
     "name": "stderr",
     "output_type": "stream",
     "text": [
      " 49%|████▉     | 490/1000 [17:28<17:15,  2.03s/it]"
     ]
    },
    {
     "name": "stdout",
     "output_type": "stream",
     "text": [
      "Decoded tokens: ['$', ' \\\\', 'over', 'line', '{', ' \\\\', 'gam', 'ma', '}', '$']\n",
      "Decoded tokens: ['$', ' \\\\', 'bar', ' {', ' \\\\', 'gam', 'ma', ' }', ' $']\n",
      "0.7762\n"
     ]
    },
    {
     "name": "stderr",
     "output_type": "stream",
     "text": [
      " 49%|████▉     | 491/1000 [17:30<17:19,  2.04s/it]"
     ]
    },
    {
     "name": "stdout",
     "output_type": "stream",
     "text": [
      "Decoded tokens: ['$', ' \\\\', 'math', 'bf', '{', 'a', '}', '_', 'n', '$']\n",
      "Decoded tokens: ['$', ' \\\\', 'math', 'bf', ' {', ' a', ' }', ' _', 'n', ' $']\n",
      "0.9641\n"
     ]
    },
    {
     "name": "stderr",
     "output_type": "stream",
     "text": [
      " 49%|████▉     | 492/1000 [17:31<15:27,  1.83s/it]"
     ]
    },
    {
     "name": "stdout",
     "output_type": "stream",
     "text": [
      "Decoded tokens: ['$', ' \\\\', 'lambda', ' i', ' =', ' 0', '$']\n",
      "Decoded tokens: ['$', ' \\\\', 'lambda', '_', 'i', ' =', ' 0', ' $']\n",
      "0.8626\n"
     ]
    },
    {
     "name": "stderr",
     "output_type": "stream",
     "text": [
      " 49%|████▉     | 493/1000 [17:33<14:35,  1.73s/it]"
     ]
    },
    {
     "name": "stdout",
     "output_type": "stream",
     "text": [
      "Decoded tokens: ['$', ' \\\\', 'math', 'cal', '{', 'S', '}', '_', 'T', '$']\n",
      "Decoded tokens: ['$', ' S', '_', ' {', ' \\\\', 'math', 'cal', ' {', ' T', ' }', ' }', ' $']\n",
      "0.7747\n"
     ]
    },
    {
     "name": "stderr",
     "output_type": "stream",
     "text": [
      " 49%|████▉     | 494/1000 [17:34<14:08,  1.68s/it]"
     ]
    },
    {
     "name": "stdout",
     "output_type": "stream",
     "text": [
      "Decoded tokens: ['$', '-', 's', '_{', ' \\\\', 'beta', '}', '^', '2', '$']\n",
      "Decoded tokens: ['$', ' \\\\', ' {', ' c', '_', ' {', ' \\\\', 'beta', ' }', ' ^', '2', ' ,', ' c', '_', ' {', ' \\\\', 'beta', ' }', ' ^', '2', ' ,', ' -', 's', '_', ' {', ' \\\\', 'beta', ' }', ' ^', '2', ' \\\\', ' }', ' $']\n",
      "0.7503\n"
     ]
    },
    {
     "name": "stderr",
     "output_type": "stream",
     "text": [
      " 50%|████▉     | 495/1000 [17:37<16:18,  1.94s/it]"
     ]
    },
    {
     "name": "stdout",
     "output_type": "stream",
     "text": [
      "Decoded tokens: ['$', ' \\\\', 'eta', '_', 'A', '(', ' \\\\', 'ome', 'ga', ')', ' =', ' \\\\', 'frac', '{', 'k', '_', 'A', '(', ' \\\\', 'ome', 'ga', ')', '}{', ' \\\\', 'ome', 'ga', '}', '$']\n",
      "Decoded tokens: ['$', ' \\\\', 'eta', '_', 'A', ' (', ' \\\\', 'ome', 'ga', ' )', ' =', ' k', '_', 'A', ' (', ' \\\\', 'ome', 'ga', ' )', ' /', ' \\\\', 'ome', 'ga', ' $']\n",
      "0.8431\n"
     ]
    },
    {
     "name": "stderr",
     "output_type": "stream",
     "text": [
      " 50%|████▉     | 496/1000 [17:38<15:20,  1.83s/it]"
     ]
    },
    {
     "name": "stdout",
     "output_type": "stream",
     "text": [
      "Decoded tokens: ['$$', ' c', '^{', '-', '1', '}', ' $$']\n",
      "Decoded tokens: ['$', ' c', '^', ' {', ' -', '1', ' }', ' $']\n",
      "0.8271\n"
     ]
    },
    {
     "name": "stderr",
     "output_type": "stream",
     "text": [
      " 50%|████▉     | 497/1000 [17:40<15:55,  1.90s/it]"
     ]
    },
    {
     "name": "stdout",
     "output_type": "stream",
     "text": [
      "Decoded tokens: ['$', ' \\\\', 'bold', 'sy', 'mbol', '{', ' \\\\', 'The', 'ta', '}', '^', '*', '$']\n",
      "Decoded tokens: ['$', ' \\\\', 'The', 'ta', '^', ' {', ' *', ' }', ' $']\n",
      "0.8151\n"
     ]
    },
    {
     "name": "stderr",
     "output_type": "stream",
     "text": [
      " 50%|████▉     | 498/1000 [17:42<15:09,  1.81s/it]"
     ]
    },
    {
     "name": "stdout",
     "output_type": "stream",
     "text": [
      "Decoded tokens: ['$', ' \\\\', 'math', 'bf', '{', 'g', '}', '(', ' \\\\', 'cd', 'ot', ')', '$']\n",
      "Decoded tokens: ['$', ' g', ' (', ' \\\\', 'cd', 'ot', ' )', ' $']\n",
      "0.7407\n"
     ]
    },
    {
     "name": "stderr",
     "output_type": "stream",
     "text": [
      " 50%|████▉     | 499/1000 [17:43<14:13,  1.70s/it]"
     ]
    },
    {
     "name": "stdout",
     "output_type": "stream",
     "text": [
      "Decoded tokens: ['$', ' \\\\', 'math', 'bf', '{', 'C', '}', '^', '1', '$']\n",
      "Decoded tokens: ['$', ' C', '^', ' {', ' 1', ' }', ' $']\n",
      "0.7528\n"
     ]
    },
    {
     "name": "stderr",
     "output_type": "stream",
     "text": [
      " 50%|█████     | 500/1000 [17:46<16:56,  2.03s/it]"
     ]
    },
    {
     "name": "stdout",
     "output_type": "stream",
     "text": [
      "Decoded tokens: ['$', ' \\\\', 'wid', 'et', 'ilde', '{', ' \\\\', 'beta', '}', '_{', 'K', '_', 'n', '}', ' \\\\', 'in', ' \\\\', 'The', 'ta', '_{', 'K', '_', 'n', '}', ' $']\n",
      "Decoded tokens: ['$', ' \\\\', 'wid', 'et', 'ilde', ' {', ' \\\\', 'beta', ' }', ' _', ' {', ' K', '_', 'n', ' }', ' \\\\', 'in', ' \\\\', 'The', 'ta', '_', ' {', ' K', '_', 'n', ' }', ' $']\n",
      "0.8312\n"
     ]
    },
    {
     "name": "stderr",
     "output_type": "stream",
     "text": [
      " 50%|█████     | 501/1000 [17:47<14:45,  1.77s/it]"
     ]
    },
    {
     "name": "stdout",
     "output_type": "stream",
     "text": [
      "Decoded tokens: ['$', ' \\\\', 's', 'igma', '^', '2', '$']\n",
      "Decoded tokens: ['$', ' \\\\', 's', 'igma', '^', '2', ' $']\n",
      "0.9941\n"
     ]
    },
    {
     "name": "stderr",
     "output_type": "stream",
     "text": [
      " 50%|█████     | 502/1000 [17:49<14:58,  1.81s/it]"
     ]
    },
    {
     "name": "stdout",
     "output_type": "stream",
     "text": [
      "Decoded tokens: ['$', ' \\\\', 'k', 'appa', '_', 'e', ' $']\n",
      "Decoded tokens: ['$', ' \\\\', 'k', 'appa', '_', 'e', ' $']\n",
      "1.0\n"
     ]
    },
    {
     "name": "stderr",
     "output_type": "stream",
     "text": [
      " 50%|█████     | 503/1000 [17:51<14:58,  1.81s/it]"
     ]
    },
    {
     "name": "stdout",
     "output_type": "stream",
     "text": [
      "Decoded tokens: ['$', 's', '=', 'k', '+', '2', ',', ' k', '+', '4', ',', ' k', '+', '6', ',', ' \\\\', 'ld', 'ots', '$']\n",
      "Decoded tokens: ['$', ' s', '=', 'k', '+', '2', ' ,', ' k', '+', '4', ' ,', ' k', '+', '6', ' ,', ' \\\\', 'cd', 'ots', ' $']\n",
      "0.9535\n"
     ]
    },
    {
     "name": "stderr",
     "output_type": "stream",
     "text": [
      " 50%|█████     | 504/1000 [17:53<14:04,  1.70s/it]"
     ]
    },
    {
     "name": "stdout",
     "output_type": "stream",
     "text": [
      "Decoded tokens: ['$', ' \\\\', 'math', 'cal', '{', 'F', '}', '(', ' \\\\', 'cd', 'ot', ')', '$']\n",
      "Decoded tokens: ['$', ' \\\\', 'math', 'cal', ' {', ' F', ' }', ' (', ' \\\\', 'cd', 'ot', ' )', ' $']\n",
      "0.9773\n"
     ]
    },
    {
     "name": "stderr",
     "output_type": "stream",
     "text": [
      " 50%|█████     | 505/1000 [17:54<13:07,  1.59s/it]"
     ]
    },
    {
     "name": "stdout",
     "output_type": "stream",
     "text": [
      "Decoded tokens: ['$', ' \\\\', 'math', 'cal', '{', 'H', '}', '_', '1', '$']\n",
      "Decoded tokens: ['$', ' (', ' \\\\', 'math', 'cal', ' {', ' H', ' }', ' _', '1', ' )', ' $']\n",
      "0.7538\n"
     ]
    },
    {
     "name": "stderr",
     "output_type": "stream",
     "text": [
      " 51%|█████     | 506/1000 [18:08<43:23,  5.27s/it]"
     ]
    },
    {
     "name": "stdout",
     "output_type": "stream",
     "text": [
      "Decoded tokens: [' \\\\', '[', '\\n', ' \\\\', 'text', '{', '0', ' is', ' less', ' than', ' or', ' equal', ' to', ' }', ' i', ' \\\\', 'text', '{', ',', ' which', ' is', ' less', ' than', ' }', ' k', '.', '\\n', ' \\\\', ']']\n",
      "Decoded tokens: ['$', ' 0', ' \\\\', 'le', 'q', ' i', ' <', ' k', ' $']\n",
      "0.7391\n"
     ]
    },
    {
     "name": "stderr",
     "output_type": "stream",
     "text": [
      " 51%|█████     | 507/1000 [18:09<33:41,  4.10s/it]"
     ]
    },
    {
     "name": "stdout",
     "output_type": "stream",
     "text": [
      "Decoded tokens: [' \\\\', '[', '\\n', ' \\\\', 'beta', '_', 'k', '\\n', ' \\\\', ']']\n",
      "Decoded tokens: ['$', ' \\\\', 'beta', '_', 'k', ' $']\n",
      "0.7196\n"
     ]
    },
    {
     "name": "stderr",
     "output_type": "stream",
     "text": [
      " 51%|█████     | 508/1000 [18:11<29:13,  3.56s/it]"
     ]
    },
    {
     "name": "stdout",
     "output_type": "stream",
     "text": [
      "Decoded tokens: ['$', ' \\\\', 'phi', '_{', 'i', ',', 'j', '}', ' :', ' G', '_{', 'x', '}', ' \\\\', 'to', ' H', '_{', ' \\\\', 'pi', '}', ' $']\n",
      "Decoded tokens: ['$', ' \\\\', 'var', 'phi', '_', ' {', ' i', ' ,', ' j', ' }', ' :', ' G', '_', 'x', ' \\\\', 'right', 'arrow', ' H', '_', ' \\\\', 'pi', ' $']\n",
      "0.7462\n"
     ]
    },
    {
     "name": "stderr",
     "output_type": "stream",
     "text": [
      " 51%|█████     | 509/1000 [18:13<24:31,  3.00s/it]"
     ]
    },
    {
     "name": "stdout",
     "output_type": "stream",
     "text": [
      "Decoded tokens: ['$', ' \\\\', 'O', 'mega', '_', 'm', ' =', ' 0', '.', '30', '89', '$']\n",
      "Decoded tokens: ['$', ' \\\\', 'O', 'mega', '_', 'm', ' =', ' 0', '.', '30', '89', ' $']\n",
      "0.9967\n"
     ]
    },
    {
     "name": "stderr",
     "output_type": "stream",
     "text": [
      " 51%|█████     | 510/1000 [18:14<20:32,  2.52s/it]"
     ]
    },
    {
     "name": "stdout",
     "output_type": "stream",
     "text": [
      "Decoded tokens: ['$', ' \\\\', 's', 'igma', '_{', ' \\\\', 'math', 'rm', '{', 'T', '}}', ' $']\n",
      "Decoded tokens: ['$', ' \\\\', 's', 'igma', '_', 'T', ' $']\n",
      "0.8901\n"
     ]
    },
    {
     "name": "stderr",
     "output_type": "stream",
     "text": [
      " 51%|█████     | 511/1000 [18:16<18:07,  2.22s/it]"
     ]
    },
    {
     "name": "stdout",
     "output_type": "stream",
     "text": [
      "Decoded tokens: ['$', ' \\\\', 'alpha', ' <', ' 1', '$']\n",
      "Decoded tokens: ['$', ' \\\\', 'alpha', ' <', ' 1', ' $']\n",
      "0.9931\n"
     ]
    },
    {
     "name": "stderr",
     "output_type": "stream",
     "text": [
      " 51%|█████     | 512/1000 [18:21<23:56,  2.94s/it]"
     ]
    },
    {
     "name": "stdout",
     "output_type": "stream",
     "text": [
      "Decoded tokens: ['$', ' \\\\', 'the', 'ta', '(', 'x', '_', 'i', ')', ' =', ' y', '_', 'i', ' $']\n",
      "Decoded tokens: ['$', ' \\\\', 'the', 'ta', ' (', ' x', '_', 'i', ' )', ' =', 'y', '_', 'i', ' $']\n",
      "0.973\n"
     ]
    },
    {
     "name": "stderr",
     "output_type": "stream",
     "text": [
      " 51%|█████▏    | 513/1000 [18:23<22:12,  2.74s/it]"
     ]
    },
    {
     "name": "stdout",
     "output_type": "stream",
     "text": [
      "Decoded tokens: ['$', ' \\\\', 't', 'au', '_', 'b', ' =', ' 2', '$']\n",
      "Decoded tokens: ['$', ' \\\\', 't', 'au', '_', 'b', '=', '2', ' $']\n",
      "0.9839\n"
     ]
    },
    {
     "name": "stderr",
     "output_type": "stream",
     "text": [
      " 51%|█████▏    | 514/1000 [18:27<24:48,  3.06s/it]"
     ]
    },
    {
     "name": "stdout",
     "output_type": "stream",
     "text": [
      "Decoded tokens: ['$', 's', '_', '1', ',', ' \\\\', 'ld', 'ots', ',', ' s', '_', 'r', '$']\n",
      "Decoded tokens: ['$', ' s', '_', '1', ' ,', ' \\\\', 'd', 'ots', ' ,', ' s', '_', 'r', ' $']\n",
      "0.9412\n"
     ]
    },
    {
     "name": "stderr",
     "output_type": "stream",
     "text": [
      " 52%|█████▏    | 515/1000 [18:29<21:51,  2.70s/it]"
     ]
    },
    {
     "name": "stdout",
     "output_type": "stream",
     "text": [
      "Decoded tokens: ['$', 'G', '_{', ' \\\\', 'mu', ' \\\\', 'nu', '}', '$']\n",
      "Decoded tokens: ['$', ' G', '_', ' {', ' \\\\', 'mu', ' \\\\', 'nu', ' }', ' $']\n",
      "0.8047\n"
     ]
    },
    {
     "name": "stderr",
     "output_type": "stream",
     "text": [
      " 52%|█████▏    | 516/1000 [18:30<19:23,  2.40s/it]"
     ]
    },
    {
     "name": "stdout",
     "output_type": "stream",
     "text": [
      "Decoded tokens: ['$', ' \\\\', 'lambda', ' =', ' 1', ',', ' 2', '$']\n",
      "Decoded tokens: ['$', ' \\\\', 'lambda', '=', '1', ',', '2', ' $']\n",
      "0.9751\n"
     ]
    },
    {
     "name": "stderr",
     "output_type": "stream",
     "text": [
      " 52%|█████▏    | 517/1000 [18:32<16:35,  2.06s/it]"
     ]
    },
    {
     "name": "stdout",
     "output_type": "stream",
     "text": [
      "Decoded tokens: ['$', 'n', ' \\\\', 'down', 'arrow', '$']\n",
      "Decoded tokens: ['$', ' n', '^', ' \\\\', 'down', 'arrow', ' $']\n",
      "0.8057\n"
     ]
    },
    {
     "name": "stderr",
     "output_type": "stream",
     "text": [
      " 52%|█████▏    | 518/1000 [18:34<18:37,  2.32s/it]"
     ]
    },
    {
     "name": "stdout",
     "output_type": "stream",
     "text": [
      "Decoded tokens: ['$', '0', ' \\\\', 'le', 'q', ' \\\\', 'the', 'ta', ' \\\\', 'le', 'q', ' \\\\', 'frac', '{', '3', ' \\\\', 'pi', '}{', '4', '}', '$']\n",
      "Decoded tokens: ['$', ' 0', ' \\\\', 'le', 'q', ' \\\\', 'the', 'ta', ' \\\\', 'le', 'q', ' 3', ' \\\\', 'pi', ' /', '4', ' $']\n",
      "0.9031\n"
     ]
    },
    {
     "name": "stderr",
     "output_type": "stream",
     "text": [
      " 52%|█████▏    | 519/1000 [18:42<30:08,  3.76s/it]"
     ]
    },
    {
     "name": "stdout",
     "output_type": "stream",
     "text": [
      "Decoded tokens: ['$', 'm', '_{', 'A', \"'\", '}', ' \\\\', 'app', 'rox', ' 10', ' \\\\', 'times', ' 100', ' \\\\', ',', ' m', ' \\\\', 'times', ' e', ' \\\\', 'times', ' v', '$']\n",
      "Decoded tokens: ['$', ' m', '_', ' {', ' A', \" '\", ' }', ' \\\\', 'sim', ' 10', '-', '100', '~', ' \\\\', 'me', 'v', ' $']\n",
      "0.7908\n"
     ]
    },
    {
     "name": "stderr",
     "output_type": "stream",
     "text": [
      " 52%|█████▏    | 520/1000 [18:43<24:29,  3.06s/it]"
     ]
    },
    {
     "name": "stdout",
     "output_type": "stream",
     "text": [
      "Decoded tokens: ['$', ' \\\\', 'ome', 'ga', '_', '0', '$']\n",
      "Decoded tokens: ['$', ' \\\\', 'ome', 'ga', '_', ' {', ' 0', ' }', ' $']\n",
      "0.931\n"
     ]
    },
    {
     "name": "stderr",
     "output_type": "stream",
     "text": [
      " 52%|█████▏    | 521/1000 [18:47<27:50,  3.49s/it]"
     ]
    },
    {
     "name": "stdout",
     "output_type": "stream",
     "text": [
      "Decoded tokens: ['$$', 'R', '(', 'M', ')', ' =', ' \\\\', 'sq', 'rt', '[', '3', ']', '{', ' \\\\', 'frac', '{', '3', 'M', '}{', '4', ' \\\\', 'pi', ' \\\\', 'l', 'angle', ' r', ' \\\\', 'r', 'angle', '}}', '$$']\n",
      "Decoded tokens: ['$', ' R', ' (', ' M', ' )', ' =', ' (', ' 3', ' M', ' /', '4', ' \\\\', 'pi', ' \\\\', 'bar', ' {', ' \\\\', 'r', 'ho', ' }', ' )', ' ^', ' {', ' 1', '/', '3', ' }', ' $']\n",
      "0.8049\n"
     ]
    },
    {
     "name": "stderr",
     "output_type": "stream",
     "text": [
      " 52%|█████▏    | 522/1000 [18:49<22:36,  2.84s/it]"
     ]
    },
    {
     "name": "stdout",
     "output_type": "stream",
     "text": [
      "Decoded tokens: ['$', 'm', '_{', '356', '}', '$']\n",
      "Decoded tokens: ['$', ' m', '_', ' {', ' 356', ' }', ' $']\n",
      "0.832\n"
     ]
    },
    {
     "name": "stderr",
     "output_type": "stream",
     "text": [
      " 52%|█████▏    | 523/1000 [18:53<24:40,  3.10s/it]"
     ]
    },
    {
     "name": "stdout",
     "output_type": "stream",
     "text": [
      "Decoded tokens: ['$', ' (', ' \\\\', 'gam', 'ma', ',', ' \\\\', 's', 'igma', ')', ' =', ' (', '0', ',', ' 0', ')', ' $']\n",
      "Decoded tokens: ['$', ' (', ' \\\\', 'gam', 'ma', ' ,', ' \\\\', 's', 'igma', ' )', ' =', ' (', ' 0', ',', '0', ' )', ' $']\n",
      "0.9744\n"
     ]
    },
    {
     "name": "stderr",
     "output_type": "stream",
     "text": [
      " 52%|█████▏    | 524/1000 [18:56<24:28,  3.09s/it]"
     ]
    },
    {
     "name": "stdout",
     "output_type": "stream",
     "text": [
      "Decoded tokens: ['$', '(', '0', ',', ' \\\\', 'ld', 'ots', ',', ' 0', ',', ' 1', ',', ' 0', ',', ' \\\\', 'ld', 'ots', ',', ' 0', ')', '$']\n",
      "Decoded tokens: ['$', ' [', ' 0', ' ,', ' \\\\', 'd', 'ots', ',', '0', ',', '1', ',', '0', ' ,', ' \\\\', 'd', 'ots', ',', '0', ' ]', ' $']\n",
      "0.9229\n"
     ]
    },
    {
     "name": "stderr",
     "output_type": "stream",
     "text": [
      " 52%|█████▎    | 525/1000 [18:57<20:56,  2.65s/it]"
     ]
    },
    {
     "name": "stdout",
     "output_type": "stream",
     "text": [
      "Decoded tokens: ['$', ' \\\\', 'math', 'cal', '{', 'L', '}', '_{', ' \\\\', 'in', 'fty', '}', '$']\n",
      "Decoded tokens: ['$', ' L', '^', ' \\\\', 'in', 'fty', ' $']\n",
      "0.7333\n"
     ]
    },
    {
     "name": "stderr",
     "output_type": "stream",
     "text": [
      " 53%|█████▎    | 526/1000 [18:58<17:08,  2.17s/it]"
     ]
    },
    {
     "name": "stdout",
     "output_type": "stream",
     "text": [
      "Decoded tokens: ['$', '28', '^', 'o', '$']\n",
      "Decoded tokens: ['$', ' ^', ' {', ' 28', ' ,', ' o', ' }', ' $']\n",
      "0.7641\n"
     ]
    },
    {
     "name": "stderr",
     "output_type": "stream",
     "text": [
      " 53%|█████▎    | 527/1000 [19:00<15:31,  1.97s/it]"
     ]
    },
    {
     "name": "stdout",
     "output_type": "stream",
     "text": [
      "Decoded tokens: ['$', ' \\\\', 'oper', 'at', 'orn', 'ame', '{', 'rank', '}', '(', 'Z', '_', 'k', ')', '$']\n",
      "Decoded tokens: ['$', ' \\\\', 'rank', ' (', ' Z', '_', 'k', ' )', ' $']\n",
      "0.7688\n"
     ]
    },
    {
     "name": "stderr",
     "output_type": "stream",
     "text": [
      " 53%|█████▎    | 528/1000 [19:01<13:52,  1.76s/it]"
     ]
    },
    {
     "name": "stdout",
     "output_type": "stream",
     "text": [
      "Decoded tokens: ['$', ' \\\\', 'math', 'bf', '{', ' \\\\', 'L', 'amb', 'da', '}', '$']\n",
      "Decoded tokens: ['$', ' \\\\', 'lambda', ' $']\n",
      "0.8668\n"
     ]
    },
    {
     "name": "stderr",
     "output_type": "stream",
     "text": [
      " 53%|█████▎    | 529/1000 [19:02<12:24,  1.58s/it]"
     ]
    },
    {
     "name": "stdout",
     "output_type": "stream",
     "text": [
      "Decoded tokens: ['$', ' \\\\', 'S', 'igma', '^', 'x', ' $']\n",
      "Decoded tokens: ['$', ' \\\\', 's', 'igma', '^', 'x', ' $']\n",
      "0.9863\n"
     ]
    },
    {
     "name": "stderr",
     "output_type": "stream",
     "text": [
      " 53%|█████▎    | 530/1000 [19:03<11:38,  1.49s/it]"
     ]
    },
    {
     "name": "stdout",
     "output_type": "stream",
     "text": [
      "Decoded tokens: ['$', ' \\\\', 'Gam', 'ma', ' \\\\', ',', ' \\\\', 'gam', 'ma', ' $']\n",
      "Decoded tokens: ['$', ' \\\\', 'gam', 'ma', ' \\\\', 'gam', 'ma', ' $']\n",
      "0.85\n"
     ]
    },
    {
     "name": "stderr",
     "output_type": "stream",
     "text": [
      " 53%|█████▎    | 531/1000 [19:05<11:05,  1.42s/it]"
     ]
    },
    {
     "name": "stdout",
     "output_type": "stream",
     "text": [
      "Decoded tokens: ['$', '0', ' \\\\', 'nu', ' \\\\', 'beta', ' \\\\', 'beta', '$']\n",
      "Decoded tokens: ['$', ' 0', ' \\\\', 'nu', ' \\\\', 'beta', ' \\\\', 'beta', ' $']\n",
      "0.9889\n"
     ]
    },
    {
     "name": "stderr",
     "output_type": "stream",
     "text": [
      " 53%|█████▎    | 532/1000 [19:07<12:50,  1.65s/it]"
     ]
    },
    {
     "name": "stdout",
     "output_type": "stream",
     "text": [
      "Decoded tokens: ['$', 'i', '=', '1', ',', ' \\\\', 'ld', 'ots', ',', ' s', '$']\n",
      "Decoded tokens: ['$', ' i', '=', '1', ' ,', ' \\\\', 'd', 'ots', ' ,', ' s', ' $']\n",
      "0.9352\n"
     ]
    },
    {
     "name": "stderr",
     "output_type": "stream",
     "text": [
      " 53%|█████▎    | 533/1000 [19:10<16:29,  2.12s/it]"
     ]
    },
    {
     "name": "stdout",
     "output_type": "stream",
     "text": [
      "Decoded tokens: ['$', ' \\\\', 'S', 'igma', '_{', '(', 'ST', ')}', '(', 'ST', ')', '$']\n",
      "Decoded tokens: ['$', ' \\\\', 's', 'igma', '_', ' {', ' \\\\', 'left', ' (', ' (', ' ST', ' )', ' (', ' ST', ' )', ' \\\\', 'right', ' )', ' \\\\', 'left', ' (', ' (', ' ST', ' )', ' (', ' ST', ' )', ' \\\\', 'right', ' )', ' }', ' $']\n",
      "0.833\n"
     ]
    },
    {
     "name": "stderr",
     "output_type": "stream",
     "text": [
      " 53%|█████▎    | 534/1000 [19:12<15:07,  1.95s/it]"
     ]
    },
    {
     "name": "stdout",
     "output_type": "stream",
     "text": [
      "Decoded tokens: ['$', ' \\\\', 'sq', 'rt', '{', '}', '$']\n",
      "Decoded tokens: ['$', ' \\\\', 'sq', 'rt', ' {', ' }', ' $']\n",
      "0.9831\n"
     ]
    },
    {
     "name": "stderr",
     "output_type": "stream",
     "text": [
      " 54%|█████▎    | 535/1000 [19:13<14:08,  1.82s/it]"
     ]
    },
    {
     "name": "stdout",
     "output_type": "stream",
     "text": [
      "Decoded tokens: ['$', ' \\\\', 'O', 'mega', '_', 'i', ' $']\n",
      "Decoded tokens: ['$', ' \\\\', ' {', ' \\\\', 'O', 'mega', '_', 'i', ' \\\\', ' }', ' $']\n",
      "0.7817\n"
     ]
    },
    {
     "name": "stderr",
     "output_type": "stream",
     "text": [
      " 54%|█████▎    | 536/1000 [19:16<15:15,  1.97s/it]"
     ]
    },
    {
     "name": "stdout",
     "output_type": "stream",
     "text": [
      "Decoded tokens: ['$', 'b', '_', '2', '^', '+', ' >', ' 1', '$']\n",
      "Decoded tokens: ['$', ' b', '_', '2', '^', '+', ' >', ' 1', ' $']\n",
      "0.987\n"
     ]
    },
    {
     "name": "stderr",
     "output_type": "stream",
     "text": [
      " 54%|█████▎    | 537/1000 [19:18<17:26,  2.26s/it]"
     ]
    },
    {
     "name": "stdout",
     "output_type": "stream",
     "text": [
      "Decoded tokens: ['$', ' \\\\', 'math', 'bb', '{', 'E', '}', '[', 'S', '_', 'z', ']', ' =', ' 0', '$']\n",
      "Decoded tokens: ['$', ' \\\\', 'l', 'angle', ' S', '_', 'z', ' \\\\', 'r', 'angle', ' =', ' 0', ' $']\n",
      "0.7666\n"
     ]
    },
    {
     "name": "stderr",
     "output_type": "stream",
     "text": [
      " 54%|█████▍    | 538/1000 [19:23<22:52,  2.97s/it]"
     ]
    },
    {
     "name": "stdout",
     "output_type": "stream",
     "text": [
      "Decoded tokens: ['$', 'N', '(', 't', ')', ' \\\\', 'to', ' \\\\', 'L', 'amb', 'da', '_', ' \\\\', 'mu', ',', ' \\\\', 'quad', ' t', ' \\\\', 'to', ' \\\\', 'in', 'fty', '.$']\n",
      "Decoded tokens: ['$', ' N', ' (', ' t', ' )', ' \\\\', 'to', ' \\\\', 'frac', ' \\\\', 'L', 'amb', 'da', ' \\\\', 'mu', ' ,', ' t', ' \\\\', 'to', ' \\\\', 'in', 'fty', ' $']\n",
      "0.7857\n"
     ]
    },
    {
     "name": "stderr",
     "output_type": "stream",
     "text": [
      " 54%|█████▍    | 539/1000 [19:26<23:43,  3.09s/it]"
     ]
    },
    {
     "name": "stdout",
     "output_type": "stream",
     "text": [
      "Decoded tokens: ['$', 'C', '_{', 't', '_', '1', '}', ' \\\\', 'to', ' C', '(', 't', ')', ' =', ' 2', '$']\n",
      "Decoded tokens: ['$', ' C', '_', ' {', ' \\\\', 'sm', 'ash', ' [', ' t', ' ]', ' {', ' sp', '_', '1', '^', 'C', ' }', ' }', ' (', ' \\\\', 'vec', ' {', ' 3', ' }', ' )', ' =', ' 2', ' $']\n",
      "0.7778\n"
     ]
    },
    {
     "name": "stderr",
     "output_type": "stream",
     "text": [
      " 54%|█████▍    | 540/1000 [19:28<20:23,  2.66s/it]"
     ]
    },
    {
     "name": "stdout",
     "output_type": "stream",
     "text": [
      "Decoded tokens: ['$', '-', '1', '$']\n",
      "Decoded tokens: ['$', ' ^', ' {', ' -', '1', ' }', ' $']\n",
      "0.7651\n"
     ]
    },
    {
     "name": "stderr",
     "output_type": "stream",
     "text": [
      " 54%|█████▍    | 541/1000 [19:30<19:04,  2.49s/it]"
     ]
    },
    {
     "name": "stdout",
     "output_type": "stream",
     "text": [
      "Decoded tokens: ['$', '5', '^', ' \\\\', 'circ', '$']\n",
      "Decoded tokens: ['$', ' 5', '^', ' \\\\', 'circ', ' $']\n",
      "0.9829\n"
     ]
    },
    {
     "name": "stderr",
     "output_type": "stream",
     "text": [
      " 54%|█████▍    | 542/1000 [19:32<16:52,  2.21s/it]"
     ]
    },
    {
     "name": "stdout",
     "output_type": "stream",
     "text": [
      "Decoded tokens: ['$', 'I', ' \\\\', 'text', '{', 'P', 'OD', '}', '_{', '1', ',', '2', '}', '$']\n",
      "Decoded tokens: ['$', ' I', '^', ' {', ' P', 'OD', ' }', ' _', ' {', ' 1', ',', '2', ' }', ' $']\n",
      "0.8603\n"
     ]
    },
    {
     "name": "stderr",
     "output_type": "stream",
     "text": [
      " 54%|█████▍    | 543/1000 [19:33<14:14,  1.87s/it]"
     ]
    },
    {
     "name": "stdout",
     "output_type": "stream",
     "text": [
      "Decoded tokens: ['$', ' \\\\', 'the', 'ta', ' =', ' 2', ' \\\\', 'pi', '$']\n",
      "Decoded tokens: ['$', ' \\\\', 'the', 'ta', '=', '2', ' \\\\', 'pi', ' $']\n",
      "0.9839\n"
     ]
    },
    {
     "name": "stderr",
     "output_type": "stream",
     "text": [
      " 54%|█████▍    | 544/1000 [19:34<12:50,  1.69s/it]"
     ]
    },
    {
     "name": "stdout",
     "output_type": "stream",
     "text": [
      "Decoded tokens: ['$', ' \\\\', 'lambda', ' \\\\', 'to', ' 0', '^', '+', ' $']\n",
      "Decoded tokens: ['$', ' \\\\', 'lambda', ' \\\\', 'to', ' 0', '^', '+', ' $']\n",
      "1.0\n"
     ]
    },
    {
     "name": "stderr",
     "output_type": "stream",
     "text": [
      " 55%|█████▍    | 545/1000 [19:35<11:45,  1.55s/it]"
     ]
    },
    {
     "name": "stdout",
     "output_type": "stream",
     "text": [
      "Decoded tokens: [' \\\\', '[', ' \\\\', 'display', 'style', ' \\\\', 'alpha', '_', 't', ' \\\\', ']']\n",
      "Decoded tokens: ['$', ' \\\\', 'alpha', '_', 't', ' $']\n",
      "0.7309\n"
     ]
    },
    {
     "name": "stderr",
     "output_type": "stream",
     "text": [
      " 55%|█████▍    | 546/1000 [19:37<11:33,  1.53s/it]"
     ]
    },
    {
     "name": "stdout",
     "output_type": "stream",
     "text": [
      "Decoded tokens: ['$', 'v', ' \\\\', 'times', ' C', '^{', ' \\\\', 'nu', '}', ' =', ' \\\\', 'ell', '^{', ' \\\\', 'nu', '}', '$']\n",
      "Decoded tokens: ['$', ' \\\\', 've', 'ps', '_', 'C', '^', ' {', ' \\\\', 'nu', ' }', ' =', 'l', '^', ' {', ' \\\\', 'nu', ' }', ' $']\n",
      "0.7473\n"
     ]
    },
    {
     "name": "stderr",
     "output_type": "stream",
     "text": [
      " 55%|█████▍    | 547/1000 [19:39<12:05,  1.60s/it]"
     ]
    },
    {
     "name": "stdout",
     "output_type": "stream",
     "text": [
      "Decoded tokens: ['$', ' |', 'T', \"'\", '|', '^', '2', ' =', ' f', ' >', ' 0', ' $']\n",
      "Decoded tokens: ['$', ' \\\\', 'abs', ' {', ' T', \" '\", ' }', ' ^', '2', '=', 'f', ' >', ' 0', ' $']\n",
      "0.7587\n"
     ]
    },
    {
     "name": "stderr",
     "output_type": "stream",
     "text": [
      " 55%|█████▍    | 548/1000 [19:40<10:37,  1.41s/it]"
     ]
    },
    {
     "name": "stdout",
     "output_type": "stream",
     "text": [
      "Decoded tokens: ['$', ' \\\\', 'Gam', 'ma', ' i', ' $']\n",
      "Decoded tokens: ['$', ' \\\\', 'gam', 'ma', '_', 'i', ' $']\n",
      "0.906\n"
     ]
    },
    {
     "name": "stderr",
     "output_type": "stream",
     "text": [
      " 55%|█████▍    | 549/1000 [19:43<14:46,  1.96s/it]"
     ]
    },
    {
     "name": "stdout",
     "output_type": "stream",
     "text": [
      "Decoded tokens: [' \\\\', '[', '\\n', ' \\\\', 't', 'au', ' =', ' \\\\', 'v', 'are', 'ps', 'ilon', '_{', ' \\\\', 'S', 'igma', ',', ' X', '}', ' \\\\', 'circ', ' \\\\', 'oper', 'at', 'orn', 'ame', '{', 'C', 'pt', 'd', '}', '_{', ' \\\\', 'S', 'igma', '}', '(', ' \\\\', 't', 'au', '^', ' \\\\', 'd', 'agger', ')', '\\n', ' \\\\', ']']\n",
      "Decoded tokens: ['$', ' \\\\', 't', 'au', ' =', ' \\\\', 'v', 'are', 'ps', 'ilon', '_', ' {', ' \\\\', 'S', 'igma', ' ,', ' X', ' }', ' \\\\', 'circ', ' \\\\', 'C', 'pt', 'd', '_', ' \\\\', 'S', 'igma', ' (', ' \\\\', 't', 'au', '^', ' \\\\', 'd', 'agger', ' )', ' $']\n",
      "0.7197\n"
     ]
    },
    {
     "name": "stderr",
     "output_type": "stream",
     "text": [
      " 55%|█████▌    | 550/1000 [19:44<13:29,  1.80s/it]"
     ]
    },
    {
     "name": "stdout",
     "output_type": "stream",
     "text": [
      "Decoded tokens: ['$', ' \\\\', 'math', 'bb', '{', 'I', '}', '_', 'n', '$']\n",
      "Decoded tokens: ['$', ' I', '_', ' {', ' n', ' }', ' $']\n",
      "0.7421\n"
     ]
    },
    {
     "name": "stderr",
     "output_type": "stream",
     "text": [
      " 55%|█████▌    | 551/1000 [19:45<11:46,  1.57s/it]"
     ]
    },
    {
     "name": "stdout",
     "output_type": "stream",
     "text": [
      "Decoded tokens: ['$', 'd', ' \\\\', 'ge', 'q', ' 3', '$']\n",
      "Decoded tokens: ['$', ' d', ' \\\\', 'ge', 'q', ' 3', ' $']\n",
      "0.9794\n"
     ]
    },
    {
     "name": "stderr",
     "output_type": "stream",
     "text": [
      " 55%|█████▌    | 552/1000 [19:46<10:39,  1.43s/it]"
     ]
    },
    {
     "name": "stdout",
     "output_type": "stream",
     "text": [
      "Decoded tokens: ['$', 's', '_', 'i', ' >', ' 0', '$']\n",
      "Decoded tokens: ['$', ' s', '_', 'i', ' >', ' 0', ' $']\n",
      "0.9721\n"
     ]
    },
    {
     "name": "stderr",
     "output_type": "stream",
     "text": [
      " 55%|█████▌    | 553/1000 [19:47<09:58,  1.34s/it]"
     ]
    },
    {
     "name": "stdout",
     "output_type": "stream",
     "text": [
      "Decoded tokens: [' \\\\', '[', '\\n', '2', '^', 'p', '\\n', ' \\\\', ']']\n",
      "Decoded tokens: ['$', ' 2', '^', ' {', ' p', ' }', ' $']\n",
      "0.7327\n"
     ]
    },
    {
     "name": "stderr",
     "output_type": "stream",
     "text": [
      " 55%|█████▌    | 554/1000 [19:49<09:31,  1.28s/it]"
     ]
    },
    {
     "name": "stdout",
     "output_type": "stream",
     "text": [
      "Decoded tokens: ['$', 'k', ' \\\\', 'ge', 'q', ' 0', '$']\n",
      "Decoded tokens: ['$', ' k', ' \\\\', 'ge', 'q', ' 0', ' $']\n",
      "0.9809\n"
     ]
    },
    {
     "name": "stderr",
     "output_type": "stream",
     "text": [
      " 56%|█████▌    | 555/1000 [19:50<10:15,  1.38s/it]"
     ]
    },
    {
     "name": "stdout",
     "output_type": "stream",
     "text": [
      "Decoded tokens: ['$', ' \\\\', 'math', 'cal', '{', 'O', '}', '_{', ' \\\\', 'math', 'cal', '{', 'X', '}}', '$']\n",
      "Decoded tokens: ['$', ' \\\\', 'math', 'sc', 'r', ' {', ' O', ' }', ' _', ' {', ' X', ' }', ' $']\n",
      "0.7928\n"
     ]
    },
    {
     "name": "stderr",
     "output_type": "stream",
     "text": [
      " 56%|█████▌    | 556/1000 [19:51<09:35,  1.30s/it]"
     ]
    },
    {
     "name": "stdout",
     "output_type": "stream",
     "text": [
      "Decoded tokens: ['$', 'h', '_', 'n', '(', 'x', ')', '$']\n",
      "Decoded tokens: ['$', ' h', '_', 'n', ' (', ' x', ' )', ' $']\n",
      "0.9548\n"
     ]
    },
    {
     "name": "stderr",
     "output_type": "stream",
     "text": [
      " 56%|█████▌    | 557/1000 [19:52<08:55,  1.21s/it]"
     ]
    },
    {
     "name": "stdout",
     "output_type": "stream",
     "text": [
      "Decoded tokens: ['$', 'C', '_', '1', ' >', ' 0', '$']\n",
      "Decoded tokens: ['$', ' C', '_', '1', ' >', ' 0', ' $']\n",
      "0.9892\n"
     ]
    },
    {
     "name": "stderr",
     "output_type": "stream",
     "text": [
      " 56%|█████▌    | 558/1000 [19:54<09:09,  1.24s/it]"
     ]
    },
    {
     "name": "stdout",
     "output_type": "stream",
     "text": [
      "Decoded tokens: ['$', '3', '^', '3', '$']\n",
      "Decoded tokens: ['$', ' ^', ' {', ' 3', ' }', ' $']\n",
      "0.8302\n"
     ]
    },
    {
     "name": "stderr",
     "output_type": "stream",
     "text": [
      " 56%|█████▌    | 559/1000 [19:56<10:59,  1.49s/it]"
     ]
    },
    {
     "name": "stdout",
     "output_type": "stream",
     "text": [
      "Decoded tokens: ['$', 'e', '^{', '-', ' \\\\', 'pi', ' n', '^', '2', '}', ' (', 'T', ' +', ' \\\\', 'frac', '{', '1', '}{', 'M', '})', '$']\n",
      "Decoded tokens: ['$', ' e', '^', ' {', ' -', ' (', ' \\\\', 'pi', ' n', ' )', ' ^', '2', ' (', ' T', '+', '1', '/', 'M', ' )', ' }', ' $']\n",
      "0.7725\n"
     ]
    },
    {
     "name": "stderr",
     "output_type": "stream",
     "text": [
      " 56%|█████▌    | 560/1000 [19:57<11:25,  1.56s/it]"
     ]
    },
    {
     "name": "stdout",
     "output_type": "stream",
     "text": [
      "Decoded tokens: ['$', ' \\\\', 'math', 'f', 'rak', '{', 'g', '}', '_{', ' \\\\', 'r', 'ho', '}', '$']\n",
      "Decoded tokens: ['$', ' g', '_', ' {', ' \\\\', 'r', 'ho', ' }', ' $']\n",
      "0.7658\n"
     ]
    },
    {
     "name": "stderr",
     "output_type": "stream",
     "text": [
      " 56%|█████▌    | 561/1000 [19:59<11:31,  1.57s/it]"
     ]
    },
    {
     "name": "stdout",
     "output_type": "stream",
     "text": [
      "Decoded tokens: ['$', 'r', '^', '2', ' \\\\', 'ne', 'q', ' s', '^', '2', '$']\n",
      "Decoded tokens: ['$', ' r', '^', '2', ' \\\\', 'ne', ' s', '^', '2', ' $']\n",
      "0.8893\n"
     ]
    },
    {
     "name": "stderr",
     "output_type": "stream",
     "text": [
      " 56%|█████▌    | 562/1000 [20:00<10:34,  1.45s/it]"
     ]
    },
    {
     "name": "stdout",
     "output_type": "stream",
     "text": [
      "Decoded tokens: ['$', ' \\\\', 'S', 'igma', '_{', 'xy', '}', ' $']\n",
      "Decoded tokens: ['$', ' \\\\', 's', 'igma', '_', ' {', ' x', 'y', ' }', ' $']\n",
      "0.852\n"
     ]
    },
    {
     "name": "stderr",
     "output_type": "stream",
     "text": [
      " 56%|█████▋    | 563/1000 [20:02<11:13,  1.54s/it]"
     ]
    },
    {
     "name": "stdout",
     "output_type": "stream",
     "text": [
      "Decoded tokens: [' \\\\', '[', '\\n', ' \\\\', 'frac', '{', 'm', '^', '2', '}{', 'q', '^', '2', '}', ' \\\\', 'ge', 'q', ' 1', '\\n', ' \\\\', ']']\n",
      "Decoded tokens: ['$', ' \\\\', 'frac', ' {', ' m', '^', '2', ' }', ' {', ' q', '^', '2', ' }', ' \\\\', 'ge', 'q', '1', ' $']\n",
      "0.7477\n"
     ]
    },
    {
     "name": "stderr",
     "output_type": "stream",
     "text": [
      " 56%|█████▋    | 564/1000 [20:03<10:58,  1.51s/it]"
     ]
    },
    {
     "name": "stdout",
     "output_type": "stream",
     "text": [
      "Decoded tokens: [' \\\\', '[', '\\n', ' \\\\', 'ep', 'sil', 'on', '_', '0', '\\n', ' \\\\', ']']\n",
      "Decoded tokens: ['$', ' \\\\', 'ep', 'sil', 'on', '_', '0', ' $']\n",
      "0.7166\n"
     ]
    },
    {
     "name": "stderr",
     "output_type": "stream",
     "text": [
      " 56%|█████▋    | 565/1000 [20:05<10:28,  1.44s/it]"
     ]
    },
    {
     "name": "stdout",
     "output_type": "stream",
     "text": [
      "Decoded tokens: [' \\\\(', ' \\\\', 'display', 'style', ' \\\\', 'beta', ',', ' \\\\', 'gam', 'ma', ' \\\\', ')']\n",
      "Decoded tokens: ['$', ' \\\\', 'beta', ' ,', ' \\\\', 'gam', 'ma', ' $']\n",
      "0.8211\n"
     ]
    },
    {
     "name": "stderr",
     "output_type": "stream",
     "text": [
      " 57%|█████▋    | 566/1000 [20:06<09:40,  1.34s/it]"
     ]
    },
    {
     "name": "stdout",
     "output_type": "stream",
     "text": [
      "Decoded tokens: ['$', '10', '^{', '10', '}', '$']\n",
      "Decoded tokens: ['$', ' 10', '^', ' {', ' 10', ' }', ' $']\n",
      "0.8384\n"
     ]
    },
    {
     "name": "stderr",
     "output_type": "stream",
     "text": [
      " 57%|█████▋    | 567/1000 [20:07<08:54,  1.23s/it]"
     ]
    },
    {
     "name": "stdout",
     "output_type": "stream",
     "text": [
      "Decoded tokens: ['$', ' \\\\', 'S', 'igma', '_', '0', '$']\n",
      "Decoded tokens: ['$', ' \\\\', 'S', 'igma', '_', '0', ' $']\n",
      "0.9941\n"
     ]
    },
    {
     "name": "stderr",
     "output_type": "stream",
     "text": [
      " 57%|█████▋    | 568/1000 [20:08<08:26,  1.17s/it]"
     ]
    },
    {
     "name": "stdout",
     "output_type": "stream",
     "text": [
      "Decoded tokens: [' \\\\', '[', '\\n', ' \\\\', 'text', '{', '14', 'a', '}', '\\n', ' \\\\', ']']\n",
      "Decoded tokens: ['$', ' ^', ' \\\\', 'text', 'rm', ' {', ' \\\\', 'script', 'size', ' 14', 'a', ' }', ' $']\n",
      "0.7554\n"
     ]
    },
    {
     "name": "stderr",
     "output_type": "stream",
     "text": [
      " 57%|█████▋    | 569/1000 [20:09<08:55,  1.24s/it]"
     ]
    },
    {
     "name": "stdout",
     "output_type": "stream",
     "text": [
      "Decoded tokens: ['$', ' \\\\', 'S', 'igma', '_{', ' \\\\', 'text', '{', 'dust', '}}', ' $']\n",
      "Decoded tokens: ['$', ' \\\\', 'S', 'igma', '_', ' \\\\', 'math', 'rm', ' {', ' dust', ' }', ' $']\n",
      "0.8608\n"
     ]
    },
    {
     "name": "stderr",
     "output_type": "stream",
     "text": [
      " 57%|█████▋    | 570/1000 [20:11<09:09,  1.28s/it]"
     ]
    },
    {
     "name": "stdout",
     "output_type": "stream",
     "text": [
      "Decoded tokens: ['$', ' \\\\', 'phi', \"'\", '_{', 'n', '}', ' $']\n",
      "Decoded tokens: ['$', ' \\\\', 'phi', \" '\", ' _', ' {', ' n', ' }', ' $']\n",
      "0.851\n"
     ]
    },
    {
     "name": "stderr",
     "output_type": "stream",
     "text": [
      " 57%|█████▋    | 571/1000 [20:12<09:03,  1.27s/it]"
     ]
    },
    {
     "name": "stdout",
     "output_type": "stream",
     "text": [
      "Decoded tokens: [' \\\\', 'math', 'cal', '{', 'W', '}', ' +', ' ']\n",
      "Decoded tokens: ['$', ' \\\\', 'math', 'cal', ' {', ' W', ' }', ' ^', '+', ' $']\n",
      "0.7377\n"
     ]
    },
    {
     "name": "stderr",
     "output_type": "stream",
     "text": [
      " 57%|█████▋    | 572/1000 [20:13<08:40,  1.22s/it]"
     ]
    },
    {
     "name": "stdout",
     "output_type": "stream",
     "text": [
      "Decoded tokens: [' \\\\(', ' \\\\', 'display', 'style', ' \\\\', 'beta', ' =', ' 1', ' \\\\', ')']\n",
      "Decoded tokens: ['$', ' \\\\', 'beta', '=', '1', ' $']\n",
      "0.7698\n"
     ]
    },
    {
     "name": "stderr",
     "output_type": "stream",
     "text": [
      " 57%|█████▋    | 573/1000 [20:15<11:16,  1.58s/it]"
     ]
    },
    {
     "name": "stdout",
     "output_type": "stream",
     "text": [
      "Decoded tokens: ['$', 'm', '_', 'i', ' =', ' h', '^', '0', '_{', ' \\\\', 'text', '{', 'mc', 'A', '}}', '(', 'e', '_', 'i', ')', '$']\n",
      "Decoded tokens: ['$', ' m', '_', 'i', '=', ' h', '^', '0', '_', ' \\\\', ' {', ' \\\\', 'mc', ' \\\\', ' {', ' A', ' (', ' \\\\', 'bm', ' {', ' e', ' }', ' _', 'i', ' )', ' $']\n",
      "0.8647\n"
     ]
    },
    {
     "name": "stderr",
     "output_type": "stream",
     "text": [
      " 57%|█████▋    | 574/1000 [20:17<10:38,  1.50s/it]"
     ]
    },
    {
     "name": "stdout",
     "output_type": "stream",
     "text": [
      "Decoded tokens: [' \\\\', '[', '\\n', ' \\\\', 'display', 'style', ' a', '_{', 'ij', '}', '\\n', ' \\\\', ']']\n",
      "Decoded tokens: ['$', ' a', '_', ' {', ' i', 'j', ' }', ' $']\n",
      "0.7482\n"
     ]
    },
    {
     "name": "stderr",
     "output_type": "stream",
     "text": [
      " 57%|█████▊    | 575/1000 [20:19<12:19,  1.74s/it]"
     ]
    },
    {
     "name": "stdout",
     "output_type": "stream",
     "text": [
      "Decoded tokens: ['$', ' \\\\', 'bar', '{', 'F', '}', '_', ' \\\\', 'beta', '(', 'u', ',', ' \\\\', 'O', 'mega', ',', ' \\\\', 'math', 'bf', '{', 'e', '})', '$']\n",
      "Decoded tokens: ['$', ' \\\\', 'bar', ' {', ' F', ' }', ' _', ' \\\\', 'beta', ' (', ' \\\\', 've', 'cu', ' ,', ' \\\\', 'O', 'mega', ' ,', ' \\\\', 'math', 'bf', ' {', ' e', ' }', ' )', ' $']\n",
      "0.8266\n"
     ]
    },
    {
     "name": "stderr",
     "output_type": "stream",
     "text": [
      " 58%|█████▊    | 576/1000 [20:20<10:59,  1.55s/it]"
     ]
    },
    {
     "name": "stdout",
     "output_type": "stream",
     "text": [
      "Decoded tokens: [' \\\\(', ' \\\\', 'ep', 'sil', 'on', ' \\\\', ')']\n",
      "Decoded tokens: ['$', ' \\\\', 'ep', 'sil', 'on', ' $']\n",
      "0.9399\n"
     ]
    },
    {
     "name": "stderr",
     "output_type": "stream",
     "text": [
      " 58%|█████▊    | 577/1000 [20:24<15:08,  2.15s/it]"
     ]
    },
    {
     "name": "stdout",
     "output_type": "stream",
     "text": [
      "Decoded tokens: ['$', ' \\\\', 'math', 'bb', '{', 'C', '}', '[', ' \\\\', 'v', 'are', 'ps', 'ilon', '_', '1', ',', ' \\\\', 'v', 'are', 'ps', 'ilon', '_', '2', '^{', ' \\\\', 'pm', '},', ' \\\\', 'v', 'are', 'ps', 'ilon', '_', '3', '^{', ' \\\\', 'pm', '}', ']', '$']\n",
      "Decoded tokens: ['$', ' \\\\', 'math', 'bb', ' C', ' [', ' \\\\', 'ep', 'sil', 'on', '_', '1', ' ,', ' \\\\', 'ep', 'sil', 'on', '_', '2', '^', ' \\\\', 'pm', ' ,', ' \\\\', 'ep', 'sil', 'on', '_', '3', '^', ' \\\\', 'pm', ' ]', ' $']\n",
      "0.7586\n"
     ]
    },
    {
     "name": "stderr",
     "output_type": "stream",
     "text": [
      " 58%|█████▊    | 578/1000 [20:25<13:23,  1.90s/it]"
     ]
    },
    {
     "name": "stdout",
     "output_type": "stream",
     "text": [
      "Decoded tokens: ['$', 'e', '_', 'b', ' =', ' e', '(', '1', ' +', ' G', ')', '$']\n",
      "Decoded tokens: ['$', ' e', '_', ' {', ' (', ' b', ' )', ' }', ' =', 'e', ' (', ' 1', '+', 'G', ' )', ' $']\n",
      "0.8162\n"
     ]
    },
    {
     "name": "stderr",
     "output_type": "stream",
     "text": [
      " 58%|█████▊    | 579/1000 [20:29<16:51,  2.40s/it]"
     ]
    },
    {
     "name": "stdout",
     "output_type": "stream",
     "text": [
      "Decoded tokens: ['$', 'u', '_', 't', ' =', ' -', '1', '.', '600', '7', ' u', ' u', '_', 'x', ' +', ' 1', '.', '43', '28', ' u', ' u', '_{', 'xx', '}', ' -', ' 0', '.', '5', '409', ' u', '^', '2', ' u', '_{', 'xxxx', '}', '$']\n",
      "Decoded tokens: ['$', ' u', '_', 't', '=-', '1', '.', '600', '7', 'u', '_', 'x', '+', '1', '.', '43', '28', 'uu', '_', ' {', ' xx', ' }', ' -', '0', '.', '5', '409', 'u', '^', '2', 'u', '_', ' {', ' xx', ' }', ' -', ' $']\n",
      "0.7797\n"
     ]
    },
    {
     "name": "stderr",
     "output_type": "stream",
     "text": [
      " 58%|█████▊    | 580/1000 [20:29<13:49,  1.98s/it]"
     ]
    },
    {
     "name": "stdout",
     "output_type": "stream",
     "text": [
      "Decoded tokens: ['$', '50', '^', ' \\\\', 'circ', '$']\n",
      "Decoded tokens: ['$', ' 50', '^', ' \\\\', 'circ', ' $']\n",
      "0.9831\n"
     ]
    },
    {
     "name": "stderr",
     "output_type": "stream",
     "text": [
      " 58%|█████▊    | 581/1000 [20:31<12:19,  1.77s/it]"
     ]
    },
    {
     "name": "stdout",
     "output_type": "stream",
     "text": [
      "Decoded tokens: ['$', ' \\\\', 'lambda', '_{', 'n', ',', 'k', '}', ' $']\n",
      "Decoded tokens: ['$', ' {', ' \\\\', 'lambda', ' }', ' _', ' {', ' n', ' \\\\', 'math', 'bf', ' {', ' k', ' }', ' }', ' $']\n",
      "0.7571\n"
     ]
    },
    {
     "name": "stderr",
     "output_type": "stream",
     "text": [
      " 58%|█████▊    | 582/1000 [20:32<11:00,  1.58s/it]"
     ]
    },
    {
     "name": "stdout",
     "output_type": "stream",
     "text": [
      "Decoded tokens: ['$', 'E', '_{', ' \\\\', 'text', '{', 'head', '}}', '$']\n",
      "Decoded tokens: ['$', ' E', '_', ' {', ' head', ' }', ' $']\n",
      "0.8229\n"
     ]
    },
    {
     "name": "stderr",
     "output_type": "stream",
     "text": [
      " 58%|█████▊    | 583/1000 [20:34<11:06,  1.60s/it]"
     ]
    },
    {
     "name": "stdout",
     "output_type": "stream",
     "text": [
      "Decoded tokens: ['$', ' \\\\', 'ep', 'sil', 'on', '_{', ' \\\\', 'text', '{', 'std', '}}', ' $']\n",
      "Decoded tokens: ['$', ' \\\\', 'v', 'are', 'ps', 'ilon', '_', ' {', ' \\\\', 'text', ' {', ' std', ' }', ' }', ' $']\n",
      "0.7837\n"
     ]
    },
    {
     "name": "stderr",
     "output_type": "stream",
     "text": [
      " 58%|█████▊    | 584/1000 [20:35<10:27,  1.51s/it]"
     ]
    },
    {
     "name": "stdout",
     "output_type": "stream",
     "text": [
      "Decoded tokens: ['$', ' \\\\', 't', 'ilde', '{', ' \\\\', 'lambda', '}', '$']\n",
      "Decoded tokens: ['$', ' \\\\', 't', 'ilde', ' {', ' \\\\', 'lambda', ' }', ' $']\n",
      "0.9871\n"
     ]
    },
    {
     "name": "stderr",
     "output_type": "stream",
     "text": [
      " 58%|█████▊    | 585/1000 [20:36<09:54,  1.43s/it]"
     ]
    },
    {
     "name": "stdout",
     "output_type": "stream",
     "text": [
      "Decoded tokens: ['$', ' \\\\', 'mu', '_{', ' \\\\', 'math', 'rm', '{', 'e', '}}', ' $']\n",
      "Decoded tokens: ['$', ' \\\\', 'mu', '_', ' {', ' e', ' }', ' $']\n",
      "0.8415\n"
     ]
    },
    {
     "name": "stderr",
     "output_type": "stream",
     "text": [
      " 59%|█████▊    | 586/1000 [20:38<10:23,  1.51s/it]"
     ]
    },
    {
     "name": "stdout",
     "output_type": "stream",
     "text": [
      "Decoded tokens: ['$', ' \\\\', 't', 'ilde', '{', ' \\\\', 'lambda', '}', '_{', 'Z', 'N', '}', '$']\n",
      "Decoded tokens: ['$', ' \\\\', 't', 'ilde', ' {', ' \\\\', 'lambda', ' }', ' _', ' {', ' Z', ' (', ' N', ' )', ' }', ' $']\n",
      "0.888\n"
     ]
    },
    {
     "name": "stderr",
     "output_type": "stream",
     "text": [
      " 59%|█████▊    | 587/1000 [20:39<09:29,  1.38s/it]"
     ]
    },
    {
     "name": "stdout",
     "output_type": "stream",
     "text": [
      "Decoded tokens: ['$', ' \\\\', 'Gam', 'ma', ' i', ' $']\n",
      "Decoded tokens: ['$', ' \\\\', 'gam', 'ma', '_', 'i', ' $']\n",
      "0.906\n"
     ]
    },
    {
     "name": "stderr",
     "output_type": "stream",
     "text": [
      " 59%|█████▉    | 588/1000 [20:41<10:05,  1.47s/it]"
     ]
    },
    {
     "name": "stdout",
     "output_type": "stream",
     "text": [
      "Decoded tokens: ['$', ' \\\\', 'math', 'cal', '{', 'K', '}', ' -', ' \\\\', 'math', 'cal', '{', 'K', '}', '_', '0', '$']\n",
      "Decoded tokens: ['$', ' (', ' K', '-', 'K', '^', '0', ' )', ' $']\n",
      "0.7455\n"
     ]
    },
    {
     "name": "stderr",
     "output_type": "stream",
     "text": [
      " 59%|█████▉    | 589/1000 [20:42<10:41,  1.56s/it]"
     ]
    },
    {
     "name": "stdout",
     "output_type": "stream",
     "text": [
      "Decoded tokens: ['$', ' \\\\', 'mu', '_', '2', '(', 'A', ')', ' \\\\', 'le', 'q', ' \\\\', 'mu', '_', '1', '(', 'A', ')', ' $']\n",
      "Decoded tokens: ['$', ' \\\\', 'mu', '_', '2', ' (', ' A', ' )', ' \\\\', 'le', 'q', ' \\\\', 'mu', '_', '1', ' (', ' A', ' )', ' $']\n",
      "0.9802\n"
     ]
    },
    {
     "name": "stderr",
     "output_type": "stream",
     "text": [
      " 59%|█████▉    | 590/1000 [20:43<09:51,  1.44s/it]"
     ]
    },
    {
     "name": "stdout",
     "output_type": "stream",
     "text": [
      "Decoded tokens: [' \\\\', '[', '\\n', ' \\\\', 'ep', 'sil', 'on', '\\n', ' \\\\', ']']\n",
      "Decoded tokens: ['$', ' \\\\', 'ep', 'sil', 'on', ' $']\n",
      "0.7052\n"
     ]
    },
    {
     "name": "stderr",
     "output_type": "stream",
     "text": [
      " 59%|█████▉    | 591/1000 [20:45<09:45,  1.43s/it]"
     ]
    },
    {
     "name": "stdout",
     "output_type": "stream",
     "text": [
      "Decoded tokens: ['$', ' \\\\', 'math', 'bf', '{', 'X', '}', '_{', '0', '}', '$']\n",
      "Decoded tokens: ['$', ' X', '_', ' {', ' 0', ' }', ' $']\n",
      "0.753\n"
     ]
    },
    {
     "name": "stderr",
     "output_type": "stream",
     "text": [
      " 59%|█████▉    | 592/1000 [20:48<13:40,  2.01s/it]"
     ]
    },
    {
     "name": "stdout",
     "output_type": "stream",
     "text": [
      "Decoded tokens: ['$', 'F', '(', ' \\\\', 'cd', 'ot', ',', ' h', '_', '1', ',', ' h', '_', '2', ',', ' r', ' a', ')', ' :', ' \\\\', 'S', 'igma', ' \\\\', 'to', ' \\\\', 'math', 'bb', '{', 'C', '}', '$']\n",
      "Decoded tokens: ['$', ' \\\\', 'la', ' F', ' (', ' \\\\', 'cd', 'ot', ' )', ' h', '_', '1', ' ,', ' h', '_', '2', ' \\\\', 'ra', ' \\\\', 'col', 'on', ' \\\\', 'S', 'igma', ' \\\\', 'to', ' \\\\', 'math', 'bb', ' \\\\', ' {', ' C', ' $']\n",
      "0.7484\n"
     ]
    },
    {
     "name": "stderr",
     "output_type": "stream",
     "text": [
      " 59%|█████▉    | 593/1000 [20:49<12:01,  1.77s/it]"
     ]
    },
    {
     "name": "stdout",
     "output_type": "stream",
     "text": [
      "Decoded tokens: ['$', 'n', ' \\\\', 's', 'uc', 'ce', 'q', ' m', '$']\n",
      "Decoded tokens: ['$', ' n', ' \\\\', 'ge', 'q', ' m', ' $']\n",
      "0.8081\n"
     ]
    },
    {
     "name": "stderr",
     "output_type": "stream",
     "text": [
      " 59%|█████▉    | 594/1000 [20:51<10:55,  1.62s/it]"
     ]
    },
    {
     "name": "stdout",
     "output_type": "stream",
     "text": [
      "Decoded tokens: [' \\\\', '[', '\\n', ' \\\\', 'display', 'style', ' \\\\', 't', 'au', '_', '0', '\\n', ' \\\\', ']']\n",
      "Decoded tokens: ['$', ' \\\\', 't', 'au', '_', ' {', ' 0', ' }', ' $']\n",
      "0.7252\n"
     ]
    },
    {
     "name": "stderr",
     "output_type": "stream",
     "text": [
      " 60%|█████▉    | 595/1000 [20:53<12:48,  1.90s/it]"
     ]
    },
    {
     "name": "stdout",
     "output_type": "stream",
     "text": [
      "Decoded tokens: ['$', ' \\\\', 't', 'ilde', '{', 'H', '}', '^{', ' \\\\', 'frac', '{', '1', '}{', '2', '}}', ' \\\\', 'Gam', 'ma', ' $']\n",
      "Decoded tokens: ['$', ' \\\\', 'wid', 'et', 'ilde', ' {', ' H', ' }', ' ^', ' {', ' 1', '/', '2', ' }', ' (', ' [', ' \\\\', 'Gam', 'ma', ' ]', ' )', ' $']\n",
      "0.7433\n"
     ]
    },
    {
     "name": "stderr",
     "output_type": "stream",
     "text": [
      " 60%|█████▉    | 596/1000 [20:56<14:18,  2.12s/it]"
     ]
    },
    {
     "name": "stdout",
     "output_type": "stream",
     "text": [
      "Decoded tokens: ['$', '(', 'u', \"'\", '_{', '1', '},', ' s', \"',\", ' u', \"'\", '_{', '2', '})', '$']\n",
      "Decoded tokens: ['$', ' u', \"'\", '_', '1', ' ,', ' s', \" '\", ' ,', ' u', \"'\", '_', '2', ' $']\n",
      "0.8248\n"
     ]
    },
    {
     "name": "stderr",
     "output_type": "stream",
     "text": [
      " 60%|█████▉    | 597/1000 [20:57<12:28,  1.86s/it]"
     ]
    },
    {
     "name": "stdout",
     "output_type": "stream",
     "text": [
      "Decoded tokens: ['$', ' \\\\', 'eta', '^{', '-', '1', '}', '$']\n",
      "Decoded tokens: ['$', ' \\\\', 'eta', '^', ' {', ' -', '1', ' }', ' $']\n",
      "0.8573\n"
     ]
    },
    {
     "name": "stderr",
     "output_type": "stream",
     "text": [
      " 60%|█████▉    | 598/1000 [20:59<11:22,  1.70s/it]"
     ]
    },
    {
     "name": "stdout",
     "output_type": "stream",
     "text": [
      "Decoded tokens: [' \\\\', '[', '\\n', ' \\\\', 'display', 'style', ' y', '_{', 'i', ',', 'j', '}', '\\n', ' \\\\', ']']\n",
      "Decoded tokens: ['$', ' y', '_', ' {', ' i', ' ,', ' j', ' }', ' $']\n",
      "0.7573\n"
     ]
    },
    {
     "name": "stderr",
     "output_type": "stream",
     "text": [
      " 60%|█████▉    | 599/1000 [21:00<10:37,  1.59s/it]"
     ]
    },
    {
     "name": "stdout",
     "output_type": "stream",
     "text": [
      "Decoded tokens: ['$', ' \\\\', 'math', 'cal', '{', 'G', '}', \"'\", '$']\n",
      "Decoded tokens: ['$', ' G', '^', ' {', ' \\\\', 'prime', ' }', ' .', ' $']\n",
      "0.8011\n"
     ]
    },
    {
     "name": "stderr",
     "output_type": "stream",
     "text": [
      " 60%|██████    | 600/1000 [21:01<10:04,  1.51s/it]"
     ]
    },
    {
     "name": "stdout",
     "output_type": "stream",
     "text": [
      "Decoded tokens: ['$', 'H', '_', 'l', '^{', '1', '}', '(', 'c', ')', '$']\n",
      "Decoded tokens: ['$', ' H', '_', 'l', '^', '1', ' (', ' c', ' )', ' $']\n",
      "0.8737\n"
     ]
    },
    {
     "name": "stderr",
     "output_type": "stream",
     "text": [
      " 60%|██████    | 601/1000 [21:02<09:29,  1.43s/it]"
     ]
    },
    {
     "name": "stdout",
     "output_type": "stream",
     "text": [
      "Decoded tokens: [' \\\\(', ' \\\\', 'display', 'style', ' (', ' \\\\', 'alpha', ',', ' \\\\', 'beta', ' )', ' \\\\', ')']\n",
      "Decoded tokens: ['$', ' (', ' \\\\', 'alpha', ' ,', ' \\\\', 'beta', ' )', ' $']\n",
      "0.8056\n"
     ]
    },
    {
     "name": "stderr",
     "output_type": "stream",
     "text": [
      " 60%|██████    | 602/1000 [21:04<09:16,  1.40s/it]"
     ]
    },
    {
     "name": "stdout",
     "output_type": "stream",
     "text": [
      "Decoded tokens: ['$', 'f', '^', 'n', '(', '0', ')', '$']\n",
      "Decoded tokens: ['$', ' f', '^', ' {', ' (', ' n', ' )', ' }', ' (', ' 0', ' )', ' $']\n",
      "0.8741\n"
     ]
    },
    {
     "name": "stderr",
     "output_type": "stream",
     "text": [
      " 60%|██████    | 603/1000 [21:06<10:07,  1.53s/it]"
     ]
    },
    {
     "name": "stdout",
     "output_type": "stream",
     "text": [
      "Decoded tokens: [' \\\\', '[', '\\n', 'H', '_', 'd', ' =', ' \\\\', 'frac', '{', 'S', '^{', 'z', '_', 'N', ' +', ' 1', '}}', '{', '2', '}', '\\n', ' \\\\', ']']\n",
      "Decoded tokens: ['$', ' H', '_', 'd', ' =', ' S', '^', ' {', ' z', ' }', ' _', ' {', ' (', ' N', '+', '1', ' )', ' /', '2', ' }', ' $']\n",
      "0.7624\n"
     ]
    },
    {
     "name": "stderr",
     "output_type": "stream",
     "text": [
      " 60%|██████    | 604/1000 [21:07<09:53,  1.50s/it]"
     ]
    },
    {
     "name": "stdout",
     "output_type": "stream",
     "text": [
      "Decoded tokens: ['$', ' \\\\', 'math', 'cal', '{', 'M', '}', '(', ' \\\\', 'alpha', ')', '$']\n",
      "Decoded tokens: ['$', ' M', ' (', ' \\\\', 'alpha', ' )', ' $']\n",
      "0.726\n"
     ]
    },
    {
     "name": "stderr",
     "output_type": "stream",
     "text": [
      " 60%|██████    | 605/1000 [21:08<09:08,  1.39s/it]"
     ]
    },
    {
     "name": "stdout",
     "output_type": "stream",
     "text": [
      "Decoded tokens: ['$', ' \\\\', 'hat', '{', ' \\\\', 'the', 'ta', '}', '$']\n",
      "Decoded tokens: ['$', ' \\\\', 'hat', ' \\\\', 'the', 'ta', ' $']\n",
      "0.8545\n"
     ]
    },
    {
     "name": "stderr",
     "output_type": "stream",
     "text": [
      " 61%|██████    | 606/1000 [21:10<09:25,  1.43s/it]"
     ]
    },
    {
     "name": "stdout",
     "output_type": "stream",
     "text": [
      "Decoded tokens: ['$', 'g', '_{', ' \\\\', 'math', 'bf', '{', 'n', '}}', '$']\n",
      "Decoded tokens: ['$', ' (', ' g', '_', 'n', ' )', ' $']\n",
      "0.7609\n"
     ]
    },
    {
     "name": "stderr",
     "output_type": "stream",
     "text": [
      " 61%|██████    | 607/1000 [21:11<09:23,  1.43s/it]"
     ]
    },
    {
     "name": "stdout",
     "output_type": "stream",
     "text": [
      "Decoded tokens: ['$', 'H', '^', '0', ' (', ' \\\\', 'math', 'cal', '{', 'B', '})', '$']\n",
      "Decoded tokens: ['$', ' H', '^', '0', ' (', ' \\\\', ' {', ' \\\\', 'math', 'cal', ' \\\\', ' {', ' B', ' )', ' $']\n",
      "0.864\n"
     ]
    },
    {
     "name": "stderr",
     "output_type": "stream",
     "text": [
      " 61%|██████    | 608/1000 [21:12<09:09,  1.40s/it]"
     ]
    },
    {
     "name": "stdout",
     "output_type": "stream",
     "text": [
      "Decoded tokens: ['$', ' \\\\', 'math', 'bb', '{', 'P', '}', '(', ' \\\\', 'lambda', ')', '$']\n",
      "Decoded tokens: ['$', ' P', '_', ' \\\\', 'lambda', ' $']\n",
      "0.752\n"
     ]
    },
    {
     "name": "stderr",
     "output_type": "stream",
     "text": [
      " 61%|██████    | 609/1000 [21:14<10:12,  1.57s/it]"
     ]
    },
    {
     "name": "stdout",
     "output_type": "stream",
     "text": [
      "Decoded tokens: ['The', ' cos', 'ine', ' of', ' \\\\(', ' M', ' \\\\', ')', ' equals', ' \\\\(', ' 10', '^{', '-', '8', '}', ' M', '_{', ' \\\\', 'od', 'ot', '}', ' \\\\', ').']\n",
      "Decoded tokens: ['$', ' \\\\', 'dot', ' M', ' =', ' 10', '^', ' {', ' -', '8', ' }', ' M', '_', ' \\\\', 'od', 'ot', '/', ' $']\n",
      "0.7374\n"
     ]
    },
    {
     "name": "stderr",
     "output_type": "stream",
     "text": [
      " 61%|██████    | 610/1000 [21:16<09:31,  1.47s/it]"
     ]
    },
    {
     "name": "stdout",
     "output_type": "stream",
     "text": [
      "Decoded tokens: ['$', 'E', '_{', ' \\\\', 'text', '{', 'mix', '}}', '$']\n",
      "Decoded tokens: ['$', ' E', '_', ' {', ' mix', ' }', ' $']\n",
      "0.8219\n"
     ]
    },
    {
     "name": "stderr",
     "output_type": "stream",
     "text": [
      " 61%|██████    | 611/1000 [21:17<09:50,  1.52s/it]"
     ]
    },
    {
     "name": "stdout",
     "output_type": "stream",
     "text": [
      "Decoded tokens: ['$', ' \\\\', 'text', '{', 'sub', 'script', ' gray', '}', ' \\\\', 'pm', ' 0', '.', '20', ' $']\n",
      "Decoded tokens: ['$', ' _', ' {', ' \\\\', 'text', 'color', ' {', ' gray', ' }', ' {', ' \\\\', 'pm', '0', '.', '20', ' }', ' }', ' $']\n",
      "0.7741\n"
     ]
    },
    {
     "name": "stderr",
     "output_type": "stream",
     "text": [
      " 61%|██████    | 612/1000 [21:20<12:38,  1.95s/it]"
     ]
    },
    {
     "name": "stdout",
     "output_type": "stream",
     "text": [
      "Decoded tokens: ['$', 'H', '(', 't', ')', ' =', ' H', '_', '1', ' =', ' H', '(', 'U', ' +', ' \\\\', 'Delta', ' U', ',', ' \\\\', 'alpha', '_', 'R', ')', ' +', ' \\\\', 'Delta', ' \\\\', 'alpha', '_', 'R', '$']\n",
      "Decoded tokens: ['$', ' H', ' (', ' t', ' )', ' =', 'H', '_', '1', '=', 'H', ' (', ' U', '+', ' \\\\', 'Delta', '_', 'U', ' ,', ' \\\\', 'alpha', '_', 'R', '+', ' \\\\', 'Delta', '_', ' {', ' \\\\', 'alpha', '_', 'R', ' }', ' )', ' $']\n",
      "0.8821\n"
     ]
    },
    {
     "name": "stderr",
     "output_type": "stream",
     "text": [
      " 61%|██████▏   | 613/1000 [21:22<11:47,  1.83s/it]"
     ]
    },
    {
     "name": "stdout",
     "output_type": "stream",
     "text": [
      "Decoded tokens: ['$', ' \\\\', 'alpha', '^{', 't', '}', ' _', '{', 'i', ',', 'j', '}', ' $']\n",
      "Decoded tokens: ['$', ' \\\\', 'alpha', '^', 't', '_', ' {', ' i', ' ,', ' j', ' }', ' $']\n",
      "0.8431\n"
     ]
    },
    {
     "name": "stderr",
     "output_type": "stream",
     "text": [
      " 61%|██████▏   | 614/1000 [21:23<10:47,  1.68s/it]"
     ]
    },
    {
     "name": "stdout",
     "output_type": "stream",
     "text": [
      "Decoded tokens: ['$', 'i', '=', '1', ',', ' \\\\', 'ld', 'ots', ',', ' N', '$']\n",
      "Decoded tokens: ['$', ' i', ' =', '1', ' ,', ' \\\\', 'd', 'ots', ' ,', ' N', ' $']\n",
      "0.9303\n"
     ]
    },
    {
     "name": "stderr",
     "output_type": "stream",
     "text": [
      " 62%|██████▏   | 615/1000 [21:25<10:19,  1.61s/it]"
     ]
    },
    {
     "name": "stdout",
     "output_type": "stream",
     "text": [
      "Decoded tokens: ['$', 'K', '_', 'a', ' \\\\', 'le', 'q', ' 7', '$']\n",
      "Decoded tokens: ['$', ' K', '_', 'a', ' \\\\', 'le', 'q', ' 7', ' $']\n",
      "0.9916\n"
     ]
    },
    {
     "name": "stderr",
     "output_type": "stream",
     "text": [
      " 62%|██████▏   | 616/1000 [21:27<11:30,  1.80s/it]"
     ]
    },
    {
     "name": "stdout",
     "output_type": "stream",
     "text": [
      "Decoded tokens: ['$', ' \\\\', 'math', 'op', '{', ' \\\\', 'math', 'rm', '{', 'dim', '}}', ' \\\\', 'n', 'ol', 'im', 'its', '(', 'f', '_', '2', '(', 'Z', '))', ' \\\\', 'le', 'q', ' 1', '$']\n",
      "Decoded tokens: ['$', ' \\\\', 'dim', ' f', '_', '2', ' (', ' Z', ' )', ' \\\\', 'le', 'q', ' 1', ' $']\n",
      "0.7451\n"
     ]
    },
    {
     "name": "stderr",
     "output_type": "stream",
     "text": [
      " 62%|██████▏   | 617/1000 [21:28<10:21,  1.62s/it]"
     ]
    },
    {
     "name": "stdout",
     "output_type": "stream",
     "text": [
      "Decoded tokens: ['$', 'm', ' \\\\', 'ge', 'q', ' n', '$']\n",
      "Decoded tokens: ['$', ' m', ' \\\\', 'ge', 'q', ' n', ' $']\n",
      "0.9834\n"
     ]
    },
    {
     "name": "stderr",
     "output_type": "stream",
     "text": [
      " 62%|██████▏   | 618/1000 [21:30<10:11,  1.60s/it]"
     ]
    },
    {
     "name": "stdout",
     "output_type": "stream",
     "text": [
      "Decoded tokens: ['$', ' \\\\', 'math', 'sc', 'r', '{', 'R', '}', '_', 'i', '$']\n",
      "Decoded tokens: ['$', ' R', '_', ' {', ' i', ' }', ' $']\n",
      "0.7423\n"
     ]
    },
    {
     "name": "stderr",
     "output_type": "stream",
     "text": [
      " 62%|██████▏   | 619/1000 [21:33<12:57,  2.04s/it]"
     ]
    },
    {
     "name": "stdout",
     "output_type": "stream",
     "text": [
      "Decoded tokens: ['$', ' \\\\', 't', 'ilde', '{', ' \\\\', 'eta', '}', ' =', ' \\\\', 'n', 'ab', 'la', ' F', '(', ' \\\\', 'the', 'ta', ')', ' =', ' \\\\', 'frac', '{', ' \\\\', 'eta', '}{', 'Z', '(', ' \\\\', 'the', 'ta', ')}', '$']\n",
      "Decoded tokens: ['$', ' \\\\', 't', 'ilde', ' \\\\', 'eta', '=', ' \\\\', 'n', 'ab', 'la', ' F', ' (', ' \\\\', 'the', 'ta', ' )', ' =', ' \\\\', 'frac', ' {', ' \\\\', 'eta', ' }', ' {', ' Z', ' (', ' \\\\', 'the', 'ta', ' )', ' }', ' $']\n",
      "0.7693\n"
     ]
    },
    {
     "name": "stderr",
     "output_type": "stream",
     "text": [
      " 62%|██████▏   | 620/1000 [21:34<11:35,  1.83s/it]"
     ]
    },
    {
     "name": "stdout",
     "output_type": "stream",
     "text": [
      "Decoded tokens: ['$', ' \\\\', 'S', 'igma', ' \\\\', 'sub', 'set', 'eq', ' \\\\', 'math', 'bb', '{', 'N', '}', '_{', ' \\\\', 'math', 'bb', '{', 'R', '}}', ' $']\n",
      "Decoded tokens: ['$', ' \\\\', 'S', 'igma', ' \\\\', 'sub', 'set', 'eq', ' N', '_', ' \\\\', 'R', ' $']\n",
      "0.8885\n"
     ]
    },
    {
     "name": "stderr",
     "output_type": "stream",
     "text": [
      " 62%|██████▏   | 621/1000 [21:35<10:13,  1.62s/it]"
     ]
    },
    {
     "name": "stdout",
     "output_type": "stream",
     "text": [
      "Decoded tokens: ['$', 'r', '_{', ' \\\\', 'ome', 'ga', '}', '$']\n",
      "Decoded tokens: ['$', ' r', '_', ' \\\\', 'ome', 'ga', ' $']\n",
      "0.9243\n"
     ]
    },
    {
     "name": "stderr",
     "output_type": "stream",
     "text": [
      " 62%|██████▏   | 622/1000 [21:36<09:49,  1.56s/it]"
     ]
    },
    {
     "name": "stdout",
     "output_type": "stream",
     "text": [
      "Decoded tokens: ['$', ' \\\\', 'S', 'igma', ' m', '_', ' \\\\', 'nu', '$']\n",
      "Decoded tokens: ['$', ' \\\\', 'S', 'igma', ' m', '_', ' {', ' \\\\', 'nu', ' }', ' $']\n",
      "0.9212\n"
     ]
    },
    {
     "name": "stderr",
     "output_type": "stream",
     "text": [
      " 62%|██████▏   | 623/1000 [21:38<09:10,  1.46s/it]"
     ]
    },
    {
     "name": "stdout",
     "output_type": "stream",
     "text": [
      "Decoded tokens: ['$', 'f', '_{', '1', 'L', '}', '^{', 'P', 'V', '}', '$']\n",
      "Decoded tokens: ['$', ' f', '_', ' {', ' 1', 'L', ' }', ' ^', ' {', ' {', ' \\\\', 'rm', ' PV', ' }', ' }', ' $']\n",
      "0.7948\n"
     ]
    },
    {
     "name": "stderr",
     "output_type": "stream",
     "text": [
      " 62%|██████▏   | 624/1000 [21:39<09:18,  1.48s/it]"
     ]
    },
    {
     "name": "stdout",
     "output_type": "stream",
     "text": [
      "Decoded tokens: ['$', ' \\\\', 'math', 'cal', '{', 'M', '}', '_{', 'i', '1', '}', '$']\n",
      "Decoded tokens: ['$', ' M', '_', ' {', ' i', '1', ' }', ' $']\n",
      "0.7862\n"
     ]
    },
    {
     "name": "stderr",
     "output_type": "stream",
     "text": [
      " 62%|██████▎   | 625/1000 [21:41<09:11,  1.47s/it]"
     ]
    },
    {
     "name": "stdout",
     "output_type": "stream",
     "text": [
      "Decoded tokens: ['$', ' \\\\', 'math', 'bf', '{', 'u', '}', ' \\\\', 'ne', 'q', ' 0', '$']\n",
      "Decoded tokens: ['$', ' u', ' \\\\', 'ne', 'q', ' 0', ' $']\n",
      "0.7605\n"
     ]
    },
    {
     "name": "stderr",
     "output_type": "stream",
     "text": [
      " 63%|██████▎   | 626/1000 [21:42<08:43,  1.40s/it]"
     ]
    },
    {
     "name": "stdout",
     "output_type": "stream",
     "text": [
      "Decoded tokens: [' \\\\', '[', '\\n', 'z', '^', ' \\\\', 'd', 'elta', '\\n', ' \\\\', ']']\n",
      "Decoded tokens: ['$', ' z', '^', ' \\\\', 'Delta', ' $']\n",
      "0.7217\n"
     ]
    },
    {
     "name": "stderr",
     "output_type": "stream",
     "text": [
      " 63%|██████▎   | 627/1000 [21:43<08:56,  1.44s/it]"
     ]
    },
    {
     "name": "stdout",
     "output_type": "stream",
     "text": [
      "Decoded tokens: ['$', ' \\\\', 't', 'ilde', '{', 'I', '}', '_{', ' \\\\', 'pi', '}', '$']\n",
      "Decoded tokens: ['$', ' \\\\', 't', 'ilde', ' {', ' I', ' }', ' _', ' {', ' \\\\', 'pi', ' }', ' $']\n",
      "0.897\n"
     ]
    },
    {
     "name": "stderr",
     "output_type": "stream",
     "text": [
      " 63%|██████▎   | 628/1000 [21:45<08:44,  1.41s/it]"
     ]
    },
    {
     "name": "stdout",
     "output_type": "stream",
     "text": [
      "Decoded tokens: ['$', ' \\\\', 'math', 'bf', '{', ' \\\\', 'The', 'ta', '}', '$']\n",
      "Decoded tokens: ['$', ' \\\\', 'bold', 'sy', 'mbol', ' {', ' \\\\', 'the', 'ta', ' }', ' $']\n",
      "0.798\n"
     ]
    },
    {
     "name": "stderr",
     "output_type": "stream",
     "text": [
      " 63%|██████▎   | 629/1000 [21:46<08:45,  1.42s/it]"
     ]
    },
    {
     "name": "stdout",
     "output_type": "stream",
     "text": [
      "Decoded tokens: ['$', ' \\\\', 'ome', 'ga', '_', 's', ' \\\\', 'to', ' 0', '$']\n",
      "Decoded tokens: ['$', ' \\\\', 'ome', 'ga', '_', 's', ' \\\\', 'to', ' 0', ' $']\n",
      "0.996\n"
     ]
    },
    {
     "name": "stderr",
     "output_type": "stream",
     "text": [
      " 63%|██████▎   | 630/1000 [21:48<10:04,  1.64s/it]"
     ]
    },
    {
     "name": "stdout",
     "output_type": "stream",
     "text": [
      "Decoded tokens: ['$', ' \\\\', 'math', 'cal', '{', 'D', '}', '_{', 'LS', '}', '$']\n",
      "Decoded tokens: ['$', ' D', '_', ' {', ' LS', ' }', ' $']\n",
      "0.7362\n"
     ]
    },
    {
     "name": "stderr",
     "output_type": "stream",
     "text": [
      " 63%|██████▎   | 631/1000 [21:50<09:29,  1.54s/it]"
     ]
    },
    {
     "name": "stdout",
     "output_type": "stream",
     "text": [
      "Decoded tokens: ['$', ' \\\\', 'math', 'sf', '{', 'X', '}', '_', '1', '$']\n",
      "Decoded tokens: ['$', ' X', '_', ' {', ' (', ' 1', ' )', ' }', ' $']\n",
      "0.7528\n"
     ]
    },
    {
     "name": "stderr",
     "output_type": "stream",
     "text": [
      " 63%|██████▎   | 632/1000 [21:51<09:27,  1.54s/it]"
     ]
    },
    {
     "name": "stdout",
     "output_type": "stream",
     "text": [
      "Decoded tokens: ['$', 'u', ' \\\\', 'in', ' \\\\', 'S', 'igma', '^', '+', '_', 'x', '$']\n",
      "Decoded tokens: ['$', ' u', ' \\\\', 'in', ' \\\\', 'S', 'igma', '_', '+', '^', 'x', ' $']\n",
      "0.9415\n"
     ]
    },
    {
     "name": "stderr",
     "output_type": "stream",
     "text": [
      " 63%|██████▎   | 633/1000 [21:54<11:18,  1.85s/it]"
     ]
    },
    {
     "name": "stdout",
     "output_type": "stream",
     "text": [
      "Decoded tokens: ['$', 'f', ':', ' H', ' \\\\', 'to', ' \\\\', 'math', 'rm', '{', 'U', '}', '_', '0', '(', ' \\\\', 'math', 'bb', '{', 'A', '}', '_', 'G', ')', '$']\n",
      "Decoded tokens: ['$', ' f', ' \\\\', 'col', 'on', ' H', ' \\\\', 'to', ' U', '^', '0', ' (', ' A', '_', ' \\\\', 'G', ' )', ' $']\n",
      "0.76\n"
     ]
    },
    {
     "name": "stderr",
     "output_type": "stream",
     "text": [
      " 63%|██████▎   | 634/1000 [21:56<11:04,  1.82s/it]"
     ]
    },
    {
     "name": "stdout",
     "output_type": "stream",
     "text": [
      "Decoded tokens: ['$', 'B', ' \\\\', 'sub', 'set', 'eq', ' V', '(', 'H', '_', 'u', ')', '$']\n",
      "Decoded tokens: ['$', ' B', ' \\\\', 'sub', 'set', ' V', ' (', ' H', '_', 'u', ' )', ' $']\n",
      "0.8445\n"
     ]
    },
    {
     "name": "stderr",
     "output_type": "stream",
     "text": [
      " 64%|██████▎   | 635/1000 [21:56<09:25,  1.55s/it]"
     ]
    },
    {
     "name": "stdout",
     "output_type": "stream",
     "text": [
      "Decoded tokens: ['$', ' \\\\', 'S', 'igma', ' g', '$']\n",
      "Decoded tokens: ['$', ' \\\\', 's', 'igma', '_', 'g', ' $']\n",
      "0.9023\n"
     ]
    },
    {
     "name": "stderr",
     "output_type": "stream",
     "text": [
      " 64%|██████▎   | 636/1000 [21:59<10:18,  1.70s/it]"
     ]
    },
    {
     "name": "stdout",
     "output_type": "stream",
     "text": [
      "Decoded tokens: [' \\\\(', ' M', '_', 'P', ' =', ' \\\\', 'big', 'cup', '_{', 'm', ' \\\\', 'in', ' P', '}', ' M', '_', 'm', ' \\\\', ')']\n",
      "Decoded tokens: ['$', ' M', '_', 'P', '=', ' \\\\', 'big', 'cup', '_', ' {', ' m', ' \\\\', 'in', ' P', ' }', ' M', '_', 'm', ' $']\n",
      "0.8324\n"
     ]
    },
    {
     "name": "stderr",
     "output_type": "stream",
     "text": [
      " 64%|██████▎   | 637/1000 [22:00<09:35,  1.59s/it]"
     ]
    },
    {
     "name": "stdout",
     "output_type": "stream",
     "text": [
      "Decoded tokens: ['$', ' \\\\', 'lambda', '_', 'N', ' =', ' 4', '$']\n",
      "Decoded tokens: ['$', ' \\\\', 'L', 'amb', 'da', '_', ' {', ' \\\\', 'math', 'cal', ' \\\\', ' {', ' N', '=', '4', ' }', ' $']\n",
      "0.8041\n"
     ]
    },
    {
     "name": "stderr",
     "output_type": "stream",
     "text": [
      " 64%|██████▍   | 638/1000 [22:01<09:06,  1.51s/it]"
     ]
    },
    {
     "name": "stdout",
     "output_type": "stream",
     "text": [
      "Decoded tokens: ['$', ' \\\\', 'math', 'bb', '{', 'C', '}', '^', 'm', '$']\n",
      "Decoded tokens: ['$', ' \\\\', 'math', 'bb', ' {', ' C', ' }', ' ^', 'm', ' $']\n",
      "0.9803\n"
     ]
    },
    {
     "name": "stderr",
     "output_type": "stream",
     "text": [
      " 64%|██████▍   | 639/1000 [22:04<11:54,  1.98s/it]"
     ]
    },
    {
     "name": "stdout",
     "output_type": "stream",
     "text": [
      "Decoded tokens: ['$', 'R', '^', '2', ' =', ' r', '_', 'i', \"'\", '{', '}', '^', '2', ' +', ' \\\\', 'r', 'ho', '_', 'i', \"'\", '{', '}', '^', '2', '$']\n",
      "Decoded tokens: ['$', ' R', '^', ' {', ' 2', ' }', ' =', ' r', '_', 'i', '^', ' {', ' \\\\', 'prime', ' 2', ' }', ' +', ' \\\\', 'r', 'ho', '_', 'i', '^', ' {', ' \\\\', 'prime', '2', ' }', ' $']\n",
      "0.7855\n"
     ]
    },
    {
     "name": "stderr",
     "output_type": "stream",
     "text": [
      " 64%|██████▍   | 640/1000 [22:06<11:15,  1.88s/it]"
     ]
    },
    {
     "name": "stdout",
     "output_type": "stream",
     "text": [
      "Decoded tokens: ['$', ' \\\\', 'the', 'ta', '_{', 'P', '2', 'S', '}', ' $']\n",
      "Decoded tokens: ['$', ' \\\\', 'the', 'ta', '_', ' {', ' P', '2', 'S', ' }', ' $']\n",
      "0.8616\n"
     ]
    },
    {
     "name": "stderr",
     "output_type": "stream",
     "text": [
      " 64%|██████▍   | 641/1000 [22:07<10:03,  1.68s/it]"
     ]
    },
    {
     "name": "stdout",
     "output_type": "stream",
     "text": [
      "Decoded tokens: ['$', ' \\\\', 'alpha', ' =', ' 0', '.', '05', '$']\n",
      "Decoded tokens: ['$', ' \\\\', 'alpha', '=', '0', '.', '05', ' $']\n",
      "0.9807\n"
     ]
    },
    {
     "name": "stderr",
     "output_type": "stream",
     "text": [
      " 64%|██████▍   | 642/1000 [22:09<10:23,  1.74s/it]"
     ]
    },
    {
     "name": "stdout",
     "output_type": "stream",
     "text": [
      "Decoded tokens: ['$', ' \\\\', 'eta', ' \\\\', 'in', ' \\\\', 'left', '(', '0', ',', ' \\\\', 'frac', '{', '1', '}{', '2', '}', ' \\\\', 'right', ']', '$']\n",
      "Decoded tokens: ['$', ' \\\\', 'eta', ' \\\\', 'in', ' (', ' 0', ' ,', ' \\\\', 'frac', ' {', ' 1', ' }', ' {', ' 2', ' }', ' ]', ' $']\n",
      "0.8021\n"
     ]
    },
    {
     "name": "stderr",
     "output_type": "stream",
     "text": [
      " 64%|██████▍   | 643/1000 [22:10<09:55,  1.67s/it]"
     ]
    },
    {
     "name": "stdout",
     "output_type": "stream",
     "text": [
      "Decoded tokens: ['$', 'j', '=', '1', ',', ' \\\\', 'ld', 'ots', ',', ' 4', '$']\n",
      "Decoded tokens: ['$', ' j', '=', '1', ' ,', ' \\\\', 'd', 'ots', ',', '4', ' $']\n",
      "0.9478\n"
     ]
    },
    {
     "name": "stderr",
     "output_type": "stream",
     "text": [
      " 64%|██████▍   | 644/1000 [22:12<09:17,  1.57s/it]"
     ]
    },
    {
     "name": "stdout",
     "output_type": "stream",
     "text": [
      "Decoded tokens: [' \\\\', '[', '\\n', '10', '^{', '-', '4', '}', '\\n', ' \\\\', ']']\n",
      "Decoded tokens: ['$', ' 10', '^', ' {', ' -', '4', ' }', ' $']\n",
      "0.7249\n"
     ]
    },
    {
     "name": "stderr",
     "output_type": "stream",
     "text": [
      " 64%|██████▍   | 645/1000 [22:13<09:25,  1.59s/it]"
     ]
    },
    {
     "name": "stdout",
     "output_type": "stream",
     "text": [
      "Decoded tokens: ['$', 'f', '_{', 't', '_', 'j', '}', '(', '0', ')', ' \\\\', 'll', ' 1', '$']\n",
      "Decoded tokens: ['$', ' \\\\', 'ft', '_', ' {', ' t', '_', 'j', ' (', ' 0', ' )', ' }', ' \\\\', 'll', ' 1', ' $']\n",
      "0.7615\n"
     ]
    },
    {
     "name": "stderr",
     "output_type": "stream",
     "text": [
      " 65%|██████▍   | 646/1000 [22:15<08:44,  1.48s/it]"
     ]
    },
    {
     "name": "stdout",
     "output_type": "stream",
     "text": [
      "Decoded tokens: ['$', ' \\\\', 'math', 'bf', '{', ' \\\\', 'L', 'amb', 'da', '}', '$']\n",
      "Decoded tokens: ['$', ' \\\\', 'lambda', ' $']\n",
      "0.8668\n"
     ]
    },
    {
     "name": "stderr",
     "output_type": "stream",
     "text": [
      " 65%|██████▍   | 647/1000 [22:18<11:31,  1.96s/it]"
     ]
    },
    {
     "name": "stdout",
     "output_type": "stream",
     "text": [
      "Decoded tokens: ['$', ' (', ' \\\\', 'lambda', '_', 'm', ' ,', ' \\\\', 'lambda', '_', 'e', ' )', ' \\\\', 'in', ' 2', ' \\\\', 'math', 'bb', '{', 'Z', '}', ' \\\\', 'opl', 'us', ' 2', ' \\\\', 'math', 'bb', '{', 'Z', '}', ' $']\n",
      "Decoded tokens: ['$', ' (', ' \\\\', 'lambda', '_', 'm', ' ,', ' \\\\', 'lambda', '_', 'e', ' )', ' \\\\', 'in', ' 2', ' \\\\', 'Z', ' \\\\', 'opl', 'us', ' 2', ' \\\\', 'Z', ' $']\n",
      "0.9092\n"
     ]
    },
    {
     "name": "stderr",
     "output_type": "stream",
     "text": [
      " 65%|██████▍   | 648/1000 [22:19<10:34,  1.80s/it]"
     ]
    },
    {
     "name": "stdout",
     "output_type": "stream",
     "text": [
      "Decoded tokens: ['$', 'C', '^', '*', '_{', 'j', '}', '$']\n",
      "Decoded tokens: ['$', ' \\\\', 'math', 'cal', ' {', ' C', ' }', ' ^', ' *', ' _', 'j', ' $']\n",
      "0.7949\n"
     ]
    },
    {
     "name": "stderr",
     "output_type": "stream",
     "text": [
      " 65%|██████▍   | 649/1000 [22:21<10:35,  1.81s/it]"
     ]
    },
    {
     "name": "stdout",
     "output_type": "stream",
     "text": [
      "Decoded tokens: ['$', ' \\\\', 'hat', '{', 'q', '}', '^{', ' \\\\', 'mu', '}', '(', 'z', ',', ' z', '_', 'b', ')', '$']\n",
      "Decoded tokens: ['$', ' \\\\', 'hat', ' q', '^', ' \\\\', 'mu', ' (', ' z', ' ,', ' \\\\', 'zb', ' )', ' $']\n",
      "0.7885\n"
     ]
    },
    {
     "name": "stderr",
     "output_type": "stream",
     "text": [
      " 65%|██████▌   | 650/1000 [22:22<09:44,  1.67s/it]"
     ]
    },
    {
     "name": "stdout",
     "output_type": "stream",
     "text": [
      "Decoded tokens: ['$', ' \\\\', 'math', 'bb', '{', 'T', '}', '^', '2', '$']\n",
      "Decoded tokens: ['$', ' \\\\', 'math', 'cal', ' {', ' T', ' }', ' ^', '2', ' $']\n",
      "0.953\n"
     ]
    },
    {
     "name": "stderr",
     "output_type": "stream",
     "text": [
      " 65%|██████▌   | 651/1000 [22:24<09:18,  1.60s/it]"
     ]
    },
    {
     "name": "stdout",
     "output_type": "stream",
     "text": [
      "Decoded tokens: ['$', 'E', '_{', 'v', '}', '^{', 'm', ',', '0', '}', '$']\n",
      "Decoded tokens: ['$', ' E', '_', 'v', '^', ' {', ' (', ' m', ',', '0', ' )', ' }', ' $']\n",
      "0.8297\n"
     ]
    },
    {
     "name": "stderr",
     "output_type": "stream",
     "text": [
      " 65%|██████▌   | 652/1000 [22:25<08:37,  1.49s/it]"
     ]
    },
    {
     "name": "stdout",
     "output_type": "stream",
     "text": [
      "Decoded tokens: ['$', ' \\\\', 'display', 'style', ' J', '_', '2', '$']\n",
      "Decoded tokens: ['$', ' \\\\', 'math', 'cal', ' {', ' J', ' }', ' _', '2', '.', ' $']\n",
      "0.8033\n"
     ]
    },
    {
     "name": "stderr",
     "output_type": "stream",
     "text": [
      " 65%|██████▌   | 653/1000 [22:27<09:13,  1.59s/it]"
     ]
    },
    {
     "name": "stdout",
     "output_type": "stream",
     "text": [
      "Decoded tokens: ['$', ' \\\\', 'beta', ' \\\\', 'in', ' \\\\', 'math', 'bb', '{', 'R', '}', '^{', 'N', '}', ' $']\n",
      "Decoded tokens: ['$', ' \\\\', 'beta', ' \\\\', 'in', ' \\\\', 'math', 'bb', ' {', ' R', ' }', ' ^', ' {', ' N', '_', 'R', ' }', ' $']\n",
      "0.9279\n"
     ]
    },
    {
     "name": "stderr",
     "output_type": "stream",
     "text": [
      " 65%|██████▌   | 654/1000 [22:29<10:08,  1.76s/it]"
     ]
    },
    {
     "name": "stdout",
     "output_type": "stream",
     "text": [
      "Decoded tokens: ['$', 't', '_{', ' \\\\', 'bar', '{', ' \\\\', 'nu', '}}', ' \\\\', 'ne', 'q', ' t', '_{', ' \\\\', 'bar', '{', ' \\\\', 'mu', '}}', '$']\n",
      "Decoded tokens: ['$', ' t', '_', ' {', ' \\\\', 'bar', ' \\\\', 'nu', ' }', ' \\\\', 'n', 'pre', 'ce', 'q', ' t', '_', ' {', ' \\\\', 'bar', ' \\\\', 'mu', ' }', ' $']\n",
      "0.8288\n"
     ]
    },
    {
     "name": "stderr",
     "output_type": "stream",
     "text": [
      " 66%|██████▌   | 655/1000 [22:30<09:22,  1.63s/it]"
     ]
    },
    {
     "name": "stdout",
     "output_type": "stream",
     "text": [
      "Decoded tokens: ['$', 'i', ' \\\\', 'text', '{', ' th', '}', '$']\n",
      "Decoded tokens: ['$', ' i', '^', ' {', ' \\\\', 'text', ' {', ' th', ' }', ' }', ' $']\n",
      "0.8032\n"
     ]
    },
    {
     "name": "stderr",
     "output_type": "stream",
     "text": [
      " 66%|██████▌   | 656/1000 [22:31<08:19,  1.45s/it]"
     ]
    },
    {
     "name": "stdout",
     "output_type": "stream",
     "text": [
      "Decoded tokens: ['$', 'B', '_{', ' \\\\', 'text', '{', 'max', '}}', '$']\n",
      "Decoded tokens: ['$', ' B', '_', ' {', ' max', ' }', ' $']\n",
      "0.8286\n"
     ]
    },
    {
     "name": "stderr",
     "output_type": "stream",
     "text": [
      " 66%|██████▌   | 657/1000 [22:33<08:16,  1.45s/it]"
     ]
    },
    {
     "name": "stdout",
     "output_type": "stream",
     "text": [
      "Decoded tokens: ['$', 'D', '(', ' \\\\', 't', 'au', '_', '0', ',', ' t', ')', '$']\n",
      "Decoded tokens: ['$', ' D', ' (', ' \\\\', 't', 'au', '_', '0', ' ,', ' t', ' )', ' $']\n",
      "0.9672\n"
     ]
    },
    {
     "name": "stderr",
     "output_type": "stream",
     "text": [
      " 66%|██████▌   | 658/1000 [22:35<09:37,  1.69s/it]"
     ]
    },
    {
     "name": "stdout",
     "output_type": "stream",
     "text": [
      "Decoded tokens: ['$', 'Z', ' \\\\', 'sub', 'set', 'eq', ' \\\\', 'math', 'bb', '{', 'M', '}', '_{', 'mn', ',', 'u', '}', '(', 'Y', ')', '$', ' \\\\', 'text', '{', ' represents', ' crucial', ' things', '.}']\n",
      "Decoded tokens: ['$', ' Z', ' \\\\', 'sub', 'set', ' \\\\', 'mn', '_', 'u', ' (', ' Y', ' )', ' $']\n",
      "0.8232\n"
     ]
    },
    {
     "name": "stderr",
     "output_type": "stream",
     "text": [
      " 66%|██████▌   | 659/1000 [22:36<09:09,  1.61s/it]"
     ]
    },
    {
     "name": "stdout",
     "output_type": "stream",
     "text": [
      "Decoded tokens: ['$', ' \\\\', 'math', 'bf', '{', 'H', '}', '_', 'k', '$']\n",
      "Decoded tokens: ['$', ' \\\\', 'cal', 'H', '_', 'k', ' $']\n",
      "0.8103\n"
     ]
    },
    {
     "name": "stderr",
     "output_type": "stream",
     "text": [
      " 66%|██████▌   | 660/1000 [22:37<07:56,  1.40s/it]"
     ]
    },
    {
     "name": "stdout",
     "output_type": "stream",
     "text": [
      "Decoded tokens: ['$', ' \\\\', 'Delta', ' R', '$']\n",
      "Decoded tokens: ['$', ' \\\\', 'd', 'elta', '_', 'R', ' $']\n",
      "0.7967\n"
     ]
    },
    {
     "name": "stderr",
     "output_type": "stream",
     "text": [
      " 66%|██████▌   | 661/1000 [22:39<07:59,  1.41s/it]"
     ]
    },
    {
     "name": "stdout",
     "output_type": "stream",
     "text": [
      "Decoded tokens: ['$', 'x', ' \\\\', 'equ', 'iv', ' e', '^{', 'ik', '}', '$']\n",
      "Decoded tokens: ['$', ' y', ' \\\\', 'equ', 'iv', ' e', '^', ' {', ' ', 'ik', ' }', ' $']\n",
      "0.8805\n"
     ]
    },
    {
     "name": "stderr",
     "output_type": "stream",
     "text": [
      " 66%|██████▌   | 662/1000 [22:40<07:49,  1.39s/it]"
     ]
    },
    {
     "name": "stdout",
     "output_type": "stream",
     "text": [
      "Decoded tokens: ['$', 'F', '_{', ' \\\\', 'text', '{', 'ev', 'o', '}}', '$']\n",
      "Decoded tokens: ['$', ' F', '_', ' {', ' ev', 'o', ' }', ' $']\n",
      "0.8009\n"
     ]
    },
    {
     "name": "stderr",
     "output_type": "stream",
     "text": [
      " 66%|██████▋   | 663/1000 [22:41<07:32,  1.34s/it]"
     ]
    },
    {
     "name": "stdout",
     "output_type": "stream",
     "text": [
      "Decoded tokens: ['$', ' \\\\', 'Delta', '_', 'n', ' $']\n",
      "Decoded tokens: ['$', ' \\\\', 'Delta', '_', 'n', ' $']\n",
      "1.0\n"
     ]
    },
    {
     "name": "stderr",
     "output_type": "stream",
     "text": [
      " 66%|██████▋   | 664/1000 [22:43<08:09,  1.46s/it]"
     ]
    },
    {
     "name": "stdout",
     "output_type": "stream",
     "text": [
      "Decoded tokens: [' \\\\', 'text', '{', 'Sp', 'oken', ' English', ':', ' }', ' t', '^', '*', ' >', ' 0']\n",
      "Decoded tokens: ['$', ' t', '^', ' {', ' *', ' }', ' >', ' 0', ' $']\n",
      "0.7292\n"
     ]
    },
    {
     "name": "stderr",
     "output_type": "stream",
     "text": [
      " 66%|██████▋   | 665/1000 [22:44<07:55,  1.42s/it]"
     ]
    },
    {
     "name": "stdout",
     "output_type": "stream",
     "text": [
      "Decoded tokens: ['$', ' \\\\', 'math', 'bf', '{', ' \\\\', 'L', 'amb', 'da', '}', '$']\n",
      "Decoded tokens: ['$', ' \\\\', 'lambda', ' $']\n",
      "0.8668\n"
     ]
    },
    {
     "name": "stderr",
     "output_type": "stream",
     "text": [
      " 67%|██████▋   | 666/1000 [22:46<07:45,  1.39s/it]"
     ]
    },
    {
     "name": "stdout",
     "output_type": "stream",
     "text": [
      "Decoded tokens: ['$', 'c', '_{', 'n', ',', 'k', '}', '^{', 'IJ', '}', '$']\n",
      "Decoded tokens: ['$', ' c', '_', ' {', ' n', 'k', ' }', ' ^', ' {', ' I', 'J', ' }', ' $']\n",
      "0.8285\n"
     ]
    },
    {
     "name": "stderr",
     "output_type": "stream",
     "text": [
      " 67%|██████▋   | 667/1000 [22:47<07:16,  1.31s/it]"
     ]
    },
    {
     "name": "stdout",
     "output_type": "stream",
     "text": [
      "Decoded tokens: [' \\\\(', '-', '2', ' \\\\', ')']\n",
      "Decoded tokens: ['$', ' ^', ' {', ' -', '2', ' }', ' $']\n",
      "0.7432\n"
     ]
    },
    {
     "name": "stderr",
     "output_type": "stream",
     "text": [
      " 67%|██████▋   | 668/1000 [22:48<07:29,  1.35s/it]"
     ]
    },
    {
     "name": "stdout",
     "output_type": "stream",
     "text": [
      "Decoded tokens: ['$', 'g', '_', '1', '(', 'x', ')', '$']\n",
      "Decoded tokens: ['$', ' g', '_', '1', ' (', ' x', ' )', ' $']\n",
      "0.9581\n"
     ]
    },
    {
     "name": "stderr",
     "output_type": "stream",
     "text": [
      " 67%|██████▋   | 669/1000 [22:50<07:14,  1.31s/it]"
     ]
    },
    {
     "name": "stdout",
     "output_type": "stream",
     "text": [
      "Decoded tokens: ['$', 'i', ' \\\\', 'le', 'q', ' n', '$']\n",
      "Decoded tokens: ['$', ' i', ' \\\\', 'le', 'q', ' n', ' $']\n",
      "0.9805\n"
     ]
    },
    {
     "name": "stderr",
     "output_type": "stream",
     "text": [
      " 67%|██████▋   | 670/1000 [22:51<06:56,  1.26s/it]"
     ]
    },
    {
     "name": "stdout",
     "output_type": "stream",
     "text": [
      "Decoded tokens: ['$', 'O', '(', 'q', '^', '2', ')', '$']\n",
      "Decoded tokens: ['$', ' O', ' (', ' q', '^', '2', ' )', ' $']\n",
      "0.9589\n"
     ]
    },
    {
     "name": "stderr",
     "output_type": "stream",
     "text": [
      " 67%|██████▋   | 671/1000 [22:52<07:01,  1.28s/it]"
     ]
    },
    {
     "name": "stdout",
     "output_type": "stream",
     "text": [
      "Decoded tokens: [' \\\\', '[', '\\n', '2', '^{', 'nd', '}', '\\n', ' \\\\', ']']\n",
      "Decoded tokens: ['$', ' 2', '^', ' {', ' n', 'd', ' }', ' $']\n",
      "0.765\n"
     ]
    },
    {
     "name": "stderr",
     "output_type": "stream",
     "text": [
      " 67%|██████▋   | 672/1000 [22:53<06:54,  1.26s/it]"
     ]
    },
    {
     "name": "stdout",
     "output_type": "stream",
     "text": [
      "Decoded tokens: ['$', 'p', '_{', ' \\\\', 'r', 'ho', '}', '$']\n",
      "Decoded tokens: ['$', ' p', '_', ' {', ' \\\\', 'r', 'ho', ' }', ' $']\n",
      "0.8036\n"
     ]
    },
    {
     "name": "stderr",
     "output_type": "stream",
     "text": [
      " 67%|██████▋   | 673/1000 [22:55<07:10,  1.32s/it]"
     ]
    },
    {
     "name": "stdout",
     "output_type": "stream",
     "text": [
      "Decoded tokens: ['$', ' \\\\', 'display', 'style', ' \\\\', 'alpha', ',', ' \\\\', 'beta', '$']\n",
      "Decoded tokens: ['$', ' \\\\', 'alpha', ' ,', ' \\\\', 'beta', ' $']\n",
      "0.8759\n"
     ]
    },
    {
     "name": "stderr",
     "output_type": "stream",
     "text": [
      " 67%|██████▋   | 674/1000 [22:56<07:30,  1.38s/it]"
     ]
    },
    {
     "name": "stdout",
     "output_type": "stream",
     "text": [
      "Decoded tokens: ['$', 'H', '_', 'm', '^', 'm', ' (', 'c', 'O', ')', '$']\n",
      "Decoded tokens: ['$', ' \\\\', 's', 'H', '_', ' {', ' m', ' }', ' ^', ' {', ' \\\\', 'm', ' }', ' (', ' \\\\', 'c', 'O', ' )', ' $']\n",
      "0.7643\n"
     ]
    },
    {
     "name": "stderr",
     "output_type": "stream",
     "text": [
      " 68%|██████▊   | 675/1000 [22:58<07:23,  1.36s/it]"
     ]
    },
    {
     "name": "stdout",
     "output_type": "stream",
     "text": [
      "Decoded tokens: ['$', 'x', ' \\\\', 'in', ' S', '^', '3', '$']\n",
      "Decoded tokens: ['$', ' x', ' \\\\', 'in', ' S', '^', '3', ' $']\n",
      "0.9868\n"
     ]
    },
    {
     "name": "stderr",
     "output_type": "stream",
     "text": [
      " 68%|██████▊   | 676/1000 [22:59<07:19,  1.36s/it]"
     ]
    },
    {
     "name": "stdout",
     "output_type": "stream",
     "text": [
      "Decoded tokens: ['$', ' \\\\', 'L', 'amb', 'da', '_', 't', ' $']\n",
      "Decoded tokens: ['$', ' \\\\', 'lambda', '_', 't', ' $']\n",
      "0.8105\n"
     ]
    },
    {
     "name": "stderr",
     "output_type": "stream",
     "text": [
      " 68%|██████▊   | 677/1000 [23:00<07:25,  1.38s/it]"
     ]
    },
    {
     "name": "stdout",
     "output_type": "stream",
     "text": [
      "Decoded tokens: ['$', ' \\\\', 'math', 'cal', '{', 'T', '}', '_', 'c', '$']\n",
      "Decoded tokens: ['$', ' T', '_', ' {', ' c', ' }', ' $']\n",
      "0.737\n"
     ]
    },
    {
     "name": "stderr",
     "output_type": "stream",
     "text": [
      " 68%|██████▊   | 678/1000 [23:01<06:59,  1.30s/it]"
     ]
    },
    {
     "name": "stdout",
     "output_type": "stream",
     "text": [
      "Decoded tokens: ['$', ' \\\\', 'display', 'style', '(', '1', ',', '2', ')', '$']\n",
      "Decoded tokens: ['$', ' ^', ' {', ' 1', ',', '2', ' }', ' $']\n",
      "0.807\n"
     ]
    },
    {
     "name": "stderr",
     "output_type": "stream",
     "text": [
      " 68%|██████▊   | 679/1000 [23:03<07:40,  1.44s/it]"
     ]
    },
    {
     "name": "stdout",
     "output_type": "stream",
     "text": [
      "Decoded tokens: ['$', ' \\\\', 'hat', '{', ' \\\\', 'the', 'ta', '}', '_{', ' \\\\', 'pm', '}', '$']\n",
      "Decoded tokens: ['$', ' \\\\', 'hat', ' \\\\', 'the', 'ta', '_', ' {', ' \\\\', 'pm', ' }', ' $']\n",
      "0.8216\n"
     ]
    },
    {
     "name": "stderr",
     "output_type": "stream",
     "text": [
      " 68%|██████▊   | 680/1000 [23:04<06:58,  1.31s/it]"
     ]
    },
    {
     "name": "stdout",
     "output_type": "stream",
     "text": [
      "Decoded tokens: ['$', ' \\\\', 'O', 'mega', ' X', ' $']\n",
      "Decoded tokens: ['$', ' \\\\', 'O', 'mega', '_', 'X', ' $']\n",
      "0.9115\n"
     ]
    },
    {
     "name": "stderr",
     "output_type": "stream",
     "text": [
      " 68%|██████▊   | 681/1000 [23:06<07:00,  1.32s/it]"
     ]
    },
    {
     "name": "stdout",
     "output_type": "stream",
     "text": [
      "Decoded tokens: ['$', 'C', '_{', ' \\\\', 'in', 'fty', ',', 'v', '}', '$']\n",
      "Decoded tokens: ['$', ' C', '_', ' {', ' \\\\', 'in', 'fty', ' v', ' }', ' $']\n",
      "0.8287\n"
     ]
    },
    {
     "name": "stderr",
     "output_type": "stream",
     "text": [
      " 68%|██████▊   | 682/1000 [23:07<07:29,  1.41s/it]"
     ]
    },
    {
     "name": "stdout",
     "output_type": "stream",
     "text": [
      "Decoded tokens: ['$', 'L', '_', '2', '(', ' \\\\', 'math', 'bb', '{', 'R', '})', '$']\n",
      "Decoded tokens: ['$', ' L', '_', '2', ' (', ' \\\\', 'R', ' )', ' $']\n",
      "0.8907\n"
     ]
    },
    {
     "name": "stderr",
     "output_type": "stream",
     "text": [
      " 68%|██████▊   | 683/1000 [23:11<10:45,  2.04s/it]"
     ]
    },
    {
     "name": "stdout",
     "output_type": "stream",
     "text": [
      "Decoded tokens: [' \\\\', '[', '\\n', ' \\\\', 't', 'ilde', '{', ' \\\\', 'ps', 'i', '}', '_', 'j', ' =', ' \\\\', 'ps', 'i', '_', 'j', ' -', ' \\\\', 'ep', 'sil', 'on', ' \\\\', 'log', '(', ' \\\\', 'nu', '_', 'j', ')', '\\n', ' \\\\', ']']\n",
      "Decoded tokens: ['$', ' \\\\', 't', 'ilde', ' \\\\', 'ps', 'i', '_', 'j', '=', ' \\\\', 'ps', 'i', '_', 'j', '-', ' \\\\', 'eps', ' \\\\', 'log', ' \\\\', 'nu', '_', 'j', ' $']\n",
      "0.7369\n"
     ]
    },
    {
     "name": "stderr",
     "output_type": "stream",
     "text": [
      " 68%|██████▊   | 684/1000 [23:12<09:26,  1.79s/it]"
     ]
    },
    {
     "name": "stdout",
     "output_type": "stream",
     "text": [
      "Decoded tokens: ['$', ' \\\\', 'alpha', ' =', ' 0', '.', '05', '$']\n",
      "Decoded tokens: ['$', ' \\\\', 'alpha', '=', '0', '.', '05', ' $']\n",
      "0.9807\n"
     ]
    },
    {
     "name": "stderr",
     "output_type": "stream",
     "text": [
      " 68%|██████▊   | 685/1000 [23:13<08:12,  1.56s/it]"
     ]
    },
    {
     "name": "stdout",
     "output_type": "stream",
     "text": [
      "Decoded tokens: [' \\\\(', ' \\\\', 'display', 'style', ' \\\\', 'text', '{', 'in', '}', ' \\\\', ')']\n",
      "Decoded tokens: ['$', ' \\\\', ' {', ' u', '_', 'l', ' \\\\', ' }', ' _', ' {', ' l', ' =', ' 0', ' }', ' ^', ' {', ' \\\\', 'math', 'bb', ' {', ' N', ' }', ' -', ' 1', ' }', ' \\\\', 'in', ' \\\\', 'math', 'bb', ' {', ' R', ' }', ' ^', ' {', ' {', ' N', ' }', ' }', ' $']\n",
      "0.7699\n"
     ]
    },
    {
     "name": "stderr",
     "output_type": "stream",
     "text": [
      " 69%|██████▊   | 686/1000 [23:14<07:38,  1.46s/it]"
     ]
    },
    {
     "name": "stdout",
     "output_type": "stream",
     "text": [
      "Decoded tokens: ['$', 'p', ' \\\\', 'ge', 'q', ' 0', '$']\n",
      "Decoded tokens: ['$', ' p', ' \\\\', 'ge', 'q', ' 0', ' $']\n",
      "0.9846\n"
     ]
    },
    {
     "name": "stderr",
     "output_type": "stream",
     "text": [
      " 69%|██████▊   | 687/1000 [23:16<07:44,  1.48s/it]"
     ]
    },
    {
     "name": "stdout",
     "output_type": "stream",
     "text": [
      "Decoded tokens: ['$', 'W', '_', ' \\\\', 'lambda', '(', 'u', ')', '$']\n",
      "Decoded tokens: ['$', ' W', '_', ' \\\\', 'lambda', ' (', ' u', ' )', ' $']\n",
      "0.9568\n"
     ]
    },
    {
     "name": "stderr",
     "output_type": "stream",
     "text": [
      " 69%|██████▉   | 688/1000 [23:17<07:38,  1.47s/it]"
     ]
    },
    {
     "name": "stdout",
     "output_type": "stream",
     "text": [
      "Decoded tokens: ['$', 'W', '_{', ' \\\\', 'text', '{', 'm', 'fb', '}}', '$']\n",
      "Decoded tokens: ['$', ' W', '_', ' {', ' \\\\', 'm', 'f', ' b', ' }', ' $']\n",
      "0.8413\n"
     ]
    },
    {
     "name": "stderr",
     "output_type": "stream",
     "text": [
      " 69%|██████▉   | 689/1000 [23:19<07:52,  1.52s/it]"
     ]
    },
    {
     "name": "stdout",
     "output_type": "stream",
     "text": [
      "Decoded tokens: ['$', 'L', '_', '0', ',', ' L', '_', '1', '$']\n",
      "Decoded tokens: ['$', ' L', '_', '0', ' ,', ' L', '_', '1', ' $']\n",
      "0.9732\n"
     ]
    },
    {
     "name": "stderr",
     "output_type": "stream",
     "text": [
      " 69%|██████▉   | 690/1000 [23:20<07:33,  1.46s/it]"
     ]
    },
    {
     "name": "stdout",
     "output_type": "stream",
     "text": [
      "Decoded tokens: ['$', '0', ' <', ' \\\\', 'alpha', ' <', ' \\\\', 'beta', ' <', ' 1', '$']\n",
      "Decoded tokens: ['$', ' 0', ' <', ' \\\\', 'alpha', ' ,', ' \\\\', 'beta', ' <', ' 1', ' $']\n",
      "0.9664\n"
     ]
    },
    {
     "name": "stderr",
     "output_type": "stream",
     "text": [
      " 69%|██████▉   | 691/1000 [23:23<09:43,  1.89s/it]"
     ]
    },
    {
     "name": "stdout",
     "output_type": "stream",
     "text": [
      "Decoded tokens: [' \\\\', 'under', 'line', '{', 'Sp', '}', '(', ' \\\\', 'under', 'line', '{', ' \\\\', 'math', 'bb', '{', 'C', '}}', ')', '_{', ' \\\\', 'oper', 'at', 'orn', 'ame', '{', 'level', '}}']\n",
      "Decoded tokens: ['$', ' \\\\', 'under', 'line', ' \\\\', 'Sp', ' (', ' \\\\', 'under', 'line', ' {', ' \\\\', 'math', 'sc', 'r', ' C', ' }', ' )', ' _', ' \\\\', 'text', ' {', ' level', ' }', ' $']\n",
      "0.8241\n"
     ]
    },
    {
     "name": "stderr",
     "output_type": "stream",
     "text": [
      " 69%|██████▉   | 692/1000 [23:24<08:39,  1.69s/it]"
     ]
    },
    {
     "name": "stdout",
     "output_type": "stream",
     "text": [
      "Decoded tokens: ['$', ' \\\\', 'math', 'bf', '{', 'b', '}', '$']\n",
      "Decoded tokens: ['$', ' H', '_', ' {', ' \\\\', 'math', 'cal', ' {', ' L', ' }', ' }', ' (', ' \\\\', 'bm', ' {', ' \\\\', 'beta', ' }', ' )', ' $']\n",
      "0.7452\n"
     ]
    },
    {
     "name": "stderr",
     "output_type": "stream",
     "text": [
      " 69%|██████▉   | 693/1000 [23:26<08:51,  1.73s/it]"
     ]
    },
    {
     "name": "stdout",
     "output_type": "stream",
     "text": [
      "Decoded tokens: ['$', 'p', '_', '1', ',', ' p', '_', '2', ',', ' p', '_', '3', ',', ' \\\\', 'ld', 'ots', '$']\n",
      "Decoded tokens: ['$', ' p', '_', '1', ' ,', ' p', '_', '2', ' ,', ' p', '_', '3', ' ,', ' \\\\', 'd', 'ots', ' $']\n",
      "0.9509\n"
     ]
    },
    {
     "name": "stderr",
     "output_type": "stream",
     "text": [
      " 69%|██████▉   | 694/1000 [23:27<07:54,  1.55s/it]"
     ]
    },
    {
     "name": "stdout",
     "output_type": "stream",
     "text": [
      "Decoded tokens: ['$', ' \\\\', 'L', 'amb', 'da', ' =', ' 0', '$']\n",
      "Decoded tokens: ['$', ' \\\\', 'lambda', ' =', ' 0', ' $']\n",
      "0.799\n"
     ]
    },
    {
     "name": "stderr",
     "output_type": "stream",
     "text": [
      " 70%|██████▉   | 695/1000 [23:29<08:19,  1.64s/it]"
     ]
    },
    {
     "name": "stdout",
     "output_type": "stream",
     "text": [
      "Decoded tokens: ['$', 'A', '_', '1', ',', ' \\\\', 'ld', 'ots', ',', ' A', '_', 'n', '$']\n",
      "Decoded tokens: ['$', ' A', '_', '1', ' ,', ' \\\\', 'd', 'ots', ' ,', ' A', '_', 'n', ' $']\n",
      "0.9495\n"
     ]
    },
    {
     "name": "stderr",
     "output_type": "stream",
     "text": [
      " 70%|██████▉   | 696/1000 [23:31<08:32,  1.69s/it]"
     ]
    },
    {
     "name": "stdout",
     "output_type": "stream",
     "text": [
      "Decoded tokens: ['$', ' \\\\', 'hat', '{', 'V', '}', '_', 'A', '(', ' \\\\', 't', 'au', '_', 'j', ')', '$']\n",
      "Decoded tokens: ['$', ' \\\\', 'hat', ' {', ' V', ' }', ' _', ' {', ' A', ' }', ' (', ' \\\\', 't', 'au', '_', 'j', ' )', ' $']\n",
      "0.857\n"
     ]
    },
    {
     "name": "stderr",
     "output_type": "stream",
     "text": [
      " 70%|██████▉   | 697/1000 [23:32<07:44,  1.53s/it]"
     ]
    },
    {
     "name": "stdout",
     "output_type": "stream",
     "text": [
      "Decoded tokens: ['$', 'k', ' \\\\', 'ge', 'q', ' 1', '$']\n",
      "Decoded tokens: ['$', ' k', ' \\\\', 'ge', 'q', ' 1', ' $']\n",
      "0.9809\n"
     ]
    },
    {
     "name": "stderr",
     "output_type": "stream",
     "text": [
      " 70%|██████▉   | 698/1000 [23:34<07:52,  1.57s/it]"
     ]
    },
    {
     "name": "stdout",
     "output_type": "stream",
     "text": [
      "Decoded tokens: ['$', ' \\\\', 'math', 'bf', '{', 'g', '}', '_', 't', '$']\n",
      "Decoded tokens: ['$', ' \\\\', 'p', 'alg', '_', 't', ' $']\n",
      "0.821\n"
     ]
    },
    {
     "name": "stderr",
     "output_type": "stream",
     "text": [
      " 70%|██████▉   | 699/1000 [23:35<08:16,  1.65s/it]"
     ]
    },
    {
     "name": "stdout",
     "output_type": "stream",
     "text": [
      "Decoded tokens: ['$', 'k', ' =', ' (', 'k', '_', '1', ',', ' k', '_', '0', ')', '$']\n",
      "Decoded tokens: ['$', ' k', '=', ' (', ' k', '_', '1', ' ,', ' k', '_', '0', ' )', ' $']\n",
      "0.9605\n"
     ]
    },
    {
     "name": "stderr",
     "output_type": "stream",
     "text": [
      " 70%|███████   | 700/1000 [23:37<07:20,  1.47s/it]"
     ]
    },
    {
     "name": "stdout",
     "output_type": "stream",
     "text": [
      "Decoded tokens: ['$', ' \\\\', 'alpha', '_', '1', ' =', ' 2', ' $']\n",
      "Decoded tokens: ['$', ' \\\\', 'alpha', '_', '1', '=', '2', ' $']\n",
      "0.9868\n"
     ]
    },
    {
     "name": "stderr",
     "output_type": "stream",
     "text": [
      " 70%|███████   | 701/1000 [23:38<07:26,  1.49s/it]"
     ]
    },
    {
     "name": "stdout",
     "output_type": "stream",
     "text": [
      "Decoded tokens: ['$', ' \\\\', 'dim', '_', 'A', ' X', ' =', ' \\\\', 'in', 'fty', ' $']\n",
      "Decoded tokens: ['$', ' \\\\', 'math', 'rm', ' {', ' dim', ' }', ' _', ' \\\\', 'math', 'rm', ' {', ' A', ' }', ' X', ' =', ' \\\\', 'in', 'fty', ' $']\n",
      "0.7842\n"
     ]
    },
    {
     "name": "stderr",
     "output_type": "stream",
     "text": [
      " 70%|███████   | 702/1000 [23:41<08:47,  1.77s/it]"
     ]
    },
    {
     "name": "stdout",
     "output_type": "stream",
     "text": [
      "Decoded tokens: [' \\\\', '[', '\\n', ' \\\\', 'text', '{', 'Sp', 'oken', ' English', ':', ' }', ' x', '^{', 'k', '+', '1', '}', '\\n', ' \\\\', ']']\n",
      "Decoded tokens: ['$', ' x', '^', ' {', ' k', '+', '1', ' }', ' $']\n",
      "0.7342\n"
     ]
    },
    {
     "name": "stderr",
     "output_type": "stream",
     "text": [
      " 70%|███████   | 703/1000 [23:43<09:10,  1.85s/it]"
     ]
    },
    {
     "name": "stdout",
     "output_type": "stream",
     "text": [
      "Decoded tokens: [' \\\\(', ' \\\\', 'math', 'cal', '{', 'L', '}', '_{', 'cl', 's', '}', ' \\\\', ')']\n",
      "Decoded tokens: ['$', ' L', '_', ' {', ' cl', 's', ' }', ' $']\n",
      "0.7511\n"
     ]
    },
    {
     "name": "stderr",
     "output_type": "stream",
     "text": [
      " 70%|███████   | 704/1000 [23:44<08:59,  1.82s/it]"
     ]
    },
    {
     "name": "stdout",
     "output_type": "stream",
     "text": [
      "Decoded tokens: ['$', 'H', ' =', ' \\\\', 'frac', '{', ' \\\\', 'dot', '{', 'a', '}}', '{', 'a', '}', '$']\n",
      "Decoded tokens: ['$', ' H', '=', ' \\\\', 'frac', ' {', ' \\\\', 'dot', ' {', ' a', ' }', ' }', ' {', ' a', ' }', ' $']\n",
      "0.9052\n"
     ]
    },
    {
     "name": "stderr",
     "output_type": "stream",
     "text": [
      " 70%|███████   | 705/1000 [23:46<08:20,  1.70s/it]"
     ]
    },
    {
     "name": "stdout",
     "output_type": "stream",
     "text": [
      "Decoded tokens: ['$', ' \\\\', 'k', 'appa', ' \\\\', 'k', 'appa', ' $']\n",
      "Decoded tokens: ['$', ' {', ' }', ' ^', ' \\\\', 'k', 'appa', ' \\\\', 'k', 'appa', ' $']\n",
      "0.8816\n"
     ]
    },
    {
     "name": "stderr",
     "output_type": "stream",
     "text": [
      " 71%|███████   | 706/1000 [23:47<08:06,  1.66s/it]"
     ]
    },
    {
     "name": "stdout",
     "output_type": "stream",
     "text": [
      "Decoded tokens: ['$', 'A', ' =', ' C', '_', 'p', '^', 'n', '$']\n",
      "Decoded tokens: ['$', ' A', '=', 'C', '_', ' {', ' p', '^', 'n', ' }', ' $']\n",
      "0.8564\n"
     ]
    },
    {
     "name": "stderr",
     "output_type": "stream",
     "text": [
      " 71%|███████   | 707/1000 [23:49<07:36,  1.56s/it]"
     ]
    },
    {
     "name": "stdout",
     "output_type": "stream",
     "text": [
      "Decoded tokens: ['$', 'q', '_', 'i', '(', 'x', ')', '$']\n",
      "Decoded tokens: ['$', ' q', '_', 'i', ' (', ' x', ' )', ' $']\n",
      "0.9585\n"
     ]
    },
    {
     "name": "stderr",
     "output_type": "stream",
     "text": [
      " 71%|███████   | 708/1000 [23:50<07:06,  1.46s/it]"
     ]
    },
    {
     "name": "stdout",
     "output_type": "stream",
     "text": [
      "Decoded tokens: ['$', 'f', '_{', ' \\\\', 'text', '{', 'M', 'DC', '}}', '$']\n",
      "Decoded tokens: ['$', ' f', '_', ' {', ' \\\\', 'mb', 'ox', ' {', ' M', 'MD', 'D', ' }', ' }', ' $']\n",
      "0.7611\n"
     ]
    },
    {
     "name": "stderr",
     "output_type": "stream",
     "text": [
      " 71%|███████   | 709/1000 [23:51<07:10,  1.48s/it]"
     ]
    },
    {
     "name": "stdout",
     "output_type": "stream",
     "text": [
      "Decoded tokens: ['$', 'V', '_', '1', ' =', ' v', '_', '0', ' G', '$']\n",
      "Decoded tokens: ['$', ' V', '_', '1', ' =', ' v', '_', '0', ' G', ' $']\n",
      "0.9925\n"
     ]
    },
    {
     "name": "stderr",
     "output_type": "stream",
     "text": [
      " 71%|███████   | 710/1000 [23:53<06:56,  1.44s/it]"
     ]
    },
    {
     "name": "stdout",
     "output_type": "stream",
     "text": [
      "Decoded tokens: ['$', 'N', '^{', 'q', '(', 'x', ')}', '$']\n",
      "Decoded tokens: ['$', ' n', '^', 'q', ' (', ' x', ' )', ' $']\n",
      "0.9261\n"
     ]
    },
    {
     "name": "stderr",
     "output_type": "stream",
     "text": [
      " 71%|███████   | 711/1000 [23:54<06:45,  1.40s/it]"
     ]
    },
    {
     "name": "stdout",
     "output_type": "stream",
     "text": [
      "Decoded tokens: ['$', 'V', '_', '1', ',', ' V', '_', '2', '$']\n",
      "Decoded tokens: ['$', ' V', '_', '1', ' ,', ' V', '_', '2', ' $']\n",
      "0.9732\n"
     ]
    },
    {
     "name": "stderr",
     "output_type": "stream",
     "text": [
      " 71%|███████   | 712/1000 [23:56<08:08,  1.70s/it]"
     ]
    },
    {
     "name": "stdout",
     "output_type": "stream",
     "text": [
      "Decoded tokens: ['$', ' -', '1', '.', '04', '2', ' -', ' 0', '.', '000', '3', ' +', ' 0', '.', '000', '29', ' $']\n",
      "Decoded tokens: ['$', ' 1', '.', '04', '2', '_', ' {', ' -', '0', '.', '000', '3', ' }', ' ^', ' {', ' +', '0', '.', '000', '29', ' }', ' $']\n",
      "0.7769\n"
     ]
    },
    {
     "name": "stderr",
     "output_type": "stream",
     "text": [
      " 71%|███████▏  | 713/1000 [23:58<07:32,  1.58s/it]"
     ]
    },
    {
     "name": "stdout",
     "output_type": "stream",
     "text": [
      "Decoded tokens: ['$', ' \\\\', 'display', 'style', ' \\\\', 'ep', 'sil', 'on', '$']\n",
      "Decoded tokens: ['$', ' \\\\', 'ep', 'sil', 'on', ' $']\n",
      "0.794\n"
     ]
    },
    {
     "name": "stderr",
     "output_type": "stream",
     "text": [
      " 71%|███████▏  | 714/1000 [23:59<06:53,  1.45s/it]"
     ]
    },
    {
     "name": "stdout",
     "output_type": "stream",
     "text": [
      "Decoded tokens: ['$', ' \\\\', 'alpha', '_', 'i', ' $']\n",
      "Decoded tokens: ['$', ' \\\\', 'alpha', '_', 'i', ' ,', ' $']\n",
      "0.9654\n"
     ]
    },
    {
     "name": "stderr",
     "output_type": "stream",
     "text": [
      " 72%|███████▏  | 715/1000 [24:00<06:42,  1.41s/it]"
     ]
    },
    {
     "name": "stdout",
     "output_type": "stream",
     "text": [
      "Decoded tokens: ['$', 'h', '_{', ' \\\\', 'mu', ' \\\\', 'nu', '}', '$']\n",
      "Decoded tokens: ['$', ' h', '_', ' {', ' \\\\', 'mu', ' \\\\', 'nu', ' }', ' $']\n",
      "0.7972\n"
     ]
    },
    {
     "name": "stderr",
     "output_type": "stream",
     "text": [
      " 72%|███████▏  | 716/1000 [24:02<07:09,  1.51s/it]"
     ]
    },
    {
     "name": "stdout",
     "output_type": "stream",
     "text": [
      "Decoded tokens: ['$', 'V', '_', 'i', ' \\\\', 'in', ' \\\\', 'math', 'bb', '{', 'R', '}', '$']\n",
      "Decoded tokens: ['$', ' V', '_', 'i', ' \\\\', 'in', ' \\\\', 'math', 'bb', ' R', ' $']\n",
      "0.9465\n"
     ]
    },
    {
     "name": "stderr",
     "output_type": "stream",
     "text": [
      " 72%|███████▏  | 717/1000 [24:03<06:52,  1.46s/it]"
     ]
    },
    {
     "name": "stdout",
     "output_type": "stream",
     "text": [
      "Decoded tokens: ['$', ' \\\\', 'math', 'cal', '{', 'F', '}', ' \\\\', 'down', 'arrow', '$']\n",
      "Decoded tokens: ['$', ' \\\\', 'math', 'bf', ' {', ' F', ' }', ' ^', ' {', ' \\\\', 'down', 'arrow', ' }', ' $']\n",
      "0.8778\n"
     ]
    },
    {
     "name": "stderr",
     "output_type": "stream",
     "text": [
      " 72%|███████▏  | 718/1000 [24:05<06:38,  1.41s/it]"
     ]
    },
    {
     "name": "stdout",
     "output_type": "stream",
     "text": [
      "Decoded tokens: ['$', 'L', '_{', 'x', ',', 'y', ',', 'z', '}', '$']\n",
      "Decoded tokens: ['$', ' L', '_', ' {', ' x', ' ,', ' y', ' ,', ' z', ' }', ' $']\n",
      "0.7824\n"
     ]
    },
    {
     "name": "stderr",
     "output_type": "stream",
     "text": [
      " 72%|███████▏  | 719/1000 [24:06<06:40,  1.42s/it]"
     ]
    },
    {
     "name": "stdout",
     "output_type": "stream",
     "text": [
      "Decoded tokens: ['$', 'n', '_', '1', ',', ' n', '_', '2', '$']\n",
      "Decoded tokens: ['$', ' (', ' n', '_', '1', ' ,', ' n', '_', '2', ' )', ' $']\n",
      "0.8044\n"
     ]
    },
    {
     "name": "stderr",
     "output_type": "stream",
     "text": [
      " 72%|███████▏  | 720/1000 [24:07<06:13,  1.33s/it]"
     ]
    },
    {
     "name": "stdout",
     "output_type": "stream",
     "text": [
      "Decoded tokens: ['$', ' \\\\', 'The', 'ta', '_', 'j', '$']\n",
      "Decoded tokens: ['$', ' \\\\', 'the', 'ta', '_', 'j', ' $']\n",
      "0.9863\n"
     ]
    },
    {
     "name": "stderr",
     "output_type": "stream",
     "text": [
      " 72%|███████▏  | 721/1000 [24:09<06:21,  1.37s/it]"
     ]
    },
    {
     "name": "stdout",
     "output_type": "stream",
     "text": [
      "Decoded tokens: ['$', ' \\\\', 'beta', ' >', ' 0', ' $']\n",
      "Decoded tokens: ['$', ' \\\\', 'beta', ' >', ' 0', ' $']\n",
      "1.0\n"
     ]
    },
    {
     "name": "stderr",
     "output_type": "stream",
     "text": [
      " 72%|███████▏  | 722/1000 [24:10<06:42,  1.45s/it]"
     ]
    },
    {
     "name": "stdout",
     "output_type": "stream",
     "text": [
      "Decoded tokens: ['$', ' \\\\', 'S', 'igma', '_{', 'xy', '}', ' $']\n",
      "Decoded tokens: ['$', ' \\\\', 's', 'igma', '_', ' {', ' x', 'y', ' }', ' $']\n",
      "0.852\n"
     ]
    },
    {
     "name": "stderr",
     "output_type": "stream",
     "text": [
      " 72%|███████▏  | 723/1000 [24:11<06:22,  1.38s/it]"
     ]
    },
    {
     "name": "stdout",
     "output_type": "stream",
     "text": [
      "Decoded tokens: ['$', ' \\\\', 'Delta', ' \\\\', 'chi', '^', '2', '$']\n",
      "Decoded tokens: ['$', ' \\\\', 'Delta', ' \\\\', 'chi', '^', ' {', ' 2', ' }', ' $']\n",
      "0.9382\n"
     ]
    },
    {
     "name": "stderr",
     "output_type": "stream",
     "text": [
      " 72%|███████▏  | 724/1000 [24:13<06:16,  1.36s/it]"
     ]
    },
    {
     "name": "stdout",
     "output_type": "stream",
     "text": [
      "Decoded tokens: [' \\\\(', ' \\\\', 'sum', ' m', '_{', ' \\\\', 'nu', '}', ' \\\\', ')']\n",
      "Decoded tokens: ['$', ' \\\\', 'sum', ' m', '_', ' {', ' \\\\', 'nu', ' }', ' $']\n",
      "0.8491\n"
     ]
    },
    {
     "name": "stderr",
     "output_type": "stream",
     "text": [
      " 72%|███████▎  | 725/1000 [24:14<06:38,  1.45s/it]"
     ]
    },
    {
     "name": "stdout",
     "output_type": "stream",
     "text": [
      "Decoded tokens: ['$', ' \\\\', 'ome', 'ga', '_', '1', ',', ' \\\\', 'ome', 'ga', '_', '2', '$']\n",
      "Decoded tokens: ['$', ' \\\\', 'ome', 'ga', '_', '1', ' ,', ' \\\\', 'ome', 'ga', '_', '2', ' $']\n",
      "0.9844\n"
     ]
    },
    {
     "name": "stderr",
     "output_type": "stream",
     "text": [
      " 73%|███████▎  | 726/1000 [24:16<06:26,  1.41s/it]"
     ]
    },
    {
     "name": "stdout",
     "output_type": "stream",
     "text": [
      "Decoded tokens: ['$', 'd', ' \\\\', 'ge', 'q', ' 0', '$']\n",
      "Decoded tokens: ['$', ' d', '^', '-', ' \\\\', 'ge', '0', ' $']\n",
      "0.7958\n"
     ]
    },
    {
     "name": "stderr",
     "output_type": "stream",
     "text": [
      " 73%|███████▎  | 727/1000 [24:17<06:19,  1.39s/it]"
     ]
    },
    {
     "name": "stdout",
     "output_type": "stream",
     "text": [
      "Decoded tokens: ['$', ' \\\\', 'math', 'cal', '{', 'E', '}', '_', 'x', '$']\n",
      "Decoded tokens: ['$', ' E', '_', ' {', ' x', ' }', ' $']\n",
      "0.7422\n"
     ]
    },
    {
     "name": "stderr",
     "output_type": "stream",
     "text": [
      " 73%|███████▎  | 728/1000 [24:19<06:55,  1.53s/it]"
     ]
    },
    {
     "name": "stdout",
     "output_type": "stream",
     "text": [
      "Decoded tokens: ['$', 'v', '_', 'x', '^{', 'p', '}', ' \\\\', ',', ' \\\\', 'text', '{', 'DD', '}', '$']\n",
      "Decoded tokens: ['$', ' v', '_', ' {', ' \\\\', 'math', 'bf', ' {', ' x', ' }', ' }', ' ^', ' {', ' p', ' ,', ' \\\\', 'text', ' {', ' DD', ' }', ' }', ' $']\n",
      "0.7945\n"
     ]
    },
    {
     "name": "stderr",
     "output_type": "stream",
     "text": [
      " 73%|███████▎  | 729/1000 [24:20<06:37,  1.47s/it]"
     ]
    },
    {
     "name": "stdout",
     "output_type": "stream",
     "text": [
      "Decoded tokens: ['$', ' \\\\', 'math', 'bf', '{', ' \\\\', 'L', 'amb', 'da', '}', '$']\n",
      "Decoded tokens: ['$', ' \\\\', 'lambda', ' $']\n",
      "0.8668\n"
     ]
    },
    {
     "name": "stderr",
     "output_type": "stream",
     "text": [
      " 73%|███████▎  | 730/1000 [24:22<06:49,  1.52s/it]"
     ]
    },
    {
     "name": "stdout",
     "output_type": "stream",
     "text": [
      "Decoded tokens: [' \\\\', '[', '\\n', ' \\\\', 'display', 'style', ' a', '_{', 'i', ',', 'j', '}', '\\n', ' \\\\', ']']\n",
      "Decoded tokens: ['$', ' a', '_', ' {', ' i', ' ,', ' j', ' }', ' $']\n",
      "0.7604\n"
     ]
    },
    {
     "name": "stderr",
     "output_type": "stream",
     "text": [
      " 73%|███████▎  | 731/1000 [24:23<06:16,  1.40s/it]"
     ]
    },
    {
     "name": "stdout",
     "output_type": "stream",
     "text": [
      "Decoded tokens: ['$', ' \\\\', 'O', 'mega', '_', 't', ' $']\n",
      "Decoded tokens: ['$', ' \\\\', 'O', 'mega', '_', ' {', ' t', ' }', ' $']\n",
      "0.927\n"
     ]
    },
    {
     "name": "stderr",
     "output_type": "stream",
     "text": [
      " 73%|███████▎  | 732/1000 [24:24<05:31,  1.24s/it]"
     ]
    },
    {
     "name": "stdout",
     "output_type": "stream",
     "text": [
      "Decoded tokens: ['$', ' \\\\', 'Delta', ' 3', '$']\n",
      "Decoded tokens: ['$', ' \\\\', 'd', 'elta', '_', '3', ' $']\n",
      "0.8041\n"
     ]
    },
    {
     "name": "stderr",
     "output_type": "stream",
     "text": [
      " 73%|███████▎  | 733/1000 [24:25<05:27,  1.23s/it]"
     ]
    },
    {
     "name": "stdout",
     "output_type": "stream",
     "text": [
      "Decoded tokens: ['$', ' \\\\', 'display', 'style', ' A', '_{', '32', '}', '$']\n",
      "Decoded tokens: ['$', ' A', '_', ' {', ' 32', ' }', ' $']\n",
      "0.7473\n"
     ]
    },
    {
     "name": "stderr",
     "output_type": "stream",
     "text": [
      " 73%|███████▎  | 734/1000 [24:26<05:33,  1.25s/it]"
     ]
    },
    {
     "name": "stdout",
     "output_type": "stream",
     "text": [
      "Decoded tokens: ['$', ' -', '1', ' $']\n",
      "Decoded tokens: ['$', ' ^', ' {', ' -', '1', ' }', ' $']\n",
      "0.802\n"
     ]
    },
    {
     "name": "stderr",
     "output_type": "stream",
     "text": [
      " 74%|███████▎  | 735/1000 [24:28<06:27,  1.46s/it]"
     ]
    },
    {
     "name": "stdout",
     "output_type": "stream",
     "text": [
      "Decoded tokens: ['$', ' \\\\', 'mu', '_', 'x', ' \\\\', 'in', ' \\\\', 'Delta', '_{', 'n', '_', 'x', '}', ' $']\n",
      "Decoded tokens: ['$', ' \\\\', 'mu', '_', 'x', ' \\\\', 'in', ' \\\\', 'Delta', '_', ' {', ' n', '_', 'x', ' }', ' $']\n",
      "0.902\n"
     ]
    },
    {
     "name": "stderr",
     "output_type": "stream",
     "text": [
      " 74%|███████▎  | 736/1000 [24:29<06:00,  1.37s/it]"
     ]
    },
    {
     "name": "stdout",
     "output_type": "stream",
     "text": [
      "Decoded tokens: ['$', '90', '^', ' \\\\', 'circ', '$']\n",
      "Decoded tokens: ['$', ' 90', '^', ' \\\\', 'circ', ' $']\n",
      "0.9832\n"
     ]
    },
    {
     "name": "stderr",
     "output_type": "stream",
     "text": [
      " 74%|███████▎  | 737/1000 [24:31<06:08,  1.40s/it]"
     ]
    },
    {
     "name": "stdout",
     "output_type": "stream",
     "text": [
      "Decoded tokens: ['$', ' \\\\', 'v', 'are', 'ps', 'ilon', ' \\\\', 'in', ' (', '0', ',', ' 1', ')', '$']\n",
      "Decoded tokens: ['$', ' \\\\', 'ep', 'sil', 'on', ' \\\\', 'in', ' (', ' 0', ',', '1', ' )', ' $']\n",
      "0.7844\n"
     ]
    },
    {
     "name": "stderr",
     "output_type": "stream",
     "text": [
      " 74%|███████▍  | 738/1000 [24:32<06:05,  1.40s/it]"
     ]
    },
    {
     "name": "stdout",
     "output_type": "stream",
     "text": [
      "Decoded tokens: ['$', 'l', '_{', 'b', '5', '}', ' =', ' 12', '$']\n",
      "Decoded tokens: ['$', ' l', '_', ' {', ' b', '5', ' }', ' =', '12', ' $']\n",
      "0.8067\n"
     ]
    },
    {
     "name": "stderr",
     "output_type": "stream",
     "text": [
      " 74%|███████▍  | 739/1000 [24:34<05:57,  1.37s/it]"
     ]
    },
    {
     "name": "stdout",
     "output_type": "stream",
     "text": [
      "Decoded tokens: ['$', ' \\\\', 'mu', '_', '0', ' $']\n",
      "Decoded tokens: ['$', ' \\\\', 'mu', '_', ' {', ' 0', ' }', ' $']\n",
      "0.9292\n"
     ]
    },
    {
     "name": "stderr",
     "output_type": "stream",
     "text": [
      " 74%|███████▍  | 740/1000 [24:35<06:17,  1.45s/it]"
     ]
    },
    {
     "name": "stdout",
     "output_type": "stream",
     "text": [
      "Decoded tokens: ['$', ' \\\\', 'math', 'cal', '{', 'H', '}', '_{', ' \\\\', 'in', 'fty', '}', '$']\n",
      "Decoded tokens: ['$', ' \\\\', 'math', 'cal', ' {', ' H', ' }', ' _', ' {', ' \\\\', 'in', 'fty', ' }', ' $']\n",
      "0.8754\n"
     ]
    },
    {
     "name": "stderr",
     "output_type": "stream",
     "text": [
      " 74%|███████▍  | 741/1000 [24:38<07:43,  1.79s/it]"
     ]
    },
    {
     "name": "stdout",
     "output_type": "stream",
     "text": [
      "Decoded tokens: ['$', 'r', '_', '1', ' =', ' I', '_', '1', ' =', ' 1', '$']\n",
      "Decoded tokens: ['$', ' r', '_', '1', '=', ' \\\\', ' #', ' \\\\', 'math', 'cal', ' {', ' I', ' }', ' _', '1', '=', '1', ' $']\n",
      "0.83\n"
     ]
    },
    {
     "name": "stderr",
     "output_type": "stream",
     "text": [
      " 74%|███████▍  | 742/1000 [24:39<07:21,  1.71s/it]"
     ]
    },
    {
     "name": "stdout",
     "output_type": "stream",
     "text": [
      "Decoded tokens: ['$', ' \\\\', 'math', 'bf', '{', 'u', '}', \"'\", '$']\n",
      "Decoded tokens: ['$', ' u', '^', ' \\\\', 'prime', ' $']\n",
      "0.7588\n"
     ]
    },
    {
     "name": "stderr",
     "output_type": "stream",
     "text": [
      " 74%|███████▍  | 743/1000 [24:41<06:42,  1.57s/it]"
     ]
    },
    {
     "name": "stdout",
     "output_type": "stream",
     "text": [
      "Decoded tokens: ['$', ' \\\\', 'Gam', 'ma', '_', '2', ' $']\n",
      "Decoded tokens: ['$', ' \\\\', 'gam', 'ma', '_', '2', ' $']\n",
      "0.9914\n"
     ]
    },
    {
     "name": "stderr",
     "output_type": "stream",
     "text": [
      " 74%|███████▍  | 744/1000 [24:42<06:30,  1.52s/it]"
     ]
    },
    {
     "name": "stdout",
     "output_type": "stream",
     "text": [
      "Decoded tokens: [' \\\\', '[', '\\n', ' \\\\', 'display', 'style', ' a', '_{', 'ij', '}', '\\n', ' \\\\', ']']\n",
      "Decoded tokens: ['$', ' a', '_', ' {', ' i', 'j', ' }', ' $']\n",
      "0.7482\n"
     ]
    },
    {
     "name": "stderr",
     "output_type": "stream",
     "text": [
      " 74%|███████▍  | 745/1000 [24:44<06:45,  1.59s/it]"
     ]
    },
    {
     "name": "stdout",
     "output_type": "stream",
     "text": [
      "Decoded tokens: ['$', 'f', '^', '*', ' \\\\', 'in', ' \\\\', 'math', 'cal', '{', 'F', '}', '_', '0', '$']\n",
      "Decoded tokens: ['$', ' f', '^', ' *', ' \\\\', 'in', ' \\\\', 'math', 'cal', ' {', ' F', ' }', ' _', '0', ' $']\n",
      "0.9738\n"
     ]
    },
    {
     "name": "stderr",
     "output_type": "stream",
     "text": [
      " 75%|███████▍  | 746/1000 [24:45<06:16,  1.48s/it]"
     ]
    },
    {
     "name": "stdout",
     "output_type": "stream",
     "text": [
      "Decoded tokens: ['$', ' \\\\', 'Ph', 'i', '_{', ' \\\\', 't', 'au', '}', ' $']\n",
      "Decoded tokens: ['$', ' \\\\', 'Ph', 'i', '_', ' \\\\', 't', 'au', ' $']\n",
      "0.9549\n"
     ]
    },
    {
     "name": "stderr",
     "output_type": "stream",
     "text": [
      " 75%|███████▍  | 747/1000 [24:46<05:55,  1.40s/it]"
     ]
    },
    {
     "name": "stdout",
     "output_type": "stream",
     "text": [
      "Decoded tokens: ['$', 'x', '_', '1', ' \\\\', 'in', ' G', '$']\n",
      "Decoded tokens: ['$', ' x', '_', '1', ' \\\\', 'in', ' G', ' $']\n",
      "0.9868\n"
     ]
    },
    {
     "name": "stderr",
     "output_type": "stream",
     "text": [
      " 75%|███████▍  | 748/1000 [24:48<06:12,  1.48s/it]"
     ]
    },
    {
     "name": "stdout",
     "output_type": "stream",
     "text": [
      "Decoded tokens: ['$', ' \\\\', 'math', 'cal', '{', 'R', '}', '_', 'i', '^', '*', '$']\n",
      "Decoded tokens: ['$', ' R', '_', 'i', '^', ' \\\\', 'star', ' $']\n",
      "0.7445\n"
     ]
    },
    {
     "name": "stderr",
     "output_type": "stream",
     "text": [
      " 75%|███████▍  | 749/1000 [24:49<06:07,  1.46s/it]"
     ]
    },
    {
     "name": "stdout",
     "output_type": "stream",
     "text": [
      "Decoded tokens: ['$', ' \\\\', 'math', 'bb', '{', 'P', '}', '^', '3', '$']\n",
      "Decoded tokens: ['$', ' \\\\', 'math', 'bb', ' {', ' P', ' }', ' ^', '3', ' $']\n",
      "0.9802\n"
     ]
    },
    {
     "name": "stderr",
     "output_type": "stream",
     "text": [
      " 75%|███████▌  | 750/1000 [24:51<06:08,  1.48s/it]"
     ]
    },
    {
     "name": "stdout",
     "output_type": "stream",
     "text": [
      "Decoded tokens: ['$', 'y', '_', 'i', ' \\\\', 'in', ' \\\\', 'math', 'bb', '{', 'R', '}', '$']\n",
      "Decoded tokens: ['$', ' y', '_', 'i', ' \\\\', 'in', ' \\\\', 'math', 'bb', ' {', ' R', ' }', ' $']\n",
      "0.9757\n"
     ]
    },
    {
     "name": "stderr",
     "output_type": "stream",
     "text": [
      " 75%|███████▌  | 751/1000 [24:52<05:51,  1.41s/it]"
     ]
    },
    {
     "name": "stdout",
     "output_type": "stream",
     "text": [
      "Decoded tokens: ['$', ' -', '1', ' $']\n",
      "Decoded tokens: ['$', ' ^', ' {', ' -', '1', ' }', ' $']\n",
      "0.802\n"
     ]
    },
    {
     "name": "stderr",
     "output_type": "stream",
     "text": [
      " 75%|███████▌  | 752/1000 [24:53<05:29,  1.33s/it]"
     ]
    },
    {
     "name": "stdout",
     "output_type": "stream",
     "text": [
      "Decoded tokens: [' \\\\(', ' \\\\', 'display', 'style', ' \\\\', 'beta', '_', '1', ' \\\\', ')']\n",
      "Decoded tokens: ['$', ' \\\\', 'beta', '_', '1', ' $']\n",
      "0.7753\n"
     ]
    },
    {
     "name": "stderr",
     "output_type": "stream",
     "text": [
      " 75%|███████▌  | 753/1000 [24:55<05:43,  1.39s/it]"
     ]
    },
    {
     "name": "stdout",
     "output_type": "stream",
     "text": [
      "Decoded tokens: ['$', ' \\\\', 'math', 'bf', '{', 't', '}', '^', 't', ' $']\n",
      "Decoded tokens: ['$', ' t', '^', ' {', ' th', ' }', ' $']\n",
      "0.7465\n"
     ]
    },
    {
     "name": "stderr",
     "output_type": "stream",
     "text": [
      " 75%|███████▌  | 754/1000 [24:56<05:37,  1.37s/it]"
     ]
    },
    {
     "name": "stdout",
     "output_type": "stream",
     "text": [
      "Decoded tokens: ['$', 'R', '^', 'u', '_', 's', '$']\n",
      "Decoded tokens: ['$', ' R', '^', ' {', ' (', ' u', ' )', ' }', ' _', 's', ' $']\n",
      "0.8499\n"
     ]
    },
    {
     "name": "stderr",
     "output_type": "stream",
     "text": [
      " 76%|███████▌  | 755/1000 [24:59<07:26,  1.82s/it]"
     ]
    },
    {
     "name": "stdout",
     "output_type": "stream",
     "text": [
      "Decoded tokens: [' \\\\', '[', '\\n', ' \\\\', 'math', 'sc', 'r', '{', 'M', '}', '_', '2', ' (', 'db', ')', ' -', ' eb', '_', 'r', ' \\\\', 'eta', '_', 'r', '\\n', ' \\\\', ']']\n",
      "Decoded tokens: ['$', ' \\\\', 'math', 'sc', 'r', ' {', ' M', ' }', ' _', '2', ' (', ' \\\\', 'db', ' )', ' -', ' \\\\', 'eb', '_', 'r', ' \\\\', 'eta', '_', 'r', ' $']\n",
      "0.8009\n"
     ]
    },
    {
     "name": "stderr",
     "output_type": "stream",
     "text": [
      " 76%|███████▌  | 756/1000 [25:00<06:41,  1.64s/it]"
     ]
    },
    {
     "name": "stdout",
     "output_type": "stream",
     "text": [
      "Decoded tokens: ['$', 'p', '_{', ' \\\\', 'text', '{', 'pen', '}}', '$']\n",
      "Decoded tokens: ['$', ' p', '_', ' {', ' pen', ' }', ' $']\n",
      "0.8201\n"
     ]
    },
    {
     "name": "stderr",
     "output_type": "stream",
     "text": [
      " 76%|███████▌  | 757/1000 [25:01<06:09,  1.52s/it]"
     ]
    },
    {
     "name": "stdout",
     "output_type": "stream",
     "text": [
      "Decoded tokens: ['$', ' 15', '^{', ' \\\\', 'text', '{', 'power', ' of', '}}', ' $']\n",
      "Decoded tokens: ['$', ' ^', ' {', ' 15', ' }', ' $']\n",
      "0.7719\n"
     ]
    },
    {
     "name": "stderr",
     "output_type": "stream",
     "text": [
      " 76%|███████▌  | 758/1000 [25:03<06:08,  1.52s/it]"
     ]
    },
    {
     "name": "stdout",
     "output_type": "stream",
     "text": [
      "Decoded tokens: ['$', 't', ' -', ' x', ' c', '_', 'x', ' \\\\', 'in', ' K', '$']\n",
      "Decoded tokens: ['$', ' t', '-', 'xc', '_', ' {', ' x', ' }', ' \\\\', 'in', ' K', ' $']\n",
      "0.8179\n"
     ]
    },
    {
     "name": "stderr",
     "output_type": "stream",
     "text": [
      " 76%|███████▌  | 759/1000 [25:05<06:15,  1.56s/it]"
     ]
    },
    {
     "name": "stdout",
     "output_type": "stream",
     "text": [
      "Decoded tokens: ['$', ' \\\\', 'ome', 'ga', '_{', ' \\\\', 'text', '{', 'r', 'ms', '}}', '(', 'Q', ')', '$']\n",
      "Decoded tokens: ['$', ' \\\\', 'ome', 'ga', '_', ' {', ' \\\\', 'rm', ' s', ' }', ' (', ' Q', ' )', ' $']\n",
      "0.8085\n"
     ]
    },
    {
     "name": "stderr",
     "output_type": "stream",
     "text": [
      " 76%|███████▌  | 760/1000 [25:06<06:11,  1.55s/it]"
     ]
    },
    {
     "name": "stdout",
     "output_type": "stream",
     "text": [
      "Decoded tokens: ['$', ' \\\\', 'math', 'cal', '{', 'A', '}', '_{', ' \\\\', 'in', 'fty', '}', '$']\n",
      "Decoded tokens: ['$', ' A', '_', ' \\\\', 'in', 'fty', ' $']\n",
      "0.7295\n"
     ]
    },
    {
     "name": "stderr",
     "output_type": "stream",
     "text": [
      " 76%|███████▌  | 761/1000 [25:08<06:17,  1.58s/it]"
     ]
    },
    {
     "name": "stdout",
     "output_type": "stream",
     "text": [
      "Decoded tokens: ['$', 'x', '_', '0', ',', ' \\\\', 'ld', 'ots', ',', ' x', '_{', 'n', '-', '1', '}', '$']\n",
      "Decoded tokens: ['$', ' x', '_', '0', ' ,', ' \\\\', 'd', 'ots', ' ,', ' x', '_', ' {', ' n', '-', '1', ' }', ' $']\n",
      "0.8747\n"
     ]
    },
    {
     "name": "stderr",
     "output_type": "stream",
     "text": [
      " 76%|███████▌  | 762/1000 [25:09<06:11,  1.56s/it]"
     ]
    },
    {
     "name": "stdout",
     "output_type": "stream",
     "text": [
      "Decoded tokens: ['$', 'f', '_', '1', '(', ' \\\\', 'math', 'bf', '{', 'x', '})', '$']\n",
      "Decoded tokens: ['$', ' f', '_', '1', ' (', ' x', ' )', ' $']\n",
      "0.8809\n"
     ]
    },
    {
     "name": "stderr",
     "output_type": "stream",
     "text": [
      " 76%|███████▋  | 763/1000 [25:10<05:39,  1.43s/it]"
     ]
    },
    {
     "name": "stdout",
     "output_type": "stream",
     "text": [
      "Decoded tokens: [' \\\\', '[', ' \\\\', 'beta', ' =', ' 0', ' \\\\', ']']\n",
      "Decoded tokens: ['$', ' \\\\', 'beta', '=', '0', ' $']\n",
      "0.7556\n"
     ]
    },
    {
     "name": "stderr",
     "output_type": "stream",
     "text": [
      " 76%|███████▋  | 764/1000 [25:12<05:30,  1.40s/it]"
     ]
    },
    {
     "name": "stdout",
     "output_type": "stream",
     "text": [
      "Decoded tokens: ['$', 'M', '_{', 'z', '}', \"'\", '$']\n",
      "Decoded tokens: ['$', ' M', '_', ' {', ' Z', '^', ' {', ' \\\\', 'prime', ' }', ' }', ' $']\n",
      "0.8049\n"
     ]
    },
    {
     "name": "stderr",
     "output_type": "stream",
     "text": [
      " 76%|███████▋  | 765/1000 [25:15<07:13,  1.85s/it]"
     ]
    },
    {
     "name": "stdout",
     "output_type": "stream",
     "text": [
      "Decoded tokens: ['$', 'a', ' \\\\', 'in', ' \\\\', 'text', '{', 'arg', '}', ' \\\\', ',', ' \\\\', 'min', '_{', '|', 'a', '|', '_', '2', '}', ' \\\\', 'le', 'q', ' c', 'B', ' \\\\', ',', ' c', 'L', '(', 'a', ')', '$']\n",
      "Decoded tokens: ['$', ' a', '^', ' *', ' \\\\', 'in', ' \\\\', 'arg', 'min', '_', ' {', ' \\\\', '|', 'a', ' \\\\', '|', '_', '2', ' \\\\', 'le', 'q', ' \\\\', 'c', 'B', ' }', ' \\\\', 'c', 'L', ' (', ' a', ' )', ' $']\n",
      "0.7911\n"
     ]
    },
    {
     "name": "stderr",
     "output_type": "stream",
     "text": [
      " 77%|███████▋  | 766/1000 [25:16<06:28,  1.66s/it]"
     ]
    },
    {
     "name": "stdout",
     "output_type": "stream",
     "text": [
      "Decoded tokens: ['$', 'd', '_', '2', ' =', ' 20', '$']\n",
      "Decoded tokens: ['$', ' d', '_', '2', ' =', ' 20', ' $']\n",
      "0.9794\n"
     ]
    },
    {
     "name": "stderr",
     "output_type": "stream",
     "text": [
      " 77%|███████▋  | 767/1000 [25:18<06:32,  1.68s/it]"
     ]
    },
    {
     "name": "stdout",
     "output_type": "stream",
     "text": [
      "Decoded tokens: ['$', ' \\\\', 'mu', '_', '1', ',', ' \\\\', 'ld', 'ots', ',', ' \\\\', 'mu', '_', 'n', ' $']\n",
      "Decoded tokens: ['$', ' \\\\', 'mu', '_', '1', ' ,', ' \\\\', 'd', 'ots', ' ,', ' \\\\', 'mu', '_', ' {', ' n', '_', 's', ' }', ' $']\n",
      "0.9274\n"
     ]
    },
    {
     "name": "stderr",
     "output_type": "stream",
     "text": [
      " 77%|███████▋  | 768/1000 [25:19<06:20,  1.64s/it]"
     ]
    },
    {
     "name": "stdout",
     "output_type": "stream",
     "text": [
      "Decoded tokens: ['$', 'a', ' \\\\', 'text', '{', ' raised', ' to', ' the', ' power', ' of', ' }', ' a', '$']\n",
      "Decoded tokens: ['$', ' ^', ' {', ' a', ' }', ' $']\n",
      "0.7714\n"
     ]
    },
    {
     "name": "stderr",
     "output_type": "stream",
     "text": [
      " 77%|███████▋  | 769/1000 [25:21<06:40,  1.73s/it]"
     ]
    },
    {
     "name": "stdout",
     "output_type": "stream",
     "text": [
      "Decoded tokens: ['$', ' \\\\', 'math', 'cal', '{', 'M', '}', '_{', ' \\\\', 'math', 'rm', '{', 'IC', '}}', '$']\n",
      "Decoded tokens: ['$', ' \\\\', 'math', 'bf', ' {', ' M', ' }', ' _', ' \\\\', 'text', ' {', ' IC', ' }', ' $']\n",
      "0.8623\n"
     ]
    },
    {
     "name": "stderr",
     "output_type": "stream",
     "text": [
      " 77%|███████▋  | 770/1000 [25:22<06:16,  1.64s/it]"
     ]
    },
    {
     "name": "stdout",
     "output_type": "stream",
     "text": [
      "Decoded tokens: ['$', ' \\\\', 'math', 'bf', '{', '16', '}', '^{', '16', '}', ' $']\n",
      "Decoded tokens: ['$', ' ^', ' \\\\', 'text', 'rm', ' {', ' \\\\', 'script', 'size', ' 16', ' }', ' $']\n",
      "0.7784\n"
     ]
    },
    {
     "name": "stderr",
     "output_type": "stream",
     "text": [
      " 77%|███████▋  | 771/1000 [25:24<06:36,  1.73s/it]"
     ]
    },
    {
     "name": "stdout",
     "output_type": "stream",
     "text": [
      "Decoded tokens: ['$', ' \\\\', 'math', 'cal', '{', 'R', '}', ' =', ' \\\\', 'math', 'cal', '{', 'R', '}', '_{', '0', '}', '$']\n",
      "Decoded tokens: ['$', ' \\\\', 's', 'R', '=', ' \\\\', 's', 'R', '_', '0', ' $']\n",
      "0.7653\n"
     ]
    },
    {
     "name": "stderr",
     "output_type": "stream",
     "text": [
      " 77%|███████▋  | 772/1000 [25:28<08:35,  2.26s/it]"
     ]
    },
    {
     "name": "stdout",
     "output_type": "stream",
     "text": [
      "Decoded tokens: [' \\\\', '[', '\\n', ' \\\\', '|', ' m', 'v', ' \\\\', 'Ps', 'i', '_', ' \\\\', 'ell', ' \\\\', '|', '_', '2', ' \\\\', 'le', 'q', ' C', ' e', '_{', ' \\\\', 'ell', '}', '^{', '-', ' \\\\', 'nu', ' +', ' 2', '}', '\\n', ' \\\\', ']']\n",
      "Decoded tokens: ['$', ' \\\\', '|', ' \\\\', 'm', 'v', 'Ps', 'i', '_', ' \\\\', 'ell', ' \\\\', '|', '_', '2', ' \\\\', 'le', 'q', ' C', '_', 'e', ' \\\\', 'ell', '^', ' {', ' -', ' (', ' \\\\', 'nu', '+', '2', ' )', ' }', ' $']\n",
      "0.7492\n"
     ]
    },
    {
     "name": "stderr",
     "output_type": "stream",
     "text": [
      " 77%|███████▋  | 773/1000 [25:30<07:56,  2.10s/it]"
     ]
    },
    {
     "name": "stdout",
     "output_type": "stream",
     "text": [
      "Decoded tokens: ['$', ' \\\\', 'math', 'cal', '{', 'P', '}', '_{', 'u', ',', 'v', '}', '$']\n",
      "Decoded tokens: ['$', ' P', '_', ' {', ' u', ' ,', ' v', ' }', ' $']\n",
      "0.7417\n"
     ]
    },
    {
     "name": "stderr",
     "output_type": "stream",
     "text": [
      " 77%|███████▋  | 774/1000 [25:31<07:23,  1.96s/it]"
     ]
    },
    {
     "name": "stdout",
     "output_type": "stream",
     "text": [
      "Decoded tokens: ['$', ' \\\\', 'hat', '{', 'U', '}', '^', '*', '$']\n",
      "Decoded tokens: ['$', ' \\\\', 'hat', ' {', ' U', ' }', ' ^', ' {', ' \\\\', 'star', ' }', ' $']\n",
      "0.9307\n"
     ]
    },
    {
     "name": "stderr",
     "output_type": "stream",
     "text": [
      " 78%|███████▊  | 775/1000 [25:33<07:20,  1.96s/it]"
     ]
    },
    {
     "name": "stdout",
     "output_type": "stream",
     "text": [
      "Decoded tokens: ['$', ' \\\\', 'hat', '{', ' \\\\', 'math', 'bf', '{', 'F', '}}', '_', '2', '$']\n",
      "Decoded tokens: ['$', ' \\\\', 'hat', ' {', ' \\\\', 'math', 'bf', ' {', ' F', ' }', ' }', ' _', '2', ' $']\n",
      "0.9309\n"
     ]
    },
    {
     "name": "stderr",
     "output_type": "stream",
     "text": [
      " 78%|███████▊  | 776/1000 [25:37<09:29,  2.54s/it]"
     ]
    },
    {
     "name": "stdout",
     "output_type": "stream",
     "text": [
      "Decoded tokens: ['$$', 'y', '(', 'Z', ')', ' =', ' \\\\', 'begin', '{', 'b', 'mat', 'rix', '}', ' {}', '_', '2', 'F', '_', '1', ' &', ' \\\\', 'alpha', '_', '1', ' &', ' \\\\', 'alpha', '_', '2', ' \\\\', ' \\\\', ' \\\\', 'beta', '_', '1', ' &', ' Z', ' \\\\', 'end', '{', 'b', 'mat', 'rix', '}', '$$']\n",
      "Decoded tokens: ['$', ' y', ' (', ' Z', ' )', ' =', ' {', ' }', ' _', '2', 'F', '_', '1', ' (', ' \\\\', 'alpha', '_', '1', ' ,', ' \\\\', 'alpha', '_', '2', ' ;', ' \\\\', 'beta', '_', '1', ' ;', ' Z', ' )', ' $']\n",
      "0.7812\n"
     ]
    },
    {
     "name": "stderr",
     "output_type": "stream",
     "text": [
      " 78%|███████▊  | 777/1000 [25:39<08:39,  2.33s/it]"
     ]
    },
    {
     "name": "stdout",
     "output_type": "stream",
     "text": [
      "Decoded tokens: ['$', 'p', ',', ' q', ' \\\\', 'in', ' \\\\', 'math', 'bb', '{', 'N', '}', '_{', '0', '}', '$']\n",
      "Decoded tokens: ['$', ' p', ' ,', ' q', ' \\\\', 'in', ' \\\\', 'math', 'bb', ' {', ' N', ' }', ' _', '0', ' $']\n",
      "0.9499\n"
     ]
    },
    {
     "name": "stderr",
     "output_type": "stream",
     "text": [
      " 78%|███████▊  | 778/1000 [25:40<07:23,  2.00s/it]"
     ]
    },
    {
     "name": "stdout",
     "output_type": "stream",
     "text": [
      "Decoded tokens: ['$', ' \\\\', 'phi', '_{', 'ij', '}', '$']\n",
      "Decoded tokens: ['$', ' \\\\', 'phi', '_', ' {', ' i', 'j', ' }', ' $']\n",
      "0.8524\n"
     ]
    },
    {
     "name": "stderr",
     "output_type": "stream",
     "text": [
      " 78%|███████▊  | 779/1000 [25:42<07:31,  2.04s/it]"
     ]
    },
    {
     "name": "stdout",
     "output_type": "stream",
     "text": [
      "Decoded tokens: ['$', ' \\\\', 'phi', '_', 'i', '^', '0', ' =', ' \\\\', 'phi', '_', 'i', ' $']\n",
      "Decoded tokens: ['$', ' \\\\', 'phi', '_', 'i', '^', ' {', ' (', ' 0', ' )', ' }', ' =', ' \\\\', 'phi', '_', 'i', ' $']\n",
      "0.8704\n"
     ]
    },
    {
     "name": "stderr",
     "output_type": "stream",
     "text": [
      " 78%|███████▊  | 780/1000 [25:44<07:23,  2.01s/it]"
     ]
    },
    {
     "name": "stdout",
     "output_type": "stream",
     "text": [
      "Decoded tokens: ['$', 'i', '=', '1', ',', ' \\\\', 'ld', 'ots', ',', ' n', '_', '1', '$']\n",
      "Decoded tokens: ['$', ' i', ' =', ' 1', ' ,', ' \\\\', 'ld', 'ots', ' ,', ' n', '_', '1', ' $']\n",
      "0.9568\n"
     ]
    },
    {
     "name": "stderr",
     "output_type": "stream",
     "text": [
      " 78%|███████▊  | 781/1000 [25:46<07:17,  2.00s/it]"
     ]
    },
    {
     "name": "stdout",
     "output_type": "stream",
     "text": [
      "Decoded tokens: ['$', 'd', '_{', 'c', '}', ' \\\\', ',', ' \\\\', 'math', 'rm', '{', 'T', 'OV', '}', '$']\n",
      "Decoded tokens: ['$', ' d', '_', ' {', ' \\\\', 'rm', ' c', ' ,', ' {', ' _', ' {', ' TO', 'V', ' }', ' }', ' }', ' $']\n",
      "0.8186\n"
     ]
    },
    {
     "name": "stderr",
     "output_type": "stream",
     "text": [
      " 78%|███████▊  | 782/1000 [25:48<06:30,  1.79s/it]"
     ]
    },
    {
     "name": "stdout",
     "output_type": "stream",
     "text": [
      "Decoded tokens: ['$', '-', '1', '$']\n",
      "Decoded tokens: ['$', ' ^', ' {', ' -', '1', ' }', ' $']\n",
      "0.7651\n"
     ]
    },
    {
     "name": "stderr",
     "output_type": "stream",
     "text": [
      " 78%|███████▊  | 783/1000 [25:49<06:05,  1.68s/it]"
     ]
    },
    {
     "name": "stdout",
     "output_type": "stream",
     "text": [
      "Decoded tokens: ['$', ' \\\\', 'math', 'bf', '{', 'x', '}', ' $']\n",
      "Decoded tokens: ['$', ' _', ' {', ' x', ' }', ' $']\n",
      "0.7928\n"
     ]
    },
    {
     "name": "stderr",
     "output_type": "stream",
     "text": [
      " 78%|███████▊  | 784/1000 [25:51<06:01,  1.67s/it]"
     ]
    },
    {
     "name": "stdout",
     "output_type": "stream",
     "text": [
      "Decoded tokens: ['$', ' \\\\', 'math', 'bb', '{', 'C', '}', ' \\\\', 'math', 'rm', '{', 'P', '}', '^', '3', '$']\n",
      "Decoded tokens: ['$', ' \\\\', 'math', 'bb', ' {', ' CP', ' }', ' ^', '3', ' $']\n",
      "0.8944\n"
     ]
    },
    {
     "name": "stderr",
     "output_type": "stream",
     "text": [
      " 78%|███████▊  | 785/1000 [25:52<05:23,  1.51s/it]"
     ]
    },
    {
     "name": "stdout",
     "output_type": "stream",
     "text": [
      "Decoded tokens: ['$', ' \\\\', 'Gam', 'ma', ' =', ' 0', '$']\n",
      "Decoded tokens: ['$', ' \\\\', 'gam', 'ma', '=', '0', ' $']\n",
      "0.9691\n"
     ]
    },
    {
     "name": "stderr",
     "output_type": "stream",
     "text": [
      " 79%|███████▊  | 786/1000 [25:54<05:45,  1.61s/it]"
     ]
    },
    {
     "name": "stdout",
     "output_type": "stream",
     "text": [
      "Decoded tokens: ['$', 'K', ' \\\\', 'app', 'rox', ' \\\\', 'frac', '{', ' \\\\', 'Delta', ' \\\\', 'ome', 'ga', '_{', ' \\\\', 'text', '{', 'NL', '}}', '}{', ' \\\\', 'd', 'elta', ' \\\\', 'ome', 'ga', '}', '$']\n",
      "Decoded tokens: ['$', ' \\\\', 'math', 'cal', ' {', ' K', ' }', ' \\\\', 's', 'ime', 'q', ' \\\\', 'Delta', ' \\\\', 'ome', 'ga', '_', ' {', ' \\\\', 'rm', ' NL', ' }', ' /', ' \\\\', 'd', 'elta', ' \\\\', 'ome', 'ga', ' $']\n",
      "0.7392\n"
     ]
    },
    {
     "name": "stderr",
     "output_type": "stream",
     "text": [
      " 79%|███████▊  | 787/1000 [25:55<05:44,  1.62s/it]"
     ]
    },
    {
     "name": "stdout",
     "output_type": "stream",
     "text": [
      "Decoded tokens: ['$', ' \\\\', 'eta', '_{', ' \\\\', 'text', '{', 'max', '}}', ' $']\n",
      "Decoded tokens: ['$', ' \\\\', 'eta', '_', ' {', ' \\\\', 'max', ' }', ' $']\n",
      "0.8341\n"
     ]
    },
    {
     "name": "stderr",
     "output_type": "stream",
     "text": [
      " 79%|███████▉  | 788/1000 [25:57<05:57,  1.69s/it]"
     ]
    },
    {
     "name": "stdout",
     "output_type": "stream",
     "text": [
      "Decoded tokens: ['$', ' \\\\', 'math', 'cal', '{', 'M', '}', '_{', ' \\\\', 'text', '{', 'WD', '}}', '$']\n",
      "Decoded tokens: ['$', ' M', '_', ' \\\\', 'text', 'rm', ' {', ' WD', ' }', ' $']\n",
      "0.7561\n"
     ]
    },
    {
     "name": "stderr",
     "output_type": "stream",
     "text": [
      " 79%|███████▉  | 789/1000 [25:59<06:18,  1.79s/it]"
     ]
    },
    {
     "name": "stdout",
     "output_type": "stream",
     "text": [
      "Decoded tokens: ['$', ' L', ' \\\\', 'the', 'ta', '_{', '0', '}', ' $']\n",
      "Decoded tokens: ['$', ' {', ' ^', 'L', ' \\\\', 'the', 'ta', '_', '0', ' }', ' $']\n",
      "0.7651\n"
     ]
    },
    {
     "name": "stderr",
     "output_type": "stream",
     "text": [
      " 79%|███████▉  | 790/1000 [26:00<05:21,  1.53s/it]"
     ]
    },
    {
     "name": "stdout",
     "output_type": "stream",
     "text": [
      "Decoded tokens: ['$', ' \\\\', 'd', 'elta', ' L', '$']\n",
      "Decoded tokens: ['$', ' \\\\', 'd', 'elta', ' L', ' $']\n",
      "0.9931\n"
     ]
    },
    {
     "name": "stderr",
     "output_type": "stream",
     "text": [
      " 79%|███████▉  | 791/1000 [26:02<05:20,  1.54s/it]"
     ]
    },
    {
     "name": "stdout",
     "output_type": "stream",
     "text": [
      "Decoded tokens: ['$', ' 40', '^', ' \\\\', 'circ', ' $']\n",
      "Decoded tokens: ['$', ' 40', '^', ' \\\\', 'circ', ' $']\n",
      "1.0\n"
     ]
    },
    {
     "name": "stderr",
     "output_type": "stream",
     "text": [
      " 79%|███████▉  | 792/1000 [26:03<05:38,  1.63s/it]"
     ]
    },
    {
     "name": "stdout",
     "output_type": "stream",
     "text": [
      "Decoded tokens: ['$', ' \\\\', 'r', 'ho', '(', 'b', '_', 'i', ')', ' $']\n",
      "Decoded tokens: ['$', ' \\\\', 'r', 'ho', ' (', ' b', '_', 'i', ' )', ' $']\n",
      "0.9771\n"
     ]
    },
    {
     "name": "stderr",
     "output_type": "stream",
     "text": [
      " 79%|███████▉  | 793/1000 [26:05<05:18,  1.54s/it]"
     ]
    },
    {
     "name": "stdout",
     "output_type": "stream",
     "text": [
      "Decoded tokens: ['$', 'j', ' \\\\', 'text', '{', ' to', ' the', ' power', ' of', ' th', '}', '$']\n",
      "Decoded tokens: ['$', ' j', '^', ' {', ' th', ' }', ' $']\n",
      "0.8043\n"
     ]
    },
    {
     "name": "stderr",
     "output_type": "stream",
     "text": [
      " 79%|███████▉  | 794/1000 [26:07<06:27,  1.88s/it]"
     ]
    },
    {
     "name": "stdout",
     "output_type": "stream",
     "text": [
      "Decoded tokens: ['$', 'V', ' =', ' \\\\', 'pro', 'd', '_{', 'i', ' \\\\', 'le', 'q', ' \\\\', 'math', 'rm', '{', 'poly', '}', '(', 'n', ')}', ' V', '_', 'i', ' =', ' \\\\', 'math', 'cal', '{', 'O', '}', '(', 'U', ',', ' C', ')', '$']\n",
      "Decoded tokens: ['$', ' V', '=', ' \\\\', 'pro', 'd', ' _', 'i', '^', ' {', ' {', ' \\\\', 'rm', ' poly', ' }', ' (', ' n', ' )', ' }', ' V', '_', 'i', ' =', ' \\\\', 'm', 'O', ' (', ' U', ' ,', ' C', ' )', ' $']\n",
      "0.783\n"
     ]
    },
    {
     "name": "stderr",
     "output_type": "stream",
     "text": [
      " 80%|███████▉  | 795/1000 [26:11<07:37,  2.23s/it]"
     ]
    },
    {
     "name": "stdout",
     "output_type": "stream",
     "text": [
      "Decoded tokens: ['$', ' \\\\', 'left', '.', ' \\\\', 'partial', '_', 'p', ' \\\\', 'right', '|', '_{', 'C', '_', 'p', '}', ' :', ' C', '_', 'p', ' \\\\', 'to', ' C', '_{', 'p', '-', '1', '}', '$']\n",
      "Decoded tokens: ['$', ' \\\\', 'left', ' .', ' \\\\', 'partial', '_', ' {', ' p', ' }', ' :', ' C', '_', ' {', ' p', ' }', ' \\\\', 'right', 'arrow', ' C', '_', ' {', ' p', ' -', ' 1', ' }', ' \\\\', 'right', '.', ' $']\n",
      "0.7995\n"
     ]
    },
    {
     "name": "stderr",
     "output_type": "stream",
     "text": [
      " 80%|███████▉  | 796/1000 [26:12<06:27,  1.90s/it]"
     ]
    },
    {
     "name": "stdout",
     "output_type": "stream",
     "text": [
      "Decoded tokens: ['$', ' \\\\', 's', 'igma', '^', '2', ' $']\n",
      "Decoded tokens: ['$', ' \\\\', 's', 'igma', '^', '2', ' $']\n",
      "1.0\n"
     ]
    },
    {
     "name": "stderr",
     "output_type": "stream",
     "text": [
      " 80%|███████▉  | 797/1000 [26:13<06:16,  1.85s/it]"
     ]
    },
    {
     "name": "stdout",
     "output_type": "stream",
     "text": [
      "Decoded tokens: [' \\\\', '[', '\\n', ' \\\\', 'display', 'style', ' t', '_{', 'k', '+', '1', '}', '\\n', ' \\\\', ']']\n",
      "Decoded tokens: ['$', ' t', '_', ' {', ' k', '+', '1', ' }', ' $']\n",
      "0.7485\n"
     ]
    },
    {
     "name": "stderr",
     "output_type": "stream",
     "text": [
      " 80%|███████▉  | 798/1000 [26:15<05:42,  1.70s/it]"
     ]
    },
    {
     "name": "stdout",
     "output_type": "stream",
     "text": [
      "Decoded tokens: ['$', ' \\\\', 'S', 'igma', '^{', ' \\\\', 'math', 'cal', '{', 'R', '}}', '$']\n",
      "Decoded tokens: ['$', ' \\\\', 'S', 'igma', '^', 'R', ' $']\n",
      "0.9011\n"
     ]
    },
    {
     "name": "stderr",
     "output_type": "stream",
     "text": [
      " 80%|███████▉  | 799/1000 [26:17<06:39,  1.99s/it]"
     ]
    },
    {
     "name": "stdout",
     "output_type": "stream",
     "text": [
      "Decoded tokens: ['$', 'I', '_', 'H', '^', 'i', '(', 'Y', ',', ' \\\\', 'math', 'bb', '{', 'Q', '}', '_{', ' \\\\', 'ell', '})', '$']\n",
      "Decoded tokens: ['$', ' \\\\', 'rm', ' {', ' I', 'H', ' }', ' ^', 'i', ' (', ' Y', ' ,', ' \\\\', 'Q', '_', ' \\\\', 'ell', ' )', ' $']\n",
      "0.753\n"
     ]
    },
    {
     "name": "stderr",
     "output_type": "stream",
     "text": [
      " 80%|████████  | 800/1000 [26:21<07:48,  2.34s/it]"
     ]
    },
    {
     "name": "stdout",
     "output_type": "stream",
     "text": [
      "Decoded tokens: ['$', ' \\\\', '|', ' \\\\', 'cd', 'ot', ' \\\\', '|', '_{', 'L', '}', '(', ' \\\\', 'math', 'bb', '{', 'R', '}', '^', '2', ',', ' \\\\', 'math', 'bb', '{', 'R', '}', '^', '2', ')', ' $']\n",
      "Decoded tokens: ['$', ' \\\\', '|', ' \\\\', 'cd', 'ot', ' \\\\', '|', '_', ' {', ' \\\\', 'math', 'cal', ' {', ' L', ' }', ' (', ' \\\\', 'math', 'bb', ' {', ' R', ' }', ' ^', '2', ' ,', ' \\\\', 'math', 'bb', ' {', ' R', ' }', ' ^', '2', ' )', ' }', ' $']\n",
      "0.8064\n"
     ]
    },
    {
     "name": "stderr",
     "output_type": "stream",
     "text": [
      " 80%|████████  | 801/1000 [26:22<07:22,  2.22s/it]"
     ]
    },
    {
     "name": "stdout",
     "output_type": "stream",
     "text": [
      "Decoded tokens: ['$', ' \\\\', 'gam', 'ma', ' \\\\', 'in', ' \\\\', 'math', 'bb', '{', 'C', '}', '^', ' \\\\', 'in', 'fty', ' (', 'B', '_{', '1', '/', '2', '})', '$']\n",
      "Decoded tokens: ['$', ' \\\\', 'Gam', 'ma', ' \\\\', 'in', ' C', '^', ' {', ' \\\\', 'in', 'fty', ' }', ' (', ' B', '_', ' {', ' 1', '/', '2', ' }', ' )', ' $']\n",
      "0.8118\n"
     ]
    },
    {
     "name": "stderr",
     "output_type": "stream",
     "text": [
      " 80%|████████  | 802/1000 [26:24<06:14,  1.89s/it]"
     ]
    },
    {
     "name": "stdout",
     "output_type": "stream",
     "text": [
      "Decoded tokens: ['$', 'd', ' \\\\', 'ge', 'q', ' 2', '$']\n",
      "Decoded tokens: ['$', ' d', ' \\\\', 'ge', 'q', ' 2', ' $']\n",
      "0.9794\n"
     ]
    },
    {
     "name": "stderr",
     "output_type": "stream",
     "text": [
      " 80%|████████  | 803/1000 [26:26<06:15,  1.91s/it]"
     ]
    },
    {
     "name": "stdout",
     "output_type": "stream",
     "text": [
      "Decoded tokens: ['$', 'd', ' \\\\', 'O', 'mega', '(', 'x', ')', ' =', ' \\\\', 'oper', 'at', 'orn', 'ame', '{', 'dist', '}', '(', 'x', ',', ' \\\\', 'exp', ')', '$']\n",
      "Decoded tokens: ['$', ' d', '_', ' \\\\', 'O', 'mega', ' (', ' x', ' )', ' =', ' \\\\', 'math', 'op', ' \\\\', 'math', 'rm', ' \\\\', ' {', ' dist', ' (', ' x', ' ,', ' \\\\', 'p', 'om', ' )', ' $']\n",
      "0.7608\n"
     ]
    },
    {
     "name": "stderr",
     "output_type": "stream",
     "text": [
      " 80%|████████  | 804/1000 [26:27<05:40,  1.74s/it]"
     ]
    },
    {
     "name": "stdout",
     "output_type": "stream",
     "text": [
      "Decoded tokens: ['$', ' \\\\', 'gam', 'ma', ' \\\\', 'in', ' \\\\', 'Gam', 'ma', ' $']\n",
      "Decoded tokens: ['$', ' \\\\', 'gam', 'ma', ' \\\\', 'in', ' \\\\', 'Gam', 'ma', ' $']\n",
      "1.0\n"
     ]
    },
    {
     "name": "stderr",
     "output_type": "stream",
     "text": [
      " 80%|████████  | 805/1000 [26:28<05:08,  1.58s/it]"
     ]
    },
    {
     "name": "stdout",
     "output_type": "stream",
     "text": [
      "Decoded tokens: ['$', '0', '.', '1', '^', ' \\\\', 'circ', '$']\n",
      "Decoded tokens: ['$', ' 0', '.', '1', '^', ' \\\\', 'circ', ' $']\n",
      "0.9874\n"
     ]
    },
    {
     "name": "stderr",
     "output_type": "stream",
     "text": [
      " 81%|████████  | 806/1000 [26:30<05:03,  1.57s/it]"
     ]
    },
    {
     "name": "stdout",
     "output_type": "stream",
     "text": [
      "Decoded tokens: [' \\\\(', ' \\\\', 'display', 'style', ' \\\\', 'ep', 'sil', 'on', ' \\\\', ')']\n",
      "Decoded tokens: ['$', ' \\\\', 'ep', 'sil', 'on', ' $']\n",
      "0.7611\n"
     ]
    },
    {
     "name": "stderr",
     "output_type": "stream",
     "text": [
      " 81%|████████  | 807/1000 [26:31<04:49,  1.50s/it]"
     ]
    },
    {
     "name": "stdout",
     "output_type": "stream",
     "text": [
      "Decoded tokens: ['$', ' \\\\', 'display', 'style', ' \\\\', 'alpha', '_', 'i', '$']\n",
      "Decoded tokens: ['$', ' \\\\', 'alpha', '_', 'i', ' $']\n",
      "0.8066\n"
     ]
    },
    {
     "name": "stderr",
     "output_type": "stream",
     "text": [
      " 81%|████████  | 808/1000 [26:32<04:43,  1.48s/it]"
     ]
    },
    {
     "name": "stdout",
     "output_type": "stream",
     "text": [
      "Decoded tokens: ['$', 'r', '^', '2', ' \\\\', 'r', 'ho', '(', 'r', ')', '$']\n",
      "Decoded tokens: ['$', ' r', '^', '2', ' \\\\', 'r', 'ho', ' (', ' r', ' )', ' $']\n",
      "0.9618\n"
     ]
    },
    {
     "name": "stderr",
     "output_type": "stream",
     "text": [
      " 81%|████████  | 809/1000 [26:35<05:51,  1.84s/it]"
     ]
    },
    {
     "name": "stdout",
     "output_type": "stream",
     "text": [
      "Decoded tokens: ['$', '72', '.', '97', ' \\\\', ',', ' \\\\', 'text', '{', 'GHz', '/', 'm', '}', '^', '3', '$']\n",
      "Decoded tokens: ['$', ' 72', '.', '97', ' \\\\', ' ,', ' \\\\', 'math', 'rm', ' {', ' Hz', ' }', ' \\\\', ' ,', ' \\\\', 'mu', ' \\\\', 'math', 'rm', ' {', ' m', ' }', ' ^', '3', ' $']\n",
      "0.8351\n"
     ]
    },
    {
     "name": "stderr",
     "output_type": "stream",
     "text": [
      " 81%|████████  | 810/1000 [26:37<05:25,  1.71s/it]"
     ]
    },
    {
     "name": "stdout",
     "output_type": "stream",
     "text": [
      "Decoded tokens: ['$', ' \\\\', 'math', 'rm', '{', 'Ni', '}', '_{', 'ab', '}', '$']\n",
      "Decoded tokens: ['$', ' \\\\', 'SN', 'i', '_', ' {', ' ab', ' }', ' $']\n",
      "0.7631\n"
     ]
    },
    {
     "name": "stderr",
     "output_type": "stream",
     "text": [
      " 81%|████████  | 811/1000 [26:38<05:08,  1.63s/it]"
     ]
    },
    {
     "name": "stdout",
     "output_type": "stream",
     "text": [
      "Decoded tokens: ['$', ' \\\\', 'frac', '{', '1', '}{', '2', '}', '$']\n",
      "Decoded tokens: ['$', ' \\\\', 'frac', '12', ' $']\n",
      "0.9011\n"
     ]
    },
    {
     "name": "stderr",
     "output_type": "stream",
     "text": [
      " 81%|████████  | 812/1000 [26:39<04:55,  1.57s/it]"
     ]
    },
    {
     "name": "stdout",
     "output_type": "stream",
     "text": [
      "Decoded tokens: ['$', 'E', '_', 'G', '^{', 'G', '}', '(', 'T', ')', '$']\n",
      "Decoded tokens: ['$', ' E', '_', 'G', '^', ' {', ' \\\\', 'Ge', 'o', ' (', ' T', ' )', ' }', ' $']\n",
      "0.8514\n"
     ]
    },
    {
     "name": "stderr",
     "output_type": "stream",
     "text": [
      " 81%|████████▏ | 813/1000 [26:41<04:28,  1.44s/it]"
     ]
    },
    {
     "name": "stdout",
     "output_type": "stream",
     "text": [
      "Decoded tokens: [' \\\\(', ' \\\\', 'display', 'style', ' \\\\', 'beta', '_{', 'i', '}', ' \\\\', ')']\n",
      "Decoded tokens: ['$', ' \\\\', 'beta', '_', 'i', ' $']\n",
      "0.7734\n"
     ]
    },
    {
     "name": "stderr",
     "output_type": "stream",
     "text": [
      " 81%|████████▏ | 814/1000 [26:42<04:16,  1.38s/it]"
     ]
    },
    {
     "name": "stdout",
     "output_type": "stream",
     "text": [
      "Decoded tokens: ['$', ' \\\\', 'pi', '^', 'i', ' $']\n",
      "Decoded tokens: ['$', ' \\\\', 'Pi', '^', ' {', ' (', ' i', ' )', ' }', ' $']\n",
      "0.8882\n"
     ]
    },
    {
     "name": "stderr",
     "output_type": "stream",
     "text": [
      " 82%|████████▏ | 815/1000 [26:43<03:59,  1.30s/it]"
     ]
    },
    {
     "name": "stdout",
     "output_type": "stream",
     "text": [
      "Decoded tokens: ['$', 'p', ' \\\\', 'ge', 'q', ' 5', '$']\n",
      "Decoded tokens: ['$', ' p', ' \\\\', 'ge', 'q', ' 5', ' $']\n",
      "0.9846\n"
     ]
    },
    {
     "name": "stderr",
     "output_type": "stream",
     "text": [
      " 82%|████████▏ | 816/1000 [26:44<04:06,  1.34s/it]"
     ]
    },
    {
     "name": "stdout",
     "output_type": "stream",
     "text": [
      "Decoded tokens: ['$', ' \\\\', 'bold', 'sy', 'mbol', '{', ' \\\\', 'The', 'ta', '}', '^', '*', ' $']\n",
      "Decoded tokens: ['$', ' \\\\', 'the', 'ta', '^', ' *', ' $']\n",
      "0.8138\n"
     ]
    },
    {
     "name": "stderr",
     "output_type": "stream",
     "text": [
      " 82%|████████▏ | 817/1000 [26:46<04:22,  1.43s/it]"
     ]
    },
    {
     "name": "stdout",
     "output_type": "stream",
     "text": [
      "Decoded tokens: ['$', 'M', '_{', ' \\\\', 's', 'igma', '}', '^{', 'i', ',', 'j', '}', '$']\n",
      "Decoded tokens: ['$', ' \\\\', 'bold', 'M', '_', ' \\\\', 's', 'igma', '^', ' {', ' (', ' i', ' ,', ' j', ' )', ' }', ' $']\n",
      "0.7427\n"
     ]
    },
    {
     "name": "stderr",
     "output_type": "stream",
     "text": [
      " 82%|████████▏ | 818/1000 [26:48<04:31,  1.49s/it]"
     ]
    },
    {
     "name": "stdout",
     "output_type": "stream",
     "text": [
      "Decoded tokens: ['$', 'i', '_', 'l', ' :=', ' \\\\', 'min', '(', 'I', '_', 'l', ')', '$']\n",
      "Decoded tokens: ['$', ' i', '_', 'l', ' \\\\', 'col', 'one', 'qq', ' \\\\', 'min', ' I', '_', 'l', ' $']\n",
      "0.8054\n"
     ]
    },
    {
     "name": "stderr",
     "output_type": "stream",
     "text": [
      " 82%|████████▏ | 819/1000 [26:49<04:31,  1.50s/it]"
     ]
    },
    {
     "name": "stdout",
     "output_type": "stream",
     "text": [
      "Decoded tokens: ['$', ' \\\\', 'ep', 'sil', 'on', ' >', ' 0', ' $']\n",
      "Decoded tokens: ['$', ' \\\\', 'ep', 'sil', 'on', ' >', ' 0', ' $']\n",
      "1.0\n"
     ]
    },
    {
     "name": "stderr",
     "output_type": "stream",
     "text": [
      " 82%|████████▏ | 820/1000 [26:50<04:21,  1.45s/it]"
     ]
    },
    {
     "name": "stdout",
     "output_type": "stream",
     "text": [
      "Decoded tokens: ['$', '0', '.', '683', ' \\\\', 'pm', ' 0', '.', '003', '$']\n",
      "Decoded tokens: ['$', ' 0', '.', '683', '^', ' {', ' \\\\', 'pm', ' .', '003', ' }', ' $']\n",
      "0.835\n"
     ]
    },
    {
     "name": "stderr",
     "output_type": "stream",
     "text": [
      " 82%|████████▏ | 821/1000 [26:54<06:15,  2.10s/it]"
     ]
    },
    {
     "name": "stdout",
     "output_type": "stream",
     "text": [
      "Decoded tokens: [' \\\\', '[', '\\n', ' \\\\', 'math', 'bf', '{', 'x', '}', ' =', ' (', 'x', '_', '1', ',', ' x', '_', '2', ',', ' \\\\', 'ld', 'ots', ',', ' x', '_', 'D', ')', '^{', 'T', '}', '\\n', ' \\\\', ']']\n",
      "Decoded tokens: ['$', ' \\\\', 'math', 'bf', ' {', ' x', ' }', ' =', ' (', ' x', '_', '1', ' ,', ' x', '_', '2', ' ,', ' ...', ' ,', ' x', '_', 'D', ' )', ' ^', 'T', ' $']\n",
      "0.7591\n"
     ]
    },
    {
     "name": "stderr",
     "output_type": "stream",
     "text": [
      " 82%|████████▏ | 822/1000 [26:57<06:48,  2.29s/it]"
     ]
    },
    {
     "name": "stdout",
     "output_type": "stream",
     "text": [
      "Decoded tokens: [' \\\\', '[', '\\n', ' \\\\', 'frac', '{', '1', '}{', 'p', '}', ' +', ' \\\\', 'frac', '{', '1', '}{', 'q', '}', ' \\\\', 'le', 'q', ' 1', '\\n', ' \\\\', ']']\n",
      "Decoded tokens: ['$', ' \\\\', 'frac', ' {', ' 1', ' }', ' {', ' p', ' }', ' +', ' \\\\', 'frac', ' {', ' 1', ' }', ' {', ' q', ' }', ' \\\\', 'le', ' 1', ' $']\n",
      "0.7741\n"
     ]
    },
    {
     "name": "stderr",
     "output_type": "stream",
     "text": [
      " 82%|████████▏ | 823/1000 [26:59<06:33,  2.22s/it]"
     ]
    },
    {
     "name": "stdout",
     "output_type": "stream",
     "text": [
      "Decoded tokens: ['$', 'B', '_', '1', ' B', '_', '2', ' \\\\', 'to', ' B', '_', '3', ' B', '_', '4', '$']\n",
      "Decoded tokens: ['$', ' B', '_', '1', 'B', '_', '2', ' \\\\', 'to', ' B', '_', '3', 'B', '_', '4', ' $']\n",
      "0.9914\n"
     ]
    },
    {
     "name": "stderr",
     "output_type": "stream",
     "text": [
      " 82%|████████▏ | 824/1000 [27:01<06:29,  2.21s/it]"
     ]
    },
    {
     "name": "stdout",
     "output_type": "stream",
     "text": [
      "Decoded tokens: ['$', 'S', '_{', 'F', '_', 'k', '}', ' \\\\', 'to', ' S', '_{', 'F', '_', 'k', '}', '$']\n",
      "Decoded tokens: ['$', ' S', '_', ' {', ' F', '_', 'k', ' }', ' \\\\', 'right', 'arrow', ' S', '_', ' {', ' F', '_', 'k', ' }', ' $']\n",
      "0.787\n"
     ]
    },
    {
     "name": "stderr",
     "output_type": "stream",
     "text": [
      " 82%|████████▎ | 825/1000 [27:03<06:10,  2.12s/it]"
     ]
    },
    {
     "name": "stdout",
     "output_type": "stream",
     "text": [
      "Decoded tokens: ['$', ' \\\\', 'bold', 'sy', 'mbol', '{', ' \\\\', 'The', 'ta', '}', '_{', 'k', '}', '$']\n",
      "Decoded tokens: ['$', ' \\\\', 'the', 'ta', '_', ' {', ' k', ' }', ' $']\n",
      "0.8073\n"
     ]
    },
    {
     "name": "stderr",
     "output_type": "stream",
     "text": [
      " 83%|████████▎ | 826/1000 [27:04<05:27,  1.88s/it]"
     ]
    },
    {
     "name": "stdout",
     "output_type": "stream",
     "text": [
      "Decoded tokens: ['$', 'G', '_{', 'bb', '},', ' b', '$']\n",
      "Decoded tokens: ['$', ' \\\\', 'math', 'rm', ' {', ' G', ' }', ' _', ' {', ' b', 'b', ' ,', ' b', 'b', ' }', ' $']\n",
      "0.7909\n"
     ]
    },
    {
     "name": "stderr",
     "output_type": "stream",
     "text": [
      " 83%|████████▎ | 827/1000 [27:06<05:23,  1.87s/it]"
     ]
    },
    {
     "name": "stdout",
     "output_type": "stream",
     "text": [
      "Decoded tokens: ['$', 'm', ' =', ' \\\\', 'lf', 'l', 'oor', ' \\\\', 'log', '_', '2', ' n', ' \\\\', 'r', 'floor', ' -', ' 1', '$']\n",
      "Decoded tokens: ['$', ' m', '=', ' \\\\', 'lf', 'l', 'oor', ' \\\\', 'log', '_', '2', 'n', ' \\\\', 'r', 'floor', '-', '1', ' $']\n",
      "0.9734\n"
     ]
    },
    {
     "name": "stderr",
     "output_type": "stream",
     "text": [
      " 83%|████████▎ | 828/1000 [27:07<04:49,  1.68s/it]"
     ]
    },
    {
     "name": "stdout",
     "output_type": "stream",
     "text": [
      "Decoded tokens: ['$', ' \\\\', 'math', 'sf', '{', 'DOS', '}', '$']\n",
      "Decoded tokens: ['$', ' \\\\', 'text', ' {', ' DOS', ' }', ' (', ' \\\\', 'up', 'arrow', ' )', ' [', ' \\\\', 'gam', 'ma', '_', ' {', ' A', ' }', ' ]', ' (', ' 0', ' )', ' =', '1', '.', ' $']\n",
      "0.7742\n"
     ]
    },
    {
     "name": "stderr",
     "output_type": "stream",
     "text": [
      " 83%|████████▎ | 829/1000 [27:09<04:48,  1.69s/it]"
     ]
    },
    {
     "name": "stdout",
     "output_type": "stream",
     "text": [
      "Decoded tokens: [' \\\\(', '(', 'C', ',', ' 2', 'K', '_', 'C', ')', ' \\\\', ')']\n",
      "Decoded tokens: ['$', ' (', ' C', ',', '2', 'K', '_', 'C', ' )', ' $']\n",
      "0.9413\n"
     ]
    },
    {
     "name": "stderr",
     "output_type": "stream",
     "text": [
      " 83%|████████▎ | 830/1000 [27:10<04:19,  1.53s/it]"
     ]
    },
    {
     "name": "stdout",
     "output_type": "stream",
     "text": [
      "Decoded tokens: ['$', 'a', ' \\\\', 'times', ' m', '$']\n",
      "Decoded tokens: ['$', ' a', ' \\\\', 'cd', 'ot', ' m', ' $']\n",
      "0.8373\n"
     ]
    },
    {
     "name": "stderr",
     "output_type": "stream",
     "text": [
      " 83%|████████▎ | 831/1000 [27:12<04:13,  1.50s/it]"
     ]
    },
    {
     "name": "stdout",
     "output_type": "stream",
     "text": [
      "Decoded tokens: ['$', ' \\\\', 'math', 'bf', '{', 'H', '}', '_{', 'k', '}', '$']\n",
      "Decoded tokens: ['$', ' \\\\', 'math', 'cal', ' {', ' H', ' }', ' _', ' {', ' k', ' }', ' $']\n",
      "0.8733\n"
     ]
    },
    {
     "name": "stderr",
     "output_type": "stream",
     "text": [
      " 83%|████████▎ | 832/1000 [27:13<04:29,  1.60s/it]"
     ]
    },
    {
     "name": "stdout",
     "output_type": "stream",
     "text": [
      "Decoded tokens: ['$', 'N', '_', 'H', ' \\\\', 'ge', 'q', ' 1', '.', '6', ' A', '(', 'V', ')', '$']\n",
      "Decoded tokens: ['$', ' N', '_', 'H', ' \\\\', 'g', 'tr', 'sim', ' 1', '.', '6', ' A', ' (', ' V', ' )', ' $']\n",
      "0.8402\n"
     ]
    },
    {
     "name": "stderr",
     "output_type": "stream",
     "text": [
      " 83%|████████▎ | 833/1000 [27:15<04:19,  1.55s/it]"
     ]
    },
    {
     "name": "stdout",
     "output_type": "stream",
     "text": [
      "Decoded tokens: ['$', 't', '_', 'j', ' \\\\', 'in', ' T', '$']\n",
      "Decoded tokens: ['$', ' t', '_', 'j', ' \\\\', 'in', ' T', ' $']\n",
      "0.9792\n"
     ]
    },
    {
     "name": "stderr",
     "output_type": "stream",
     "text": [
      " 83%|████████▎ | 834/1000 [27:16<03:59,  1.44s/it]"
     ]
    },
    {
     "name": "stdout",
     "output_type": "stream",
     "text": [
      "Decoded tokens: ['$', '2', '$']\n",
      "Decoded tokens: ['$', ' ^', ' {', ' 2', ' }', ' $']\n",
      "0.8101\n"
     ]
    },
    {
     "name": "stderr",
     "output_type": "stream",
     "text": [
      " 84%|████████▎ | 835/1000 [27:18<04:25,  1.61s/it]"
     ]
    },
    {
     "name": "stdout",
     "output_type": "stream",
     "text": [
      "Decoded tokens: ['$', 'u', '_{', ' \\\\', 'beta', '}', ' \\\\', 'xi', '^{', ' \\\\', 'beta', '}', ' =', ' 0', '$']\n",
      "Decoded tokens: ['$', ' \\\\', ' u', '_', ' \\\\', 'beta', ' \\\\', 'xi', '^', ' \\\\', 'beta', ' =', ' 0', ' $']\n",
      "0.8497\n"
     ]
    },
    {
     "name": "stderr",
     "output_type": "stream",
     "text": [
      " 84%|████████▎ | 836/1000 [27:21<05:13,  1.91s/it]"
     ]
    },
    {
     "name": "stdout",
     "output_type": "stream",
     "text": [
      "Decoded tokens: [' \\\\(', ' T', '_', 'i', ' =', ' \\\\', '{', ' T', '_', '1', ',', ' \\\\', 'ld', 'ots', ',', ' T', '_', 'm', ' \\\\', '}', ' \\\\', ')']\n",
      "Decoded tokens: ['$', ' $', ' \\\\', 'Ti', '=', ' \\\\', ' {', ' T', '_', '1', ' ,', ' \\\\', 'ld', 'ots', ' ,', ' T', '_', 'm', ' \\\\', ' }', ' ,', ' $', ' $']\n",
      "0.9172\n"
     ]
    },
    {
     "name": "stderr",
     "output_type": "stream",
     "text": [
      " 84%|████████▎ | 837/1000 [27:22<04:54,  1.81s/it]"
     ]
    },
    {
     "name": "stdout",
     "output_type": "stream",
     "text": [
      "Decoded tokens: ['$', ' \\\\', 'math', 'sc', 'r', '{', 'M', '}', '_{', '0', '}', '$']\n",
      "Decoded tokens: ['$', ' M', '_', ' {', ' 0', ' }', ' $']\n",
      "0.7543\n"
     ]
    },
    {
     "name": "stderr",
     "output_type": "stream",
     "text": [
      " 84%|████████▍ | 838/1000 [27:25<05:14,  1.94s/it]"
     ]
    },
    {
     "name": "stdout",
     "output_type": "stream",
     "text": [
      "Decoded tokens: ['$', 'F', '_{', 'xy', '}', ' \\\\', 'cup', ' F', '_{', 'yx', '}', '$']\n",
      "Decoded tokens: ['$', ' F', '_', ' {', ' x', 'y', ' }', ' \\\\', 'cup', ' F', '_', ' {', ' y', 'x', ' }', ' $']\n",
      "0.7473\n"
     ]
    },
    {
     "name": "stderr",
     "output_type": "stream",
     "text": [
      " 84%|████████▍ | 839/1000 [27:26<04:33,  1.70s/it]"
     ]
    },
    {
     "name": "stdout",
     "output_type": "stream",
     "text": [
      "Decoded tokens: ['$', ' \\\\', 'Gam', 'ma', ' 5', ' $']\n",
      "Decoded tokens: ['$', ' \\\\', 'gam', 'ma', '_', '5', ' $']\n",
      "0.9161\n"
     ]
    },
    {
     "name": "stderr",
     "output_type": "stream",
     "text": [
      " 84%|████████▍ | 840/1000 [27:28<04:54,  1.84s/it]"
     ]
    },
    {
     "name": "stdout",
     "output_type": "stream",
     "text": [
      "Decoded tokens: [' \\\\', 'eq', 'ref', '{', 'eq', ':', '0', 'b', '_', 'in', '_', 'in', '_', '0', '}']\n",
      "Decoded tokens: ['$', ' \\\\', 'left', ' (', ' 0', ' ,', ' b', '_', ' {', ' \\\\', 'in', 'fty', ' }', ' \\\\', 'right', ' )', ' $']\n",
      "0.7398\n"
     ]
    },
    {
     "name": "stderr",
     "output_type": "stream",
     "text": [
      " 84%|████████▍ | 841/1000 [27:29<04:22,  1.65s/it]"
     ]
    },
    {
     "name": "stdout",
     "output_type": "stream",
     "text": [
      "Decoded tokens: ['$', ' \\\\', 'The', 'ta', '(', '1', ')', '$']\n",
      "Decoded tokens: ['$', ' \\\\', 'the', 'ta', '^', ' {', ' (', ' 1', ' )', ' }', ' $']\n",
      "0.8741\n"
     ]
    },
    {
     "name": "stderr",
     "output_type": "stream",
     "text": [
      " 84%|████████▍ | 842/1000 [27:31<04:10,  1.59s/it]"
     ]
    },
    {
     "name": "stdout",
     "output_type": "stream",
     "text": [
      "Decoded tokens: ['$', ' \\\\', 'Delta', '_{', ' \\\\', 'text', '{', 'pre', '}}', '^', 'O', ' $']\n",
      "Decoded tokens: ['$', ' \\\\', 'bb', 'Delta', '^', ' {', ' \\\\', 'math', 'rm', ' {', ' pre', ' }', ' }', ' _', ' {', ' \\\\', 'cat', ' {', ' O', ' }', ' }', ' $']\n",
      "0.7889\n"
     ]
    },
    {
     "name": "stderr",
     "output_type": "stream",
     "text": [
      " 84%|████████▍ | 843/1000 [27:32<03:52,  1.48s/it]"
     ]
    },
    {
     "name": "stdout",
     "output_type": "stream",
     "text": [
      "Decoded tokens: ['$', ' \\\\', 'r', 'ho', ',', ' \\\\', 'lambda', ' $']\n",
      "Decoded tokens: ['$', ' \\\\', 'under', 'line', ' {', ' \\\\', 'lambda', ' }', ' $']\n",
      "0.851\n"
     ]
    },
    {
     "name": "stderr",
     "output_type": "stream",
     "text": [
      " 84%|████████▍ | 844/1000 [27:33<03:53,  1.50s/it]"
     ]
    },
    {
     "name": "stdout",
     "output_type": "stream",
     "text": [
      "Decoded tokens: ['$', 'V', '(', ' \\\\', 'v', 'arp', 'i', '_', 'm', ')', '$']\n",
      "Decoded tokens: ['$', ' V', ' (', ' \\\\', 'v', 'arp', 'i', '_', 'm', ' )', ' $']\n",
      "0.9795\n"
     ]
    },
    {
     "name": "stderr",
     "output_type": "stream",
     "text": [
      " 84%|████████▍ | 845/1000 [27:35<03:53,  1.51s/it]"
     ]
    },
    {
     "name": "stdout",
     "output_type": "stream",
     "text": [
      "Decoded tokens: ['$', 'y', '_{', 'k', ',', 's', '}', '^{', '(', 'n', ')}', '$']\n",
      "Decoded tokens: ['$', ' y', '_', ' {', ' k', ' ,', ' s', ' }', ' ^', ' {', ' (', ' n', ' )', ' }', ' $']\n",
      "0.7456\n"
     ]
    },
    {
     "name": "stderr",
     "output_type": "stream",
     "text": [
      " 85%|████████▍ | 846/1000 [27:38<05:17,  2.06s/it]"
     ]
    },
    {
     "name": "stdout",
     "output_type": "stream",
     "text": [
      "Decoded tokens: [' \\\\(', ' \\\\', 'z', 'eta', '^', '*', '_{', 'i', '}', ' \\\\', 'quad', ' i', ' \\\\', 'ge', 'q', ' 1', ' \\\\', ')']\n",
      "Decoded tokens: ['$', ' \\\\', ' {', ' \\\\', 'z', 'eta', '^', ' {', ' \\\\', 'star', ' }', ' _', ' {', ' i', ' }', ' \\\\', ' }', ' _', ' {', ' i', ' \\\\', 'ge', 'q', ' 1', ' }', ' $']\n",
      "0.758\n"
     ]
    },
    {
     "name": "stderr",
     "output_type": "stream",
     "text": [
      " 85%|████████▍ | 847/1000 [27:39<04:42,  1.84s/it]"
     ]
    },
    {
     "name": "stdout",
     "output_type": "stream",
     "text": [
      "Decoded tokens: ['$', ' \\\\', 'Ps', 'i', '_', 'S', ' $']\n",
      "Decoded tokens: ['$', ' \\\\', 'Ps', 'i', '_', ' \\\\', ' {', ' \\\\', 'sf', ' \\\\', ' S', ' $']\n",
      "0.9281\n"
     ]
    },
    {
     "name": "stderr",
     "output_type": "stream",
     "text": [
      " 85%|████████▍ | 848/1000 [27:41<04:15,  1.68s/it]"
     ]
    },
    {
     "name": "stdout",
     "output_type": "stream",
     "text": [
      "Decoded tokens: ['$', 'M', '_{', 'tu', '}', ' =', ' 0', '.', '367', '$']\n",
      "Decoded tokens: ['$', ' M', '_', ' {', ' \\\\', 'tu', ' }', ' =', '0', '.', '367', ' $']\n",
      "0.796\n"
     ]
    },
    {
     "name": "stderr",
     "output_type": "stream",
     "text": [
      " 85%|████████▍ | 849/1000 [27:42<04:09,  1.65s/it]"
     ]
    },
    {
     "name": "stdout",
     "output_type": "stream",
     "text": [
      "Decoded tokens: ['$', ' \\\\', 'the', 'ta', ' =', ' \\\\', 's', 'igma', '$']\n",
      "Decoded tokens: ['$', ' \\\\', 'the', 'ta', '=', ' \\\\', 's', 'igma', ' $']\n",
      "0.9896\n"
     ]
    },
    {
     "name": "stderr",
     "output_type": "stream",
     "text": [
      " 85%|████████▌ | 850/1000 [27:46<05:58,  2.39s/it]"
     ]
    },
    {
     "name": "stdout",
     "output_type": "stream",
     "text": [
      "Decoded tokens: ['$$', 'M', ' =', ' \\\\', 'pro', 'd', '_{', 'j', '=', '1', '}', '^', 'N', ' Y', '_{', 'i', '_', 'j', '},', ' \\\\', 'quad', ' p', '_', 'j', ' \\\\', 'in', ' \\\\', 'hat', '{', ' \\\\', 'math', 'cal', '{', 'P', '}}', '_', ' \\\\', 'ell', '$$']\n",
      "Decoded tokens: ['$', ' M', '=', ' \\\\', 'pro', 'd', '_', ' {', ' j', '=', '1', ' }', ' ^', 'N', ' Y', '_', ' {', ' i', '_', 'j', ' ,', ' p', '_', 'j', ' }', ' \\\\', 'in', ' \\\\', 'hat', ' {', ' P', ' }', ' _', ' \\\\', 'ell', ' $']\n",
      "0.7898\n"
     ]
    },
    {
     "name": "stderr",
     "output_type": "stream",
     "text": [
      " 85%|████████▌ | 851/1000 [27:48<05:21,  2.16s/it]"
     ]
    },
    {
     "name": "stdout",
     "output_type": "stream",
     "text": [
      "Decoded tokens: ['$', ' \\\\', 'math', 'cal', '{', 'Q', '}', '(', ' \\\\', 'cd', 'ot', ')', '$']\n",
      "Decoded tokens: ['$', ' Q', ' (', ' \\\\', 'cd', 'ot', ' )', ' $']\n",
      "0.7233\n"
     ]
    },
    {
     "name": "stderr",
     "output_type": "stream",
     "text": [
      " 85%|████████▌ | 852/1000 [27:50<04:52,  1.97s/it]"
     ]
    },
    {
     "name": "stdout",
     "output_type": "stream",
     "text": [
      "Decoded tokens: ['$', 'K', '^{', '-', '1', '}', ' \\\\', 'cd', 'ot', ' p', '$']\n",
      "Decoded tokens: ['$', ' K', '^', ' {', ' -', ' }', ' p', ' $']\n",
      "0.8425\n"
     ]
    },
    {
     "name": "stderr",
     "output_type": "stream",
     "text": [
      " 85%|████████▌ | 853/1000 [27:51<04:39,  1.90s/it]"
     ]
    },
    {
     "name": "stdout",
     "output_type": "stream",
     "text": [
      "Decoded tokens: ['$', ' \\\\', 'hat', '{', ' \\\\', 'alpha', '}', ' \\\\', 'in', ' [', '0', ',', ' 1', ')', '$']\n",
      "Decoded tokens: ['$', ' \\\\', 'hat', ' {', ' \\\\', 'alpha', ' }', ' \\\\', 'in', ' [', ' 0', ' ,', ' 1', ' )', ' $']\n",
      "0.9724\n"
     ]
    },
    {
     "name": "stderr",
     "output_type": "stream",
     "text": [
      " 85%|████████▌ | 854/1000 [27:53<04:12,  1.73s/it]"
     ]
    },
    {
     "name": "stdout",
     "output_type": "stream",
     "text": [
      "Decoded tokens: ['$', ' \\\\', 'math', 'bf', '{', ' \\\\', 'L', 'amb', 'da', '}', '$']\n",
      "Decoded tokens: ['$', ' \\\\', 'lambda', ' $']\n",
      "0.8668\n"
     ]
    },
    {
     "name": "stderr",
     "output_type": "stream",
     "text": [
      " 86%|████████▌ | 855/1000 [27:54<03:53,  1.61s/it]"
     ]
    },
    {
     "name": "stdout",
     "output_type": "stream",
     "text": [
      "Decoded tokens: ['$', '2', '^', '2', '$']\n",
      "Decoded tokens: ['$', ' ^', ' {', ' 2', ' }', ' $']\n",
      "0.8295\n"
     ]
    },
    {
     "name": "stderr",
     "output_type": "stream",
     "text": [
      " 86%|████████▌ | 856/1000 [27:56<03:57,  1.65s/it]"
     ]
    },
    {
     "name": "stdout",
     "output_type": "stream",
     "text": [
      "Decoded tokens: ['$', '0', ' \\\\', 'le', 'q', ' \\\\', 'the', 'ta', ' \\\\', 'le', 'q', ' 2', ' \\\\', 'pi', '$']\n",
      "Decoded tokens: ['$', ' 0', ' \\\\', 'le', 'q', ' \\\\', 'the', 'ta', ' \\\\', 'le', 'q', '2', ' \\\\', 'pi', ' $']\n",
      "0.9902\n"
     ]
    },
    {
     "name": "stderr",
     "output_type": "stream",
     "text": [
      " 86%|████████▌ | 857/1000 [27:58<04:39,  1.96s/it]"
     ]
    },
    {
     "name": "stdout",
     "output_type": "stream",
     "text": [
      "Decoded tokens: ['$', 'W', '^{', 'r', ',', 'p', '}', '(', ' \\\\', 'O', 'mega', ';', ' K', ')', '$']\n",
      "Decoded tokens: ['$', ' W', '^', ' {', ' r', ' ,', ' p', ' }', ' (', ' \\\\', 'O', 'mega', ' ;', ' K', ' )', ' $']\n",
      "0.755\n"
     ]
    },
    {
     "name": "stderr",
     "output_type": "stream",
     "text": [
      " 86%|████████▌ | 858/1000 [28:00<04:24,  1.86s/it]"
     ]
    },
    {
     "name": "stdout",
     "output_type": "stream",
     "text": [
      "Decoded tokens: ['$', ' \\\\', 'math', 'bf', '{', 'f', '}', '^', 'n', ' $']\n",
      "Decoded tokens: ['$', ' f', '^', ' \\\\', 'struct', ' (', ' n', ' )', ' $']\n",
      "0.7566\n"
     ]
    },
    {
     "name": "stderr",
     "output_type": "stream",
     "text": [
      " 86%|████████▌ | 859/1000 [28:01<03:59,  1.70s/it]"
     ]
    },
    {
     "name": "stdout",
     "output_type": "stream",
     "text": [
      "Decoded tokens: ['$', 'M', ' =', ' \\\\', 'the', 'ta', ' e', ' +', ' q', '$']\n",
      "Decoded tokens: ['$', ' M', ' =', ' \\\\', 'the', 'ta', '_', 'e', ' +', ' q', ' $']\n",
      "0.8834\n"
     ]
    },
    {
     "name": "stderr",
     "output_type": "stream",
     "text": [
      " 86%|████████▌ | 860/1000 [28:03<03:59,  1.71s/it]"
     ]
    },
    {
     "name": "stdout",
     "output_type": "stream",
     "text": [
      "Decoded tokens: [' \\\\(', ' \\\\', 'display', 'style', ' \\\\', 'ep', 'sil', 'on', ' \\\\', ')']\n",
      "Decoded tokens: ['$', ' \\\\', 'ep', 'sil', 'on', ' $']\n",
      "0.7611\n"
     ]
    },
    {
     "name": "stderr",
     "output_type": "stream",
     "text": [
      " 86%|████████▌ | 861/1000 [28:06<04:42,  2.03s/it]"
     ]
    },
    {
     "name": "stdout",
     "output_type": "stream",
     "text": [
      "Decoded tokens: ['$', '(', ' \\\\', 'eta', '_', 't', ')', '_{', 't', ' \\\\', 'in', ' \\\\', 'math', 'bb', '{', 'R', '}', '_', '+', '}', '$']\n",
      "Decoded tokens: ['$', ' (', ' \\\\', 'eta', '_', 't', ' )', ' _', ' {', ' t', ' \\\\', 'in', ' \\\\', 'math', 'bb', ' \\\\', ' {', ' R', '^', '+', ' }', ' $']\n",
      "0.8233\n"
     ]
    },
    {
     "name": "stderr",
     "output_type": "stream",
     "text": [
      " 86%|████████▌ | 862/1000 [28:08<04:32,  1.98s/it]"
     ]
    },
    {
     "name": "stdout",
     "output_type": "stream",
     "text": [
      "Decoded tokens: ['$', ' \\\\', 'Gam', 'ma', ' \\\\', 'math', 'rm', '{', 'BG', '}', ' $']\n",
      "Decoded tokens: ['$', ' \\\\', 'Gam', 'ma', '^', ' {', ' GB', ' }', ' $']\n",
      "0.8591\n"
     ]
    },
    {
     "name": "stderr",
     "output_type": "stream",
     "text": [
      " 86%|████████▋ | 863/1000 [28:10<04:24,  1.93s/it]"
     ]
    },
    {
     "name": "stdout",
     "output_type": "stream",
     "text": [
      "Decoded tokens: ['$', ' \\\\', 'math', 'cal', '{', 'T', '}', '_', '1', ' =', ' \\\\', 'math', 'cal', '{', 'T', '}', '$']\n",
      "Decoded tokens: ['$', ' T', '_', '1', ' =', ' T', ' $']\n",
      "0.7797\n"
     ]
    },
    {
     "name": "stderr",
     "output_type": "stream",
     "text": [
      " 86%|████████▋ | 864/1000 [28:11<03:52,  1.71s/it]"
     ]
    },
    {
     "name": "stdout",
     "output_type": "stream",
     "text": [
      "Decoded tokens: ['$', ' \\\\', 'phi', '_{', ' \\\\', 'beta', '}', ' $']\n",
      "Decoded tokens: ['$', ' \\\\', 'phi', '_', ' \\\\', 'beta', ' $']\n",
      "0.9411\n"
     ]
    },
    {
     "name": "stderr",
     "output_type": "stream",
     "text": [
      " 86%|████████▋ | 865/1000 [28:14<05:09,  2.29s/it]"
     ]
    },
    {
     "name": "stdout",
     "output_type": "stream",
     "text": [
      "Decoded tokens: ['$', ' x', '_', 'i', '^', 'n', ' \\\\', 'stack', 'rel', '{', ' \\\\', 'math', 'cal', '{', 'D', '}}', '{', ' \\\\', 'to', '}', ' N', '(', '0', ',', ' \\\\', 'bold', 'sy', 'mbol', '{', ' \\\\', 'S', 'igma', '})', '$']\n",
      "Decoded tokens: ['$', ' \\\\', 'xi', '_', 'n', '^', '0', ' \\\\', 'stack', 'rel', ' {', ' D', ' }', ' {', ' \\\\', 'to', ' }', ' N', ' (', ' 0', ' ,', ' \\\\', 'bold', 'sy', 'mbol', ' {', ' \\\\', 'S', 'igma', ' }', ' _', ' {', ' \\\\', 'x', 'bf', ' }', ' )', ' $']\n",
      "0.7355\n"
     ]
    },
    {
     "name": "stderr",
     "output_type": "stream",
     "text": [
      " 87%|████████▋ | 866/1000 [28:20<07:08,  3.20s/it]"
     ]
    },
    {
     "name": "stdout",
     "output_type": "stream",
     "text": [
      "Decoded tokens: ['$', 'b', ' =', ' p', '_', '1', ' \\\\', 'cd', 'ots', ' p', '_{', 'k', '-', '1', '}', '$']\n",
      "Decoded tokens: ['$', ' b', '=', 'p', '_', '1', ' \\\\', 'pr', ' \\\\', 'cd', 'ots', ' \\\\', 'pr', ' p', '_', ' {', ' k', '-', '1', ' }', ' $']\n",
      "0.8285\n"
     ]
    },
    {
     "name": "stderr",
     "output_type": "stream",
     "text": [
      " 87%|████████▋ | 867/1000 [28:22<06:31,  2.94s/it]"
     ]
    },
    {
     "name": "stdout",
     "output_type": "stream",
     "text": [
      "Decoded tokens: [' \\\\(', ' R', '^', '2', '_', 'i', ' =', ' r', '^', '2', ' +', ' l', '_', 'i', '^', '2', ' \\\\', ')']\n",
      "Decoded tokens: ['$', ' R', '^', '2', '_', 'i', ' =', ' r', '^', '2', '+', 'l', '_', 'i', '^', '2', ' $']\n",
      "0.97\n"
     ]
    },
    {
     "name": "stderr",
     "output_type": "stream",
     "text": [
      " 87%|████████▋ | 868/1000 [28:23<05:11,  2.36s/it]"
     ]
    },
    {
     "name": "stdout",
     "output_type": "stream",
     "text": [
      "Decoded tokens: ['$', ' \\\\', 'Gam', 'ma', ' 1', ' $']\n",
      "Decoded tokens: ['$', ' \\\\', 'Gam', 'ma', '_', '1', ' $']\n",
      "0.9289\n"
     ]
    },
    {
     "name": "stderr",
     "output_type": "stream",
     "text": [
      " 87%|████████▋ | 869/1000 [28:25<04:37,  2.12s/it]"
     ]
    },
    {
     "name": "stdout",
     "output_type": "stream",
     "text": [
      "Decoded tokens: [' \\\\', '[', '\\n', ' \\\\', 'int', ' f', ' \\\\', ',', ' d', ' \\\\', 'mu', ' =', ' \\\\', 'lambda', '\\n', ' \\\\', ']']\n",
      "Decoded tokens: ['$', ' \\\\', 'int', ' f', ' \\\\', 'math', 'rm', ' {', ' d', ' }', ' \\\\', 'mu', ' =', ' \\\\', 'lambda', ' $']\n",
      "0.7396\n"
     ]
    },
    {
     "name": "stderr",
     "output_type": "stream",
     "text": [
      " 87%|████████▋ | 870/1000 [28:27<04:52,  2.25s/it]"
     ]
    },
    {
     "name": "stdout",
     "output_type": "stream",
     "text": [
      "Decoded tokens: ['$', 'H', '^', '2', ' (', 'M', ',', ' \\\\', 'partial', ' M', ';', ' \\\\', 'text', '{', 'FF', '}', '_', '2', ')', '$']\n",
      "Decoded tokens: ['$', ' H', '^', '2', ' (', ' M', ' ,', ' \\\\', 'partial', ' M', ' ;', ' \\\\', 'FF', '_', '2', ' )', ' $']\n",
      "0.9085\n"
     ]
    },
    {
     "name": "stderr",
     "output_type": "stream",
     "text": [
      " 87%|████████▋ | 871/1000 [28:28<04:10,  1.94s/it]"
     ]
    },
    {
     "name": "stdout",
     "output_type": "stream",
     "text": [
      "Decoded tokens: ['$', '78', '^{', ' \\\\', 'text', '{', 'None', '}}', '$']\n",
      "Decoded tokens: ['$', ' ^', ' {', ' 78', ' }', ' $']\n",
      "0.7739\n"
     ]
    },
    {
     "name": "stderr",
     "output_type": "stream",
     "text": [
      " 87%|████████▋ | 872/1000 [28:30<03:45,  1.76s/it]"
     ]
    },
    {
     "name": "stdout",
     "output_type": "stream",
     "text": [
      "Decoded tokens: [' \\\\(', '-', '2', ' \\\\', ')']\n",
      "Decoded tokens: ['$', ' ^', ' {', ' -', '2', ' }', ' $']\n",
      "0.7432\n"
     ]
    },
    {
     "name": "stderr",
     "output_type": "stream",
     "text": [
      " 87%|████████▋ | 873/1000 [28:31<03:22,  1.60s/it]"
     ]
    },
    {
     "name": "stdout",
     "output_type": "stream",
     "text": [
      "Decoded tokens: ['$', ' \\\\', 'math', 'bf', '{', ' \\\\', 'the', 'ta', '}', '$']\n",
      "Decoded tokens: ['$', ' {', ' \\\\', 'bold', 'sy', 'mbol', ' {', ' \\\\', 'the', 'ta', ' }', ' }', ' $']\n",
      "0.7532\n"
     ]
    },
    {
     "name": "stderr",
     "output_type": "stream",
     "text": [
      " 87%|████████▋ | 874/1000 [28:33<03:23,  1.61s/it]"
     ]
    },
    {
     "name": "stdout",
     "output_type": "stream",
     "text": [
      "Decoded tokens: ['$', ' \\\\', 'math', 'cal', '{', 'W', '}', '_{', 'n', ',', 'g', '}', '$']\n",
      "Decoded tokens: ['$', ' W', '_', ' {', ' n', ' ,', ' g', ' }', ' $']\n",
      "0.7373\n"
     ]
    },
    {
     "name": "stderr",
     "output_type": "stream",
     "text": [
      " 88%|████████▊ | 875/1000 [28:35<03:41,  1.77s/it]"
     ]
    },
    {
     "name": "stdout",
     "output_type": "stream",
     "text": [
      "Decoded tokens: ['$', 'u', '_', 'R', ',', ' \\\\', 'over', 'line', '{', 'u', '},', ' u', ' \\\\', 'gam', 'ma', '$']\n",
      "Decoded tokens: ['$', ' u', '_', 'R', ' \\\\', 'bar', ' \\\\', ' {', ' u', ' \\\\', 'gam', 'ma', ' $']\n",
      "0.7813\n"
     ]
    },
    {
     "name": "stderr",
     "output_type": "stream",
     "text": [
      " 88%|████████▊ | 876/1000 [28:37<04:13,  2.04s/it]"
     ]
    },
    {
     "name": "stdout",
     "output_type": "stream",
     "text": [
      "Decoded tokens: [' \\\\', '[', '\\n', ' \\\\', 'bar', '{', ' \\\\', 'partial', '}', ' :', ' L', '^', 'q', '_', 'A', ' \\\\', 'to', ' L', '^{', 'q', '+', '1', '}', '_', 'A', '\\n', ' \\\\', ']']\n",
      "Decoded tokens: ['$', ' \\\\', 'bar', ' \\\\', 'partial', ' :', ' L', '^', 'q', '_', 'A', ' \\\\', 'to', ' L', '^', ' {', ' q', ' +', ' 1', ' }', ' _', 'A', ' $']\n",
      "0.7583\n"
     ]
    },
    {
     "name": "stderr",
     "output_type": "stream",
     "text": [
      " 88%|████████▊ | 877/1000 [28:39<04:04,  1.98s/it]"
     ]
    },
    {
     "name": "stdout",
     "output_type": "stream",
     "text": [
      "Decoded tokens: ['$', ' \\\\', 'text', '{', 't', 'bb', '}', ' -', ' \\\\', 'text', '{', 'a', 'AA', '}', ' \\\\', ',', ' x', '_', 'i', ' $']\n",
      "Decoded tokens: ['$', ' \\\\', 't', 'bb', ' -', ' \\\\', 't', 'AA', ' \\\\', 't', 'xx', '_', ' {', ' i', ' }', ' $']\n",
      "0.7746\n"
     ]
    },
    {
     "name": "stderr",
     "output_type": "stream",
     "text": [
      " 88%|████████▊ | 878/1000 [28:41<04:04,  2.00s/it]"
     ]
    },
    {
     "name": "stdout",
     "output_type": "stream",
     "text": [
      "Decoded tokens: ['$', 'u', '_', 'i', ' \\\\', 'in', ' V', '(', 'G', \"')\", '$']\n",
      "Decoded tokens: ['$', ' u', '_', 'i', ' \\\\', 'in', ' V', ' (', ' G', \" '\", ' )', ' $']\n",
      "0.9309\n"
     ]
    },
    {
     "name": "stderr",
     "output_type": "stream",
     "text": [
      " 88%|████████▊ | 879/1000 [28:44<04:08,  2.05s/it]"
     ]
    },
    {
     "name": "stdout",
     "output_type": "stream",
     "text": [
      "Decoded tokens: ['$', ' \\\\', 'r', 'ho', '_{', 'u', '_{', 'k', '_{', 'n', '}}}', ' =', ' 1', ' $']\n",
      "Decoded tokens: ['$', ' \\\\', 'r', 'ho', '_', ' {', ' u', '_', 'kn', ' }', ' =', ' 1', ' $']\n",
      "0.8233\n"
     ]
    },
    {
     "name": "stderr",
     "output_type": "stream",
     "text": [
      " 88%|████████▊ | 880/1000 [28:45<03:47,  1.89s/it]"
     ]
    },
    {
     "name": "stdout",
     "output_type": "stream",
     "text": [
      "Decoded tokens: ['$', ' \\\\', 'math', 'cal', '{', 'L', '}', '_', 'i', '$']\n",
      "Decoded tokens: ['$', ' \\\\', 'math', 'cal', ' {', ' L', ' }', ' _', ' {', ' i', ' }', ' $']\n",
      "0.9201\n"
     ]
    },
    {
     "name": "stderr",
     "output_type": "stream",
     "text": [
      " 88%|████████▊ | 881/1000 [28:47<03:36,  1.82s/it]"
     ]
    },
    {
     "name": "stdout",
     "output_type": "stream",
     "text": [
      "Decoded tokens: ['$', ' \\\\', 'n', 'ab', 'la', ' \\\\', 'in', ' \\\\', 'math', 'cal', '{', 'L', '}', '^', 'r', '$']\n",
      "Decoded tokens: ['$', ' \\\\', 'bl', 'a', ' \\\\', 'in', ' \\\\', 'La', '^', 'r', ' $']\n",
      "0.7707\n"
     ]
    },
    {
     "name": "stderr",
     "output_type": "stream",
     "text": [
      " 88%|████████▊ | 882/1000 [28:48<03:27,  1.76s/it]"
     ]
    },
    {
     "name": "stdout",
     "output_type": "stream",
     "text": [
      "Decoded tokens: ['$', ' \\\\', 'vec', '{', 'x', '}', '^{', 'C', '_', '2', '}', ' $']\n",
      "Decoded tokens: ['$', ' \\\\', 'vec', ' {', ' x', ' }', ' ^', ' {', ' C', '_', '2', ' }', ' $']\n",
      "0.8777\n"
     ]
    },
    {
     "name": "stderr",
     "output_type": "stream",
     "text": [
      " 88%|████████▊ | 883/1000 [28:50<03:07,  1.60s/it]"
     ]
    },
    {
     "name": "stdout",
     "output_type": "stream",
     "text": [
      "Decoded tokens: [' \\\\(', ' \\\\', 'frac', '{', '1', '}{', ' \\\\', 'sq', 'rt', '{', 'N', '}}', ' \\\\', ')']\n",
      "Decoded tokens: ['$', ' 1', '/', ' \\\\', 'sq', 'rt', ' {', ' N', ' }', ' $']\n",
      "0.7244\n"
     ]
    },
    {
     "name": "stderr",
     "output_type": "stream",
     "text": [
      " 88%|████████▊ | 884/1000 [28:51<02:54,  1.51s/it]"
     ]
    },
    {
     "name": "stdout",
     "output_type": "stream",
     "text": [
      "Decoded tokens: [' \\\\(', '-', '2', ' \\\\', ')']\n",
      "Decoded tokens: ['$', ' ^', ' {', ' -', '2', ' }', ' $']\n",
      "0.7432\n"
     ]
    },
    {
     "name": "stderr",
     "output_type": "stream",
     "text": [
      " 88%|████████▊ | 885/1000 [28:52<02:49,  1.47s/it]"
     ]
    },
    {
     "name": "stdout",
     "output_type": "stream",
     "text": [
      "Decoded tokens: [' \\\\', '[', '\\n', ' \\\\', 'int', ' K', '(', 'x', ')', ' \\\\', ',', ' dx', ' =', ' 1', '\\n', ' \\\\', ']']\n",
      "Decoded tokens: ['$', ' \\\\', 'int', ' K', ' (', ' x', ' )', ' dx', ' =', ' 1', ' $']\n",
      "0.7289\n"
     ]
    },
    {
     "name": "stderr",
     "output_type": "stream",
     "text": [
      " 89%|████████▊ | 886/1000 [28:54<02:50,  1.49s/it]"
     ]
    },
    {
     "name": "stdout",
     "output_type": "stream",
     "text": [
      "Decoded tokens: ['$', ' \\\\', 'math', 'cal', '{', 'A', '}', '_{', 'ul', '}', '$']\n",
      "Decoded tokens: ['$', ' A', '_', ' {', ' ul', ' }', ' $']\n",
      "0.7436\n"
     ]
    },
    {
     "name": "stderr",
     "output_type": "stream",
     "text": [
      " 89%|████████▊ | 887/1000 [28:56<02:59,  1.59s/it]"
     ]
    },
    {
     "name": "stdout",
     "output_type": "stream",
     "text": [
      "Decoded tokens: ['$', ' \\\\', 'bar', '{', ' \\\\', 'text', '{', 'math', 'it', '{', 'fun', '}}}', '_', 'i', '$']\n",
      "Decoded tokens: ['$', ' \\\\', 'bar', 'fun', '_', 'i', ' $']\n",
      "0.8406\n"
     ]
    },
    {
     "name": "stderr",
     "output_type": "stream",
     "text": [
      " 89%|████████▉ | 888/1000 [28:57<02:49,  1.51s/it]"
     ]
    },
    {
     "name": "stdout",
     "output_type": "stream",
     "text": [
      "Decoded tokens: ['$', '0', '^', '1', ' \\\\', 'text', '{', ' raised', ' to', ' the', ' power', ' of', ' }', ' K', '$']\n",
      "Decoded tokens: ['$', ' \\\\', ' {', ' 0', ',', '1', ' \\\\', ' }', ' ^', 'K', ' $']\n",
      "0.7512\n"
     ]
    },
    {
     "name": "stderr",
     "output_type": "stream",
     "text": [
      " 89%|████████▉ | 889/1000 [28:58<02:35,  1.40s/it]"
     ]
    },
    {
     "name": "stdout",
     "output_type": "stream",
     "text": [
      "Decoded tokens: ['$', 'w', ' \\\\', 'ne', 'q', ' 0', '$']\n",
      "Decoded tokens: ['$', ' w', ' \\\\', 'ne', 'q', ' 0', ' $']\n",
      "0.9807\n"
     ]
    },
    {
     "name": "stderr",
     "output_type": "stream",
     "text": [
      " 89%|████████▉ | 890/1000 [28:59<02:34,  1.41s/it]"
     ]
    },
    {
     "name": "stdout",
     "output_type": "stream",
     "text": [
      "Decoded tokens: ['$', '1', ',', ' 2', ',', ' \\\\', 'ld', 'ots', ',', ' n', '$']\n",
      "Decoded tokens: ['$', ' 1', ' ,', ' 2', ' ,', ' \\\\', 'd', 'ots', ' ,', ' n', ' $']\n",
      "0.9239\n"
     ]
    },
    {
     "name": "stderr",
     "output_type": "stream",
     "text": [
      " 89%|████████▉ | 891/1000 [29:02<03:14,  1.79s/it]"
     ]
    },
    {
     "name": "stdout",
     "output_type": "stream",
     "text": [
      "Decoded tokens: ['$', 'N', '(', 'm', ')', ' <', ' L', '_', '0', ' D', '^{', 'k', '+', '1', '}', ' (', 'DE', ')', '^', 'j', '$']\n",
      "Decoded tokens: ['$', ' N', ' (', ' m', ' )', ' <', ' L', '_', '0', '^', ' {', ' D', '^', ' {', ' k', '+', '1', ' }', ' (', ' DE', ' )', ' ^', 'j', ' }', ' $']\n",
      "0.8343\n"
     ]
    },
    {
     "name": "stderr",
     "output_type": "stream",
     "text": [
      " 89%|████████▉ | 892/1000 [29:04<03:04,  1.71s/it]"
     ]
    },
    {
     "name": "stdout",
     "output_type": "stream",
     "text": [
      "Decoded tokens: ['$', ' \\\\', 'math', 'cal', '{', 'K', '}', '_{', '+', '}', '$']\n",
      "Decoded tokens: ['$', ' K', '_', ' {', ' +', ' }', ' $']\n",
      "0.7448\n"
     ]
    },
    {
     "name": "stderr",
     "output_type": "stream",
     "text": [
      " 89%|████████▉ | 893/1000 [29:06<03:27,  1.94s/it]"
     ]
    },
    {
     "name": "stdout",
     "output_type": "stream",
     "text": [
      "Decoded tokens: ['$', 'A', \"'\", ' H', ' +', ' H', ' -', ' 2', ' C', ' <', ' 0', '$']\n",
      "Decoded tokens: ['$', ' A', '^', ' {', ' \\\\', 'top', ' }', ' H', ' +', 'HA', '-', '2', 'C', '^', ' {', ' \\\\', 'top', ' }', ' C', ' <', ' 0', ' $']\n",
      "0.7715\n"
     ]
    },
    {
     "name": "stderr",
     "output_type": "stream",
     "text": [
      " 89%|████████▉ | 894/1000 [29:13<05:57,  3.37s/it]"
     ]
    },
    {
     "name": "stdout",
     "output_type": "stream",
     "text": [
      "Decoded tokens: ['$', ' \\\\', 'bar', '{', 'w', '}', '_{', ' \\\\', 'Gam', 'ma', '_{', ' \\\\', 'math', 'rm', '{', 'cs', '}}}', '^{', '(', 'i', ')}', ' =', ' \\\\', 'mu', '_{', 'i', '}', ' $']\n",
      "Decoded tokens: ['$', ' w', '|', '_', ' {', ' \\\\', 'Gam', 'ma', '_', ' {', ' cs', ' }', ' ^', ' {', ' (', ' i', ' )', ' }', ' }', ' =', ' \\\\', 'mu', '_', 'i', ' $']\n",
      "0.7324\n"
     ]
    },
    {
     "name": "stderr",
     "output_type": "stream",
     "text": [
      " 90%|████████▉ | 895/1000 [29:19<07:32,  4.31s/it]"
     ]
    },
    {
     "name": "stdout",
     "output_type": "stream",
     "text": [
      "Decoded tokens: ['$$', ' |', ' \\\\', 'The', 'ta', '_', 'n', '|', ' \\\\', 'le', 'q', ' \\\\', 'sq', 'rt', '{', 'n', '}', ' \\\\', '|', 'R', '_', 'n', ' \\\\', '|', '_', ' \\\\', 'in', 'fty', ' $$']\n",
      "Decoded tokens: ['$', ' |', ' \\\\', 'The', 'ta', '_', 'n', '|', ' \\\\', 'le', 'q', ' \\\\', 'sq', 'rt', ' {', ' n', ' }', ' \\\\', '|', 'R', '_', 'n', ' \\\\', '|', '_', ' \\\\', 'in', 'fty', ' $']\n",
      "0.9865\n"
     ]
    },
    {
     "name": "stderr",
     "output_type": "stream",
     "text": [
      " 90%|████████▉ | 896/1000 [29:21<06:10,  3.57s/it]"
     ]
    },
    {
     "name": "stdout",
     "output_type": "stream",
     "text": [
      "Decoded tokens: ['$', ' \\\\', 'O', 'mega', '_{', 'ij', '}', ' $']\n",
      "Decoded tokens: ['$', ' \\\\', 'O', 'mega', '_', ' {', ' i', 'j', ' }', ' $']\n",
      "0.8699\n"
     ]
    },
    {
     "name": "stderr",
     "output_type": "stream",
     "text": [
      " 90%|████████▉ | 897/1000 [29:24<05:39,  3.29s/it]"
     ]
    },
    {
     "name": "stdout",
     "output_type": "stream",
     "text": [
      "Decoded tokens: ['$', ' \\\\', 't', 'ilde', '{', 'X', '}', '_', 'I', '$']\n",
      "Decoded tokens: ['$', ' \\\\', 't', 'ilde', ' X', '_', 'I', ' $']\n",
      "0.8685\n"
     ]
    },
    {
     "name": "stderr",
     "output_type": "stream",
     "text": [
      " 90%|████████▉ | 898/1000 [29:26<05:07,  3.01s/it]"
     ]
    },
    {
     "name": "stdout",
     "output_type": "stream",
     "text": [
      "Decoded tokens: ['$', ' \\\\', 'xi', '_', 'j', ' =', ' 2', '^', 'j', ' $']\n",
      "Decoded tokens: ['$', ' \\\\', 'Xi', '_', 'j', ' =', ' 2', '^', ' {', ' j', ' }', ' $']\n",
      "0.9319\n"
     ]
    },
    {
     "name": "stderr",
     "output_type": "stream",
     "text": [
      " 90%|████████▉ | 899/1000 [29:28<04:13,  2.51s/it]"
     ]
    },
    {
     "name": "stdout",
     "output_type": "stream",
     "text": [
      "Decoded tokens: ['$', ' \\\\', 'Delta', '_', '0', ' >', ' 0', '$']\n",
      "Decoded tokens: ['$', ' \\\\', 'd', 'elta', '_', '0', ' >', ' 0', ' $']\n",
      "0.8037\n"
     ]
    },
    {
     "name": "stderr",
     "output_type": "stream",
     "text": [
      " 90%|█████████ | 900/1000 [29:29<03:41,  2.22s/it]"
     ]
    },
    {
     "name": "stdout",
     "output_type": "stream",
     "text": [
      "Decoded tokens: ['$', '(', ' \\\\', 'cd', 'ot', ')', '_{', '+', '}', '$']\n",
      "Decoded tokens: ['$', ' (', ' \\\\', 'cd', 'ot', ' )', ' _', '+', ' $']\n",
      "0.9358\n"
     ]
    },
    {
     "name": "stderr",
     "output_type": "stream",
     "text": [
      " 90%|█████████ | 901/1000 [29:31<03:24,  2.07s/it]"
     ]
    },
    {
     "name": "stdout",
     "output_type": "stream",
     "text": [
      "Decoded tokens: ['$', ' \\\\', 'Ph', 'i', '^{', ' \\\\', 'text', '{', 'eq', '}}', ' $']\n",
      "Decoded tokens: ['$', ' \\\\', 'Ph', 'i', '^', ' \\\\', 'text', ' {', ' eq', ' }', ' $']\n",
      "0.97\n"
     ]
    },
    {
     "name": "stderr",
     "output_type": "stream",
     "text": [
      " 90%|█████████ | 902/1000 [29:32<03:01,  1.85s/it]"
     ]
    },
    {
     "name": "stdout",
     "output_type": "stream",
     "text": [
      "Decoded tokens: ['$', ' \\\\', 'display', 'style', ' \\\\', 'alpha', '^', '*', '$']\n",
      "Decoded tokens: ['$', ' \\\\', 'alpha', '^', ' *', ' $']\n",
      "0.8067\n"
     ]
    },
    {
     "name": "stderr",
     "output_type": "stream",
     "text": [
      " 90%|█████████ | 903/1000 [29:33<02:41,  1.66s/it]"
     ]
    },
    {
     "name": "stdout",
     "output_type": "stream",
     "text": [
      "Decoded tokens: ['$', ' \\\\', 'Gam', 'ma', '_{', 'cr', '}', ' $']\n",
      "Decoded tokens: ['$', ' \\\\', 'gam', 'ma', '_', ' {', ' \\\\', 'rm', ' cr', ' }', ' $']\n",
      "0.8702\n"
     ]
    },
    {
     "name": "stderr",
     "output_type": "stream",
     "text": [
      " 90%|█████████ | 904/1000 [29:36<02:53,  1.81s/it]"
     ]
    },
    {
     "name": "stdout",
     "output_type": "stream",
     "text": [
      "Decoded tokens: [' \\\\', '[', ' w', ' =', ' \\\\', 'frac', '{', 'Q', '}{', 'r', '_', 'g', '^', '2', '}', ' E', '^', '2', ' \\\\', ']']\n",
      "Decoded tokens: ['$', ' w', '=', 'Q', '/', 'r', '_', ' {', ' g', ' }', ' ^', ' {', ' 2', ' }', ' E', '^', ' {', ' 2', ' }', ' $']\n",
      "0.7266\n"
     ]
    },
    {
     "name": "stderr",
     "output_type": "stream",
     "text": [
      " 90%|█████████ | 905/1000 [29:37<02:32,  1.60s/it]"
     ]
    },
    {
     "name": "stdout",
     "output_type": "stream",
     "text": [
      "Decoded tokens: ['$', 'n', ' \\\\', 'ge', 'q', ' 2', '$']\n",
      "Decoded tokens: ['$', ' n', ' \\\\', 'ge', 'q', ' 2', ' $']\n",
      "0.9768\n"
     ]
    },
    {
     "name": "stderr",
     "output_type": "stream",
     "text": [
      " 91%|█████████ | 906/1000 [29:40<03:15,  2.08s/it]"
     ]
    },
    {
     "name": "stdout",
     "output_type": "stream",
     "text": [
      "Decoded tokens: ['$', 'y', '_', 't', ' =', ' p', '_', 't', '$']\n",
      "Decoded tokens: ['$', ' y', '_', 't', ' =', ' p', '_', 't', ' $']\n",
      "0.9767\n"
     ]
    },
    {
     "name": "stderr",
     "output_type": "stream",
     "text": [
      " 91%|█████████ | 907/1000 [29:43<03:38,  2.35s/it]"
     ]
    },
    {
     "name": "stdout",
     "output_type": "stream",
     "text": [
      "Decoded tokens: ['$', 'k', ' \\\\', 'in', ' \\\\', 'math', 'cal', '{', 'P', '}', '(', 'i', ')', ' =', ' \\\\', '{', ' k', ' \\\\', 'mid', ' k', ' \\\\', 'in', ' B', ',', ' y', '_', 'k', ' =', ' y', '_', 'i', ' \\\\', '}', '$']\n",
      "Decoded tokens: ['$', ' k', ' \\\\', 'in', ' \\\\', 'math', 'cal', ' {', ' P', ' }', ' (', ' i', ' )', ' =', ' \\\\', ' {', ' k', '|', 'k', ' \\\\', 'in', ' B', ' ,', ' y', '_', 'k', ' =', ' y', '_', 'i', ' \\\\', ' }', ' $']\n",
      "0.8622\n"
     ]
    },
    {
     "name": "stderr",
     "output_type": "stream",
     "text": [
      " 91%|█████████ | 908/1000 [29:45<03:18,  2.16s/it]"
     ]
    },
    {
     "name": "stdout",
     "output_type": "stream",
     "text": [
      "Decoded tokens: [' \\\\(', ' \\\\', 'frac', '{', '2', ' \\\\', 'pi', '}{', ' \\\\', 'ome', 'ga', '_', '1', '}', ' \\\\', 'app', 'rox', ' 0', '.', '84', ' \\\\', ')']\n",
      "Decoded tokens: ['$', ' 2', ' \\\\', 'pi', '/', ' \\\\', 'ome', 'ga', '_', '1', ' \\\\', 'app', 'rox', ' 0', '.', '84', ' $']\n",
      "0.7403\n"
     ]
    },
    {
     "name": "stderr",
     "output_type": "stream",
     "text": [
      " 91%|█████████ | 909/1000 [29:46<02:48,  1.85s/it]"
     ]
    },
    {
     "name": "stdout",
     "output_type": "stream",
     "text": [
      "Decoded tokens: ['$', ' \\\\', 't', 'au', ' N', ' >', ' 0', '$']\n",
      "Decoded tokens: ['$', ' \\\\', 't', 'au', '_', 'N', ' >', ' 0', ' $']\n",
      "0.8739\n"
     ]
    },
    {
     "name": "stderr",
     "output_type": "stream",
     "text": [
      " 91%|█████████ | 910/1000 [29:49<03:25,  2.28s/it]"
     ]
    },
    {
     "name": "stdout",
     "output_type": "stream",
     "text": [
      "Decoded tokens: [' \\\\', '[', '\\n', ' \\\\', 'math', 'rm', '{', 'crit', '}', '(', ' \\\\', 'math', 'cal', '{', 'F', '}', 'P', ')', ' =', ' \\\\', 'math', 'rm', '{', 'crit', '}', '(', ' \\\\', 'math', 'cal', '{', 'F', '}', 'M', ')', '\\n', ' \\\\', ']']\n",
      "Decoded tokens: ['$', ' \\\\', 'crit', ' (', ' F', '^', 'P', ' )', ' =', ' \\\\', 'crit', ' (', ' F', '^', 'M', ' )', ' $']\n",
      "0.7187\n"
     ]
    },
    {
     "name": "stderr",
     "output_type": "stream",
     "text": [
      " 91%|█████████ | 911/1000 [29:50<03:00,  2.03s/it]"
     ]
    },
    {
     "name": "stdout",
     "output_type": "stream",
     "text": [
      "Decoded tokens: ['$', ' \\\\', 'math', 'cal', '{', 'M', '}', ' \\\\', 'opl', 'us', '$']\n",
      "Decoded tokens: ['$', ' M', '_', ' {', ' \\\\', 'opl', 'us', ' }', ' $']\n",
      "0.7444\n"
     ]
    },
    {
     "name": "stderr",
     "output_type": "stream",
     "text": [
      " 91%|█████████ | 912/1000 [29:52<02:59,  2.04s/it]"
     ]
    },
    {
     "name": "stdout",
     "output_type": "stream",
     "text": [
      "Decoded tokens: ['$', 'P', '_', '1', ' =', ' S', '_', '1', ' =', ' C', ' \\\\', 'left', 'arrow', ' 0', '$']\n",
      "Decoded tokens: ['$', ' P', '_', '1', '=', 'S', '_', '1', '=', ' \\\\', 'math', 'bb', ' {', ' C', ' }', ' \\\\', 'left', 'arrow', ' 0', ' $']\n",
      "0.8807\n"
     ]
    },
    {
     "name": "stderr",
     "output_type": "stream",
     "text": [
      " 91%|█████████▏| 913/1000 [29:54<02:51,  1.97s/it]"
     ]
    },
    {
     "name": "stdout",
     "output_type": "stream",
     "text": [
      "Decoded tokens: ['$', '-', ' \\\\', 'frac', '{', '1', '}{', 'n', '}', ' \\\\', 'le', 'q', ' a', ' \\\\', 'le', 'q', ' \\\\', 'frac', '{', '1', '}{', 'n', '}', '$']\n",
      "Decoded tokens: ['$', ' -', ' \\\\', 'frac', ' {', ' 1', ' }', ' {', ' n', ' }', ' \\\\', 'le', ' a', ' \\\\', 'le', ' \\\\', 'frac', ' {', ' 1', ' }', ' {', ' n', ' }', ' $']\n",
      "0.8518\n"
     ]
    },
    {
     "name": "stderr",
     "output_type": "stream",
     "text": [
      " 91%|█████████▏| 914/1000 [29:56<02:38,  1.84s/it]"
     ]
    },
    {
     "name": "stdout",
     "output_type": "stream",
     "text": [
      "Decoded tokens: ['$', ' \\\\', 'math', 'bf', '{', 'Y', '}', '_', 'l', '$']\n",
      "Decoded tokens: ['$', ' \\\\', 'math', 'cal', ' {', ' Y', ' }', ' _', 'l', ' $']\n",
      "0.9443\n"
     ]
    },
    {
     "name": "stderr",
     "output_type": "stream",
     "text": [
      " 92%|█████████▏| 915/1000 [29:57<02:31,  1.78s/it]"
     ]
    },
    {
     "name": "stdout",
     "output_type": "stream",
     "text": [
      "Decoded tokens: ['$', ' \\\\', 'math', 'cal', '{', 'M', '}', '_{', 'p', 'q', '}', '$']\n",
      "Decoded tokens: ['$', ' \\\\', 'math', 'cal', ' {', ' M', ' }', ' _', ' {', ' p', 'q', ' }', ' $']\n",
      "0.8862\n"
     ]
    },
    {
     "name": "stderr",
     "output_type": "stream",
     "text": [
      " 92%|█████████▏| 916/1000 [30:00<02:42,  1.94s/it]"
     ]
    },
    {
     "name": "stdout",
     "output_type": "stream",
     "text": [
      "Decoded tokens: ['$', 'y', ' \\\\', 'equ', 'iv', ' y', '^', 'm', ' \\\\', 'in', ' \\\\', 'math', 'cal', '{', 'M', '}', '_', '4', '$']\n",
      "Decoded tokens: ['$', ' y', ' \\\\', 'equ', 'iv', ' y', '^', 'm', ' \\\\', 'in', ' {', ' \\\\', 'cal', ' M', ' }', ' _', '4', ' $']\n",
      "0.8984\n"
     ]
    },
    {
     "name": "stderr",
     "output_type": "stream",
     "text": [
      " 92%|█████████▏| 917/1000 [30:02<02:42,  1.96s/it]"
     ]
    },
    {
     "name": "stdout",
     "output_type": "stream",
     "text": [
      "Decoded tokens: ['$', 'e', '_', 'v', ' =', ' |', 'N', '_', '2', '(', 'v', ')', ' \\\\', 'set', 'minus', ' K', '|', '$']\n",
      "Decoded tokens: ['$', ' e', '_', 'v', ' =', ' |', ' \\\\', 'N', 'two', ' (', ' v', ' )', ' \\\\', 'set', 'minus', ' K', '|', ' $']\n",
      "0.9401\n"
     ]
    },
    {
     "name": "stderr",
     "output_type": "stream",
     "text": [
      " 92%|█████████▏| 918/1000 [30:04<02:38,  1.93s/it]"
     ]
    },
    {
     "name": "stdout",
     "output_type": "stream",
     "text": [
      "Decoded tokens: ['$', 'st', '^', '*', ' (', 'x', ',', ' \\\\', 'math', 'cal', '{', 'X', '})', '$']\n",
      "Decoded tokens: ['$', ' st', '^', ' *', ' (', ' x', ' ,', ' X', ' )', ' $']\n",
      "0.8767\n"
     ]
    },
    {
     "name": "stderr",
     "output_type": "stream",
     "text": [
      " 92%|█████████▏| 919/1000 [30:07<03:06,  2.31s/it]"
     ]
    },
    {
     "name": "stdout",
     "output_type": "stream",
     "text": [
      "Decoded tokens: [' \\\\', '[', '\\n', ' \\\\', 'frac', '{', 'd', 'E', '_{', ' \\\\', 'text', '{', 'kin', '}}', '}{', 'dt', '}', '\\n', ' \\\\', ']']\n",
      "Decoded tokens: ['$', ' d', 'E', '_', ' {', ' kin', ' }', ' /', 'dt', ' ,', ' $']\n",
      "0.739\n"
     ]
    },
    {
     "name": "stderr",
     "output_type": "stream",
     "text": [
      " 92%|█████████▏| 920/1000 [30:08<02:39,  1.99s/it]"
     ]
    },
    {
     "name": "stdout",
     "output_type": "stream",
     "text": [
      "Decoded tokens: ['$', 'E', ' \\\\', 'map', 'st', 'o', ' E', '^', '*', '$']\n",
      "Decoded tokens: ['$', ' \\\\', 'math', 'cal', ' {', ' E', ' }', ' \\\\', 'to', ' \\\\', 'math', 'cal', ' {', ' E', ' }', ' ^', ' *', ' $']\n",
      "0.7544\n"
     ]
    },
    {
     "name": "stderr",
     "output_type": "stream",
     "text": [
      " 92%|█████████▏| 921/1000 [30:10<02:30,  1.90s/it]"
     ]
    },
    {
     "name": "stdout",
     "output_type": "stream",
     "text": [
      "Decoded tokens: ['$', 'f', '_{', ' \\\\', 'math', 'rm', '{', 'P', '2', 'P', '}}', '$']\n",
      "Decoded tokens: ['$', ' f', '_', ' {', ' P', '2', 'P', ' }', ' $']\n",
      "0.7889\n"
     ]
    },
    {
     "name": "stderr",
     "output_type": "stream",
     "text": [
      " 92%|█████████▏| 922/1000 [30:11<02:16,  1.75s/it]"
     ]
    },
    {
     "name": "stdout",
     "output_type": "stream",
     "text": [
      "Decoded tokens: ['$', ' \\\\', 'math', 'cal', '{', 'U', '}', '_{', 'ij', '}', '$']\n",
      "Decoded tokens: ['$', ' U', '_', ' {', ' i', 'j', ' }', ' $']\n",
      "0.7743\n"
     ]
    },
    {
     "name": "stderr",
     "output_type": "stream",
     "text": [
      " 92%|█████████▏| 923/1000 [30:13<02:10,  1.70s/it]"
     ]
    },
    {
     "name": "stdout",
     "output_type": "stream",
     "text": [
      "Decoded tokens: ['$', ' \\\\', 'Delta', '_{', 'n', ',', 'p', '}', '^', '*', '$']\n",
      "Decoded tokens: ['$', ' \\\\', 'Delta', '_', ' {', ' n', ' ,', ' p', ' }', ' ^', ' *', ' $']\n",
      "0.8161\n"
     ]
    },
    {
     "name": "stderr",
     "output_type": "stream",
     "text": [
      " 92%|█████████▏| 924/1000 [30:14<02:00,  1.59s/it]"
     ]
    },
    {
     "name": "stdout",
     "output_type": "stream",
     "text": [
      "Decoded tokens: ['$', ' \\\\', 'math', 'bf', '{', ' \\\\', 'L', 'amb', 'da', '}', '$']\n",
      "Decoded tokens: ['$', ' \\\\', 'lambda', ' $']\n",
      "0.8668\n"
     ]
    },
    {
     "name": "stderr",
     "output_type": "stream",
     "text": [
      " 92%|█████████▎| 925/1000 [30:17<02:18,  1.85s/it]"
     ]
    },
    {
     "name": "stdout",
     "output_type": "stream",
     "text": [
      "Decoded tokens: [' \\\\', '[', '\\n', ' \\\\', 'frac', '{', '1', '}{', '2', '}', ' \\\\', 'exp', ' \\\\', 'n', 'ab', 'la', '_', 'X', ' V', '_', '1', ' [', 'X', ',', 'Y', ']', '\\n', ' \\\\', ']']\n",
      "Decoded tokens: ['$', ' \\\\', 'frac', ' {', ' 1', ' }', ' {', ' 2', ' }', ' \\\\', 'met', 'ric', ' {', ' \\\\', 'n', 'ab', 'la', '_', 'X', 'V', '_', '1', ' }', ' {', ' [', ' X', ' ,', ' Y', ' ]', ' }', ' $']\n",
      "0.7396\n"
     ]
    },
    {
     "name": "stderr",
     "output_type": "stream",
     "text": [
      " 93%|█████████▎| 926/1000 [30:18<02:16,  1.84s/it]"
     ]
    },
    {
     "name": "stdout",
     "output_type": "stream",
     "text": [
      "Decoded tokens: ['$', ' \\\\', 'display', 'style', ' x', '_', 'i', '(', 't', ')', '$']\n",
      "Decoded tokens: ['$', ' x', '_', 'i', ' (', ' t', ' )', ' $']\n",
      "0.7573\n"
     ]
    },
    {
     "name": "stderr",
     "output_type": "stream",
     "text": [
      " 93%|█████████▎| 927/1000 [30:20<02:04,  1.70s/it]"
     ]
    },
    {
     "name": "stdout",
     "output_type": "stream",
     "text": [
      "Decoded tokens: ['$', '40', '^', ' \\\\', 'circ', '$']\n",
      "Decoded tokens: ['$', ' 40', '^', ' {', ' \\\\', 'circ', ' }', ' $']\n",
      "0.8639\n"
     ]
    },
    {
     "name": "stderr",
     "output_type": "stream",
     "text": [
      " 93%|█████████▎| 928/1000 [30:21<01:55,  1.61s/it]"
     ]
    },
    {
     "name": "stdout",
     "output_type": "stream",
     "text": [
      "Decoded tokens: ['$', 'r', '_', '1', ' <', ' r', '_', '2', '$']\n",
      "Decoded tokens: ['$', ' r', '_', '1', ' <', ' r', '_', '2', ' $']\n",
      "0.9827\n"
     ]
    },
    {
     "name": "stderr",
     "output_type": "stream",
     "text": [
      " 93%|█████████▎| 929/1000 [30:23<02:06,  1.78s/it]"
     ]
    },
    {
     "name": "stdout",
     "output_type": "stream",
     "text": [
      "Decoded tokens: ['$', 'H', '_', '0', '^{', '(', '1', ')', '},', ' \\\\', ',', ' m', ' \\\\', 'le', 'q', ' 0', '$']\n",
      "Decoded tokens: ['$', ' H', '_', '0', '^', ' {', ' (', ' 1', ' )', ' }', ' :', ' m', ' \\\\', 'le', 'q', ' 0', ' $']\n",
      "0.9118\n"
     ]
    },
    {
     "name": "stderr",
     "output_type": "stream",
     "text": [
      " 93%|█████████▎| 930/1000 [30:25<02:02,  1.76s/it]"
     ]
    },
    {
     "name": "stdout",
     "output_type": "stream",
     "text": [
      "Decoded tokens: ['$', 'd', '_{', 'x', '}', '^', '2', ' -', ' y', '^', '2', '$']\n",
      "Decoded tokens: ['$', ' d', '_', ' {', ' x', '^', '2', '-', 'y', '^', '2', ' }', ' $']\n",
      "0.8849\n"
     ]
    },
    {
     "name": "stderr",
     "output_type": "stream",
     "text": [
      " 93%|█████████▎| 931/1000 [30:26<01:55,  1.68s/it]"
     ]
    },
    {
     "name": "stdout",
     "output_type": "stream",
     "text": [
      "Decoded tokens: ['$', ' \\\\', 'math', 'bb', '{', 'Z', '}', '_', '2', '$']\n",
      "Decoded tokens: ['$', ' \\\\', 'math', 'bb', ' {', ' Z', ' }', ' _', '2', ' $']\n",
      "0.9718\n"
     ]
    },
    {
     "name": "stderr",
     "output_type": "stream",
     "text": [
      " 93%|█████████▎| 932/1000 [30:28<01:52,  1.65s/it]"
     ]
    },
    {
     "name": "stdout",
     "output_type": "stream",
     "text": [
      "Decoded tokens: ['$', ' \\\\', 'lambda', '_{', ' \\\\', 'math', 'cal', '{', 'G', '}}', ' $']\n",
      "Decoded tokens: ['$', ' \\\\', 'lambda', '_', 'G', ' $']\n",
      "0.8718\n"
     ]
    },
    {
     "name": "stderr",
     "output_type": "stream",
     "text": [
      " 93%|█████████▎| 933/1000 [30:30<01:48,  1.62s/it]"
     ]
    },
    {
     "name": "stdout",
     "output_type": "stream",
     "text": [
      "Decoded tokens: ['$', 'e', '_{', ' \\\\', 'math', 'cal', '{', 'H', '}}', '$']\n",
      "Decoded tokens: ['$', ' e', '_', ' {', ' H', ' }', ' $']\n",
      "0.8027\n"
     ]
    },
    {
     "name": "stderr",
     "output_type": "stream",
     "text": [
      " 93%|█████████▎| 934/1000 [30:31<01:47,  1.63s/it]"
     ]
    },
    {
     "name": "stdout",
     "output_type": "stream",
     "text": [
      "Decoded tokens: ['$', 'E', ' \\\\', 'to', ' (', 'E', '^', '*)', '_{', '-', '}', '$']\n",
      "Decoded tokens: ['$', ' E', ' \\\\', 'to', ' (', ' E', '_', ' *', ' )', ' _', '-', ' $']\n",
      "0.8711\n"
     ]
    },
    {
     "name": "stderr",
     "output_type": "stream",
     "text": [
      " 94%|█████████▎| 935/1000 [30:33<01:38,  1.52s/it]"
     ]
    },
    {
     "name": "stdout",
     "output_type": "stream",
     "text": [
      "Decoded tokens: [' \\\\', '[', '\\n', ' \\\\', 'beta', '^', '6', '\\n', ' \\\\', ']']\n",
      "Decoded tokens: ['$', ' \\\\', 'beta', '^', '6', ' $']\n",
      "0.7358\n"
     ]
    },
    {
     "name": "stderr",
     "output_type": "stream",
     "text": [
      " 94%|█████████▎| 936/1000 [30:34<01:35,  1.50s/it]"
     ]
    },
    {
     "name": "stdout",
     "output_type": "stream",
     "text": [
      "Decoded tokens: ['$', 'V', '_{', ' \\\\', 'math', 'bf', '{', 'k', '}}', '$']\n",
      "Decoded tokens: ['$', ' V', '_', ' {', ' k', ' }', ' $']\n",
      "0.8216\n"
     ]
    },
    {
     "name": "stderr",
     "output_type": "stream",
     "text": [
      " 94%|█████████▎| 937/1000 [30:36<01:34,  1.50s/it]"
     ]
    },
    {
     "name": "stdout",
     "output_type": "stream",
     "text": [
      "Decoded tokens: ['$', 'k', ' =', ' 1', ',', ' \\\\', 'ld', 'ots', ',', ' K', '$']\n",
      "Decoded tokens: ['$', ' k', '=', '1', ' ,', ' \\\\', 'cd', 'ots', ' ,', ' K', ' $']\n",
      "0.9287\n"
     ]
    },
    {
     "name": "stderr",
     "output_type": "stream",
     "text": [
      " 94%|█████████▍| 938/1000 [30:37<01:25,  1.38s/it]"
     ]
    },
    {
     "name": "stdout",
     "output_type": "stream",
     "text": [
      "Decoded tokens: ['$', ' \\\\', 'The', 'ta', '_', 'W', ' $']\n",
      "Decoded tokens: ['$', ' \\\\', 'the', 'ta', '_', 'W', ' $']\n",
      "0.9921\n"
     ]
    },
    {
     "name": "stderr",
     "output_type": "stream",
     "text": [
      " 94%|█████████▍| 939/1000 [30:38<01:26,  1.42s/it]"
     ]
    },
    {
     "name": "stdout",
     "output_type": "stream",
     "text": [
      "Decoded tokens: ['$', ' \\\\', 'math', 'cal', '{', 'M', '}', '_{', 'Ni', '}', '$']\n",
      "Decoded tokens: ['$', ' M', '_', ' {', ' \\\\', 'rm', ' {', ' Ni', ' }', ' }', ' $']\n",
      "0.7919\n"
     ]
    },
    {
     "name": "stderr",
     "output_type": "stream",
     "text": [
      " 94%|█████████▍| 940/1000 [30:39<01:21,  1.37s/it]"
     ]
    },
    {
     "name": "stdout",
     "output_type": "stream",
     "text": [
      "Decoded tokens: ['$', ' \\\\', 'k', 'appa', '_', '0', ' $']\n",
      "Decoded tokens: ['$', ' \\\\', 'k', 'appa', '_', '0', ' $']\n",
      "1.0\n"
     ]
    },
    {
     "name": "stderr",
     "output_type": "stream",
     "text": [
      " 94%|█████████▍| 941/1000 [30:41<01:25,  1.46s/it]"
     ]
    },
    {
     "name": "stdout",
     "output_type": "stream",
     "text": [
      "Decoded tokens: ['$', ' \\\\', 'math', 'f', 'rak', '{', 'h', '}', ' \\\\', 'ne', 'q', ' 0', '$']\n",
      "Decoded tokens: ['$', ' h', ' \\\\', 'ne', 'q', ' 0', ' $']\n",
      "0.762\n"
     ]
    },
    {
     "name": "stderr",
     "output_type": "stream",
     "text": [
      " 94%|█████████▍| 942/1000 [30:44<01:46,  1.84s/it]"
     ]
    },
    {
     "name": "stdout",
     "output_type": "stream",
     "text": [
      "Decoded tokens: ['$', ' \\\\', 'beta', '_', '1', ',', ' \\\\', 'beta', '_', '2', ' \\\\', 'in', ' \\\\', 'math', 'f', 'rak', '{', 'f', '}', '_{', 'q', '}', '^{', 't', '}', '$']\n",
      "Decoded tokens: ['$', ' \\\\', 'beta', '_', '1', ' ,', ' \\\\', 'beta', '_', '2', ' \\\\', 'in', ' \\\\', 'ff', '_', ' {', ' q', '^', 't', ' }', ' $']\n",
      "0.8858\n"
     ]
    },
    {
     "name": "stderr",
     "output_type": "stream",
     "text": [
      " 94%|█████████▍| 943/1000 [30:45<01:33,  1.65s/it]"
     ]
    },
    {
     "name": "stdout",
     "output_type": "stream",
     "text": [
      "Decoded tokens: ['$', 'r', ' \\\\', 'ge', 'q', ' 1', '$']\n",
      "Decoded tokens: ['$', ' r', ' \\\\', 'ge', 'q', ' 1', ' $']\n",
      "0.9773\n"
     ]
    },
    {
     "name": "stderr",
     "output_type": "stream",
     "text": [
      " 94%|█████████▍| 944/1000 [30:46<01:25,  1.53s/it]"
     ]
    },
    {
     "name": "stdout",
     "output_type": "stream",
     "text": [
      "Decoded tokens: ['$', ' \\\\', 'L', 'amb', 'da', '_', 'k', ' $']\n",
      "Decoded tokens: ['$', ' \\\\', 'lambda', '_', 'k', ' $']\n",
      "0.8096\n"
     ]
    },
    {
     "name": "stderr",
     "output_type": "stream",
     "text": [
      " 94%|█████████▍| 945/1000 [30:48<01:26,  1.57s/it]"
     ]
    },
    {
     "name": "stdout",
     "output_type": "stream",
     "text": [
      "Decoded tokens: ['$', 'k', ' =', ' 0', ',', ' 1', ',', ' 2', ',', ' \\\\', 'ld', 'ots', '$']\n",
      "Decoded tokens: ['$', ' k', '=', '0', ',', '1', ',', '2', ' ,', ' \\\\', 'cd', 'ots', ' $']\n",
      "0.9443\n"
     ]
    },
    {
     "name": "stderr",
     "output_type": "stream",
     "text": [
      " 95%|█████████▍| 946/1000 [30:50<01:27,  1.63s/it]"
     ]
    },
    {
     "name": "stdout",
     "output_type": "stream",
     "text": [
      "Decoded tokens: ['$', ' \\\\', 'text', '{', 'pop', ' down', '}', ' \\\\', ',', ' \\\\', 'text', '{', 'sub', ' Camb', '}', ' \\\\', ',', ' _', 'c', ' $']\n",
      "Decoded tokens: ['$', ' \\\\', 'pop', 'down', '_', ' {', ' \\\\', 'C', 'amb', '_', 'c', ' }', ' $']\n",
      "0.7755\n"
     ]
    },
    {
     "name": "stderr",
     "output_type": "stream",
     "text": [
      " 95%|█████████▍| 947/1000 [30:51<01:21,  1.53s/it]"
     ]
    },
    {
     "name": "stdout",
     "output_type": "stream",
     "text": [
      "Decoded tokens: [' \\\\', '[', '\\n', ' \\\\', 'display', 'style', ' \\\\', 'beta', '(', 'u', ',', 'v', ')', '\\n', ' \\\\', ']']\n",
      "Decoded tokens: ['$', ' \\\\', 'beta', ' (', ' u', ' ,', ' v', ' )', ' $']\n",
      "0.7006\n"
     ]
    },
    {
     "name": "stderr",
     "output_type": "stream",
     "text": [
      " 95%|█████████▍| 948/1000 [30:52<01:13,  1.42s/it]"
     ]
    },
    {
     "name": "stdout",
     "output_type": "stream",
     "text": [
      "Decoded tokens: [' \\\\', '[', ' \\\\', 'display', 'style', ' t', '_{', '2', '}', ' \\\\', ']']\n",
      "Decoded tokens: ['$', ' t', '_', ' {', ' 2', ' }', ' $']\n",
      "0.7266\n"
     ]
    },
    {
     "name": "stderr",
     "output_type": "stream",
     "text": [
      " 95%|█████████▍| 949/1000 [30:54<01:25,  1.67s/it]"
     ]
    },
    {
     "name": "stdout",
     "output_type": "stream",
     "text": [
      "Decoded tokens: ['$', 'G', ' \\\\', 'in', ' L', '^', '2', '(', ' \\\\', 'math', 'bb', '{', 'T', '}', '^', '2', ')', '$']\n",
      "Decoded tokens: ['$', ' G', ' \\\\', 'in', ' L', '^', '2', ' (', ' \\\\', ' {', ' \\\\', 'math', 'bb', ' \\\\', ' T', '^', '2', ' )', ' $']\n",
      "0.8661\n"
     ]
    },
    {
     "name": "stderr",
     "output_type": "stream",
     "text": [
      " 95%|█████████▌| 950/1000 [30:56<01:24,  1.69s/it]"
     ]
    },
    {
     "name": "stdout",
     "output_type": "stream",
     "text": [
      "Decoded tokens: ['$', 'X', ' \\\\', 'in', ' \\\\', 'math', 'bb', '{', 'R', '}', '_{', '>', '0', '}', '$']\n",
      "Decoded tokens: ['$', ' X', ' \\\\', 'in', ' \\\\', 'math', 'bb', ' {', ' R', ' }', ' _', ' {', ' >', ' 0', ' }', ' $']\n",
      "0.9108\n"
     ]
    },
    {
     "name": "stderr",
     "output_type": "stream",
     "text": [
      " 95%|█████████▌| 951/1000 [30:57<01:16,  1.55s/it]"
     ]
    },
    {
     "name": "stdout",
     "output_type": "stream",
     "text": [
      "Decoded tokens: [' \\\\(', '\\n', ' \\\\', 'display', 'style', ' \\\\', 'ep', 'sil', 'on', '\\n', ' \\\\', ')']\n",
      "Decoded tokens: ['$', ' \\\\', 'ep', 'sil', 'on', ' $']\n",
      "0.737\n"
     ]
    },
    {
     "name": "stderr",
     "output_type": "stream",
     "text": [
      " 95%|█████████▌| 952/1000 [30:59<01:12,  1.51s/it]"
     ]
    },
    {
     "name": "stdout",
     "output_type": "stream",
     "text": [
      "Decoded tokens: ['$', ' \\\\', 'math', 'cal', '{', 'D', '}', '_', 'k', '$']\n",
      "Decoded tokens: ['$', ' \\\\', 'math', 'cal', ' {', ' D', ' }', ' _', 'k', ' $']\n",
      "0.9716\n"
     ]
    },
    {
     "name": "stderr",
     "output_type": "stream",
     "text": [
      " 95%|█████████▌| 953/1000 [31:00<01:06,  1.42s/it]"
     ]
    },
    {
     "name": "stdout",
     "output_type": "stream",
     "text": [
      "Decoded tokens: ['$', ' \\\\', 'math', 'sf', '{', 'C', '1', '}', '$']\n",
      "Decoded tokens: ['$', ' \\\\', 'math', 'cal', ' {', ' C', ' }', ' _', '1', ' $']\n",
      "0.8873\n"
     ]
    },
    {
     "name": "stderr",
     "output_type": "stream",
     "text": [
      " 95%|█████████▌| 954/1000 [31:02<01:08,  1.49s/it]"
     ]
    },
    {
     "name": "stdout",
     "output_type": "stream",
     "text": [
      "Decoded tokens: ['$', '(', 's', '_', '0', ',', ' t', '_', '0', ')', '$']\n",
      "Decoded tokens: ['$', ' (', ' s', '_', '0', ' ,', ' t', '_', '0', ' )', ' $']\n",
      "0.9541\n"
     ]
    },
    {
     "name": "stderr",
     "output_type": "stream",
     "text": [
      " 96%|█████████▌| 955/1000 [31:04<01:17,  1.72s/it]"
     ]
    },
    {
     "name": "stdout",
     "output_type": "stream",
     "text": [
      "Decoded tokens: ['$', 'h', ' \\\\', 'in', ' \\\\', 'text', '{', 'B', 'MO', '}', '_{', 'w', '}', '^{', ' \\\\', 'gam', 'ma', '+', '1', '}', '(', ' \\\\', 'math', 'bb', '{', 'T', '})', '$']\n",
      "Decoded tokens: ['$', ' h', ' \\\\', 'in', ' B', 'MO', '_', ' {', ' w', '^', ' {', ' \\\\', 'gam', 'ma', '+', '1', ' }', ' }', ' (', ' \\\\', 'T', ' )', ' $']\n",
      "0.7773\n"
     ]
    },
    {
     "name": "stderr",
     "output_type": "stream",
     "text": [
      " 96%|█████████▌| 956/1000 [31:06<01:24,  1.93s/it]"
     ]
    },
    {
     "name": "stdout",
     "output_type": "stream",
     "text": [
      "Decoded tokens: ['$', 'L', '^', '2', '(', 'Y', '_', '0', ';', ' C', '(', 'I', ';', ' \\\\', 'math', 'bb', '{', 'R', '}', '^', 'n', '))', '$']\n",
      "Decoded tokens: ['$', ' L', '^', '2', ' (', ' Y', '_', '0', ' ;', ' \\\\', 'math', 'cal', ' {', ' C', ' }', ' (', ' I', ' ;', ' \\\\', 'R', '^', 'n', ' )', ' )', ' $']\n",
      "0.8175\n"
     ]
    },
    {
     "name": "stderr",
     "output_type": "stream",
     "text": [
      " 96%|█████████▌| 957/1000 [31:08<01:17,  1.80s/it]"
     ]
    },
    {
     "name": "stdout",
     "output_type": "stream",
     "text": [
      "Decoded tokens: ['$', ' \\\\', 'math', 'cal', '{', 'G', '}', '^', '*', '$']\n",
      "Decoded tokens: ['$', ' G', '^', ' {', ' \\\\', 'star', ' }', ' $']\n",
      "0.7858\n"
     ]
    },
    {
     "name": "stderr",
     "output_type": "stream",
     "text": [
      " 96%|█████████▌| 958/1000 [31:10<01:20,  1.93s/it]"
     ]
    },
    {
     "name": "stdout",
     "output_type": "stream",
     "text": [
      "Decoded tokens: ['$', 'v', '_', 'E', ' =', ' v', '_', 'g', ' =', ' v', '_', 'p', ' =', ' \\\\', 'frac', '{', 'c', '}{', 'n', '_', 'R', '}', '$']\n",
      "Decoded tokens: ['$', ' v', '_', 'E', '=', 'v', '_', 'g', '=', 'v', '_', 'p', '=', 'c', '/', 'n', '_', 'R', ' $']\n",
      "0.8871\n"
     ]
    },
    {
     "name": "stderr",
     "output_type": "stream",
     "text": [
      " 96%|█████████▌| 959/1000 [31:11<01:12,  1.77s/it]"
     ]
    },
    {
     "name": "stdout",
     "output_type": "stream",
     "text": [
      "Decoded tokens: ['$', ' \\\\', 'd', 'elta', '_{', ' \\\\', 'text', '{', 'EO', '}}', '$']\n",
      "Decoded tokens: ['$', ' \\\\', 'Delta', '_', ' {', ' \\\\', 'text', ' {', ' E', 'O', ' }', ' }', ' $']\n",
      "0.8469\n"
     ]
    },
    {
     "name": "stderr",
     "output_type": "stream",
     "text": [
      " 96%|█████████▌| 960/1000 [31:13<01:06,  1.67s/it]"
     ]
    },
    {
     "name": "stdout",
     "output_type": "stream",
     "text": [
      "Decoded tokens: ['$', ' \\\\', 'alpha', ',', ' \\\\', 'beta', ',', ' \\\\', 'cd', 'ot', ' $']\n",
      "Decoded tokens: ['$', ' \\\\', 'alpha', ' ,', ' \\\\', 'beta', ' ,', ' ..', ' $']\n",
      "0.9048\n"
     ]
    },
    {
     "name": "stderr",
     "output_type": "stream",
     "text": [
      " 96%|█████████▌| 961/1000 [31:15<01:12,  1.87s/it]"
     ]
    },
    {
     "name": "stdout",
     "output_type": "stream",
     "text": [
      "Decoded tokens: ['$', ' \\\\', 'S', 'igma', ' :=', ' x', '^{', '++', '}', ' +', ' x', '^{', '--', '}', ' $']\n",
      "Decoded tokens: ['$', ' \\\\', 'S', 'igma', ' \\\\', 'equ', 'iv', ' x', '^', '+', '_', '+', ' +', ' x', '^', '-', '_-', ' $']\n",
      "0.8117\n"
     ]
    },
    {
     "name": "stderr",
     "output_type": "stream",
     "text": [
      " 96%|█████████▌| 962/1000 [31:16<01:02,  1.64s/it]"
     ]
    },
    {
     "name": "stdout",
     "output_type": "stream",
     "text": [
      "Decoded tokens: ['$', ' \\\\', 'Delta', ' >', ' 0', ' $']\n",
      "Decoded tokens: ['$', ' \\\\', 'd', 'elta', ' >', ' 0', ' $']\n",
      "0.8172\n"
     ]
    },
    {
     "name": "stderr",
     "output_type": "stream",
     "text": [
      " 96%|█████████▋| 963/1000 [31:18<01:03,  1.71s/it]"
     ]
    },
    {
     "name": "stdout",
     "output_type": "stream",
     "text": [
      "Decoded tokens: ['$', '4', ' \\\\', 'cd', 'ot', ' \\\\', 'math', 'rm', '{', 'cy', 'c', '.', 'ic', 'rit', '}', '$']\n",
      "Decoded tokens: ['$', ' 4', ' \\\\', 'cd', 'ot', ' \\\\', 'swe', 'ep', 'rad', ' {', ' \\\\', 'ic', 'rit', ' }', ' $']\n",
      "0.821\n"
     ]
    },
    {
     "name": "stderr",
     "output_type": "stream",
     "text": [
      " 96%|█████████▋| 964/1000 [31:20<01:08,  1.90s/it]"
     ]
    },
    {
     "name": "stdout",
     "output_type": "stream",
     "text": [
      "Decoded tokens: ['$', ' \\\\', 'Ps', 'i', '^', 'c', ' \\\\', 'app', 'rox', ' 3', '^', '0', '$']\n",
      "Decoded tokens: ['$', ' \\\\', 'ps', 'i', '^', 'c', ' \\\\', 'sim', ' \\\\', 'bm', ' {', ' \\\\', 'bar', ' {', ' 3', ' }', ' ^', '0', ' }', ' $']\n",
      "0.8533\n"
     ]
    },
    {
     "name": "stderr",
     "output_type": "stream",
     "text": [
      " 96%|█████████▋| 965/1000 [31:23<01:12,  2.07s/it]"
     ]
    },
    {
     "name": "stdout",
     "output_type": "stream",
     "text": [
      "Decoded tokens: [' \\\\', '[', '\\n', ' \\\\', 'sum', '_{', 't', '=', '1', '}', '^{', ' \\\\', 'in', 'fty', '}', ' |', 'r', '(', 't', ')|', ' <', ' \\\\', 'in', 'fty', '\\n', ' \\\\', ']']\n",
      "Decoded tokens: ['$', ' \\\\', 'sum', '_', ' {', ' t', '=', '1', ' }', ' ^', ' \\\\', 'in', 'fty', ' |', 'r', ' (', ' t', ' )', ' |', ' <', ' \\\\', 'in', 'fty', ' $']\n",
      "0.7179\n"
     ]
    },
    {
     "name": "stderr",
     "output_type": "stream",
     "text": [
      " 97%|█████████▋| 966/1000 [31:24<01:00,  1.78s/it]"
     ]
    },
    {
     "name": "stdout",
     "output_type": "stream",
     "text": [
      "Decoded tokens: ['$', 'd', '_', '1', ' >', ' 0', '$']\n",
      "Decoded tokens: ['$', ' d', '_', ' {', ' 1', ' }', ' >', ' 0', ' $']\n",
      "0.8391\n"
     ]
    },
    {
     "name": "stderr",
     "output_type": "stream",
     "text": [
      " 97%|█████████▋| 967/1000 [31:27<01:09,  2.11s/it]"
     ]
    },
    {
     "name": "stdout",
     "output_type": "stream",
     "text": [
      "Decoded tokens: ['$', ' \\\\', 'math', 'bf', '{', 'r', '}', '^', '0', ' =', ' \\\\', 'bar', '{', 't', '}', '^', '0', ' =', ' \\\\', 'math', 'f', 'rak', '{', 'r', '}', ' $']\n",
      "Decoded tokens: ['$', ' \\\\', 'math', 'bf', ' {', ' r', ' }', ' ^', ' {', ' 0', ' }', ' =', ' \\\\', ' #', ' \\\\', 'bar', ' {', ' t', ' }', ' ^', ' {', ' 0', ' }', ' =', ' \\\\', ' #', ' \\\\', 'math', 'f', 'rak', ' {', ' r', ' }', ' $']\n",
      "0.8273\n"
     ]
    },
    {
     "name": "stderr",
     "output_type": "stream",
     "text": [
      " 97%|█████████▋| 968/1000 [31:29<01:06,  2.09s/it]"
     ]
    },
    {
     "name": "stdout",
     "output_type": "stream",
     "text": [
      "Decoded tokens: ['$', ' \\\\', 'left', '(', ' \\\\', 'hat', '{', 'p', '},', ' \\\\', 'hat', '{', ' \\\\', 'the', 'ta', '}', ' \\\\', 'right', ')', '$']\n",
      "Decoded tokens: ['$', ' (', ' \\\\', 'hat', ' p', ' ,', ' \\\\', 'hat', ' \\\\', 'the', 'ta', ' )', ' $']\n",
      "0.7491\n"
     ]
    },
    {
     "name": "stderr",
     "output_type": "stream",
     "text": [
      " 97%|█████████▋| 969/1000 [31:30<00:58,  1.89s/it]"
     ]
    },
    {
     "name": "stdout",
     "output_type": "stream",
     "text": [
      "Decoded tokens: [' \\\\', '[', '\\n', ' \\\\', 'display', 'style', ' \\\\', 'alpha', '_', 'r', '\\n', ' \\\\', ']']\n",
      "Decoded tokens: ['$', ' \\\\', 'alpha', '_', 'r', ' $']\n",
      "0.7104\n"
     ]
    },
    {
     "name": "stderr",
     "output_type": "stream",
     "text": [
      " 97%|█████████▋| 970/1000 [31:32<00:51,  1.71s/it]"
     ]
    },
    {
     "name": "stdout",
     "output_type": "stream",
     "text": [
      "Decoded tokens: ['$', ' \\\\', 'math', 'rm', '{', 'C', '}', '_', '2', '$']\n",
      "Decoded tokens: ['$', ' \\\\', 'math', 'cal', ' {', ' C', ' }', ' _', '2', ' $']\n",
      "0.9436\n"
     ]
    },
    {
     "name": "stderr",
     "output_type": "stream",
     "text": [
      " 97%|█████████▋| 971/1000 [31:33<00:47,  1.64s/it]"
     ]
    },
    {
     "name": "stdout",
     "output_type": "stream",
     "text": [
      "Decoded tokens: ['$', 'C', '_', 't', ' \\\\', 's', 'igma', '$']\n",
      "Decoded tokens: ['$', ' C', '_', 't', '^', ' \\\\', 's', 'igma', ' $']\n",
      "0.8625\n"
     ]
    },
    {
     "name": "stderr",
     "output_type": "stream",
     "text": [
      " 97%|█████████▋| 972/1000 [31:36<00:51,  1.85s/it]"
     ]
    },
    {
     "name": "stdout",
     "output_type": "stream",
     "text": [
      "Decoded tokens: ['$', 'n', '_', '1', ',', ' n', '_', '2', ',', ' n', '_', '3', '$']\n",
      "Decoded tokens: ['$', ' n', '_', '1', ' ,', ' n', '_', '2', ' ,', ' n', '_', '3', ' $']\n",
      "0.9628\n"
     ]
    },
    {
     "name": "stderr",
     "output_type": "stream",
     "text": [
      " 97%|█████████▋| 973/1000 [31:41<01:20,  2.99s/it]"
     ]
    },
    {
     "name": "stdout",
     "output_type": "stream",
     "text": [
      "Decoded tokens: ['$', 'x', '_{', 't', '-', '1', '}', '^', 'i', ',', ' \\\\', 'The', 'ta', '_{', 't', '-', '1', '}', '^', 'i', ' =', ' \\\\', 'begin', '{', 't', 'ik', 'z', 'picture', '}', ' \\\\', 'mu', '_{', 't', '-', '1', '}', ' \\\\', 'end', '{', 't', 'ik', 'z', 'picture', '}', '$']\n",
      "Decoded tokens: ['$', ' x', '_', ' {', ' t', '-', '1', ' }', ' ^', 'i', ' ,', ' \\\\', 'The', 'ta', '_', ' {', ' t', '-', '1', ' }', ' ^', 'i', ' =', ' \\\\', 'z', 'ls', 'ample', ' {', ' \\\\', 'mu', '_', ' {', ' t', '-', '1', ' }', ' }', ' $']\n",
      "0.7786\n"
     ]
    },
    {
     "name": "stderr",
     "output_type": "stream",
     "text": [
      " 97%|█████████▋| 974/1000 [31:44<01:15,  2.92s/it]"
     ]
    },
    {
     "name": "stdout",
     "output_type": "stream",
     "text": [
      "Decoded tokens: ['$', '|', 's', '_', 'i', ' \\\\', 'cap', ' s', '_', 'j', '|', ' =', ' 0', '$']\n",
      "Decoded tokens: ['$', ' |', 's', '_', 'i', ' \\\\', 'cap', ' s', '_', 'j', '|', ' =', ' 0', ' $']\n",
      "0.992\n"
     ]
    },
    {
     "name": "stderr",
     "output_type": "stream",
     "text": [
      " 98%|█████████▊| 975/1000 [31:46<01:08,  2.72s/it]"
     ]
    },
    {
     "name": "stdout",
     "output_type": "stream",
     "text": [
      "Decoded tokens: ['$', 'C', '_', 'v', '^{', 'ph', '}', '$']\n",
      "Decoded tokens: ['$', ' C', '_', 'v', '^', ' {', ' \\\\', 'rm', ' {', ' ph', ' }', ' }', ' $']\n",
      "0.8887\n"
     ]
    },
    {
     "name": "stderr",
     "output_type": "stream",
     "text": [
      " 98%|█████████▊| 976/1000 [31:49<01:03,  2.64s/it]"
     ]
    },
    {
     "name": "stdout",
     "output_type": "stream",
     "text": [
      "Decoded tokens: ['$', '1', ' -', ' \\\\', 'eta', ' \\\\', 'le', 'q', ' \\\\', 'frac', '{', 'h', ' \\\\', 'gam', 'ma', '}{', '2', '}', '$']\n",
      "Decoded tokens: ['$', ' 1', ' -', ' \\\\', 'eta', ' \\\\', 'le', 'q', ' h', ' \\\\', 'gam', 'ma', '/', '2', ' $']\n",
      "0.8618\n"
     ]
    },
    {
     "name": "stderr",
     "output_type": "stream",
     "text": [
      " 98%|█████████▊| 977/1000 [31:50<00:51,  2.25s/it]"
     ]
    },
    {
     "name": "stdout",
     "output_type": "stream",
     "text": [
      "Decoded tokens: ['$', ' \\\\', 'ome', 'ga', '_{', ' \\\\', 'var', 'phi', '}', ' =', ' 0', '$']\n",
      "Decoded tokens: ['$', ' \\\\', 'O', 'mega', '_', ' \\\\', 'phi', ' =', ' 0', ' $']\n",
      "0.8161\n"
     ]
    },
    {
     "name": "stderr",
     "output_type": "stream",
     "text": [
      " 98%|█████████▊| 978/1000 [31:51<00:41,  1.88s/it]"
     ]
    },
    {
     "name": "stdout",
     "output_type": "stream",
     "text": [
      "Decoded tokens: ['$', ' \\\\', 'alpha', ' >', ' 0', '$']\n",
      "Decoded tokens: ['$', ' \\\\', 'alpha', ' >', ' 0', ' $']\n",
      "0.9931\n"
     ]
    },
    {
     "name": "stderr",
     "output_type": "stream",
     "text": [
      " 98%|█████████▊| 979/1000 [31:54<00:45,  2.18s/it]"
     ]
    },
    {
     "name": "stdout",
     "output_type": "stream",
     "text": [
      "Decoded tokens: [' \\\\', '[', '\\n', ' \\\\', 'big', 'cup', '_{', ' \\\\', 'alpha', ' \\\\', 'le', 'q', ' \\\\', 'ome', 'ga', '}', ' X', '^', ' \\\\', 'alpha', '\\n', ' \\\\', ']']\n",
      "Decoded tokens: ['$', ' \\\\', 'b', 'igs', 'q', 'cup', '_', ' {', ' \\\\', 'alpha', ' \\\\', 'le', ' \\\\', 'ome', 'ga', ' }', ' X', '^', ' \\\\', 'alpha', ' $']\n",
      "0.8598\n"
     ]
    },
    {
     "name": "stderr",
     "output_type": "stream",
     "text": [
      " 98%|█████████▊| 980/1000 [31:55<00:39,  1.95s/it]"
     ]
    },
    {
     "name": "stdout",
     "output_type": "stream",
     "text": [
      "Decoded tokens: ['$', ' \\\\', 'Ph', 'i', '_{', ' \\\\', 'alpha', ' \\\\', 'beta', '}', '$']\n",
      "Decoded tokens: ['$', ' \\\\', 'Ph', 'i', '_', ' {', ' \\\\', 'alpha', ' \\\\', 'beta', ' }', ' $']\n",
      "0.845\n"
     ]
    },
    {
     "name": "stderr",
     "output_type": "stream",
     "text": [
      " 98%|█████████▊| 981/1000 [31:58<00:39,  2.07s/it]"
     ]
    },
    {
     "name": "stdout",
     "output_type": "stream",
     "text": [
      "Decoded tokens: ['$', 'x', ' =', ' \\\\', 'log', '_{', '10', '}', ' (', ' \\\\', 'gam', 'ma', \"'\", '_', 'e', ')', '$']\n",
      "Decoded tokens: ['$', ' x', '=', ' \\\\', 'log', '_', ' {', ' 10', ' }', ' \\\\', 'gam', 'ma', '_', ' {', ' \\\\', 'rm', ' e', ' }', ' ^', ' {', ' \\\\', 'prime', ' }', ' $']\n",
      "0.8541\n"
     ]
    },
    {
     "name": "stderr",
     "output_type": "stream",
     "text": [
      " 98%|█████████▊| 982/1000 [31:59<00:35,  1.98s/it]"
     ]
    },
    {
     "name": "stdout",
     "output_type": "stream",
     "text": [
      "Decoded tokens: ['$', 'P', '(', ' \\\\', 'v', 'are', 'ps', 'ilon', ')', ' =', ' \\\\', 'frac', '{', ' \\\\', 'v', 'are', 'ps', 'ilon', '}{', '3', '}', '$']\n",
      "Decoded tokens: ['$', ' P', ' (', ' \\\\', 'ep', 'sil', 'on', ' )', ' =', ' \\\\', 'ep', 'sil', 'on', '/', '3', ' $']\n",
      "0.7862\n"
     ]
    },
    {
     "name": "stderr",
     "output_type": "stream",
     "text": [
      " 98%|█████████▊| 983/1000 [32:01<00:29,  1.75s/it]"
     ]
    },
    {
     "name": "stdout",
     "output_type": "stream",
     "text": [
      "Decoded tokens: ['$', 'm', ' \\\\', 'ge', 'q', ' 1', '$']\n",
      "Decoded tokens: ['$', ' m', ' \\\\', 'ge', 'q', ' 1', ' $']\n",
      "0.9834\n"
     ]
    },
    {
     "name": "stderr",
     "output_type": "stream",
     "text": [
      " 98%|█████████▊| 984/1000 [32:04<00:34,  2.15s/it]"
     ]
    },
    {
     "name": "stdout",
     "output_type": "stream",
     "text": [
      "Decoded tokens: ['$', 'x', ' \\\\', 'in', ' \\\\', '{', 'x', '_', '1', ',', ' \\\\', 'ld', 'ots', ',', ' x', '_', 'n', ' \\\\', '}', ' \\\\', 'sub', 'set', 'eq', ' \\\\', 'math', 'bb', '{', 'R', '}', '^', 'n', '$']\n",
      "Decoded tokens: ['$', ' x', ' \\\\', 'in', ' (', ' x', '_', '1', ' ,', ' \\\\', 'd', 'ots', ' ,', ' x', '_', 'n', ' )', ' \\\\', 'in', ' \\\\', 'math', 'bb', ' {', ' R', ' }', ' ^', 'n', ' $']\n",
      "0.7754\n"
     ]
    },
    {
     "name": "stderr",
     "output_type": "stream",
     "text": [
      " 98%|█████████▊| 985/1000 [32:05<00:29,  1.99s/it]"
     ]
    },
    {
     "name": "stdout",
     "output_type": "stream",
     "text": [
      "Decoded tokens: ['$', ' \\\\', 'math', 'cal', '{', 'N', '}', ' \\\\', 'ge', 'q', ' 2', '$']\n",
      "Decoded tokens: ['$', ' N', ' \\\\', 'ge', 'q', ' 2', ' $']\n",
      "0.757\n"
     ]
    },
    {
     "name": "stderr",
     "output_type": "stream",
     "text": [
      " 99%|█████████▊| 986/1000 [32:07<00:25,  1.81s/it]"
     ]
    },
    {
     "name": "stdout",
     "output_type": "stream",
     "text": [
      "Decoded tokens: ['$', ' \\\\', 'math', 'cal', '{', 'L', '}', '_{', ' \\\\', 'text', '{', 'class', '}}', '$']\n",
      "Decoded tokens: ['$', ' L', '_', ' {', ' class', ' }', ' $']\n",
      "0.7379\n"
     ]
    },
    {
     "name": "stderr",
     "output_type": "stream",
     "text": [
      " 99%|█████████▊| 987/1000 [32:08<00:22,  1.72s/it]"
     ]
    },
    {
     "name": "stdout",
     "output_type": "stream",
     "text": [
      "Decoded tokens: ['$', 't', '_{', ' \\\\', 'math', 'rm', '{', 'e', '}}', '$']\n",
      "Decoded tokens: ['$', ' t', '_', 'e', ' ,', ' t', '_', ' {', ' e', '1', ' }', ' ,', ' t', '_', ' {', ' e', '2', ' }', ' ,', ' t', '_', ' {', ' e', '3', ' }', ' $']\n",
      "0.7623\n"
     ]
    },
    {
     "name": "stderr",
     "output_type": "stream",
     "text": [
      " 99%|█████████▉| 988/1000 [32:10<00:20,  1.72s/it]"
     ]
    },
    {
     "name": "stdout",
     "output_type": "stream",
     "text": [
      "Decoded tokens: ['$', ' \\\\', 'math', 'bf', '{', 'e', '}', '^{', 'i', '}', ' $']\n",
      "Decoded tokens: ['$', ' (', ' e', '^', 'i', ' )', ' $']\n",
      "0.7331\n"
     ]
    },
    {
     "name": "stderr",
     "output_type": "stream",
     "text": [
      " 99%|█████████▉| 989/1000 [32:12<00:20,  1.88s/it]"
     ]
    },
    {
     "name": "stdout",
     "output_type": "stream",
     "text": [
      "Decoded tokens: ['$', ' \\\\', 'pro', 'pt', 'o', ' (', ' \\\\', 'text', '{', 'S', 'FR', '})', '^{', ' \\\\', 'frac', '{', '1', '}{', '3', '}}', '$']\n",
      "Decoded tokens: ['$', ' \\\\', 'pro', 'pt', 'o', ' \\\\', 'S', 'igma', '_', ' \\\\', 'text', 'rm', ' {', ' S', 'FR', ' }', ' ^', ' {', ' 1', '/', '3', ' }', ' $']\n",
      "0.8025\n"
     ]
    },
    {
     "name": "stderr",
     "output_type": "stream",
     "text": [
      " 99%|█████████▉| 990/1000 [32:14<00:18,  1.87s/it]"
     ]
    },
    {
     "name": "stdout",
     "output_type": "stream",
     "text": [
      "Decoded tokens: ['$', ' \\\\', 'partial', ' \\\\', 'O', 'mega', '_', 'j', ' \\\\', 'set', 'minus', ' \\\\', 'Gam', 'ma', '$']\n",
      "Decoded tokens: ['$', ' \\\\', 'partial', ' \\\\', 'O', 'mega', '_', 'j', ' \\\\', 'set', 'minus', ' \\\\', 'Gam', 'ma', ' $']\n",
      "0.9973\n"
     ]
    },
    {
     "name": "stderr",
     "output_type": "stream",
     "text": [
      " 99%|█████████▉| 991/1000 [32:15<00:15,  1.74s/it]"
     ]
    },
    {
     "name": "stdout",
     "output_type": "stream",
     "text": [
      "Decoded tokens: ['$', ' \\\\', 'eta', '_{', '2', '}', '$']\n",
      "Decoded tokens: ['$', ' (', ' \\\\', 'eta', '_', '2', ' $']\n",
      "0.7959\n"
     ]
    },
    {
     "name": "stderr",
     "output_type": "stream",
     "text": [
      " 99%|█████████▉| 992/1000 [32:17<00:13,  1.71s/it]"
     ]
    },
    {
     "name": "stdout",
     "output_type": "stream",
     "text": [
      "Decoded tokens: [' \\\\', '[', '\\n', ' \\\\', 'ell', '_{', 'i', ' i', ' +', ' 1', '}', ' =', ' \\\\', 'empt', 'ys', 'et', '\\n', ' \\\\', ']']\n",
      "Decoded tokens: ['$', ' \\\\', 'ell', '_', ' {', ' ii', '+', '1', ' }', ' =', ' \\\\', 'empt', 'ys', 'et', ' $']\n",
      "0.7325\n"
     ]
    },
    {
     "name": "stderr",
     "output_type": "stream",
     "text": [
      " 99%|█████████▉| 993/1000 [32:20<00:14,  2.09s/it]"
     ]
    },
    {
     "name": "stdout",
     "output_type": "stream",
     "text": [
      "Decoded tokens: ['$', 'D', '_', 'i', ' (', 's', ',', ' w', ';', ' q', '_', '1', ',', ' \\\\', 'ps', 'i', ',', ' \\\\', 'ps', 'i', \"')\", '$']\n",
      "Decoded tokens: ['$', ' D', '_', 'i', ' (', ' s', ' ,', ' w', ' ;', ' q', '_', '1', ' ,', ' \\\\', 'ps', 'i', ' ,', ' \\\\', 'ps', 'i', \" '\", ' )', ' $']\n",
      "0.944\n"
     ]
    },
    {
     "name": "stderr",
     "output_type": "stream",
     "text": [
      " 99%|█████████▉| 994/1000 [32:22<00:12,  2.14s/it]"
     ]
    },
    {
     "name": "stdout",
     "output_type": "stream",
     "text": [
      "Decoded tokens: ['$', '(', 'a', '_', '2', ',', ' \\\\', 'min', ')', '$']\n",
      "Decoded tokens: ['$', ' a', '_', ' {', ' 2', ' ,', ' \\\\', 'text', ' {', ' lim', ' }', ' }', ' $']\n",
      "0.8273\n"
     ]
    },
    {
     "name": "stderr",
     "output_type": "stream",
     "text": [
      "100%|█████████▉| 995/1000 [32:24<00:09,  1.92s/it]"
     ]
    },
    {
     "name": "stdout",
     "output_type": "stream",
     "text": [
      "Decoded tokens: [' \\\\(', ' \\\\', 'sq', 'rt', '{', 's', '}', ' =', ' 10', ' \\\\', ')']\n",
      "Decoded tokens: ['$', ' \\\\', 'sq', 'rt', ' {', ' s', ' }', ' =', '10', ' $']\n",
      "0.9378\n"
     ]
    },
    {
     "name": "stderr",
     "output_type": "stream",
     "text": [
      "100%|█████████▉| 996/1000 [32:26<00:07,  1.94s/it]"
     ]
    },
    {
     "name": "stdout",
     "output_type": "stream",
     "text": [
      "Decoded tokens: ['$', 'K', '^{', 'rs', '}', '_{', 'J', ',', 'B', '}', '$']\n",
      "Decoded tokens: ['$', ' K', '^', ' {', ' rs', ' }', ' _', ' {', ' J', ' ,', ' B', ' }', ' $']\n",
      "0.7842\n"
     ]
    },
    {
     "name": "stderr",
     "output_type": "stream",
     "text": [
      "100%|█████████▉| 997/1000 [32:27<00:05,  1.78s/it]"
     ]
    },
    {
     "name": "stdout",
     "output_type": "stream",
     "text": [
      "Decoded tokens: ['$', ' \\\\', 'math', 'cal', '{', 'M', '}', '_{', '2', '}', '$']\n",
      "Decoded tokens: ['$', ' {', ' \\\\', 'cal', ' M', ' }', ' _', '2', ' $']\n",
      "0.7974\n"
     ]
    },
    {
     "name": "stderr",
     "output_type": "stream",
     "text": [
      "100%|█████████▉| 998/1000 [32:28<00:03,  1.65s/it]"
     ]
    },
    {
     "name": "stdout",
     "output_type": "stream",
     "text": [
      "Decoded tokens: ['$', 'T', '^{', '-', '1', '}', '(', 't', ')', '$']\n",
      "Decoded tokens: ['$', ' \\\\', 'math', 'cal', ' {', ' T', ' }', ' ^', ' {', ' -', '1', ' }', ' (', ' t', ' )', ' $']\n",
      "0.7317\n"
     ]
    },
    {
     "name": "stderr",
     "output_type": "stream",
     "text": [
      "100%|█████████▉| 999/1000 [32:30<00:01,  1.49s/it]"
     ]
    },
    {
     "name": "stdout",
     "output_type": "stream",
     "text": [
      "Decoded tokens: ['$', ' \\\\', 'The', 'ta', ' =', ' 0', '.', '5', '$']\n",
      "Decoded tokens: ['$', ' \\\\', 'the', 'ta', '=', '0', '.', '5', ' $']\n",
      "0.977\n"
     ]
    },
    {
     "name": "stderr",
     "output_type": "stream",
     "text": [
      "100%|██████████| 1000/1000 [32:35<00:00,  1.96s/it]"
     ]
    },
    {
     "name": "stdout",
     "output_type": "stream",
     "text": [
      "Decoded tokens: ['$', 'A', '_', ' \\\\', 'mu', ' =', ' [', ' \\\\', 'math', 'bf', '{', 'A', '}', '_', '1', ' ,', ' \\\\', 'math', 'bf', '{', 'A', '}', '_', '2', ' ]', '$']\n",
      "Decoded tokens: ['$', ' A', '_', ' \\\\', 'mu', ' :', ' =', ' (', ' \\\\', 'vec', ' {', ' A', ' }', ' _', ' {', ' (', ' 1', ' )', ' }', ' ,', ' \\\\', ' ,', ' \\\\', 'vec', ' {', ' A', ' }', ' _', ' {', ' (', ' 2', ' )', ' }', ' )', ' $']\n",
      "0.8254\n"
     ]
    },
    {
     "name": "stderr",
     "output_type": "stream",
     "text": [
      "\n"
     ]
    }
   ],
   "source": [
    "from TeXBLEU.new_metric import texbleu\n",
    "\n",
    "scores = []\n",
    "for row in tqdm(ds_train_1000):\n",
    "    transcription = row[\"spoken_English\"]\n",
    "    prompt = pipe2(transcription)[0][\"generated_text\"]\n",
    "    response = get_openai_response(prompt, transcription)\n",
    "    score = texbleu(response, row[\"equation\"])\n",
    "    scores.append(score)\n",
    "    print(score)"
   ]
  },
  {
   "cell_type": "code",
   "execution_count": 11,
   "metadata": {},
   "outputs": [
    {
     "data": {
      "text/plain": [
       "0.8435523000000008"
      ]
     },
     "execution_count": 11,
     "metadata": {},
     "output_type": "execute_result"
    }
   ],
   "source": [
    "final_texbleu = sum(scores) / len(scores)\n",
    "final_texbleu"
   ]
  }
 ],
 "metadata": {
  "kernelspec": {
   "display_name": "Python 3",
   "language": "python",
   "name": "python3"
  },
  "language_info": {
   "codemirror_mode": {
    "name": "ipython",
    "version": 3
   },
   "file_extension": ".py",
   "mimetype": "text/x-python",
   "name": "python",
   "nbconvert_exporter": "python",
   "pygments_lexer": "ipython3",
   "version": "3.11.6"
  }
 },
 "nbformat": 4,
 "nbformat_minor": 2
}
