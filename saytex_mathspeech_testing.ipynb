{
 "cells": [
  {
   "cell_type": "code",
   "execution_count": 1,
   "metadata": {},
   "outputs": [
    {
     "data": {
      "text/plain": [
       "['h prime of x is equal to d over dx of sine x',\n",
       " 'integral from minus infinity to infinity of e to the minus b squared dx',\n",
       " 'a divided by b equals c',\n",
       " 'sum from 1 to n',\n",
       " '1 divided by 2 is equal to 0.5',\n",
       " 'h of x equals x plus 3 x plus 2',\n",
       " '1 belongs to S']"
      ]
     },
     "execution_count": 1,
     "metadata": {},
     "output_type": "execute_result"
    }
   ],
   "source": [
    "inputs = [\"h prime of x is equal to d over dx of sine x\", \"integral from minus infinity to infinity of e to the minus b squared dx\", \"a divided by b equals c\", \"sum from 1 to n\", \"1 divided by 2 is equal to 0.5\", \"h of x equals x plus 3 x plus 2\", \"1 belongs to S\"]\n",
    "inputs"
   ]
  },
  {
   "cell_type": "code",
   "execution_count": 2,
   "metadata": {},
   "outputs": [
    {
     "name": "stdout",
     "output_type": "stream",
     "text": [
      "h' \\left( x \\right) = \\frac{d}{dx \\left( \\sin \\right)}\n",
      "\n",
      "\\int_{- \\infty}^{\\infty} e to the - b^2 \\, dx\n",
      "\n",
      "\\frac{a}{b} = c\n",
      "\n",
      "\\sum_1^{n}\n",
      "\n",
      "\\frac{1}{2} = 0.5\n",
      "\n",
      "h \\left( x \\right) = x + 3 x + 2\n",
      "\n",
      "1 belongs to s\n",
      "\n"
     ]
    }
   ],
   "source": [
    "from saytex import Saytex\n",
    "\n",
    "saytex_compiler = Saytex()\n",
    "\n",
    "for input in inputs:\n",
    "    print(saytex_compiler.to_latex(input))\n",
    "    print()"
   ]
  },
  {
   "cell_type": "code",
   "execution_count": 3,
   "metadata": {},
   "outputs": [
    {
     "name": "stdout",
     "output_type": "stream",
     "text": [
      "WARNING:tensorflow:From c:\\Users\\deept\\AppData\\Local\\Programs\\Python\\Python311\\Lib\\site-packages\\tf_keras\\src\\losses.py:2976: The name tf.losses.sparse_softmax_cross_entropy is deprecated. Please use tf.compat.v1.losses.sparse_softmax_cross_entropy instead.\n",
      "\n"
     ]
    }
   ],
   "source": [
    "# Use a pipeline as a high-level helper\n",
    "from transformers import pipeline\n",
    "\n",
    "pipe = pipeline(\"text2text-generation\", model=\"Hyeonsieun/MathBridge_T5_large\", max_length=1000)"
   ]
  },
  {
   "cell_type": "code",
   "execution_count": 4,
   "metadata": {},
   "outputs": [
    {
     "data": {
      "text/plain": [
       "[{'generated_text': \"$ h ' ( x ) = d/dx ( sin x ) + d/dx ( sqrt 3 times cos x ) $\"}]"
      ]
     },
     "execution_count": 4,
     "metadata": {},
     "output_type": "execute_result"
    }
   ],
   "source": [
    "pipe(\"h prime of x equals d over dx of sine x plus d over dx of square root of 3 times cosine x\")"
   ]
  },
  {
   "cell_type": "code",
   "execution_count": 5,
   "metadata": {},
   "outputs": [],
   "source": [
    "# Use a pipeline as a high-level helper\n",
    "from transformers import pipeline\n",
    "\n",
    "pipe2 = pipeline(\"text2text-generation\", model=\"Hyeonsieun/MathSpeech_T5_base_translator\", max_length=1000)"
   ]
  },
  {
   "cell_type": "code",
   "execution_count": 6,
   "metadata": {},
   "outputs": [
    {
     "data": {
      "text/plain": [
       "[{'generated_text': '$h prime (x)= frac d dx ( sin x)+ frac d dx ( sqrt 3 cos x)$'}]"
      ]
     },
     "execution_count": 6,
     "metadata": {},
     "output_type": "execute_result"
    }
   ],
   "source": [
    "pipe2(\"h prime of x equals d over dx of sine x plus d over dx of square root of 3 times cosine x\")"
   ]
  },
  {
   "cell_type": "code",
   "execution_count": 7,
   "metadata": {},
   "outputs": [
    {
     "data": {
      "text/plain": [
       "[{'generated_text': '$ int_ 0 1 x 2 dx= frac 1 3 $'}]"
      ]
     },
     "execution_count": 7,
     "metadata": {},
     "output_type": "execute_result"
    }
   ],
   "source": [
    "pipe2(\"integral from 0 to 1 of x squared dx equals one third\")"
   ]
  },
  {
   "cell_type": "code",
   "execution_count": 8,
   "metadata": {},
   "outputs": [
    {
     "data": {
      "text/plain": [
       "[{'generated_text': '$ sum_ i=1 n i= frac n(n+1) 2 $'}]"
      ]
     },
     "execution_count": 8,
     "metadata": {},
     "output_type": "execute_result"
    }
   ],
   "source": [
    "pipe2(\"summation from i equals 1 to n of i equals n times n plus 1 over 2\")"
   ]
  },
  {
   "cell_type": "code",
   "execution_count": 9,
   "metadata": {},
   "outputs": [
    {
     "data": {
      "text/plain": [
       "'$ int_ 0 1 x 2 dx= frac 1 3 $'"
      ]
     },
     "execution_count": 9,
     "metadata": {},
     "output_type": "execute_result"
    }
   ],
   "source": [
    "sentence = pipe2(\"integral from 0 to 1 of x squared dx equals one third\")[0][\"generated_text\"]\n",
    "sentence"
   ]
  },
  {
   "cell_type": "code",
   "execution_count": 11,
   "metadata": {},
   "outputs": [
    {
     "name": "stdout",
     "output_type": "stream",
     "text": [
      "$\\int_{0}^{1}x2dx=\\frac{1}{3}$\n"
     ]
    }
   ],
   "source": [
    "def convert_to_latex(sentence):\n",
    "    corr_sentence = \"\"\n",
    "    i = 0\n",
    "    words = sentence.split()\n",
    "    while i < len(words):\n",
    "        word = words[i]\n",
    "        if word == \"int_\":\n",
    "            corr_sentence += \"\\\\int_{\" + words[i+1] + \"}^{\" + words[i+2] + \"}\"\n",
    "            i += 3\n",
    "        elif word == \"frac\":\n",
    "            corr_sentence += \"\\\\frac{\" + words[i+1] + \"}{\" + words[i+2] + \"}\"\n",
    "            i += 3\n",
    "        else:\n",
    "            corr_sentence += word\n",
    "            i += 1\n",
    "    return corr_sentence\n",
    "\n",
    "# Example usage\n",
    "latex_sentence = convert_to_latex(sentence)\n",
    "print(latex_sentence)"
   ]
  },
  {
   "cell_type": "code",
   "execution_count": 12,
   "metadata": {},
   "outputs": [
    {
     "data": {
      "text/plain": [
       "'summation of $ x 2 from 1 to n $'"
      ]
     },
     "execution_count": 12,
     "metadata": {},
     "output_type": "execute_result"
    }
   ],
   "source": [
    "pipe(\"summation of x squared from 1 to n\")[0][\"generated_text\"]"
   ]
  }
 ],
 "metadata": {
  "kernelspec": {
   "display_name": "Python 3",
   "language": "python",
   "name": "python3"
  },
  "language_info": {
   "codemirror_mode": {
    "name": "ipython",
    "version": 3
   },
   "file_extension": ".py",
   "mimetype": "text/x-python",
   "name": "python",
   "nbconvert_exporter": "python",
   "pygments_lexer": "ipython3",
   "version": "3.11.6"
  }
 },
 "nbformat": 4,
 "nbformat_minor": 2
}
